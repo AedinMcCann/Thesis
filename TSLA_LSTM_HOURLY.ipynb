{
  "nbformat": 4,
  "nbformat_minor": 0,
  "metadata": {
    "colab": {
      "name": "TSLA_LSTM_HOURLY",
      "provenance": [],
      "collapsed_sections": [],
      "authorship_tag": "ABX9TyOtZnIdPMj+zBPpbsMGJaCs",
      "include_colab_link": true
    },
    "kernelspec": {
      "display_name": "Python 3",
      "name": "python3"
    },
    "language_info": {
      "name": "python"
    }
  },
  "cells": [
    {
      "cell_type": "markdown",
      "metadata": {
        "id": "view-in-github",
        "colab_type": "text"
      },
      "source": [
        "<a href=\"https://colab.research.google.com/github/AedinMcCann/Thesis/blob/main/TSLA_LSTM_HOURLY.ipynb\" target=\"_parent\"><img src=\"https://colab.research.google.com/assets/colab-badge.svg\" alt=\"Open In Colab\"/></a>"
      ]
    },
    {
      "cell_type": "markdown",
      "metadata": {
        "id": "UztXn0efQysN"
      },
      "source": [
        "# TSLA LSTM HOURLY \n",
        "\n",
        "This script shows how the LSTM Model was used to forecast the price of the TSLA stock in the following hour. It incorporates the Sentiment Data, but this method is the same as that without Sentiment Data. \n",
        "\n",
        "This same method was used for the other 3 stocks also. Scripts for them are found on the Author's GitHub. "
      ]
    },
    {
      "cell_type": "markdown",
      "metadata": {
        "id": "tkDLAeymQ7sy"
      },
      "source": [
        "## Import packages"
      ]
    },
    {
      "cell_type": "code",
      "metadata": {
        "colab": {
          "base_uri": "https://localhost:8080/"
        },
        "id": "7NWzzUVTbmJD",
        "outputId": "f7e39a0e-39c9-4d43-9713-08b82457c9ac"
      },
      "source": [
        "pip install yfinance"
      ],
      "execution_count": 1,
      "outputs": [
        {
          "output_type": "stream",
          "text": [
            "Requirement already satisfied: yfinance in /usr/local/lib/python3.7/dist-packages (0.1.59)\n",
            "Requirement already satisfied: lxml>=4.5.1 in /usr/local/lib/python3.7/dist-packages (from yfinance) (4.6.3)\n",
            "Requirement already satisfied: pandas>=0.24 in /usr/local/lib/python3.7/dist-packages (from yfinance) (1.1.5)\n",
            "Requirement already satisfied: numpy>=1.15 in /usr/local/lib/python3.7/dist-packages (from yfinance) (1.19.5)\n",
            "Requirement already satisfied: requests>=2.20 in /usr/local/lib/python3.7/dist-packages (from yfinance) (2.23.0)\n",
            "Requirement already satisfied: multitasking>=0.0.7 in /usr/local/lib/python3.7/dist-packages (from yfinance) (0.0.9)\n",
            "Requirement already satisfied: python-dateutil>=2.7.3 in /usr/local/lib/python3.7/dist-packages (from pandas>=0.24->yfinance) (2.8.1)\n",
            "Requirement already satisfied: pytz>=2017.2 in /usr/local/lib/python3.7/dist-packages (from pandas>=0.24->yfinance) (2018.9)\n",
            "Requirement already satisfied: chardet<4,>=3.0.2 in /usr/local/lib/python3.7/dist-packages (from requests>=2.20->yfinance) (3.0.4)\n",
            "Requirement already satisfied: urllib3!=1.25.0,!=1.25.1,<1.26,>=1.21.1 in /usr/local/lib/python3.7/dist-packages (from requests>=2.20->yfinance) (1.24.3)\n",
            "Requirement already satisfied: idna<3,>=2.5 in /usr/local/lib/python3.7/dist-packages (from requests>=2.20->yfinance) (2.10)\n",
            "Requirement already satisfied: certifi>=2017.4.17 in /usr/local/lib/python3.7/dist-packages (from requests>=2.20->yfinance) (2021.5.30)\n",
            "Requirement already satisfied: six>=1.5 in /usr/local/lib/python3.7/dist-packages (from python-dateutil>=2.7.3->pandas>=0.24->yfinance) (1.15.0)\n"
          ],
          "name": "stdout"
        }
      ]
    },
    {
      "cell_type": "code",
      "metadata": {
        "colab": {
          "base_uri": "https://localhost:8080/"
        },
        "id": "1GA6cwXApSRo",
        "outputId": "319652ac-f070-4acd-dff7-2f9182c62510"
      },
      "source": [
        "pip install yahoofinancials"
      ],
      "execution_count": 2,
      "outputs": [
        {
          "output_type": "stream",
          "text": [
            "Requirement already satisfied: yahoofinancials in /usr/local/lib/python3.7/dist-packages (1.6)\n",
            "Requirement already satisfied: beautifulsoup4 in /usr/local/lib/python3.7/dist-packages (from yahoofinancials) (4.6.3)\n",
            "Requirement already satisfied: pytz in /usr/local/lib/python3.7/dist-packages (from yahoofinancials) (2018.9)\n"
          ],
          "name": "stdout"
        }
      ]
    },
    {
      "cell_type": "code",
      "metadata": {
        "colab": {
          "base_uri": "https://localhost:8080/"
        },
        "id": "y-Rx4YTKpQyY",
        "outputId": "e8fdddcb-0a85-45fe-ed3e-3868614952f9"
      },
      "source": [
        "pip install statsmodels"
      ],
      "execution_count": 3,
      "outputs": [
        {
          "output_type": "stream",
          "text": [
            "Requirement already satisfied: statsmodels in /usr/local/lib/python3.7/dist-packages (0.10.2)\n",
            "Requirement already satisfied: pandas>=0.19 in /usr/local/lib/python3.7/dist-packages (from statsmodels) (1.1.5)\n",
            "Requirement already satisfied: numpy>=1.11 in /usr/local/lib/python3.7/dist-packages (from statsmodels) (1.19.5)\n",
            "Requirement already satisfied: patsy>=0.4.0 in /usr/local/lib/python3.7/dist-packages (from statsmodels) (0.5.1)\n",
            "Requirement already satisfied: scipy>=0.18 in /usr/local/lib/python3.7/dist-packages (from statsmodels) (1.4.1)\n",
            "Requirement already satisfied: pytz>=2017.2 in /usr/local/lib/python3.7/dist-packages (from pandas>=0.19->statsmodels) (2018.9)\n",
            "Requirement already satisfied: python-dateutil>=2.7.3 in /usr/local/lib/python3.7/dist-packages (from pandas>=0.19->statsmodels) (2.8.1)\n",
            "Requirement already satisfied: six in /usr/local/lib/python3.7/dist-packages (from patsy>=0.4.0->statsmodels) (1.15.0)\n"
          ],
          "name": "stdout"
        }
      ]
    },
    {
      "cell_type": "code",
      "metadata": {
        "id": "x5HOlBCAcU8n"
      },
      "source": [
        "# Import necessary packages\n",
        "import tensorflow as tf\n",
        "from tensorflow.keras.callbacks import CSVLogger, EarlyStopping\n",
        "import numpy as np\n",
        "import matplotlib as mpl\n",
        "import matplotlib.pyplot as plt\n",
        "import numpy as np\n",
        "import os\n",
        "import pandas as pd\n",
        "import seaborn as sns\n",
        "import time\n",
        "import gc\n",
        "import sys\n",
        "from sklearn.preprocessing import MinMaxScaler\n",
        "import pandas as pd\n",
        "import yfinance as yf\n",
        "from yahoofinancials import YahooFinancials\n",
        "import seaborn as sns\n",
        "\n",
        "from sklearn.model_selection import train_test_split \n",
        "from sklearn import metrics\n",
        "from keras import regularizers\n",
        "\n",
        "\n",
        "from sklearn.model_selection import TimeSeriesSplit\n",
        "from sklearn.model_selection import KFold\n",
        "import numpy as np\n",
        "import matplotlib.pyplot as plt\n",
        "from matplotlib.patches import Patch\n",
        "import seaborn as sns \n",
        "\n",
        "import sklearn\n",
        "from sklearn.linear_model import ElasticNet\n",
        "from sklearn.multioutput import MultiOutputRegressor\n",
        "from sklearn.model_selection import cross_val_score\n",
        "from sklearn.model_selection import GridSearchCV\n",
        "from keras.wrappers.scikit_learn import KerasClassifier\n"
      ],
      "execution_count": 4,
      "outputs": []
    },
    {
      "cell_type": "markdown",
      "metadata": {
        "id": "K4WHbPJzQ-my"
      },
      "source": [
        "## Import Data and Data Processing"
      ]
    },
    {
      "cell_type": "code",
      "metadata": {
        "colab": {
          "base_uri": "https://localhost:8080/",
          "height": 216
        },
        "id": "GFMJrJwWbzvx",
        "outputId": "9c0136f2-3d70-4734-f78d-cd184a3967ee"
      },
      "source": [
        "# Get stock data\n",
        "start='2020-01-01'\n",
        "end='2021-01-02'\n",
        "df = yf.download(tickers = \"TSLA\",start=start,end=end,interval = \"60m\")\n",
        "df.reset_index(drop=False, inplace=True)\n",
        "\n",
        "nan_value = float(\"NaN\")\n",
        "df.replace(\"\", nan_value, inplace=True)\n",
        "df.tail()\n",
        "df['Next_close'] = df['Close'].shift(-1)\n",
        "df.head()\n"
      ],
      "execution_count": 5,
      "outputs": [
        {
          "output_type": "stream",
          "text": [
            "\r[*********************100%***********************]  1 of 1 completed\n"
          ],
          "name": "stdout"
        },
        {
          "output_type": "execute_result",
          "data": {
            "text/html": [
              "<div>\n",
              "<style scoped>\n",
              "    .dataframe tbody tr th:only-of-type {\n",
              "        vertical-align: middle;\n",
              "    }\n",
              "\n",
              "    .dataframe tbody tr th {\n",
              "        vertical-align: top;\n",
              "    }\n",
              "\n",
              "    .dataframe thead th {\n",
              "        text-align: right;\n",
              "    }\n",
              "</style>\n",
              "<table border=\"1\" class=\"dataframe\">\n",
              "  <thead>\n",
              "    <tr style=\"text-align: right;\">\n",
              "      <th></th>\n",
              "      <th>Datetime</th>\n",
              "      <th>Open</th>\n",
              "      <th>High</th>\n",
              "      <th>Low</th>\n",
              "      <th>Close</th>\n",
              "      <th>Adj Close</th>\n",
              "      <th>Volume</th>\n",
              "      <th>Next_close</th>\n",
              "    </tr>\n",
              "  </thead>\n",
              "  <tbody>\n",
              "    <tr>\n",
              "      <th>0</th>\n",
              "      <td>2020-01-02 09:30:00-05:00</td>\n",
              "      <td>84.900002</td>\n",
              "      <td>85.573997</td>\n",
              "      <td>84.391998</td>\n",
              "      <td>84.780998</td>\n",
              "      <td>84.780998</td>\n",
              "      <td>3205151</td>\n",
              "      <td>85.218002</td>\n",
              "    </tr>\n",
              "    <tr>\n",
              "      <th>1</th>\n",
              "      <td>2020-01-02 10:30:00-05:00</td>\n",
              "      <td>84.784004</td>\n",
              "      <td>85.329498</td>\n",
              "      <td>84.524002</td>\n",
              "      <td>85.218002</td>\n",
              "      <td>85.218002</td>\n",
              "      <td>958142</td>\n",
              "      <td>85.264000</td>\n",
              "    </tr>\n",
              "    <tr>\n",
              "      <th>2</th>\n",
              "      <td>2020-01-02 11:30:00-05:00</td>\n",
              "      <td>85.229996</td>\n",
              "      <td>85.452003</td>\n",
              "      <td>85.057999</td>\n",
              "      <td>85.264000</td>\n",
              "      <td>85.264000</td>\n",
              "      <td>950558</td>\n",
              "      <td>85.951881</td>\n",
              "    </tr>\n",
              "    <tr>\n",
              "      <th>3</th>\n",
              "      <td>2020-01-02 12:30:00-05:00</td>\n",
              "      <td>85.271996</td>\n",
              "      <td>85.970001</td>\n",
              "      <td>85.212578</td>\n",
              "      <td>85.951881</td>\n",
              "      <td>85.951881</td>\n",
              "      <td>1173352</td>\n",
              "      <td>86.078995</td>\n",
              "    </tr>\n",
              "    <tr>\n",
              "      <th>4</th>\n",
              "      <td>2020-01-02 13:30:00-05:00</td>\n",
              "      <td>85.955246</td>\n",
              "      <td>86.139145</td>\n",
              "      <td>85.620003</td>\n",
              "      <td>86.078995</td>\n",
              "      <td>86.078995</td>\n",
              "      <td>1246023</td>\n",
              "      <td>85.960098</td>\n",
              "    </tr>\n",
              "  </tbody>\n",
              "</table>\n",
              "</div>"
            ],
            "text/plain": [
              "                   Datetime       Open  ...   Volume  Next_close\n",
              "0 2020-01-02 09:30:00-05:00  84.900002  ...  3205151   85.218002\n",
              "1 2020-01-02 10:30:00-05:00  84.784004  ...   958142   85.264000\n",
              "2 2020-01-02 11:30:00-05:00  85.229996  ...   950558   85.951881\n",
              "3 2020-01-02 12:30:00-05:00  85.271996  ...  1173352   86.078995\n",
              "4 2020-01-02 13:30:00-05:00  85.955246  ...  1246023   85.960098\n",
              "\n",
              "[5 rows x 8 columns]"
            ]
          },
          "metadata": {
            "tags": []
          },
          "execution_count": 5
        }
      ]
    },
    {
      "cell_type": "code",
      "metadata": {
        "colab": {
          "base_uri": "https://localhost:8080/",
          "height": 396
        },
        "id": "cnIoHw6wkZRy",
        "outputId": "e5d11832-46ff-4ff4-a79b-28f264acddec"
      },
      "source": [
        "# Add in some technical indicators\n",
        "# Simple moving average (SMA)\n",
        "# 3 day period\n",
        "Close = df[['Close']]\n",
        "df['SMA'] = df.Close.rolling(3, min_periods=1).mean()\n",
        "\n",
        "# Exponential moving average (EMA)\n",
        "df['EMA'] = df.Close.ewm(alpha=0.1, adjust=False).mean()\n",
        "\n",
        "# Plot price changes for the year\n",
        "# Colors for the line plot\n",
        "colors = ['green', 'red', 'purple']\n",
        "df_plt = df[['Close', 'SMA', 'EMA', 'Datetime']]\n",
        "\n",
        "# line plot\n",
        "df_plt.plot(color=colors, x = 'Datetime', linewidth=3, figsize=(12,6))\n",
        "\n",
        "# modify ticks size\n",
        "plt.xticks(fontsize=10)\n",
        "plt.yticks(fontsize=10)\n",
        "\n",
        "# title and labels\n",
        "plt.xlabel('Date', fontsize=16)\n",
        "plt.ylabel('Cost (USD)', fontsize=16)"
      ],
      "execution_count": 6,
      "outputs": [
        {
          "output_type": "execute_result",
          "data": {
            "text/plain": [
              "Text(0, 0.5, 'Cost (USD)')"
            ]
          },
          "metadata": {
            "tags": []
          },
          "execution_count": 6
        },
        {
          "output_type": "display_data",
          "data": {
            "image/png": "[encoded data removed]",
            "text/plain": [
              "<Figure size 864x432 with 1 Axes>"
            ]
          },
          "metadata": {
            "tags": [],
            "needs_background": "light"
          }
        }
      ]
    },
    {
      "cell_type": "code",
      "metadata": {
        "id": "xkcrDDZlqgYT"
      },
      "source": [
        "# On Balance Volume\n",
        "# Measures cumulative buying and selling pressure by adding the volume on \"up\" days and subtracting volume on \"down\" days. \n",
        "df['obv'] = (np.sign(df['Close'].diff()) * df['Volume']).fillna(0).cumsum()\n",
        "df = df.set_index('Datetime')"
      ],
      "execution_count": 7,
      "outputs": []
    },
    {
      "cell_type": "code",
      "metadata": {
        "id": "ctFcvMX1K6-T"
      },
      "source": [
        "# Create hour_id for merging with Sentiment Data\n",
        "df = df.reset_index()\n",
        "df['date'] = df['Datetime'].dt.date  # for daily sentiment\n",
        "df['datehour'] = df['Datetime'].dt.hour     #For hourly sentiment\n",
        "df['hour_id'] = df[df.columns[-2:]].apply(\n",
        "    lambda x: '.'.join(x.dropna().astype(str)),\n",
        "    axis=1\n",
        ")"
      ],
      "execution_count": 8,
      "outputs": []
    },
    {
      "cell_type": "code",
      "metadata": {
        "colab": {
          "base_uri": "https://localhost:8080/",
          "height": 310
        },
        "id": "zKwSmno5eefB",
        "outputId": "fdb9fab2-245b-4e21-fa7c-5208de4224fd"
      },
      "source": [
        "sent = pd.read_csv('TSLA_sentiment_hr.csv')\n",
        "df = pd.merge(df, sent, on = 'hour_id', how='left')\n",
        "df = df.fillna(0)\n",
        "df.describe()"
      ],
      "execution_count": 9,
      "outputs": [
        {
          "output_type": "execute_result",
          "data": {
            "text/html": [
              "<div>\n",
              "<style scoped>\n",
              "    .dataframe tbody tr th:only-of-type {\n",
              "        vertical-align: middle;\n",
              "    }\n",
              "\n",
              "    .dataframe tbody tr th {\n",
              "        vertical-align: top;\n",
              "    }\n",
              "\n",
              "    .dataframe thead th {\n",
              "        text-align: right;\n",
              "    }\n",
              "</style>\n",
              "<table border=\"1\" class=\"dataframe\">\n",
              "  <thead>\n",
              "    <tr style=\"text-align: right;\">\n",
              "      <th></th>\n",
              "      <th>Open</th>\n",
              "      <th>High</th>\n",
              "      <th>Low</th>\n",
              "      <th>Close</th>\n",
              "      <th>Adj Close</th>\n",
              "      <th>Volume</th>\n",
              "      <th>Next_close</th>\n",
              "      <th>SMA</th>\n",
              "      <th>EMA</th>\n",
              "      <th>obv</th>\n",
              "      <th>datehour</th>\n",
              "      <th>Unnamed: 0</th>\n",
              "      <th>compound</th>\n",
              "      <th>Count</th>\n",
              "      <th>average</th>\n",
              "    </tr>\n",
              "  </thead>\n",
              "  <tbody>\n",
              "    <tr>\n",
              "      <th>count</th>\n",
              "      <td>1764.000000</td>\n",
              "      <td>1764.000000</td>\n",
              "      <td>1764.000000</td>\n",
              "      <td>1764.000000</td>\n",
              "      <td>1764.000000</td>\n",
              "      <td>1.764000e+03</td>\n",
              "      <td>1764.000000</td>\n",
              "      <td>1764.000000</td>\n",
              "      <td>1764.000000</td>\n",
              "      <td>1.764000e+03</td>\n",
              "      <td>1764.000000</td>\n",
              "      <td>1764.000000</td>\n",
              "      <td>1764.000000</td>\n",
              "      <td>1764.000000</td>\n",
              "      <td>1764.000000</td>\n",
              "    </tr>\n",
              "    <tr>\n",
              "      <th>mean</th>\n",
              "      <td>288.455202</td>\n",
              "      <td>291.215758</td>\n",
              "      <td>285.509468</td>\n",
              "      <td>288.574230</td>\n",
              "      <td>288.574230</td>\n",
              "      <td>4.048496e+06</td>\n",
              "      <td>288.526168</td>\n",
              "      <td>288.223916</td>\n",
              "      <td>285.474583</td>\n",
              "      <td>2.719540e+08</td>\n",
              "      <td>11.994898</td>\n",
              "      <td>3840.521542</td>\n",
              "      <td>1.251590</td>\n",
              "      <td>33.547052</td>\n",
              "      <td>0.035925</td>\n",
              "    </tr>\n",
              "    <tr>\n",
              "      <th>std</th>\n",
              "      <td>167.114734</td>\n",
              "      <td>168.471991</td>\n",
              "      <td>165.644468</td>\n",
              "      <td>167.286036</td>\n",
              "      <td>167.286036</td>\n",
              "      <td>4.410452e+06</td>\n",
              "      <td>167.356784</td>\n",
              "      <td>167.025791</td>\n",
              "      <td>164.889401</td>\n",
              "      <td>1.353015e+08</td>\n",
              "      <td>2.000702</td>\n",
              "      <td>2525.280231</td>\n",
              "      <td>3.392441</td>\n",
              "      <td>48.551001</td>\n",
              "      <td>0.145627</td>\n",
              "    </tr>\n",
              "    <tr>\n",
              "      <th>min</th>\n",
              "      <td>70.639999</td>\n",
              "      <td>72.669998</td>\n",
              "      <td>70.102005</td>\n",
              "      <td>70.692680</td>\n",
              "      <td>70.692680</td>\n",
              "      <td>0.000000e+00</td>\n",
              "      <td>0.000000</td>\n",
              "      <td>71.249560</td>\n",
              "      <td>83.142943</td>\n",
              "      <td>0.000000e+00</td>\n",
              "      <td>9.000000</td>\n",
              "      <td>0.000000</td>\n",
              "      <td>-11.681500</td>\n",
              "      <td>0.000000</td>\n",
              "      <td>-0.986600</td>\n",
              "    </tr>\n",
              "    <tr>\n",
              "      <th>25%</th>\n",
              "      <td>149.485260</td>\n",
              "      <td>151.497089</td>\n",
              "      <td>147.376999</td>\n",
              "      <td>149.584621</td>\n",
              "      <td>149.584621</td>\n",
              "      <td>1.498679e+06</td>\n",
              "      <td>149.584621</td>\n",
              "      <td>149.650452</td>\n",
              "      <td>149.235594</td>\n",
              "      <td>1.787877e+08</td>\n",
              "      <td>10.000000</td>\n",
              "      <td>1631.250000</td>\n",
              "      <td>-0.357675</td>\n",
              "      <td>6.000000</td>\n",
              "      <td>-0.022516</td>\n",
              "    </tr>\n",
              "    <tr>\n",
              "      <th>50%</th>\n",
              "      <td>239.784447</td>\n",
              "      <td>241.849998</td>\n",
              "      <td>237.643997</td>\n",
              "      <td>239.706009</td>\n",
              "      <td>239.706009</td>\n",
              "      <td>2.441167e+06</td>\n",
              "      <td>239.706009</td>\n",
              "      <td>232.277664</td>\n",
              "      <td>219.234638</td>\n",
              "      <td>2.467697e+08</td>\n",
              "      <td>12.000000</td>\n",
              "      <td>3766.500000</td>\n",
              "      <td>0.527650</td>\n",
              "      <td>17.000000</td>\n",
              "      <td>0.030013</td>\n",
              "    </tr>\n",
              "    <tr>\n",
              "      <th>75%</th>\n",
              "      <td>421.892464</td>\n",
              "      <td>425.107491</td>\n",
              "      <td>418.199997</td>\n",
              "      <td>421.808266</td>\n",
              "      <td>421.808266</td>\n",
              "      <td>4.818659e+06</td>\n",
              "      <td>421.808266</td>\n",
              "      <td>421.905230</td>\n",
              "      <td>420.886824</td>\n",
              "      <td>3.362978e+08</td>\n",
              "      <td>14.000000</td>\n",
              "      <td>6118.250000</td>\n",
              "      <td>2.215700</td>\n",
              "      <td>39.000000</td>\n",
              "      <td>0.102509</td>\n",
              "    </tr>\n",
              "    <tr>\n",
              "      <th>max</th>\n",
              "      <td>715.479980</td>\n",
              "      <td>718.719971</td>\n",
              "      <td>712.659973</td>\n",
              "      <td>715.429993</td>\n",
              "      <td>715.429993</td>\n",
              "      <td>4.321218e+07</td>\n",
              "      <td>715.429993</td>\n",
              "      <td>715.293315</td>\n",
              "      <td>692.311683</td>\n",
              "      <td>6.714176e+08</td>\n",
              "      <td>15.000000</td>\n",
              "      <td>8303.000000</td>\n",
              "      <td>27.861400</td>\n",
              "      <td>519.000000</td>\n",
              "      <td>0.860300</td>\n",
              "    </tr>\n",
              "  </tbody>\n",
              "</table>\n",
              "</div>"
            ],
            "text/plain": [
              "              Open         High  ...        Count      average\n",
              "count  1764.000000  1764.000000  ...  1764.000000  1764.000000\n",
              "mean    288.455202   291.215758  ...    33.547052     0.035925\n",
              "std     167.114734   168.471991  ...    48.551001     0.145627\n",
              "min      70.639999    72.669998  ...     0.000000    -0.986600\n",
              "25%     149.485260   151.497089  ...     6.000000    -0.022516\n",
              "50%     239.784447   241.849998  ...    17.000000     0.030013\n",
              "75%     421.892464   425.107491  ...    39.000000     0.102509\n",
              "max     715.479980   718.719971  ...   519.000000     0.860300\n",
              "\n",
              "[8 rows x 15 columns]"
            ]
          },
          "metadata": {
            "tags": []
          },
          "execution_count": 9
        }
      ]
    },
    {
      "cell_type": "code",
      "metadata": {
        "id": "jUTQj59FPpdz",
        "colab": {
          "base_uri": "https://localhost:8080/",
          "height": 585
        },
        "outputId": "ccecf8cc-cf2d-48b9-df36-7d110f10e7c4"
      },
      "source": [
        "# Check for correlation between sentiment and price change\n",
        "df['per_change'] = ((df['Next_close'] - df['Close'])/df['Next_close'])*100\n",
        "df.corr()"
      ],
      "execution_count": 10,
      "outputs": [
        {
          "output_type": "execute_result",
          "data": {
            "text/html": [
              "<div>\n",
              "<style scoped>\n",
              "    .dataframe tbody tr th:only-of-type {\n",
              "        vertical-align: middle;\n",
              "    }\n",
              "\n",
              "    .dataframe tbody tr th {\n",
              "        vertical-align: top;\n",
              "    }\n",
              "\n",
              "    .dataframe thead th {\n",
              "        text-align: right;\n",
              "    }\n",
              "</style>\n",
              "<table border=\"1\" class=\"dataframe\">\n",
              "  <thead>\n",
              "    <tr style=\"text-align: right;\">\n",
              "      <th></th>\n",
              "      <th>Open</th>\n",
              "      <th>High</th>\n",
              "      <th>Low</th>\n",
              "      <th>Close</th>\n",
              "      <th>Adj Close</th>\n",
              "      <th>Volume</th>\n",
              "      <th>Next_close</th>\n",
              "      <th>SMA</th>\n",
              "      <th>EMA</th>\n",
              "      <th>obv</th>\n",
              "      <th>datehour</th>\n",
              "      <th>Unnamed: 0</th>\n",
              "      <th>compound</th>\n",
              "      <th>Count</th>\n",
              "      <th>average</th>\n",
              "      <th>per_change</th>\n",
              "    </tr>\n",
              "  </thead>\n",
              "  <tbody>\n",
              "    <tr>\n",
              "      <th>Open</th>\n",
              "      <td>1.000000</td>\n",
              "      <td>0.999810</td>\n",
              "      <td>0.999740</td>\n",
              "      <td>0.999661</td>\n",
              "      <td>0.999661</td>\n",
              "      <td>0.421561</td>\n",
              "      <td>0.994158</td>\n",
              "      <td>0.999762</td>\n",
              "      <td>0.997763</td>\n",
              "      <td>0.938356</td>\n",
              "      <td>-0.004379</td>\n",
              "      <td>0.789064</td>\n",
              "      <td>0.171734</td>\n",
              "      <td>0.146771</td>\n",
              "      <td>0.075471</td>\n",
              "      <td>-0.009554</td>\n",
              "    </tr>\n",
              "    <tr>\n",
              "      <th>High</th>\n",
              "      <td>0.999810</td>\n",
              "      <td>1.000000</td>\n",
              "      <td>0.999594</td>\n",
              "      <td>0.999819</td>\n",
              "      <td>0.999819</td>\n",
              "      <td>0.431337</td>\n",
              "      <td>0.994294</td>\n",
              "      <td>0.999721</td>\n",
              "      <td>0.997731</td>\n",
              "      <td>0.938167</td>\n",
              "      <td>-0.009570</td>\n",
              "      <td>0.787788</td>\n",
              "      <td>0.171733</td>\n",
              "      <td>0.146191</td>\n",
              "      <td>0.075091</td>\n",
              "      <td>-0.009497</td>\n",
              "    </tr>\n",
              "    <tr>\n",
              "      <th>Low</th>\n",
              "      <td>0.999740</td>\n",
              "      <td>0.999594</td>\n",
              "      <td>1.000000</td>\n",
              "      <td>0.999777</td>\n",
              "      <td>0.999777</td>\n",
              "      <td>0.411292</td>\n",
              "      <td>0.994243</td>\n",
              "      <td>0.999631</td>\n",
              "      <td>0.997503</td>\n",
              "      <td>0.938789</td>\n",
              "      <td>0.000955</td>\n",
              "      <td>0.790507</td>\n",
              "      <td>0.171590</td>\n",
              "      <td>0.145498</td>\n",
              "      <td>0.075563</td>\n",
              "      <td>-0.007942</td>\n",
              "    </tr>\n",
              "    <tr>\n",
              "      <th>Close</th>\n",
              "      <td>0.999661</td>\n",
              "      <td>0.999819</td>\n",
              "      <td>0.999777</td>\n",
              "      <td>1.000000</td>\n",
              "      <td>1.000000</td>\n",
              "      <td>0.423210</td>\n",
              "      <td>0.994451</td>\n",
              "      <td>0.999706</td>\n",
              "      <td>0.997564</td>\n",
              "      <td>0.938741</td>\n",
              "      <td>-0.004923</td>\n",
              "      <td>0.789259</td>\n",
              "      <td>0.171509</td>\n",
              "      <td>0.145464</td>\n",
              "      <td>0.075129</td>\n",
              "      <td>-0.008319</td>\n",
              "    </tr>\n",
              "    <tr>\n",
              "      <th>Adj Close</th>\n",
              "      <td>0.999661</td>\n",
              "      <td>0.999819</td>\n",
              "      <td>0.999777</td>\n",
              "      <td>1.000000</td>\n",
              "      <td>1.000000</td>\n",
              "      <td>0.423210</td>\n",
              "      <td>0.994451</td>\n",
              "      <td>0.999706</td>\n",
              "      <td>0.997564</td>\n",
              "      <td>0.938741</td>\n",
              "      <td>-0.004923</td>\n",
              "      <td>0.789259</td>\n",
              "      <td>0.171509</td>\n",
              "      <td>0.145464</td>\n",
              "      <td>0.075129</td>\n",
              "      <td>-0.008319</td>\n",
              "    </tr>\n",
              "    <tr>\n",
              "      <th>Volume</th>\n",
              "      <td>0.421561</td>\n",
              "      <td>0.431337</td>\n",
              "      <td>0.411292</td>\n",
              "      <td>0.423210</td>\n",
              "      <td>0.423210</td>\n",
              "      <td>1.000000</td>\n",
              "      <td>0.421923</td>\n",
              "      <td>0.422200</td>\n",
              "      <td>0.424441</td>\n",
              "      <td>0.326295</td>\n",
              "      <td>-0.375628</td>\n",
              "      <td>0.187248</td>\n",
              "      <td>0.011565</td>\n",
              "      <td>-0.044646</td>\n",
              "      <td>0.012567</td>\n",
              "      <td>-0.036170</td>\n",
              "    </tr>\n",
              "    <tr>\n",
              "      <th>Next_close</th>\n",
              "      <td>0.994158</td>\n",
              "      <td>0.994294</td>\n",
              "      <td>0.994243</td>\n",
              "      <td>0.994451</td>\n",
              "      <td>0.994451</td>\n",
              "      <td>0.421923</td>\n",
              "      <td>1.000000</td>\n",
              "      <td>0.994126</td>\n",
              "      <td>0.992004</td>\n",
              "      <td>0.932213</td>\n",
              "      <td>-0.006348</td>\n",
              "      <td>0.786599</td>\n",
              "      <td>0.165351</td>\n",
              "      <td>0.141709</td>\n",
              "      <td>0.073627</td>\n",
              "      <td>0.018567</td>\n",
              "    </tr>\n",
              "    <tr>\n",
              "      <th>SMA</th>\n",
              "      <td>0.999762</td>\n",
              "      <td>0.999721</td>\n",
              "      <td>0.999631</td>\n",
              "      <td>0.999706</td>\n",
              "      <td>0.999706</td>\n",
              "      <td>0.422200</td>\n",
              "      <td>0.994126</td>\n",
              "      <td>1.000000</td>\n",
              "      <td>0.998225</td>\n",
              "      <td>0.938323</td>\n",
              "      <td>-0.002595</td>\n",
              "      <td>0.787892</td>\n",
              "      <td>0.171652</td>\n",
              "      <td>0.147022</td>\n",
              "      <td>0.074573</td>\n",
              "      <td>-0.009200</td>\n",
              "    </tr>\n",
              "    <tr>\n",
              "      <th>EMA</th>\n",
              "      <td>0.997763</td>\n",
              "      <td>0.997731</td>\n",
              "      <td>0.997503</td>\n",
              "      <td>0.997564</td>\n",
              "      <td>0.997564</td>\n",
              "      <td>0.424441</td>\n",
              "      <td>0.992004</td>\n",
              "      <td>0.998225</td>\n",
              "      <td>1.000000</td>\n",
              "      <td>0.933084</td>\n",
              "      <td>-0.001670</td>\n",
              "      <td>0.784526</td>\n",
              "      <td>0.160582</td>\n",
              "      <td>0.133410</td>\n",
              "      <td>0.071528</td>\n",
              "      <td>-0.010696</td>\n",
              "    </tr>\n",
              "    <tr>\n",
              "      <th>obv</th>\n",
              "      <td>0.938356</td>\n",
              "      <td>0.938167</td>\n",
              "      <td>0.938789</td>\n",
              "      <td>0.938741</td>\n",
              "      <td>0.938741</td>\n",
              "      <td>0.326295</td>\n",
              "      <td>0.932213</td>\n",
              "      <td>0.938323</td>\n",
              "      <td>0.933084</td>\n",
              "      <td>1.000000</td>\n",
              "      <td>-0.004528</td>\n",
              "      <td>0.817234</td>\n",
              "      <td>0.163514</td>\n",
              "      <td>0.167914</td>\n",
              "      <td>0.061517</td>\n",
              "      <td>-0.012234</td>\n",
              "    </tr>\n",
              "    <tr>\n",
              "      <th>datehour</th>\n",
              "      <td>-0.004379</td>\n",
              "      <td>-0.009570</td>\n",
              "      <td>0.000955</td>\n",
              "      <td>-0.004923</td>\n",
              "      <td>-0.004923</td>\n",
              "      <td>-0.375628</td>\n",
              "      <td>-0.006348</td>\n",
              "      <td>-0.002595</td>\n",
              "      <td>-0.001670</td>\n",
              "      <td>-0.004528</td>\n",
              "      <td>1.000000</td>\n",
              "      <td>-0.019208</td>\n",
              "      <td>0.178095</td>\n",
              "      <td>0.414643</td>\n",
              "      <td>-0.024023</td>\n",
              "      <td>0.076308</td>\n",
              "    </tr>\n",
              "    <tr>\n",
              "      <th>Unnamed: 0</th>\n",
              "      <td>0.789064</td>\n",
              "      <td>0.787788</td>\n",
              "      <td>0.790507</td>\n",
              "      <td>0.789259</td>\n",
              "      <td>0.789259</td>\n",
              "      <td>0.187248</td>\n",
              "      <td>0.786599</td>\n",
              "      <td>0.787892</td>\n",
              "      <td>0.784526</td>\n",
              "      <td>0.817234</td>\n",
              "      <td>-0.019208</td>\n",
              "      <td>1.000000</td>\n",
              "      <td>0.170103</td>\n",
              "      <td>0.175290</td>\n",
              "      <td>0.098694</td>\n",
              "      <td>0.020629</td>\n",
              "    </tr>\n",
              "    <tr>\n",
              "      <th>compound</th>\n",
              "      <td>0.171734</td>\n",
              "      <td>0.171733</td>\n",
              "      <td>0.171590</td>\n",
              "      <td>0.171509</td>\n",
              "      <td>0.171509</td>\n",
              "      <td>0.011565</td>\n",
              "      <td>0.165351</td>\n",
              "      <td>0.171652</td>\n",
              "      <td>0.160582</td>\n",
              "      <td>0.163514</td>\n",
              "      <td>0.178095</td>\n",
              "      <td>0.170103</td>\n",
              "      <td>1.000000</td>\n",
              "      <td>0.540841</td>\n",
              "      <td>0.409417</td>\n",
              "      <td>-0.035694</td>\n",
              "    </tr>\n",
              "    <tr>\n",
              "      <th>Count</th>\n",
              "      <td>0.146771</td>\n",
              "      <td>0.146191</td>\n",
              "      <td>0.145498</td>\n",
              "      <td>0.145464</td>\n",
              "      <td>0.145464</td>\n",
              "      <td>-0.044646</td>\n",
              "      <td>0.141709</td>\n",
              "      <td>0.147022</td>\n",
              "      <td>0.133410</td>\n",
              "      <td>0.167914</td>\n",
              "      <td>0.414643</td>\n",
              "      <td>0.175290</td>\n",
              "      <td>0.540841</td>\n",
              "      <td>1.000000</td>\n",
              "      <td>0.006566</td>\n",
              "      <td>-0.001651</td>\n",
              "    </tr>\n",
              "    <tr>\n",
              "      <th>average</th>\n",
              "      <td>0.075471</td>\n",
              "      <td>0.075091</td>\n",
              "      <td>0.075563</td>\n",
              "      <td>0.075129</td>\n",
              "      <td>0.075129</td>\n",
              "      <td>0.012567</td>\n",
              "      <td>0.073627</td>\n",
              "      <td>0.074573</td>\n",
              "      <td>0.071528</td>\n",
              "      <td>0.061517</td>\n",
              "      <td>-0.024023</td>\n",
              "      <td>0.098694</td>\n",
              "      <td>0.409417</td>\n",
              "      <td>0.006566</td>\n",
              "      <td>1.000000</td>\n",
              "      <td>-0.031414</td>\n",
              "    </tr>\n",
              "    <tr>\n",
              "      <th>per_change</th>\n",
              "      <td>-0.009554</td>\n",
              "      <td>-0.009497</td>\n",
              "      <td>-0.007942</td>\n",
              "      <td>-0.008319</td>\n",
              "      <td>-0.008319</td>\n",
              "      <td>-0.036170</td>\n",
              "      <td>0.018567</td>\n",
              "      <td>-0.009200</td>\n",
              "      <td>-0.010696</td>\n",
              "      <td>-0.012234</td>\n",
              "      <td>0.076308</td>\n",
              "      <td>0.020629</td>\n",
              "      <td>-0.035694</td>\n",
              "      <td>-0.001651</td>\n",
              "      <td>-0.031414</td>\n",
              "      <td>1.000000</td>\n",
              "    </tr>\n",
              "  </tbody>\n",
              "</table>\n",
              "</div>"
            ],
            "text/plain": [
              "                Open      High       Low  ...     Count   average  per_change\n",
              "Open        1.000000  0.999810  0.999740  ...  0.146771  0.075471   -0.009554\n",
              "High        0.999810  1.000000  0.999594  ...  0.146191  0.075091   -0.009497\n",
              "Low         0.999740  0.999594  1.000000  ...  0.145498  0.075563   -0.007942\n",
              "Close       0.999661  0.999819  0.999777  ...  0.145464  0.075129   -0.008319\n",
              "Adj Close   0.999661  0.999819  0.999777  ...  0.145464  0.075129   -0.008319\n",
              "Volume      0.421561  0.431337  0.411292  ... -0.044646  0.012567   -0.036170\n",
              "Next_close  0.994158  0.994294  0.994243  ...  0.141709  0.073627    0.018567\n",
              "SMA         0.999762  0.999721  0.999631  ...  0.147022  0.074573   -0.009200\n",
              "EMA         0.997763  0.997731  0.997503  ...  0.133410  0.071528   -0.010696\n",
              "obv         0.938356  0.938167  0.938789  ...  0.167914  0.061517   -0.012234\n",
              "datehour   -0.004379 -0.009570  0.000955  ...  0.414643 -0.024023    0.076308\n",
              "Unnamed: 0  0.789064  0.787788  0.790507  ...  0.175290  0.098694    0.020629\n",
              "compound    0.171734  0.171733  0.171590  ...  0.540841  0.409417   -0.035694\n",
              "Count       0.146771  0.146191  0.145498  ...  1.000000  0.006566   -0.001651\n",
              "average     0.075471  0.075091  0.075563  ...  0.006566  1.000000   -0.031414\n",
              "per_change -0.009554 -0.009497 -0.007942  ... -0.001651 -0.031414    1.000000\n",
              "\n",
              "[16 rows x 16 columns]"
            ]
          },
          "metadata": {
            "tags": []
          },
          "execution_count": 10
        }
      ]
    },
    {
      "cell_type": "code",
      "metadata": {
        "id": "3oQbDPVjUrJr",
        "colab": {
          "base_uri": "https://localhost:8080/",
          "height": 647
        },
        "outputId": "30703064-9432-4863-9506-83d4c132383e"
      },
      "source": [
        "#Using Pearson Correlation\n",
        "plt.figure(figsize=(12,10))\n",
        "cor = df.corr()\n",
        "sns.heatmap(cor, annot=True, cmap=plt.cm.Reds)\n",
        "plt.show()"
      ],
      "execution_count": 11,
      "outputs": [
        {
          "output_type": "display_data",
          "data": {
            "image/png": "[encoded data removed]",
            "text/plain": [
              "<Figure size 864x720 with 2 Axes>"
            ]
          },
          "metadata": {
            "tags": [],
            "needs_background": "light"
          }
        }
      ]
    },
    {
      "cell_type": "code",
      "metadata": {
        "id": "KGZp_WSmquTx"
      },
      "source": [
        "df = df[['Next_close','Close','Volume','Open','High','Low', \"SMA\", 'EMA', 'obv', 'average']]"
      ],
      "execution_count": 12,
      "outputs": []
    },
    {
      "cell_type": "code",
      "metadata": {
        "id": "r7FYcbAPdye0",
        "colab": {
          "base_uri": "https://localhost:8080/"
        },
        "outputId": "19391638-2029-4a0f-e951-b541fad454fc"
      },
      "source": [
        "# Scale data with MinMaxScaler\n",
        "# define min max scaler\n",
        "scaler = MinMaxScaler()\n",
        "\n",
        "# Data Loader Parameters\n",
        "BATCH_SIZE = 2       # Factors of 202 (train size):   1, 2, 101\n",
        "BUFFER_SIZE = 20\n",
        "TRAIN_SPLIT = round(len(df)*0.8)  # 80-20 train-test split \n",
        "print(TRAIN_SPLIT) # Batches should be factor of train size\n",
        "\n",
        "# LSTM Parameters\n",
        "EVALUATION_INTERVAL = 20   \n",
        "EPOCHS = 500 # Early stopping implemented, so this can be artbitrarily high and still work\n",
        "PATIENCE = 10  # number of epochs to wait before early stop if no progress on the validation set. # Tested this out with other values 3 and 5"
      ],
      "execution_count": 13,
      "outputs": [
        {
          "output_type": "stream",
          "text": [
            "1411\n"
          ],
          "name": "stdout"
        }
      ]
    },
    {
      "cell_type": "code",
      "metadata": {
        "id": "SPSMXoLPt4E0"
      },
      "source": [
        "# Scaled data with MinMaxScaler\n",
        " # from pandas df to array of values\n",
        "data = df.values\n",
        "# define min max scaler\n",
        "scaler = MinMaxScaler()\n",
        "# transform data\n",
        "dataset = scaler.fit_transform(data)"
      ],
      "execution_count": 14,
      "outputs": []
    },
    {
      "cell_type": "code",
      "metadata": {
        "id": "BNiNjLJshQuC"
      },
      "source": [
        "# Split into endogenous and exogenous \n",
        "X = dataset[:,1:]\n",
        "y = dataset[:, 0]\n"
      ],
      "execution_count": 15,
      "outputs": []
    },
    {
      "cell_type": "markdown",
      "metadata": {
        "id": "Mz_9KSrthznt"
      },
      "source": [
        "# LSTM Model"
      ]
    },
    {
      "cell_type": "code",
      "metadata": {
        "id": "Amw1KZBDrAVT"
      },
      "source": [
        "# This was taken from the book Deep Learning with Python by François Chollet \n",
        "\n",
        "def multivariate_data(dataset, target, start_index, end_index, history_size,\n",
        "                      target_size, step, single_step=False):\n",
        "    data = []\n",
        "    labels = []\n",
        "\n",
        "    start_index = start_index + history_size\n",
        "    if end_index is None:\n",
        "        end_index = len(dataset) - target_size\n",
        "\n",
        "    for i in range(start_index, end_index):\n",
        "        indices = range(i-history_size, i, step)\n",
        "        data.append(dataset[indices])\n",
        "\n",
        "        if single_step:\n",
        "            labels.append(target[i+target_size])\n",
        "        else:\n",
        "            labels.append(target[i:i+target_size])\n",
        "\n",
        "    return np.array(data), np.array(labels)"
      ],
      "execution_count": 16,
      "outputs": []
    },
    {
      "cell_type": "code",
      "metadata": {
        "id": "tik9qZyDrAYN"
      },
      "source": [
        "past_history = 130    # How far back the model looks\n",
        "future_target = 1 # this analysis is concerned with 1 step (hour/day) into the future\n",
        "STEP = 1    \n",
        "\n",
        "x_train_model, y_train_model = multivariate_data(X,y, 0,\n",
        "                                                   TRAIN_SPLIT, past_history,\n",
        "                                                   future_target, STEP,\n",
        "                                                   single_step=True)\n",
        "x_val_model, y_val_model = multivariate_data(X,y, 0,\n",
        "                                                   TRAIN_SPLIT, past_history,\n",
        "                                                   future_target, STEP,\n",
        "                                                   single_step=True)"
      ],
      "execution_count": 17,
      "outputs": []
    },
    {
      "cell_type": "code",
      "metadata": {
        "id": "zSLSBWrarAaT",
        "colab": {
          "base_uri": "https://localhost:8080/"
        },
        "outputId": "bb3d30ad-d832-49a8-d7c8-abd2bba3a73d"
      },
      "source": [
        "print(x_train_model.shape)\n",
        "print ('Window of past history : {}'.format(x_train_model[0].shape))\n",
        "print(x_train_model.shape[-2:])"
      ],
      "execution_count": 18,
      "outputs": [
        {
          "output_type": "stream",
          "text": [
            "(1281, 130, 9)\n",
            "Window of past history : (130, 9)\n",
            "(130, 9)\n"
          ],
          "name": "stdout"
        }
      ]
    },
    {
      "cell_type": "code",
      "metadata": {
        "id": "r5TRl-6TrAgm"
      },
      "source": [
        "train_data_model = tf.data.Dataset.from_tensor_slices((x_train_model, y_train_model))\n",
        "train_data_model = train_data_model.cache().shuffle(BUFFER_SIZE).batch(BATCH_SIZE).repeat() \n",
        "val_data_model = tf.data.Dataset.from_tensor_slices((x_val_model, y_val_model))\n",
        "val_data_model = val_data_model.cache().shuffle(BUFFER_SIZE).batch(BATCH_SIZE).repeat()  ##Shuffle with buffer"
      ],
      "execution_count": 19,
      "outputs": []
    },
    {
      "cell_type": "code",
      "metadata": {
        "id": "odS1BDbxsKVY"
      },
      "source": [
        "model = tf.keras.models.Sequential()\n",
        "model.add(tf.keras.layers.LSTM(4,    # Capacity best out of:2, 8, 32\n",
        "                                           kernel_regularizer = regularizers.l2(0.001), # Regularization - fight overfitting\n",
        "                                           input_shape=x_train_model.shape[-2:]))    # LSTM layer with input shape of x_train_model.shape[-2:]\n",
        "model.add(tf.keras.layers.Dropout(0.2))   # Add dropout rate\n",
        "model.add(tf.keras.layers.Dense(1)) # activation = sigmoid? Because I have normalised it to be between -1 and 1? Or no activation?\n",
        "\n",
        "model.compile(optimizer='adam', loss='mean_squared_error',  metrics=['mean_absolute_error', 'mape']) #adam said to be best in CV\n"
      ],
      "execution_count": 20,
      "outputs": []
    },
    {
      "cell_type": "code",
      "metadata": {
        "id": "plKjEXwUela0"
      },
      "source": [
        "# Grid Search\n",
        "# This build classifier and KerasClassifer step is taken from https://machinelearningmastery.com/use-keras-deep-learning-models-scikit-learn-python/. It is a wrapped which allows the use of Sklearn CV with Keras\n",
        "\n",
        "def build_classifier(optimizer, dropout_rate):\n",
        "  model = tf.keras.models.Sequential()\n",
        "  model.add(tf.keras.layers.LSTM(4,    # Capacity best out of:2, 8, 32\n",
        "                                 kernel_regularizer = regularizers.l2(0.001), # Regularization - fight overfitting\n",
        "                                 input_shape=x_train_model.shape[-2:]))    # LSTM layer with input shape of x_train_model.shape[-2:]\n",
        "  model.add(tf.keras.layers.Dropout(0.2))   # Add dropout rate\n",
        "  model.add(tf.keras.layers.Dense(1)) # activation = sigmoid? Because I have normalised it to be between -1 and 1? Or no activation?\n",
        "  model.compile(optimizer=tf.keras.optimizers.RMSprop(), loss='mean_squared_error',  metrics=['mean_absolute_error', 'mape']) #\n",
        "  return model\n",
        "\n",
        "grid_model = KerasClassifier(build_fn=build_classifier)\n",
        "parameters = {'batch_size' : [ 1, 2, 101],\n",
        "              'optimizer' : ['adam','RMSprop'],\n",
        "              'dropout_rate' : [0.0, 0.1, 0.2],  #What is 'forgotten' - important to avoid overfitting\n",
        "}\n",
        "\n",
        "grid_search  = GridSearchCV(estimator = grid_model,\n",
        "                            param_grid = parameters,\n",
        "                            scoring = 'neg_mean_squared_error',\n",
        "                            cv = 2)"
      ],
      "execution_count": 21,
      "outputs": []
    },
    {
      "cell_type": "code",
      "metadata": {
        "id": "H_5cpavOfdNr",
        "colab": {
          "base_uri": "https://localhost:8080/"
        },
        "outputId": "0b549247-449b-4245-9ea4-48a74c473f21"
      },
      "source": [
        "#GridSearchCV\n",
        "grid_search = grid_search.fit(x_train_model, y_train_model)"
      ],
      "execution_count": 22,
      "outputs": [
        {
          "output_type": "stream",
          "text": [
            "640/640 [==============================] - 12s 16ms/step - loss: 133258.5469 - mean_absolute_error: 315.0748 - mape: 9440730.0000\n"
          ],
          "name": "stdout"
        },
        {
          "output_type": "stream",
          "text": [
            "/usr/local/lib/python3.7/dist-packages/tensorflow/python/keras/engine/sequential.py:455: UserWarning: `model.predict_classes()` is deprecated and will be removed after 2021-01-01. Please use instead:* `np.argmax(model.predict(x), axis=-1)`,   if your model does multi-class classification   (e.g. if it uses a `softmax` last-layer activation).* `(model.predict(x) > 0.5).astype(\"int32\")`,   if your model does binary classification   (e.g. if it uses a `sigmoid` last-layer activation).\n",
            "  warnings.warn('`model.predict_classes()` is deprecated and '\n"
          ],
          "name": "stderr"
        },
        {
          "output_type": "stream",
          "text": [
            "641/641 [==============================] - 12s 16ms/step - loss: 134080.7031 - mean_absolute_error: 316.3502 - mape: 236492.9531\n"
          ],
          "name": "stdout"
        },
        {
          "output_type": "stream",
          "text": [
            "/usr/local/lib/python3.7/dist-packages/tensorflow/python/keras/engine/sequential.py:455: UserWarning: `model.predict_classes()` is deprecated and will be removed after 2021-01-01. Please use instead:* `np.argmax(model.predict(x), axis=-1)`,   if your model does multi-class classification   (e.g. if it uses a `softmax` last-layer activation).* `(model.predict(x) > 0.5).astype(\"int32\")`,   if your model does binary classification   (e.g. if it uses a `sigmoid` last-layer activation).\n",
            "  warnings.warn('`model.predict_classes()` is deprecated and '\n"
          ],
          "name": "stderr"
        },
        {
          "output_type": "stream",
          "text": [
            "640/640 [==============================] - 12s 16ms/step - loss: 133606.0781 - mean_absolute_error: 315.7061 - mape: 5969321.0000\n"
          ],
          "name": "stdout"
        },
        {
          "output_type": "stream",
          "text": [
            "/usr/local/lib/python3.7/dist-packages/tensorflow/python/keras/engine/sequential.py:455: UserWarning: `model.predict_classes()` is deprecated and will be removed after 2021-01-01. Please use instead:* `np.argmax(model.predict(x), axis=-1)`,   if your model does multi-class classification   (e.g. if it uses a `softmax` last-layer activation).* `(model.predict(x) > 0.5).astype(\"int32\")`,   if your model does binary classification   (e.g. if it uses a `sigmoid` last-layer activation).\n",
            "  warnings.warn('`model.predict_classes()` is deprecated and '\n"
          ],
          "name": "stderr"
        },
        {
          "output_type": "stream",
          "text": [
            "641/641 [==============================] - 12s 17ms/step - loss: 133662.9375 - mean_absolute_error: 315.8125 - mape: 8045225.5000\n"
          ],
          "name": "stdout"
        },
        {
          "output_type": "stream",
          "text": [
            "/usr/local/lib/python3.7/dist-packages/tensorflow/python/keras/engine/sequential.py:455: UserWarning: `model.predict_classes()` is deprecated and will be removed after 2021-01-01. Please use instead:* `np.argmax(model.predict(x), axis=-1)`,   if your model does multi-class classification   (e.g. if it uses a `softmax` last-layer activation).* `(model.predict(x) > 0.5).astype(\"int32\")`,   if your model does binary classification   (e.g. if it uses a `sigmoid` last-layer activation).\n",
            "  warnings.warn('`model.predict_classes()` is deprecated and '\n"
          ],
          "name": "stderr"
        },
        {
          "output_type": "stream",
          "text": [
            "640/640 [==============================] - 12s 17ms/step - loss: 133773.6875 - mean_absolute_error: 315.8602 - mape: 5688915.5000\n"
          ],
          "name": "stdout"
        },
        {
          "output_type": "stream",
          "text": [
            "/usr/local/lib/python3.7/dist-packages/tensorflow/python/keras/engine/sequential.py:455: UserWarning: `model.predict_classes()` is deprecated and will be removed after 2021-01-01. Please use instead:* `np.argmax(model.predict(x), axis=-1)`,   if your model does multi-class classification   (e.g. if it uses a `softmax` last-layer activation).* `(model.predict(x) > 0.5).astype(\"int32\")`,   if your model does binary classification   (e.g. if it uses a `sigmoid` last-layer activation).\n",
            "  warnings.warn('`model.predict_classes()` is deprecated and '\n"
          ],
          "name": "stderr"
        },
        {
          "output_type": "stream",
          "text": [
            "641/641 [==============================] - 12s 17ms/step - loss: 134020.6719 - mean_absolute_error: 316.3762 - mape: 6123078.5000\n"
          ],
          "name": "stdout"
        },
        {
          "output_type": "stream",
          "text": [
            "/usr/local/lib/python3.7/dist-packages/tensorflow/python/keras/engine/sequential.py:455: UserWarning: `model.predict_classes()` is deprecated and will be removed after 2021-01-01. Please use instead:* `np.argmax(model.predict(x), axis=-1)`,   if your model does multi-class classification   (e.g. if it uses a `softmax` last-layer activation).* `(model.predict(x) > 0.5).astype(\"int32\")`,   if your model does binary classification   (e.g. if it uses a `sigmoid` last-layer activation).\n",
            "  warnings.warn('`model.predict_classes()` is deprecated and '\n"
          ],
          "name": "stderr"
        },
        {
          "output_type": "stream",
          "text": [
            "640/640 [==============================] - 12s 17ms/step - loss: 133398.0938 - mean_absolute_error: 315.3073 - mape: 5077307.0000\n"
          ],
          "name": "stdout"
        },
        {
          "output_type": "stream",
          "text": [
            "/usr/local/lib/python3.7/dist-packages/tensorflow/python/keras/engine/sequential.py:455: UserWarning: `model.predict_classes()` is deprecated and will be removed after 2021-01-01. Please use instead:* `np.argmax(model.predict(x), axis=-1)`,   if your model does multi-class classification   (e.g. if it uses a `softmax` last-layer activation).* `(model.predict(x) > 0.5).astype(\"int32\")`,   if your model does binary classification   (e.g. if it uses a `sigmoid` last-layer activation).\n",
            "  warnings.warn('`model.predict_classes()` is deprecated and '\n"
          ],
          "name": "stderr"
        },
        {
          "output_type": "stream",
          "text": [
            "641/641 [==============================] - 13s 17ms/step - loss: 134054.6406 - mean_absolute_error: 316.3492 - mape: 176430.8438\n"
          ],
          "name": "stdout"
        },
        {
          "output_type": "stream",
          "text": [
            "/usr/local/lib/python3.7/dist-packages/tensorflow/python/keras/engine/sequential.py:455: UserWarning: `model.predict_classes()` is deprecated and will be removed after 2021-01-01. Please use instead:* `np.argmax(model.predict(x), axis=-1)`,   if your model does multi-class classification   (e.g. if it uses a `softmax` last-layer activation).* `(model.predict(x) > 0.5).astype(\"int32\")`,   if your model does binary classification   (e.g. if it uses a `sigmoid` last-layer activation).\n",
            "  warnings.warn('`model.predict_classes()` is deprecated and '\n"
          ],
          "name": "stderr"
        },
        {
          "output_type": "stream",
          "text": [
            "640/640 [==============================] - 12s 17ms/step - loss: 132961.3281 - mean_absolute_error: 314.6629 - mape: 7783916.0000\n"
          ],
          "name": "stdout"
        },
        {
          "output_type": "stream",
          "text": [
            "/usr/local/lib/python3.7/dist-packages/tensorflow/python/keras/engine/sequential.py:455: UserWarning: `model.predict_classes()` is deprecated and will be removed after 2021-01-01. Please use instead:* `np.argmax(model.predict(x), axis=-1)`,   if your model does multi-class classification   (e.g. if it uses a `softmax` last-layer activation).* `(model.predict(x) > 0.5).astype(\"int32\")`,   if your model does binary classification   (e.g. if it uses a `sigmoid` last-layer activation).\n",
            "  warnings.warn('`model.predict_classes()` is deprecated and '\n"
          ],
          "name": "stderr"
        },
        {
          "output_type": "stream",
          "text": [
            "641/641 [==============================] - 12s 17ms/step - loss: 134675.6719 - mean_absolute_error: 317.3329 - mape: 238284.1562\n"
          ],
          "name": "stdout"
        },
        {
          "output_type": "stream",
          "text": [
            "/usr/local/lib/python3.7/dist-packages/tensorflow/python/keras/engine/sequential.py:455: UserWarning: `model.predict_classes()` is deprecated and will be removed after 2021-01-01. Please use instead:* `np.argmax(model.predict(x), axis=-1)`,   if your model does multi-class classification   (e.g. if it uses a `softmax` last-layer activation).* `(model.predict(x) > 0.5).astype(\"int32\")`,   if your model does binary classification   (e.g. if it uses a `sigmoid` last-layer activation).\n",
            "  warnings.warn('`model.predict_classes()` is deprecated and '\n"
          ],
          "name": "stderr"
        },
        {
          "output_type": "stream",
          "text": [
            "640/640 [==============================] - 13s 17ms/step - loss: 133224.6562 - mean_absolute_error: 315.1626 - mape: 2856456.5000\n"
          ],
          "name": "stdout"
        },
        {
          "output_type": "stream",
          "text": [
            "/usr/local/lib/python3.7/dist-packages/tensorflow/python/keras/engine/sequential.py:455: UserWarning: `model.predict_classes()` is deprecated and will be removed after 2021-01-01. Please use instead:* `np.argmax(model.predict(x), axis=-1)`,   if your model does multi-class classification   (e.g. if it uses a `softmax` last-layer activation).* `(model.predict(x) > 0.5).astype(\"int32\")`,   if your model does binary classification   (e.g. if it uses a `sigmoid` last-layer activation).\n",
            "  warnings.warn('`model.predict_classes()` is deprecated and '\n"
          ],
          "name": "stderr"
        },
        {
          "output_type": "stream",
          "text": [
            "641/641 [==============================] - 12s 17ms/step - loss: 134124.6875 - mean_absolute_error: 316.4605 - mape: 1326517.8750\n"
          ],
          "name": "stdout"
        },
        {
          "output_type": "stream",
          "text": [
            "/usr/local/lib/python3.7/dist-packages/tensorflow/python/keras/engine/sequential.py:455: UserWarning: `model.predict_classes()` is deprecated and will be removed after 2021-01-01. Please use instead:* `np.argmax(model.predict(x), axis=-1)`,   if your model does multi-class classification   (e.g. if it uses a `softmax` last-layer activation).* `(model.predict(x) > 0.5).astype(\"int32\")`,   if your model does binary classification   (e.g. if it uses a `sigmoid` last-layer activation).\n",
            "  warnings.warn('`model.predict_classes()` is deprecated and '\n"
          ],
          "name": "stderr"
        },
        {
          "output_type": "stream",
          "text": [
            "320/320 [==============================] - 8s 20ms/step - loss: 134277.4062 - mean_absolute_error: 316.7162 - mape: 4456702.5000\n"
          ],
          "name": "stdout"
        },
        {
          "output_type": "stream",
          "text": [
            "/usr/local/lib/python3.7/dist-packages/tensorflow/python/keras/engine/sequential.py:455: UserWarning: `model.predict_classes()` is deprecated and will be removed after 2021-01-01. Please use instead:* `np.argmax(model.predict(x), axis=-1)`,   if your model does multi-class classification   (e.g. if it uses a `softmax` last-layer activation).* `(model.predict(x) > 0.5).astype(\"int32\")`,   if your model does binary classification   (e.g. if it uses a `sigmoid` last-layer activation).\n",
            "  warnings.warn('`model.predict_classes()` is deprecated and '\n"
          ],
          "name": "stderr"
        },
        {
          "output_type": "stream",
          "text": [
            "321/321 [==============================] - 12s 33ms/step - loss: 134665.0156 - mean_absolute_error: 317.3383 - mape: 2352866.0000\n"
          ],
          "name": "stdout"
        },
        {
          "output_type": "stream",
          "text": [
            "/usr/local/lib/python3.7/dist-packages/tensorflow/python/keras/engine/sequential.py:455: UserWarning: `model.predict_classes()` is deprecated and will be removed after 2021-01-01. Please use instead:* `np.argmax(model.predict(x), axis=-1)`,   if your model does multi-class classification   (e.g. if it uses a `softmax` last-layer activation).* `(model.predict(x) > 0.5).astype(\"int32\")`,   if your model does binary classification   (e.g. if it uses a `sigmoid` last-layer activation).\n",
            "  warnings.warn('`model.predict_classes()` is deprecated and '\n"
          ],
          "name": "stderr"
        },
        {
          "output_type": "stream",
          "text": [
            "320/320 [==============================] - 8s 20ms/step - loss: 134399.8438 - mean_absolute_error: 316.8976 - mape: 1266771.6250\n"
          ],
          "name": "stdout"
        },
        {
          "output_type": "stream",
          "text": [
            "/usr/local/lib/python3.7/dist-packages/tensorflow/python/keras/engine/sequential.py:455: UserWarning: `model.predict_classes()` is deprecated and will be removed after 2021-01-01. Please use instead:* `np.argmax(model.predict(x), axis=-1)`,   if your model does multi-class classification   (e.g. if it uses a `softmax` last-layer activation).* `(model.predict(x) > 0.5).astype(\"int32\")`,   if your model does binary classification   (e.g. if it uses a `sigmoid` last-layer activation).\n",
            "  warnings.warn('`model.predict_classes()` is deprecated and '\n"
          ],
          "name": "stderr"
        },
        {
          "output_type": "stream",
          "text": [
            "321/321 [==============================] - 13s 34ms/step - loss: 134347.0625 - mean_absolute_error: 316.8388 - mape: 4985427.5000\n"
          ],
          "name": "stdout"
        },
        {
          "output_type": "stream",
          "text": [
            "/usr/local/lib/python3.7/dist-packages/tensorflow/python/keras/engine/sequential.py:455: UserWarning: `model.predict_classes()` is deprecated and will be removed after 2021-01-01. Please use instead:* `np.argmax(model.predict(x), axis=-1)`,   if your model does multi-class classification   (e.g. if it uses a `softmax` last-layer activation).* `(model.predict(x) > 0.5).astype(\"int32\")`,   if your model does binary classification   (e.g. if it uses a `sigmoid` last-layer activation).\n",
            "  warnings.warn('`model.predict_classes()` is deprecated and '\n"
          ],
          "name": "stderr"
        },
        {
          "output_type": "stream",
          "text": [
            "320/320 [==============================] - 8s 20ms/step - loss: 134518.6250 - mean_absolute_error: 317.1010 - mape: 3385395.2500\n"
          ],
          "name": "stdout"
        },
        {
          "output_type": "stream",
          "text": [
            "/usr/local/lib/python3.7/dist-packages/tensorflow/python/keras/engine/sequential.py:455: UserWarning: `model.predict_classes()` is deprecated and will be removed after 2021-01-01. Please use instead:* `np.argmax(model.predict(x), axis=-1)`,   if your model does multi-class classification   (e.g. if it uses a `softmax` last-layer activation).* `(model.predict(x) > 0.5).astype(\"int32\")`,   if your model does binary classification   (e.g. if it uses a `sigmoid` last-layer activation).\n",
            "  warnings.warn('`model.predict_classes()` is deprecated and '\n"
          ],
          "name": "stderr"
        },
        {
          "output_type": "stream",
          "text": [
            "321/321 [==============================] - 12s 33ms/step - loss: 135295.1875 - mean_absolute_error: 318.2983 - mape: 185017.1562\n"
          ],
          "name": "stdout"
        },
        {
          "output_type": "stream",
          "text": [
            "/usr/local/lib/python3.7/dist-packages/tensorflow/python/keras/engine/sequential.py:455: UserWarning: `model.predict_classes()` is deprecated and will be removed after 2021-01-01. Please use instead:* `np.argmax(model.predict(x), axis=-1)`,   if your model does multi-class classification   (e.g. if it uses a `softmax` last-layer activation).* `(model.predict(x) > 0.5).astype(\"int32\")`,   if your model does binary classification   (e.g. if it uses a `sigmoid` last-layer activation).\n",
            "  warnings.warn('`model.predict_classes()` is deprecated and '\n"
          ],
          "name": "stderr"
        },
        {
          "output_type": "stream",
          "text": [
            "320/320 [==============================] - 8s 20ms/step - loss: 133906.6094 - mean_absolute_error: 316.1376 - mape: 2450663.5000\n"
          ],
          "name": "stdout"
        },
        {
          "output_type": "stream",
          "text": [
            "/usr/local/lib/python3.7/dist-packages/tensorflow/python/keras/engine/sequential.py:455: UserWarning: `model.predict_classes()` is deprecated and will be removed after 2021-01-01. Please use instead:* `np.argmax(model.predict(x), axis=-1)`,   if your model does multi-class classification   (e.g. if it uses a `softmax` last-layer activation).* `(model.predict(x) > 0.5).astype(\"int32\")`,   if your model does binary classification   (e.g. if it uses a `sigmoid` last-layer activation).\n",
            "  warnings.warn('`model.predict_classes()` is deprecated and '\n"
          ],
          "name": "stderr"
        },
        {
          "output_type": "stream",
          "text": [
            "321/321 [==============================] - 13s 34ms/step - loss: 135221.4531 - mean_absolute_error: 318.1876 - mape: 1209330.1250\n"
          ],
          "name": "stdout"
        },
        {
          "output_type": "stream",
          "text": [
            "/usr/local/lib/python3.7/dist-packages/tensorflow/python/keras/engine/sequential.py:455: UserWarning: `model.predict_classes()` is deprecated and will be removed after 2021-01-01. Please use instead:* `np.argmax(model.predict(x), axis=-1)`,   if your model does multi-class classification   (e.g. if it uses a `softmax` last-layer activation).* `(model.predict(x) > 0.5).astype(\"int32\")`,   if your model does binary classification   (e.g. if it uses a `sigmoid` last-layer activation).\n",
            "  warnings.warn('`model.predict_classes()` is deprecated and '\n"
          ],
          "name": "stderr"
        },
        {
          "output_type": "stream",
          "text": [
            "320/320 [==============================] - 8s 20ms/step - loss: 134435.7188 - mean_absolute_error: 316.9570 - mape: 36823.1133\n"
          ],
          "name": "stdout"
        },
        {
          "output_type": "stream",
          "text": [
            "/usr/local/lib/python3.7/dist-packages/tensorflow/python/keras/engine/sequential.py:455: UserWarning: `model.predict_classes()` is deprecated and will be removed after 2021-01-01. Please use instead:* `np.argmax(model.predict(x), axis=-1)`,   if your model does multi-class classification   (e.g. if it uses a `softmax` last-layer activation).* `(model.predict(x) > 0.5).astype(\"int32\")`,   if your model does binary classification   (e.g. if it uses a `sigmoid` last-layer activation).\n",
            "  warnings.warn('`model.predict_classes()` is deprecated and '\n"
          ],
          "name": "stderr"
        },
        {
          "output_type": "stream",
          "text": [
            "321/321 [==============================] - 12s 33ms/step - loss: 134579.7812 - mean_absolute_error: 317.2329 - mape: 2070319.5000\n"
          ],
          "name": "stdout"
        },
        {
          "output_type": "stream",
          "text": [
            "/usr/local/lib/python3.7/dist-packages/tensorflow/python/keras/engine/sequential.py:455: UserWarning: `model.predict_classes()` is deprecated and will be removed after 2021-01-01. Please use instead:* `np.argmax(model.predict(x), axis=-1)`,   if your model does multi-class classification   (e.g. if it uses a `softmax` last-layer activation).* `(model.predict(x) > 0.5).astype(\"int32\")`,   if your model does binary classification   (e.g. if it uses a `sigmoid` last-layer activation).\n",
            "  warnings.warn('`model.predict_classes()` is deprecated and '\n"
          ],
          "name": "stderr"
        },
        {
          "output_type": "stream",
          "text": [
            "320/320 [==============================] - 8s 20ms/step - loss: 133829.1094 - mean_absolute_error: 316.0941 - mape: 3113064.0000\n"
          ],
          "name": "stdout"
        },
        {
          "output_type": "stream",
          "text": [
            "/usr/local/lib/python3.7/dist-packages/tensorflow/python/keras/engine/sequential.py:455: UserWarning: `model.predict_classes()` is deprecated and will be removed after 2021-01-01. Please use instead:* `np.argmax(model.predict(x), axis=-1)`,   if your model does multi-class classification   (e.g. if it uses a `softmax` last-layer activation).* `(model.predict(x) > 0.5).astype(\"int32\")`,   if your model does binary classification   (e.g. if it uses a `sigmoid` last-layer activation).\n",
            "  warnings.warn('`model.predict_classes()` is deprecated and '\n"
          ],
          "name": "stderr"
        },
        {
          "output_type": "stream",
          "text": [
            "321/321 [==============================] - 12s 34ms/step - loss: 135038.6094 - mean_absolute_error: 317.9315 - mape: 1793138.3750\n"
          ],
          "name": "stdout"
        },
        {
          "output_type": "stream",
          "text": [
            "/usr/local/lib/python3.7/dist-packages/tensorflow/python/keras/engine/sequential.py:455: UserWarning: `model.predict_classes()` is deprecated and will be removed after 2021-01-01. Please use instead:* `np.argmax(model.predict(x), axis=-1)`,   if your model does multi-class classification   (e.g. if it uses a `softmax` last-layer activation).* `(model.predict(x) > 0.5).astype(\"int32\")`,   if your model does binary classification   (e.g. if it uses a `sigmoid` last-layer activation).\n",
            "  warnings.warn('`model.predict_classes()` is deprecated and '\n"
          ],
          "name": "stderr"
        },
        {
          "output_type": "stream",
          "text": [
            "7/7 [==============================] - 2s 35ms/step - loss: 135364.0000 - mean_absolute_error: 318.4433 - mape: 270897.6250\n"
          ],
          "name": "stdout"
        },
        {
          "output_type": "stream",
          "text": [
            "/usr/local/lib/python3.7/dist-packages/tensorflow/python/keras/engine/sequential.py:455: UserWarning: `model.predict_classes()` is deprecated and will be removed after 2021-01-01. Please use instead:* `np.argmax(model.predict(x), axis=-1)`,   if your model does multi-class classification   (e.g. if it uses a `softmax` last-layer activation).* `(model.predict(x) > 0.5).astype(\"int32\")`,   if your model does binary classification   (e.g. if it uses a `sigmoid` last-layer activation).\n",
            "  warnings.warn('`model.predict_classes()` is deprecated and '\n"
          ],
          "name": "stderr"
        },
        {
          "output_type": "stream",
          "text": [
            "7/7 [==============================] - 2s 36ms/step - loss: 135930.2812 - mean_absolute_error: 319.2857 - mape: 344002.0625\n"
          ],
          "name": "stdout"
        },
        {
          "output_type": "stream",
          "text": [
            "/usr/local/lib/python3.7/dist-packages/tensorflow/python/keras/engine/sequential.py:455: UserWarning: `model.predict_classes()` is deprecated and will be removed after 2021-01-01. Please use instead:* `np.argmax(model.predict(x), axis=-1)`,   if your model does multi-class classification   (e.g. if it uses a `softmax` last-layer activation).* `(model.predict(x) > 0.5).astype(\"int32\")`,   if your model does binary classification   (e.g. if it uses a `sigmoid` last-layer activation).\n",
            "  warnings.warn('`model.predict_classes()` is deprecated and '\n"
          ],
          "name": "stderr"
        },
        {
          "output_type": "stream",
          "text": [
            "7/7 [==============================] - 2s 36ms/step - loss: 135636.7344 - mean_absolute_error: 318.7766 - mape: 596040.1250\n"
          ],
          "name": "stdout"
        },
        {
          "output_type": "stream",
          "text": [
            "/usr/local/lib/python3.7/dist-packages/tensorflow/python/keras/engine/sequential.py:455: UserWarning: `model.predict_classes()` is deprecated and will be removed after 2021-01-01. Please use instead:* `np.argmax(model.predict(x), axis=-1)`,   if your model does multi-class classification   (e.g. if it uses a `softmax` last-layer activation).* `(model.predict(x) > 0.5).astype(\"int32\")`,   if your model does binary classification   (e.g. if it uses a `sigmoid` last-layer activation).\n",
            "  warnings.warn('`model.predict_classes()` is deprecated and '\n"
          ],
          "name": "stderr"
        },
        {
          "output_type": "stream",
          "text": [
            "7/7 [==============================] - 2s 36ms/step - loss: 135785.3906 - mean_absolute_error: 319.0879 - mape: 374367.4688\n"
          ],
          "name": "stdout"
        },
        {
          "output_type": "stream",
          "text": [
            "/usr/local/lib/python3.7/dist-packages/tensorflow/python/keras/engine/sequential.py:455: UserWarning: `model.predict_classes()` is deprecated and will be removed after 2021-01-01. Please use instead:* `np.argmax(model.predict(x), axis=-1)`,   if your model does multi-class classification   (e.g. if it uses a `softmax` last-layer activation).* `(model.predict(x) > 0.5).astype(\"int32\")`,   if your model does binary classification   (e.g. if it uses a `sigmoid` last-layer activation).\n",
            "  warnings.warn('`model.predict_classes()` is deprecated and '\n"
          ],
          "name": "stderr"
        },
        {
          "output_type": "stream",
          "text": [
            "7/7 [==============================] - 2s 37ms/step - loss: 134931.4219 - mean_absolute_error: 317.7325 - mape: 1252789.2500\n"
          ],
          "name": "stdout"
        },
        {
          "output_type": "stream",
          "text": [
            "/usr/local/lib/python3.7/dist-packages/tensorflow/python/keras/engine/sequential.py:455: UserWarning: `model.predict_classes()` is deprecated and will be removed after 2021-01-01. Please use instead:* `np.argmax(model.predict(x), axis=-1)`,   if your model does multi-class classification   (e.g. if it uses a `softmax` last-layer activation).* `(model.predict(x) > 0.5).astype(\"int32\")`,   if your model does binary classification   (e.g. if it uses a `sigmoid` last-layer activation).\n",
            "  warnings.warn('`model.predict_classes()` is deprecated and '\n"
          ],
          "name": "stderr"
        },
        {
          "output_type": "stream",
          "text": [
            "7/7 [==============================] - 2s 37ms/step - loss: 135592.4688 - mean_absolute_error: 318.7880 - mape: 297053.1875\n"
          ],
          "name": "stdout"
        },
        {
          "output_type": "stream",
          "text": [
            "/usr/local/lib/python3.7/dist-packages/tensorflow/python/keras/engine/sequential.py:455: UserWarning: `model.predict_classes()` is deprecated and will be removed after 2021-01-01. Please use instead:* `np.argmax(model.predict(x), axis=-1)`,   if your model does multi-class classification   (e.g. if it uses a `softmax` last-layer activation).* `(model.predict(x) > 0.5).astype(\"int32\")`,   if your model does binary classification   (e.g. if it uses a `sigmoid` last-layer activation).\n",
            "  warnings.warn('`model.predict_classes()` is deprecated and '\n"
          ],
          "name": "stderr"
        },
        {
          "output_type": "stream",
          "text": [
            "7/7 [==============================] - 2s 38ms/step - loss: 135395.4375 - mean_absolute_error: 318.4382 - mape: 6275.0806\n"
          ],
          "name": "stdout"
        },
        {
          "output_type": "stream",
          "text": [
            "/usr/local/lib/python3.7/dist-packages/tensorflow/python/keras/engine/sequential.py:455: UserWarning: `model.predict_classes()` is deprecated and will be removed after 2021-01-01. Please use instead:* `np.argmax(model.predict(x), axis=-1)`,   if your model does multi-class classification   (e.g. if it uses a `softmax` last-layer activation).* `(model.predict(x) > 0.5).astype(\"int32\")`,   if your model does binary classification   (e.g. if it uses a `sigmoid` last-layer activation).\n",
            "  warnings.warn('`model.predict_classes()` is deprecated and '\n"
          ],
          "name": "stderr"
        },
        {
          "output_type": "stream",
          "text": [
            "7/7 [==============================] - 2s 34ms/step - loss: 135788.5156 - mean_absolute_error: 319.0728 - mape: 108530.2109\n"
          ],
          "name": "stdout"
        },
        {
          "output_type": "stream",
          "text": [
            "/usr/local/lib/python3.7/dist-packages/tensorflow/python/keras/engine/sequential.py:455: UserWarning: `model.predict_classes()` is deprecated and will be removed after 2021-01-01. Please use instead:* `np.argmax(model.predict(x), axis=-1)`,   if your model does multi-class classification   (e.g. if it uses a `softmax` last-layer activation).* `(model.predict(x) > 0.5).astype(\"int32\")`,   if your model does binary classification   (e.g. if it uses a `sigmoid` last-layer activation).\n",
            "  warnings.warn('`model.predict_classes()` is deprecated and '\n"
          ],
          "name": "stderr"
        },
        {
          "output_type": "stream",
          "text": [
            "7/7 [==============================] - 2s 35ms/step - loss: 135091.8906 - mean_absolute_error: 317.9904 - mape: 463689.7500\n"
          ],
          "name": "stdout"
        },
        {
          "output_type": "stream",
          "text": [
            "/usr/local/lib/python3.7/dist-packages/tensorflow/python/keras/engine/sequential.py:455: UserWarning: `model.predict_classes()` is deprecated and will be removed after 2021-01-01. Please use instead:* `np.argmax(model.predict(x), axis=-1)`,   if your model does multi-class classification   (e.g. if it uses a `softmax` last-layer activation).* `(model.predict(x) > 0.5).astype(\"int32\")`,   if your model does binary classification   (e.g. if it uses a `sigmoid` last-layer activation).\n",
            "  warnings.warn('`model.predict_classes()` is deprecated and '\n"
          ],
          "name": "stderr"
        },
        {
          "output_type": "stream",
          "text": [
            "7/7 [==============================] - 2s 36ms/step - loss: 135732.9531 - mean_absolute_error: 318.9954 - mape: 72927.1875\n"
          ],
          "name": "stdout"
        },
        {
          "output_type": "stream",
          "text": [
            "/usr/local/lib/python3.7/dist-packages/tensorflow/python/keras/engine/sequential.py:455: UserWarning: `model.predict_classes()` is deprecated and will be removed after 2021-01-01. Please use instead:* `np.argmax(model.predict(x), axis=-1)`,   if your model does multi-class classification   (e.g. if it uses a `softmax` last-layer activation).* `(model.predict(x) > 0.5).astype(\"int32\")`,   if your model does binary classification   (e.g. if it uses a `sigmoid` last-layer activation).\n",
            "  warnings.warn('`model.predict_classes()` is deprecated and '\n"
          ],
          "name": "stderr"
        },
        {
          "output_type": "stream",
          "text": [
            "7/7 [==============================] - 2s 37ms/step - loss: 135161.2500 - mean_absolute_error: 318.0526 - mape: 871422.1250\n"
          ],
          "name": "stdout"
        },
        {
          "output_type": "stream",
          "text": [
            "/usr/local/lib/python3.7/dist-packages/tensorflow/python/keras/engine/sequential.py:455: UserWarning: `model.predict_classes()` is deprecated and will be removed after 2021-01-01. Please use instead:* `np.argmax(model.predict(x), axis=-1)`,   if your model does multi-class classification   (e.g. if it uses a `softmax` last-layer activation).* `(model.predict(x) > 0.5).astype(\"int32\")`,   if your model does binary classification   (e.g. if it uses a `sigmoid` last-layer activation).\n",
            "  warnings.warn('`model.predict_classes()` is deprecated and '\n"
          ],
          "name": "stderr"
        },
        {
          "output_type": "stream",
          "text": [
            "7/7 [==============================] - 2s 36ms/step - loss: 135597.1719 - mean_absolute_error: 318.8157 - mape: 56363.2930\n"
          ],
          "name": "stdout"
        },
        {
          "output_type": "stream",
          "text": [
            "/usr/local/lib/python3.7/dist-packages/tensorflow/python/keras/engine/sequential.py:455: UserWarning: `model.predict_classes()` is deprecated and will be removed after 2021-01-01. Please use instead:* `np.argmax(model.predict(x), axis=-1)`,   if your model does multi-class classification   (e.g. if it uses a `softmax` last-layer activation).* `(model.predict(x) > 0.5).astype(\"int32\")`,   if your model does binary classification   (e.g. if it uses a `sigmoid` last-layer activation).\n",
            "  warnings.warn('`model.predict_classes()` is deprecated and '\n"
          ],
          "name": "stderr"
        },
        {
          "output_type": "stream",
          "text": [
            "13/13 [==============================] - 2s 38ms/step - loss: 542272.6250 - mean_absolute_error: 637.5797 - mape: 147886.9688\n"
          ],
          "name": "stdout"
        }
      ]
    },
    {
      "cell_type": "code",
      "metadata": {
        "id": "avx2KMokhwIL",
        "colab": {
          "base_uri": "https://localhost:8080/"
        },
        "outputId": "13cbf760-a072-4004-e7f4-95b8ee1f406f"
      },
      "source": [
        "print(\"Best accuracy: {}\\nBest combination: {}\".format(-grid_search.best_score_, \n",
        "                             grid_search.best_params_))"
      ],
      "execution_count": 23,
      "outputs": [
        {
          "output_type": "stream",
          "text": [
            "Best accuracy: 0.08131277803341536\n",
            "Best combination: {'batch_size': 101, 'dropout_rate': 0.2, 'optimizer': 'RMSprop'}\n"
          ],
          "name": "stdout"
        }
      ]
    },
    {
      "cell_type": "code",
      "metadata": {
        "id": "Van5J2poyJsS"
      },
      "source": [
        "BATCH_SIZE = 1\n",
        "DROPOUT_RATE = 0\n",
        "OPTIMIZER = 'adam'\n",
        "\n",
        "train_data_model = tf.data.Dataset.from_tensor_slices((x_train_model, y_train_model))\n",
        "train_data_model = train_data_model.cache().batch(BATCH_SIZE).repeat()\n",
        "val_data_model = tf.data.Dataset.from_tensor_slices((x_val_model, y_val_model))\n",
        "val_data_model = val_data_model.cache().batch(BATCH_SIZE).repeat()  "
      ],
      "execution_count": 24,
      "outputs": []
    },
    {
      "cell_type": "code",
      "metadata": {
        "id": "5X-BhYIdmOOe"
      },
      "source": [
        "# Model updated with parameters as determined using Grid Search\n",
        "model = tf.keras.models.Sequential()\n",
        "model.add(tf.keras.layers.LSTM(4,    # Capacity best out of:2, 4, 8, 32\n",
        "                                           kernel_regularizer = regularizers.l2(0.001), # Regularization - fight overfitting\n",
        "                                           input_shape=x_train_model.shape[-2:]))    # LSTM layer with 4 outputs and input shape of x_train_model.shape[-2:]\n",
        "model.add(tf.keras.layers.Dropout(DROPOUT_RATE))   # Add dropout rate\n",
        "model.add(tf.keras.layers.Dense(1)) \n",
        "model.compile(optimizer='RMSprop', loss='mean_squared_error',  metrics=['mean_absolute_error', 'mape']) #\n"
      ],
      "execution_count": 25,
      "outputs": []
    },
    {
      "cell_type": "code",
      "metadata": {
        "id": "18uA1e7KsKal",
        "colab": {
          "base_uri": "https://localhost:8080/"
        },
        "outputId": "ef1e5b83-6c6d-4199-f895-ef213e5117b4"
      },
      "source": [
        "print(f\"Evaluation Threshold: {EVALUATION_INTERVAL}\",\n",
        "      f\"Epochs: {EPOCHS}\", sep=\"\\n\")\n",
        "\n",
        "# Train with early stopping so as to avoid overfitting\n",
        "early_stopping = EarlyStopping(monitor='val_loss', patience = PATIENCE, restore_best_weights=True) \n",
        "history = model.fit(train_data_model,\n",
        "                                            epochs=EPOCHS,\n",
        "                                            steps_per_epoch=EVALUATION_INTERVAL,\n",
        "                                            validation_data=val_data_model,\n",
        "                                            callbacks=[early_stopping],\n",
        "                                            validation_steps=17)   "
      ],
      "execution_count": 26,
      "outputs": [
        {
          "output_type": "stream",
          "text": [
            "Evaluation Threshold: 20\n",
            "Epochs: 500\n",
            "Epoch 1/500\n",
            "20/20 [==============================] - 3s 52ms/step - loss: 0.0098 - mean_absolute_error: 0.0083 - mape: 4.5104 - val_loss: 0.0094 - val_mean_absolute_error: 0.0160 - val_mape: 8.8432\n",
            "Epoch 2/500\n",
            "20/20 [==============================] - 1s 29ms/step - loss: 0.0092 - mean_absolute_error: 0.0174 - mape: 7.7535 - val_loss: 0.0101 - val_mean_absolute_error: 0.0412 - val_mape: 22.7604\n",
            "Epoch 3/500\n",
            "20/20 [==============================] - 1s 29ms/step - loss: 0.0080 - mean_absolute_error: 0.0064 - mape: 3.0076 - val_loss: 0.0137 - val_mean_absolute_error: 0.0773 - val_mape: 42.6949\n",
            "Epoch 4/500\n",
            "20/20 [==============================] - 1s 31ms/step - loss: 0.0072 - mean_absolute_error: 0.0047 - mape: 2.1201 - val_loss: 0.0127 - val_mean_absolute_error: 0.0764 - val_mape: 42.1884\n",
            "Epoch 5/500\n",
            "20/20 [==============================] - 1s 30ms/step - loss: 0.0066 - mean_absolute_error: 0.0087 - mape: 3.5954 - val_loss: 0.0136 - val_mean_absolute_error: 0.0862 - val_mape: 47.5554\n",
            "Epoch 6/500\n",
            "20/20 [==============================] - 1s 29ms/step - loss: 0.0059 - mean_absolute_error: 0.0062 - mape: 2.5707 - val_loss: 0.0174 - val_mean_absolute_error: 0.1089 - val_mape: 60.1189\n",
            "Epoch 7/500\n",
            "20/20 [==============================] - 1s 33ms/step - loss: 0.0053 - mean_absolute_error: 0.0059 - mape: 2.8280 - val_loss: 0.0149 - val_mean_absolute_error: 0.0993 - val_mape: 54.8287\n",
            "Epoch 8/500\n",
            "20/20 [==============================] - 1s 30ms/step - loss: 0.0047 - mean_absolute_error: 0.0057 - mape: 2.9361 - val_loss: 0.0087 - val_mean_absolute_error: 0.0649 - val_mape: 35.8319\n",
            "Epoch 9/500\n",
            "20/20 [==============================] - 1s 31ms/step - loss: 0.0042 - mean_absolute_error: 0.0058 - mape: 2.8522 - val_loss: 0.0099 - val_mean_absolute_error: 0.0768 - val_mape: 42.3754\n",
            "Epoch 10/500\n",
            "20/20 [==============================] - 1s 29ms/step - loss: 0.0037 - mean_absolute_error: 0.0055 - mape: 3.0922 - val_loss: 0.0074 - val_mean_absolute_error: 0.0622 - val_mape: 34.3158\n",
            "Epoch 11/500\n",
            "20/20 [==============================] - 1s 29ms/step - loss: 0.0033 - mean_absolute_error: 0.0071 - mape: 4.6984 - val_loss: 0.0074 - val_mean_absolute_error: 0.0653 - val_mape: 36.0312\n",
            "Epoch 12/500\n",
            "20/20 [==============================] - 1s 29ms/step - loss: 0.0029 - mean_absolute_error: 0.0046 - mape: 3.8827 - val_loss: 0.0030 - val_mean_absolute_error: 0.0157 - val_mape: 8.6531\n",
            "Epoch 13/500\n",
            "20/20 [==============================] - 1s 31ms/step - loss: 0.0025 - mean_absolute_error: 0.0052 - mape: 4.3453 - val_loss: 0.0025 - val_mean_absolute_error: 0.0121 - val_mape: 6.6315\n",
            "Epoch 14/500\n",
            "20/20 [==============================] - 1s 30ms/step - loss: 0.0021 - mean_absolute_error: 0.0048 - mape: 3.2501 - val_loss: 0.0038 - val_mean_absolute_error: 0.0419 - val_mape: 23.1132\n",
            "Epoch 15/500\n",
            "20/20 [==============================] - 1s 31ms/step - loss: 0.0018 - mean_absolute_error: 0.0045 - mape: 3.1036 - val_loss: 0.0031 - val_mean_absolute_error: 0.0365 - val_mape: 20.0740\n",
            "Epoch 16/500\n",
            "20/20 [==============================] - 1s 30ms/step - loss: 0.0016 - mean_absolute_error: 0.0051 - mape: 3.7819 - val_loss: 0.0034 - val_mean_absolute_error: 0.0433 - val_mape: 23.8587\n",
            "Epoch 17/500\n",
            "20/20 [==============================] - 1s 30ms/step - loss: 0.0013 - mean_absolute_error: 0.0047 - mape: 3.2722 - val_loss: 0.0038 - val_mean_absolute_error: 0.0507 - val_mape: 27.9338\n",
            "Epoch 18/500\n",
            "20/20 [==============================] - 1s 30ms/step - loss: 0.0012 - mean_absolute_error: 0.0060 - mape: 3.5247 - val_loss: 0.0016 - val_mean_absolute_error: 0.0211 - val_mape: 11.6006\n",
            "Epoch 19/500\n",
            "20/20 [==============================] - 1s 30ms/step - loss: 0.0010 - mean_absolute_error: 0.0053 - mape: 2.5774 - val_loss: 0.0026 - val_mean_absolute_error: 0.0402 - val_mape: 22.1449\n",
            "Epoch 20/500\n",
            "20/20 [==============================] - 1s 32ms/step - loss: 9.2086e-04 - mean_absolute_error: 0.0054 - mape: 2.6716 - val_loss: 0.0051 - val_mean_absolute_error: 0.0646 - val_mape: 35.5875\n",
            "Epoch 21/500\n",
            "20/20 [==============================] - 1s 32ms/step - loss: 8.0927e-04 - mean_absolute_error: 0.0036 - mape: 1.7942 - val_loss: 0.0041 - val_mean_absolute_error: 0.0577 - val_mape: 31.7948\n",
            "Epoch 22/500\n",
            "20/20 [==============================] - 1s 31ms/step - loss: 7.6020e-04 - mean_absolute_error: 0.0055 - mape: 2.5106 - val_loss: 0.0034 - val_mean_absolute_error: 0.0518 - val_mape: 28.5273\n",
            "Epoch 23/500\n",
            "20/20 [==============================] - 1s 30ms/step - loss: 7.1680e-04 - mean_absolute_error: 0.0058 - mape: 2.6643 - val_loss: 0.0032 - val_mean_absolute_error: 0.0496 - val_mape: 27.3224\n",
            "Epoch 24/500\n",
            "20/20 [==============================] - 1s 31ms/step - loss: 6.4288e-04 - mean_absolute_error: 0.0043 - mape: 2.0029 - val_loss: 0.0026 - val_mean_absolute_error: 0.0441 - val_mape: 24.2532\n",
            "Epoch 25/500\n",
            "20/20 [==============================] - 1s 31ms/step - loss: 6.0905e-04 - mean_absolute_error: 0.0053 - mape: 2.3034 - val_loss: 0.0030 - val_mean_absolute_error: 0.0484 - val_mape: 26.6284\n",
            "Epoch 26/500\n",
            "20/20 [==============================] - 1s 30ms/step - loss: 5.8231e-04 - mean_absolute_error: 0.0049 - mape: 2.2058 - val_loss: 0.0028 - val_mean_absolute_error: 0.0474 - val_mape: 26.1190\n",
            "Epoch 27/500\n",
            "20/20 [==============================] - 1s 29ms/step - loss: 5.3972e-04 - mean_absolute_error: 0.0047 - mape: 2.0770 - val_loss: 0.0028 - val_mean_absolute_error: 0.0470 - val_mape: 25.8953\n",
            "Epoch 28/500\n",
            "20/20 [==============================] - 1s 31ms/step - loss: 5.2254e-04 - mean_absolute_error: 0.0048 - mape: 2.0946 - val_loss: 0.0037 - val_mean_absolute_error: 0.0563 - val_mape: 31.0044\n"
          ],
          "name": "stdout"
        }
      ]
    },
    {
      "cell_type": "code",
      "metadata": {
        "id": "ceVemGRBsKdQ"
      },
      "source": [
        "# Plot training \n",
        "\n",
        "def plot_train_history(history, title):\n",
        "    loss = history.history['loss']\n",
        "    val_loss = history.history['val_loss']\n",
        "\n",
        "    epochs = range(len(loss))\n",
        "\n",
        "    plt.figure()\n",
        "\n",
        "    plt.plot(epochs, loss, 'b', label='Training loss')\n",
        "    plt.plot(epochs, val_loss, 'r', label='Validation loss')\n",
        "    plt.title(title)\n",
        "    plt.legend()\n",
        "\n",
        "    plt.show()"
      ],
      "execution_count": 27,
      "outputs": []
    },
    {
      "cell_type": "code",
      "metadata": {
        "id": "cxS1XggxsgIh",
        "colab": {
          "base_uri": "https://localhost:8080/",
          "height": 281
        },
        "outputId": "c8cf2006-741e-4f3d-e85c-3833750cbcca"
      },
      "source": [
        "plot_train_history(history,\n",
        "                   'Single Step Training and validation loss')"
      ],
      "execution_count": 28,
      "outputs": [
        {
          "output_type": "display_data",
          "data": {
            "image/png": "[encoded data removed]",
            "text/plain": [
              "<Figure size 432x288 with 1 Axes>"
            ]
          },
          "metadata": {
            "tags": [],
            "needs_background": "light"
          }
        }
      ]
    },
    {
      "cell_type": "code",
      "metadata": {
        "id": "yKMxx9dDs_Sb"
      },
      "source": [
        "# Plot 3 examples of predictions for different timeframes\n",
        "def create_time_steps(length):\n",
        "    return list(range(-length, 0))"
      ],
      "execution_count": 29,
      "outputs": []
    },
    {
      "cell_type": "code",
      "metadata": {
        "id": "QRl2ONo1sgOH"
      },
      "source": [
        "def show_plot(plot_data, delta, title):\n",
        "    labels = ['History', 'True Future', 'Model Prediction']\n",
        "    marker = ['.-', 'rx', 'go']\n",
        "    time_steps = create_time_steps(plot_data[0].shape[0])\n",
        "    if delta:\n",
        "        future = delta\n",
        "    else:\n",
        "        future = 0\n",
        "\n",
        "    plt.title(title)\n",
        "    for i, x in enumerate(plot_data):\n",
        "        if i:\n",
        "            plt.plot(future, plot_data[i], marker[i], markersize=10,\n",
        "                   label=labels[i])\n",
        "        else:\n",
        "            plt.plot(time_steps, plot_data[i].flatten(), marker[i], label=labels[i])\n",
        "        plt.legend()\n",
        "        plt.xlim([time_steps[0], (future+5)*2])\n",
        "        plt.xlabel('Time-Step')\n",
        "    \n",
        "    return plt"
      ],
      "execution_count": 30,
      "outputs": []
    },
    {
      "cell_type": "code",
      "metadata": {
        "id": "QCgMFgoMsgLP",
        "colab": {
          "base_uri": "https://localhost:8080/",
          "height": 851
        },
        "outputId": "d6933fb2-bb9c-4547-ed82-18644f6b8c9f"
      },
      "source": [
        "for x, y in val_data_model.take(3):\n",
        "    plot = show_plot([x[0][:, 1].numpy(), y[0].numpy(),\n",
        "                    model.predict(x)[0]], 2,\n",
        "                   'Single Step Prediction')\n",
        "    plot.show()"
      ],
      "execution_count": 31,
      "outputs": [
        {
          "output_type": "display_data",
          "data": {
            "image/png": "[encoded data removed]",
            "text/plain": [
              "<Figure size 432x288 with 1 Axes>"
            ]
          },
          "metadata": {
            "tags": [],
            "needs_background": "light"
          }
        },
        {
          "output_type": "display_data",
          "data": {
            "image/png": "[encoded data removed]",
            "text/plain": [
              "<Figure size 432x288 with 1 Axes>"
            ]
          },
          "metadata": {
            "tags": [],
            "needs_background": "light"
          }
        },
        {
          "output_type": "display_data",
          "data": {
            "image/png": "[encoded data removed]",
            "text/plain": [
              "<Figure size 432x288 with 1 Axes>"
            ]
          },
          "metadata": {
            "tags": [],
            "needs_background": "light"
          }
        }
      ]
    },
    {
      "cell_type": "markdown",
      "metadata": {
        "id": "2z9vn6Ly3-NW"
      },
      "source": [
        "## Cross Validation"
      ]
    },
    {
      "cell_type": "code",
      "metadata": {
        "id": "aEv7h4cATdwJ"
      },
      "source": [
        "# Blocking Cross Validation\n",
        "n_splits = 10\n",
        "X = dataset[:,1:]\n",
        "y= dataset[:,0]\n",
        "\n",
        "class BlockingTimeSeriesSplit():\n",
        "    def __init__(self, n_splits):\n",
        "        self.n_splits = n_splits\n",
        "    \n",
        "    def get_n_splits(self, X, y, groups):\n",
        "        return self.n_splits\n",
        "    \n",
        "    def split(self, X, y=None, groups=None):\n",
        "        n_samples = len(X)\n",
        "        k_fold_size = n_samples // self.n_splits\n",
        "        indices = np.arange(n_samples)\n",
        "\n",
        "        margin = 0\n",
        "        for i in range(self.n_splits):\n",
        "            start = i * k_fold_size\n",
        "            stop = start + k_fold_size\n",
        "            mid = int(0.5 * (stop - start)) + start\n",
        "            yield indices[start: mid], indices[mid + margin: stop]\n",
        "\n",
        "# Keras Wrapper\n",
        "from keras.wrappers.scikit_learn import KerasClassifier\n",
        "def create_model():\n",
        "  model = tf.keras.models.Sequential()\n",
        "  model.add(tf.keras.layers.LSTM(4,    # Capacity best out of:2, 8, 32\n",
        "                                           kernel_regularizer = regularizers.l2(0.001), # Regularization - fight overfitting - is this correct?\n",
        "                                           input_shape=x_train_model.shape[-2:]))    # LSTM layer with 4 outputs and input shape of x_train_model.shape[-2:]\n",
        "  model.add(tf.keras.layers.Dropout(0.2))   # Add dropout rate\n",
        "  model.add(tf.keras.layers.Dense(1)) # \n",
        "  model.compile(optimizer=tf.keras.optimizers.RMSprop(), loss='mean_squared_error',  metrics=['mean_absolute_error', 'mape']) \n",
        "  return model\n"
      ],
      "execution_count": 32,
      "outputs": []
    },
    {
      "cell_type": "code",
      "metadata": {
        "id": "6Y4cqG9FjU44",
        "colab": {
          "base_uri": "https://localhost:8080/"
        },
        "outputId": "9151ef2b-a979-41e4-b0e0-5f73b237b6cd"
      },
      "source": [
        "model = KerasClassifier(build_fn=create_model)\n",
        "btscv = BlockingTimeSeriesSplit(n_splits=10)    # Or should I use TimeSeriesSplit?\n",
        "mse_block= -cross_val_score(model, x_train_model, y_train_model, cv=btscv, scoring='neg_mean_squared_error')\n",
        "mae_block = -cross_val_score(model, x_train_model, y_train_model, cv=btscv, scoring='neg_mean_absolute_error')"
      ],
      "execution_count": 33,
      "outputs": [
        {
          "output_type": "stream",
          "text": [
            "2/2 [==============================] - 1s 25ms/step - loss: 1333.0024 - mean_absolute_error: 31.4933 - mape: 233418.0625\n"
          ],
          "name": "stdout"
        },
        {
          "output_type": "stream",
          "text": [
            "/usr/local/lib/python3.7/dist-packages/tensorflow/python/keras/engine/sequential.py:455: UserWarning: `model.predict_classes()` is deprecated and will be removed after 2021-01-01. Please use instead:* `np.argmax(model.predict(x), axis=-1)`,   if your model does multi-class classification   (e.g. if it uses a `softmax` last-layer activation).* `(model.predict(x) > 0.5).astype(\"int32\")`,   if your model does binary classification   (e.g. if it uses a `sigmoid` last-layer activation).\n",
            "  warnings.warn('`model.predict_classes()` is deprecated and '\n"
          ],
          "name": "stderr"
        },
        {
          "output_type": "stream",
          "text": [
            "2/2 [==============================] - 1s 24ms/step - loss: 1319.3483 - mean_absolute_error: 31.2860 - mape: 4487753.5000\n"
          ],
          "name": "stdout"
        },
        {
          "output_type": "stream",
          "text": [
            "/usr/local/lib/python3.7/dist-packages/tensorflow/python/keras/engine/sequential.py:455: UserWarning: `model.predict_classes()` is deprecated and will be removed after 2021-01-01. Please use instead:* `np.argmax(model.predict(x), axis=-1)`,   if your model does multi-class classification   (e.g. if it uses a `softmax` last-layer activation).* `(model.predict(x) > 0.5).astype(\"int32\")`,   if your model does binary classification   (e.g. if it uses a `sigmoid` last-layer activation).\n",
            "  warnings.warn('`model.predict_classes()` is deprecated and '\n"
          ],
          "name": "stderr"
        },
        {
          "output_type": "stream",
          "text": [
            "2/2 [==============================] - 1s 23ms/step - loss: 1345.3159 - mean_absolute_error: 31.6759 - mape: 2737592.5000\n"
          ],
          "name": "stdout"
        },
        {
          "output_type": "stream",
          "text": [
            "/usr/local/lib/python3.7/dist-packages/tensorflow/python/keras/engine/sequential.py:455: UserWarning: `model.predict_classes()` is deprecated and will be removed after 2021-01-01. Please use instead:* `np.argmax(model.predict(x), axis=-1)`,   if your model does multi-class classification   (e.g. if it uses a `softmax` last-layer activation).* `(model.predict(x) > 0.5).astype(\"int32\")`,   if your model does binary classification   (e.g. if it uses a `sigmoid` last-layer activation).\n",
            "  warnings.warn('`model.predict_classes()` is deprecated and '\n"
          ],
          "name": "stderr"
        },
        {
          "output_type": "stream",
          "text": [
            "WARNING:tensorflow:5 out of the last 15 calls to <function Model.make_predict_function.<locals>.predict_function at 0x7fd7324b10e0> triggered tf.function retracing. Tracing is expensive and the excessive number of tracings could be due to (1) creating @tf.function repeatedly in a loop, (2) passing tensors with different shapes, (3) passing Python objects instead of tensors. For (1), please define your @tf.function outside of the loop. For (2), @tf.function has experimental_relax_shapes=True option that relaxes argument shapes that can avoid unnecessary retracing. For (3), please refer to https://www.tensorflow.org/guide/function#controlling_retracing and https://www.tensorflow.org/api_docs/python/tf/function for  more details.\n",
            "WARNING:tensorflow:5 out of the last 567 calls to <function Model.make_train_function.<locals>.train_function at 0x7fd7307c6d40> triggered tf.function retracing. Tracing is expensive and the excessive number of tracings could be due to (1) creating @tf.function repeatedly in a loop, (2) passing tensors with different shapes, (3) passing Python objects instead of tensors. For (1), please define your @tf.function outside of the loop. For (2), @tf.function has experimental_relax_shapes=True option that relaxes argument shapes that can avoid unnecessary retracing. For (3), please refer to https://www.tensorflow.org/guide/function#controlling_retracing and https://www.tensorflow.org/api_docs/python/tf/function for  more details.\n",
            "2/2 [==============================] - 1s 28ms/step - loss: 1329.5522 - mean_absolute_error: 31.4251 - mape: 1868058.6250\n"
          ],
          "name": "stdout"
        },
        {
          "output_type": "stream",
          "text": [
            "/usr/local/lib/python3.7/dist-packages/tensorflow/python/keras/engine/sequential.py:455: UserWarning: `model.predict_classes()` is deprecated and will be removed after 2021-01-01. Please use instead:* `np.argmax(model.predict(x), axis=-1)`,   if your model does multi-class classification   (e.g. if it uses a `softmax` last-layer activation).* `(model.predict(x) > 0.5).astype(\"int32\")`,   if your model does binary classification   (e.g. if it uses a `sigmoid` last-layer activation).\n",
            "  warnings.warn('`model.predict_classes()` is deprecated and '\n"
          ],
          "name": "stderr"
        },
        {
          "output_type": "stream",
          "text": [
            "WARNING:tensorflow:6 out of the last 17 calls to <function Model.make_predict_function.<locals>.predict_function at 0x7fd72fbada70> triggered tf.function retracing. Tracing is expensive and the excessive number of tracings could be due to (1) creating @tf.function repeatedly in a loop, (2) passing tensors with different shapes, (3) passing Python objects instead of tensors. For (1), please define your @tf.function outside of the loop. For (2), @tf.function has experimental_relax_shapes=True option that relaxes argument shapes that can avoid unnecessary retracing. For (3), please refer to https://www.tensorflow.org/guide/function#controlling_retracing and https://www.tensorflow.org/api_docs/python/tf/function for  more details.\n",
            "WARNING:tensorflow:6 out of the last 569 calls to <function Model.make_train_function.<locals>.train_function at 0x7fd72d62eef0> triggered tf.function retracing. Tracing is expensive and the excessive number of tracings could be due to (1) creating @tf.function repeatedly in a loop, (2) passing tensors with different shapes, (3) passing Python objects instead of tensors. For (1), please define your @tf.function outside of the loop. For (2), @tf.function has experimental_relax_shapes=True option that relaxes argument shapes that can avoid unnecessary retracing. For (3), please refer to https://www.tensorflow.org/guide/function#controlling_retracing and https://www.tensorflow.org/api_docs/python/tf/function for  more details.\n",
            "2/2 [==============================] - 1s 25ms/step - loss: 1299.7272 - mean_absolute_error: 31.1722 - mape: 1504110.6250\n"
          ],
          "name": "stdout"
        },
        {
          "output_type": "stream",
          "text": [
            "/usr/local/lib/python3.7/dist-packages/tensorflow/python/keras/engine/sequential.py:455: UserWarning: `model.predict_classes()` is deprecated and will be removed after 2021-01-01. Please use instead:* `np.argmax(model.predict(x), axis=-1)`,   if your model does multi-class classification   (e.g. if it uses a `softmax` last-layer activation).* `(model.predict(x) > 0.5).astype(\"int32\")`,   if your model does binary classification   (e.g. if it uses a `sigmoid` last-layer activation).\n",
            "  warnings.warn('`model.predict_classes()` is deprecated and '\n"
          ],
          "name": "stderr"
        },
        {
          "output_type": "stream",
          "text": [
            "2/2 [==============================] - 2s 27ms/step - loss: 1271.7915 - mean_absolute_error: 30.6825 - mape: 583441.0625\n"
          ],
          "name": "stdout"
        },
        {
          "output_type": "stream",
          "text": [
            "/usr/local/lib/python3.7/dist-packages/tensorflow/python/keras/engine/sequential.py:455: UserWarning: `model.predict_classes()` is deprecated and will be removed after 2021-01-01. Please use instead:* `np.argmax(model.predict(x), axis=-1)`,   if your model does multi-class classification   (e.g. if it uses a `softmax` last-layer activation).* `(model.predict(x) > 0.5).astype(\"int32\")`,   if your model does binary classification   (e.g. if it uses a `sigmoid` last-layer activation).\n",
            "  warnings.warn('`model.predict_classes()` is deprecated and '\n"
          ],
          "name": "stderr"
        },
        {
          "output_type": "stream",
          "text": [
            "2/2 [==============================] - 1s 25ms/step - loss: 1325.8079 - mean_absolute_error: 31.3811 - mape: 181946.2344\n"
          ],
          "name": "stdout"
        },
        {
          "output_type": "stream",
          "text": [
            "/usr/local/lib/python3.7/dist-packages/tensorflow/python/keras/engine/sequential.py:455: UserWarning: `model.predict_classes()` is deprecated and will be removed after 2021-01-01. Please use instead:* `np.argmax(model.predict(x), axis=-1)`,   if your model does multi-class classification   (e.g. if it uses a `softmax` last-layer activation).* `(model.predict(x) > 0.5).astype(\"int32\")`,   if your model does binary classification   (e.g. if it uses a `sigmoid` last-layer activation).\n",
            "  warnings.warn('`model.predict_classes()` is deprecated and '\n"
          ],
          "name": "stderr"
        },
        {
          "output_type": "stream",
          "text": [
            "2/2 [==============================] - 1s 24ms/step - loss: 1333.0797 - mean_absolute_error: 31.4964 - mape: 3196322.5000\n"
          ],
          "name": "stdout"
        },
        {
          "output_type": "stream",
          "text": [
            "/usr/local/lib/python3.7/dist-packages/tensorflow/python/keras/engine/sequential.py:455: UserWarning: `model.predict_classes()` is deprecated and will be removed after 2021-01-01. Please use instead:* `np.argmax(model.predict(x), axis=-1)`,   if your model does multi-class classification   (e.g. if it uses a `softmax` last-layer activation).* `(model.predict(x) > 0.5).astype(\"int32\")`,   if your model does binary classification   (e.g. if it uses a `sigmoid` last-layer activation).\n",
            "  warnings.warn('`model.predict_classes()` is deprecated and '\n"
          ],
          "name": "stderr"
        },
        {
          "output_type": "stream",
          "text": [
            "2/2 [==============================] - 2s 27ms/step - loss: 1353.5903 - mean_absolute_error: 31.8272 - mape: 7131277.5000\n"
          ],
          "name": "stdout"
        },
        {
          "output_type": "stream",
          "text": [
            "/usr/local/lib/python3.7/dist-packages/tensorflow/python/keras/engine/sequential.py:455: UserWarning: `model.predict_classes()` is deprecated and will be removed after 2021-01-01. Please use instead:* `np.argmax(model.predict(x), axis=-1)`,   if your model does multi-class classification   (e.g. if it uses a `softmax` last-layer activation).* `(model.predict(x) > 0.5).astype(\"int32\")`,   if your model does binary classification   (e.g. if it uses a `sigmoid` last-layer activation).\n",
            "  warnings.warn('`model.predict_classes()` is deprecated and '\n"
          ],
          "name": "stderr"
        },
        {
          "output_type": "stream",
          "text": [
            "2/2 [==============================] - 1s 24ms/step - loss: 1276.2775 - mean_absolute_error: 30.6078 - mape: 17330634.0000\n"
          ],
          "name": "stdout"
        },
        {
          "output_type": "stream",
          "text": [
            "/usr/local/lib/python3.7/dist-packages/tensorflow/python/keras/engine/sequential.py:455: UserWarning: `model.predict_classes()` is deprecated and will be removed after 2021-01-01. Please use instead:* `np.argmax(model.predict(x), axis=-1)`,   if your model does multi-class classification   (e.g. if it uses a `softmax` last-layer activation).* `(model.predict(x) > 0.5).astype(\"int32\")`,   if your model does binary classification   (e.g. if it uses a `sigmoid` last-layer activation).\n",
            "  warnings.warn('`model.predict_classes()` is deprecated and '\n"
          ],
          "name": "stderr"
        },
        {
          "output_type": "stream",
          "text": [
            "2/2 [==============================] - 1s 24ms/step - loss: 1311.3740 - mean_absolute_error: 31.1583 - mape: 5005057.0000\n"
          ],
          "name": "stdout"
        },
        {
          "output_type": "stream",
          "text": [
            "/usr/local/lib/python3.7/dist-packages/tensorflow/python/keras/engine/sequential.py:455: UserWarning: `model.predict_classes()` is deprecated and will be removed after 2021-01-01. Please use instead:* `np.argmax(model.predict(x), axis=-1)`,   if your model does multi-class classification   (e.g. if it uses a `softmax` last-layer activation).* `(model.predict(x) > 0.5).astype(\"int32\")`,   if your model does binary classification   (e.g. if it uses a `sigmoid` last-layer activation).\n",
            "  warnings.warn('`model.predict_classes()` is deprecated and '\n"
          ],
          "name": "stderr"
        },
        {
          "output_type": "stream",
          "text": [
            "2/2 [==============================] - 2s 31ms/step - loss: 1329.4928 - mean_absolute_error: 31.4385 - mape: 2729042.7500\n"
          ],
          "name": "stdout"
        },
        {
          "output_type": "stream",
          "text": [
            "/usr/local/lib/python3.7/dist-packages/tensorflow/python/keras/engine/sequential.py:455: UserWarning: `model.predict_classes()` is deprecated and will be removed after 2021-01-01. Please use instead:* `np.argmax(model.predict(x), axis=-1)`,   if your model does multi-class classification   (e.g. if it uses a `softmax` last-layer activation).* `(model.predict(x) > 0.5).astype(\"int32\")`,   if your model does binary classification   (e.g. if it uses a `sigmoid` last-layer activation).\n",
            "  warnings.warn('`model.predict_classes()` is deprecated and '\n"
          ],
          "name": "stderr"
        },
        {
          "output_type": "stream",
          "text": [
            "2/2 [==============================] - 1s 25ms/step - loss: 1337.6073 - mean_absolute_error: 31.5700 - mape: 3099567.7500\n"
          ],
          "name": "stdout"
        },
        {
          "output_type": "stream",
          "text": [
            "/usr/local/lib/python3.7/dist-packages/tensorflow/python/keras/engine/sequential.py:455: UserWarning: `model.predict_classes()` is deprecated and will be removed after 2021-01-01. Please use instead:* `np.argmax(model.predict(x), axis=-1)`,   if your model does multi-class classification   (e.g. if it uses a `softmax` last-layer activation).* `(model.predict(x) > 0.5).astype(\"int32\")`,   if your model does binary classification   (e.g. if it uses a `sigmoid` last-layer activation).\n",
            "  warnings.warn('`model.predict_classes()` is deprecated and '\n"
          ],
          "name": "stderr"
        },
        {
          "output_type": "stream",
          "text": [
            "2/2 [==============================] - 1s 26ms/step - loss: 1344.1521 - mean_absolute_error: 31.6671 - mape: 2603137.0000\n"
          ],
          "name": "stdout"
        },
        {
          "output_type": "stream",
          "text": [
            "/usr/local/lib/python3.7/dist-packages/tensorflow/python/keras/engine/sequential.py:455: UserWarning: `model.predict_classes()` is deprecated and will be removed after 2021-01-01. Please use instead:* `np.argmax(model.predict(x), axis=-1)`,   if your model does multi-class classification   (e.g. if it uses a `softmax` last-layer activation).* `(model.predict(x) > 0.5).astype(\"int32\")`,   if your model does binary classification   (e.g. if it uses a `sigmoid` last-layer activation).\n",
            "  warnings.warn('`model.predict_classes()` is deprecated and '\n"
          ],
          "name": "stderr"
        },
        {
          "output_type": "stream",
          "text": [
            "2/2 [==============================] - 2s 24ms/step - loss: 1295.3037 - mean_absolute_error: 31.0947 - mape: 973047.1250\n"
          ],
          "name": "stdout"
        },
        {
          "output_type": "stream",
          "text": [
            "/usr/local/lib/python3.7/dist-packages/tensorflow/python/keras/engine/sequential.py:455: UserWarning: `model.predict_classes()` is deprecated and will be removed after 2021-01-01. Please use instead:* `np.argmax(model.predict(x), axis=-1)`,   if your model does multi-class classification   (e.g. if it uses a `softmax` last-layer activation).* `(model.predict(x) > 0.5).astype(\"int32\")`,   if your model does binary classification   (e.g. if it uses a `sigmoid` last-layer activation).\n",
            "  warnings.warn('`model.predict_classes()` is deprecated and '\n"
          ],
          "name": "stderr"
        },
        {
          "output_type": "stream",
          "text": [
            "2/2 [==============================] - 1s 26ms/step - loss: 1274.1340 - mean_absolute_error: 30.7193 - mape: 173041.2812\n"
          ],
          "name": "stdout"
        },
        {
          "output_type": "stream",
          "text": [
            "/usr/local/lib/python3.7/dist-packages/tensorflow/python/keras/engine/sequential.py:455: UserWarning: `model.predict_classes()` is deprecated and will be removed after 2021-01-01. Please use instead:* `np.argmax(model.predict(x), axis=-1)`,   if your model does multi-class classification   (e.g. if it uses a `softmax` last-layer activation).* `(model.predict(x) > 0.5).astype(\"int32\")`,   if your model does binary classification   (e.g. if it uses a `sigmoid` last-layer activation).\n",
            "  warnings.warn('`model.predict_classes()` is deprecated and '\n"
          ],
          "name": "stderr"
        },
        {
          "output_type": "stream",
          "text": [
            "2/2 [==============================] - 1s 27ms/step - loss: 1360.5142 - mean_absolute_error: 31.9060 - mape: 5770532.5000\n"
          ],
          "name": "stdout"
        },
        {
          "output_type": "stream",
          "text": [
            "/usr/local/lib/python3.7/dist-packages/tensorflow/python/keras/engine/sequential.py:455: UserWarning: `model.predict_classes()` is deprecated and will be removed after 2021-01-01. Please use instead:* `np.argmax(model.predict(x), axis=-1)`,   if your model does multi-class classification   (e.g. if it uses a `softmax` last-layer activation).* `(model.predict(x) > 0.5).astype(\"int32\")`,   if your model does binary classification   (e.g. if it uses a `sigmoid` last-layer activation).\n",
            "  warnings.warn('`model.predict_classes()` is deprecated and '\n"
          ],
          "name": "stderr"
        },
        {
          "output_type": "stream",
          "text": [
            "2/2 [==============================] - 2s 28ms/step - loss: 1328.2429 - mean_absolute_error: 31.4497 - mape: 167779.7969\n"
          ],
          "name": "stdout"
        },
        {
          "output_type": "stream",
          "text": [
            "/usr/local/lib/python3.7/dist-packages/tensorflow/python/keras/engine/sequential.py:455: UserWarning: `model.predict_classes()` is deprecated and will be removed after 2021-01-01. Please use instead:* `np.argmax(model.predict(x), axis=-1)`,   if your model does multi-class classification   (e.g. if it uses a `softmax` last-layer activation).* `(model.predict(x) > 0.5).astype(\"int32\")`,   if your model does binary classification   (e.g. if it uses a `sigmoid` last-layer activation).\n",
            "  warnings.warn('`model.predict_classes()` is deprecated and '\n"
          ],
          "name": "stderr"
        },
        {
          "output_type": "stream",
          "text": [
            "2/2 [==============================] - 1s 25ms/step - loss: 1342.4362 - mean_absolute_error: 31.6584 - mape: 1591922.2500\n"
          ],
          "name": "stdout"
        },
        {
          "output_type": "stream",
          "text": [
            "/usr/local/lib/python3.7/dist-packages/tensorflow/python/keras/engine/sequential.py:455: UserWarning: `model.predict_classes()` is deprecated and will be removed after 2021-01-01. Please use instead:* `np.argmax(model.predict(x), axis=-1)`,   if your model does multi-class classification   (e.g. if it uses a `softmax` last-layer activation).* `(model.predict(x) > 0.5).astype(\"int32\")`,   if your model does binary classification   (e.g. if it uses a `sigmoid` last-layer activation).\n",
            "  warnings.warn('`model.predict_classes()` is deprecated and '\n"
          ],
          "name": "stderr"
        },
        {
          "output_type": "stream",
          "text": [
            "2/2 [==============================] - 1s 25ms/step - loss: 1299.8115 - mean_absolute_error: 30.9847 - mape: 10094765.0000\n"
          ],
          "name": "stdout"
        },
        {
          "output_type": "stream",
          "text": [
            "/usr/local/lib/python3.7/dist-packages/tensorflow/python/keras/engine/sequential.py:455: UserWarning: `model.predict_classes()` is deprecated and will be removed after 2021-01-01. Please use instead:* `np.argmax(model.predict(x), axis=-1)`,   if your model does multi-class classification   (e.g. if it uses a `softmax` last-layer activation).* `(model.predict(x) > 0.5).astype(\"int32\")`,   if your model does binary classification   (e.g. if it uses a `sigmoid` last-layer activation).\n",
            "  warnings.warn('`model.predict_classes()` is deprecated and '\n"
          ],
          "name": "stderr"
        }
      ]
    },
    {
      "cell_type": "code",
      "metadata": {
        "id": "MmDbmXOfvwVc",
        "colab": {
          "base_uri": "https://localhost:8080/"
        },
        "outputId": "c3cd8740-1582-49bd-c49c-73547ac087ef"
      },
      "source": [
        "print('The mean squared errors for each of the 10 splits are:', mse_block)\n",
        "print('The mean mse for the folds is: ', (sum(mse_block)/10))\n",
        "\n",
        "print('The mean absolute errors for each of the 10 splits are:', mae_block)\n",
        "print('The mean mae for the folds is: ', (sum(mae_block)/10))"
      ],
      "execution_count": 34,
      "outputs": [
        {
          "output_type": "stream",
          "text": [
            "The mean squared errors for each of the 10 splits are: [0.00547021 0.0016471  0.00389212 0.00081606 0.00122668 0.00414521\n",
            " 0.0021649  0.02757984 0.01745964 0.00726746]\n",
            "The mean mse for the folds is:  0.007166921688141171\n",
            "The mean absolute errors for each of the 10 splits are: [0.07267213 0.03508283 0.05627793 0.02693915 0.03264029 0.04967178\n",
            " 0.04337703 0.16107519 0.12614714 0.0836398 ]\n",
            "The mean mae for the folds is:  0.06875232598332844\n"
          ],
          "name": "stdout"
        }
      ]
    },
    {
      "cell_type": "code",
      "metadata": {
        "id": "-lq93UMec9W-",
        "colab": {
          "base_uri": "https://localhost:8080/",
          "height": 351
        },
        "outputId": "b51604ed-1db4-4860-d47b-f59523abe234"
      },
      "source": [
        "df_results = pd.DataFrame(mse_block)\n",
        "df_results['RMSE'] = np.sqrt(df_results[0])\n",
        "df_results = df_results.rename(columns={0:'TSLA_MSE', 'RMSE':'TSLA_RMSE'})\n",
        "df_results"
      ],
      "execution_count": 35,
      "outputs": [
        {
          "output_type": "execute_result",
          "data": {
            "text/html": [
              "<div>\n",
              "<style scoped>\n",
              "    .dataframe tbody tr th:only-of-type {\n",
              "        vertical-align: middle;\n",
              "    }\n",
              "\n",
              "    .dataframe tbody tr th {\n",
              "        vertical-align: top;\n",
              "    }\n",
              "\n",
              "    .dataframe thead th {\n",
              "        text-align: right;\n",
              "    }\n",
              "</style>\n",
              "<table border=\"1\" class=\"dataframe\">\n",
              "  <thead>\n",
              "    <tr style=\"text-align: right;\">\n",
              "      <th></th>\n",
              "      <th>TSLA_MSE</th>\n",
              "      <th>TSLA_RMSE</th>\n",
              "    </tr>\n",
              "  </thead>\n",
              "  <tbody>\n",
              "    <tr>\n",
              "      <th>0</th>\n",
              "      <td>0.005470</td>\n",
              "      <td>0.073961</td>\n",
              "    </tr>\n",
              "    <tr>\n",
              "      <th>1</th>\n",
              "      <td>0.001647</td>\n",
              "      <td>0.040585</td>\n",
              "    </tr>\n",
              "    <tr>\n",
              "      <th>2</th>\n",
              "      <td>0.003892</td>\n",
              "      <td>0.062387</td>\n",
              "    </tr>\n",
              "    <tr>\n",
              "      <th>3</th>\n",
              "      <td>0.000816</td>\n",
              "      <td>0.028567</td>\n",
              "    </tr>\n",
              "    <tr>\n",
              "      <th>4</th>\n",
              "      <td>0.001227</td>\n",
              "      <td>0.035024</td>\n",
              "    </tr>\n",
              "    <tr>\n",
              "      <th>5</th>\n",
              "      <td>0.004145</td>\n",
              "      <td>0.064383</td>\n",
              "    </tr>\n",
              "    <tr>\n",
              "      <th>6</th>\n",
              "      <td>0.002165</td>\n",
              "      <td>0.046528</td>\n",
              "    </tr>\n",
              "    <tr>\n",
              "      <th>7</th>\n",
              "      <td>0.027580</td>\n",
              "      <td>0.166072</td>\n",
              "    </tr>\n",
              "    <tr>\n",
              "      <th>8</th>\n",
              "      <td>0.017460</td>\n",
              "      <td>0.132135</td>\n",
              "    </tr>\n",
              "    <tr>\n",
              "      <th>9</th>\n",
              "      <td>0.007267</td>\n",
              "      <td>0.085249</td>\n",
              "    </tr>\n",
              "  </tbody>\n",
              "</table>\n",
              "</div>"
            ],
            "text/plain": [
              "   TSLA_MSE  TSLA_RMSE\n",
              "0  0.005470   0.073961\n",
              "1  0.001647   0.040585\n",
              "2  0.003892   0.062387\n",
              "3  0.000816   0.028567\n",
              "4  0.001227   0.035024\n",
              "5  0.004145   0.064383\n",
              "6  0.002165   0.046528\n",
              "7  0.027580   0.166072\n",
              "8  0.017460   0.132135\n",
              "9  0.007267   0.085249"
            ]
          },
          "metadata": {
            "tags": []
          },
          "execution_count": 35
        }
      ]
    },
    {
      "cell_type": "code",
      "metadata": {
        "id": "reC53qQxYSaQ"
      },
      "source": [
        "df_results.to_csv('TSLA_SENTIMENT_LSTM_HR.csv')\n"
      ],
      "execution_count": 36,
      "outputs": []
    },
    {
      "cell_type": "code",
      "metadata": {
        "id": "C6W_pFU6biLn",
        "colab": {
          "base_uri": "https://localhost:8080/",
          "height": 290
        },
        "outputId": "9ef97d2a-8424-45f0-cac5-85d789983208"
      },
      "source": [
        "df_results.describe()"
      ],
      "execution_count": 37,
      "outputs": [
        {
          "output_type": "execute_result",
          "data": {
            "text/html": [
              "<div>\n",
              "<style scoped>\n",
              "    .dataframe tbody tr th:only-of-type {\n",
              "        vertical-align: middle;\n",
              "    }\n",
              "\n",
              "    .dataframe tbody tr th {\n",
              "        vertical-align: top;\n",
              "    }\n",
              "\n",
              "    .dataframe thead th {\n",
              "        text-align: right;\n",
              "    }\n",
              "</style>\n",
              "<table border=\"1\" class=\"dataframe\">\n",
              "  <thead>\n",
              "    <tr style=\"text-align: right;\">\n",
              "      <th></th>\n",
              "      <th>TSLA_MSE</th>\n",
              "      <th>TSLA_RMSE</th>\n",
              "    </tr>\n",
              "  </thead>\n",
              "  <tbody>\n",
              "    <tr>\n",
              "      <th>count</th>\n",
              "      <td>10.000000</td>\n",
              "      <td>10.000000</td>\n",
              "    </tr>\n",
              "    <tr>\n",
              "      <th>mean</th>\n",
              "      <td>0.007167</td>\n",
              "      <td>0.073489</td>\n",
              "    </tr>\n",
              "    <tr>\n",
              "      <th>std</th>\n",
              "      <td>0.008670</td>\n",
              "      <td>0.044300</td>\n",
              "    </tr>\n",
              "    <tr>\n",
              "      <th>min</th>\n",
              "      <td>0.000816</td>\n",
              "      <td>0.028567</td>\n",
              "    </tr>\n",
              "    <tr>\n",
              "      <th>25%</th>\n",
              "      <td>0.001777</td>\n",
              "      <td>0.042071</td>\n",
              "    </tr>\n",
              "    <tr>\n",
              "      <th>50%</th>\n",
              "      <td>0.004019</td>\n",
              "      <td>0.063385</td>\n",
              "    </tr>\n",
              "    <tr>\n",
              "      <th>75%</th>\n",
              "      <td>0.006818</td>\n",
              "      <td>0.082427</td>\n",
              "    </tr>\n",
              "    <tr>\n",
              "      <th>max</th>\n",
              "      <td>0.027580</td>\n",
              "      <td>0.166072</td>\n",
              "    </tr>\n",
              "  </tbody>\n",
              "</table>\n",
              "</div>"
            ],
            "text/plain": [
              "        TSLA_MSE  TSLA_RMSE\n",
              "count  10.000000  10.000000\n",
              "mean    0.007167   0.073489\n",
              "std     0.008670   0.044300\n",
              "min     0.000816   0.028567\n",
              "25%     0.001777   0.042071\n",
              "50%     0.004019   0.063385\n",
              "75%     0.006818   0.082427\n",
              "max     0.027580   0.166072"
            ]
          },
          "metadata": {
            "tags": []
          },
          "execution_count": 37
        }
      ]
    },
    {
      "cell_type": "code",
      "metadata": {
        "id": "QwFEbArhMFIR"
      },
      "source": [
        ""
      ],
      "execution_count": 37,
      "outputs": []
    }
  ]
}