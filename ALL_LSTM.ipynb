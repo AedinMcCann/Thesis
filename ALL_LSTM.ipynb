{
  "nbformat": 4,
  "nbformat_minor": 0,
  "metadata": {
    "colab": {
      "name": "ALL  LSTM",
      "provenance": [],
      "toc_visible": true,
      "authorship_tag": "ABX9TyMOOTCkBdLJMdUbUKEtx9bL",
      "include_colab_link": true
    },
    "kernelspec": {
      "name": "python3",
      "display_name": "Python 3"
    },
    "language_info": {
      "name": "python"
    }
  },
  "cells": [
    {
      "cell_type": "markdown",
      "metadata": {
        "id": "view-in-github",
        "colab_type": "text"
      },
      "source": [
        "<a href=\"https://colab.research.google.com/github/AedinMcCann/Thesis/blob/main/ALL_LSTM.ipynb\" target=\"_parent\"><img src=\"https://colab.research.google.com/assets/colab-badge.svg\" alt=\"Open In Colab\"/></a>"
      ]
    },
    {
      "cell_type": "markdown",
      "metadata": {
        "id": "u2suJ29gTkGR"
      },
      "source": [
        "This script shows all recsults from the LSTM models for each of the 4 relevant stocks. "
      ]
    },
    {
      "cell_type": "code",
      "metadata": {
        "id": "yjp6npVRrcoM"
      },
      "source": [
        "import pandas as pd\n",
        "from functools import reduce\n",
        "import numpy as np\n",
        "import seaborn as sns"
      ],
      "execution_count": null,
      "outputs": []
    },
    {
      "cell_type": "markdown",
      "metadata": {
        "id": "fnYuR4BCWV7J"
      },
      "source": [
        "# TSLA"
      ]
    },
    {
      "cell_type": "code",
      "metadata": {
        "id": "Cw7UOXNvWfiY"
      },
      "source": [
        "TSLA_comms_base = pd.read_csv('TSLA_BASELINE_LSTM_HR.csv')\n",
        "TSLA_comms_sent = pd.read_csv('TSLA_SENTIMENT_LSTM_HR.csv')\n",
        "TSLA_subs_base = pd.read_csv('TSLA_BASELINE_LSTM_DAILY.csv')\n",
        "TSLA_subs_sent = pd.read_csv('TSLA_SENTIMENT_LSTM_DAILY.csv')"
      ],
      "execution_count": null,
      "outputs": []
    },
    {
      "cell_type": "markdown",
      "metadata": {
        "id": "G4haVPJbWc3I"
      },
      "source": [
        "## Comments"
      ]
    },
    {
      "cell_type": "code",
      "metadata": {
        "colab": {
          "base_uri": "https://localhost:8080/",
          "height": 694
        },
        "id": "QfoDsQ3srmRz",
        "outputId": "b01ce6d5-ee20-4ca7-a6af-e809c0633711"
      },
      "source": [
        "TSLA_comms_base = TSLA_comms_base.rename(columns={'TSLA_MSE':'TSLA_MSE_BASE_COMMS', 'TSLA_RMSE':'TSLA_RMSE_BASE_COMMS'})\n",
        "TSLA_comms_base = TSLA_comms_base.drop('Unnamed: 0', axis=1)\n",
        "TSLA_comms_base = TSLA_comms_base.reset_index()\n",
        "\n",
        "TSLA_comms_sent = TSLA_comms_sent.rename(columns={'TSLA_MSE':'TSLA_MSE_SENT_COMMS', 'TSLA_RMSE':'TSLA_RMSE_SENT_COMMS'})\n",
        "TSLA_comms_sent = TSLA_comms_sent.drop('Unnamed: 0', axis=1)\n",
        "TSLA_comms_sent = TSLA_comms_sent.reset_index()\n",
        "\n",
        "hourly = [TSLA_comms_base,TSLA_comms_sent]\n",
        "TSLA_hourly_RESULTS = reduce(lambda  left,right: pd.merge(left,right,on='index',\n",
        "                                            how='outer'), hourly)\n",
        "\n",
        "#Boxplot\n",
        "boxplot_hourly = TSLA_hourly_RESULTS.boxplot(column=['TSLA_RMSE_BASE_COMMS', 'TSLA_RMSE_SENT_COMMS'],figsize=(12,8))\n",
        "[ax_tmp.set_xlabel('') for ax_tmp in np.asarray(boxplot_hourly).reshape(-1)]\n",
        "fig = np.asarray(boxplot_hourly).reshape(-1)[0].get_figure()\n",
        "fig.suptitle('Root Mean Squared Error Distribution for Comments')\n",
        "\n",
        "print(TSLA_hourly_RESULTS[['TSLA_RMSE_BASE_COMMS','TSLA_RMSE_SENT_COMMS']].describe())\n"
      ],
      "execution_count": null,
      "outputs": [
        {
          "output_type": "stream",
          "text": [
            "       TSLA_RMSE_BASE_COMMS  TSLA_RMSE_SENT_COMMS\n",
            "count             10.000000             10.000000\n",
            "mean               0.276828              0.082820\n",
            "std                0.199509              0.049695\n",
            "min                0.041239              0.031699\n",
            "25%                0.126089              0.046683\n",
            "50%                0.236880              0.070335\n",
            "75%                0.462781              0.101017\n",
            "max                0.562602              0.184281\n"
          ],
          "name": "stdout"
        },
        {
          "output_type": "display_data",
          "data": {
            "image/png": "[encoded data removed]",
            "text/plain": [
              "<Figure size 864x576 with 1 Axes>"
            ]
          },
          "metadata": {
            "tags": [],
            "needs_background": "light"
          }
        }
      ]
    },
    {
      "cell_type": "markdown",
      "metadata": {
        "id": "h0pdl0NgXzvL"
      },
      "source": [
        "## Submissions"
      ]
    },
    {
      "cell_type": "code",
      "metadata": {
        "colab": {
          "base_uri": "https://localhost:8080/",
          "height": 711
        },
        "id": "7k_JkASjWhex",
        "outputId": "74ba72e3-bb94-4d1d-d7b7-00d8e28d32e5"
      },
      "source": [
        "TSLA_subs_base = TSLA_subs_base.rename(columns={'TSLA_MSE':'TSLA_MSE_BASE_SUBS', 'TSLA_RMSE':'TSLA_RMSE_BASE_SUBS'})\n",
        "TSLA_subs_base = TSLA_subs_base.drop('Unnamed: 0', axis=1)\n",
        "TSLA_subs_base = TSLA_subs_base.reset_index()\n",
        "\n",
        "TSLA_subs_sent = TSLA_subs_sent.rename(columns={'TSLA_MSE':'TSLA_MSE_SENT_SUBS', 'TSLA_RMSE':'TSLA_RMSE_SENT_SUBS'})\n",
        "TSLA_subs_sent = TSLA_subs_sent.drop('Unnamed: 0', axis=1)\n",
        "TSLA_subs_sent = TSLA_subs_sent.reset_index()\n",
        "\n",
        "daily = [TSLA_subs_base, TSLA_subs_sent]\n",
        "TSLA_daily_RESULTS = reduce(lambda  left,right: pd.merge(left,right,on='index',\n",
        "                                            how='outer'), daily)\n",
        "print(TSLA_daily_RESULTS[['TSLA_RMSE_BASE_SUBS','TSLA_RMSE_SENT_SUBS']].describe())\n",
        "boxplot_daily = TSLA_daily_RESULTS.boxplot(column=['TSLA_RMSE_BASE_SUBS', 'TSLA_RMSE_SENT_SUBS'],figsize=(12,8))\n",
        "\n",
        "[ax_tmp.set_xlabel('') for ax_tmp in np.asarray(boxplot_daily).reshape(-1)]\n",
        "fig = np.asarray(boxplot_daily).reshape(-1)[0].get_figure()\n",
        "fig.suptitle('Root Mean Squared Error Distribution for Submissions')"
      ],
      "execution_count": null,
      "outputs": [
        {
          "output_type": "stream",
          "text": [
            "       TSLA_RMSE_BASE_SUBS  TSLA_RMSE_SENT_SUBS\n",
            "count            10.000000            10.000000\n",
            "mean              0.075484             0.074240\n",
            "std               0.058602             0.055623\n",
            "min               0.030324             0.030324\n",
            "25%               0.037297             0.037297\n",
            "50%               0.046842             0.046842\n",
            "75%               0.085911             0.085911\n",
            "max               0.204191             0.191752\n"
          ],
          "name": "stdout"
        },
        {
          "output_type": "execute_result",
          "data": {
            "text/plain": [
              "Text(0.5, 0.98, 'Root Mean Squared Error Distribution for Submissions')"
            ]
          },
          "metadata": {
            "tags": []
          },
          "execution_count": 52
        },
        {
          "output_type": "display_data",
          "data": {
            "image/png": "[encoded data removed]",
            "text/plain": [
              "<Figure size 864x576 with 1 Axes>"
            ]
          },
          "metadata": {
            "tags": [],
            "needs_background": "light"
          }
        }
      ]
    },
    {
      "cell_type": "markdown",
      "metadata": {
        "id": "eL4XfIN2YZJw"
      },
      "source": [
        "# AAPL"
      ]
    },
    {
      "cell_type": "code",
      "metadata": {
        "id": "hC4Yz30JYZJw"
      },
      "source": [
        "AAPL_comms_base = pd.read_csv('AAPL_BASELINE_LSTM_HR.csv')\n",
        "AAPL_comms_sent = pd.read_csv('AAPL_SENTIMENT_LSTM_HR.csv')\n",
        "AAPL_subs_base = pd.read_csv('AAPL_BASELINE_LSTM_DAILY.csv')\n",
        "AAPL_subs_sent = pd.read_csv('AAPL_SENTIMENT_LSTM_DAILY.csv')"
      ],
      "execution_count": null,
      "outputs": []
    },
    {
      "cell_type": "markdown",
      "metadata": {
        "id": "ZfvOQ5C6YZJx"
      },
      "source": [
        "## Comments"
      ]
    },
    {
      "cell_type": "code",
      "metadata": {
        "colab": {
          "base_uri": "https://localhost:8080/",
          "height": 694
        },
        "id": "oeaU7d19YZJx",
        "outputId": "5b61b823-db8d-43e5-f14d-98f1249f661a"
      },
      "source": [
        "AAPL_comms_base = AAPL_comms_base.rename(columns={'AAPL_MSE':'AAPL_MSE_BASE_COMMS', 'AAPL_RMSE':'AAPL_RMSE_BASE_COMMS'})\n",
        "AAPL_comms_base = AAPL_comms_base.drop('Unnamed: 0', axis=1)\n",
        "AAPL_comms_base = AAPL_comms_base.reset_index()\n",
        "\n",
        "AAPL_comms_sent = AAPL_comms_sent.rename(columns={'AAPL_MSE':'AAPL_MSE_SENT_COMMS', 'AAPL_RMSE':'AAPL_RMSE_SENT_COMMS'})\n",
        "AAPL_comms_sent = AAPL_comms_sent.drop('Unnamed: 0', axis=1)\n",
        "AAPL_comms_sent = AAPL_comms_sent.reset_index()\n",
        "\n",
        "hourly = [AAPL_comms_base,AAPL_comms_sent]\n",
        "AAPL_hourly_RESULTS = reduce(lambda  left,right: pd.merge(left,right,on='index',\n",
        "                                            how='outer'), hourly)\n",
        "\n",
        "#Boxplot\n",
        "boxplot_hourly = AAPL_hourly_RESULTS.boxplot(column=['AAPL_RMSE_BASE_COMMS', 'AAPL_RMSE_SENT_COMMS'],figsize=(12,8))\n",
        "[ax_tmp.set_xlabel('') for ax_tmp in np.asarray(boxplot_hourly).reshape(-1)]\n",
        "fig = np.asarray(boxplot_hourly).reshape(-1)[0].get_figure()\n",
        "fig.suptitle('Root Mean Squared Error Distribution for Comments')\n",
        "\n",
        "print(AAPL_hourly_RESULTS[['AAPL_RMSE_BASE_COMMS','AAPL_RMSE_SENT_COMMS']].describe())\n"
      ],
      "execution_count": null,
      "outputs": [
        {
          "output_type": "stream",
          "text": [
            "       AAPL_RMSE_BASE_COMMS  AAPL_RMSE_SENT_COMMS\n",
            "count             10.000000             10.000000\n",
            "mean               0.091171              0.055133\n",
            "std                0.047433              0.029061\n",
            "min                0.039592              0.024087\n",
            "25%                0.047390              0.028626\n",
            "50%                0.084310              0.050259\n",
            "75%                0.135274              0.082299\n",
            "max                0.164149              0.099866\n"
          ],
          "name": "stdout"
        },
        {
          "output_type": "display_data",
          "data": {
            "image/png": "[encoded data removed]",
            "text/plain": [
              "<Figure size 864x576 with 1 Axes>"
            ]
          },
          "metadata": {
            "tags": [],
            "needs_background": "light"
          }
        }
      ]
    },
    {
      "cell_type": "markdown",
      "metadata": {
        "id": "wbEfZcBrYZJx"
      },
      "source": [
        "## Submissions"
      ]
    },
    {
      "cell_type": "code",
      "metadata": {
        "colab": {
          "base_uri": "https://localhost:8080/",
          "height": 711
        },
        "id": "uZUVFvBEYZJy",
        "outputId": "6c7b91bc-e038-4f6c-a6c3-56eee44e631f"
      },
      "source": [
        "AAPL_subs_base = AAPL_subs_base.rename(columns={'AAPL_MSE':'AAPL_MSE_BASE_SUBS', 'AAPL_RMSE':'AAPL_RMSE_BASE_SUBS'})\n",
        "AAPL_subs_base = AAPL_subs_base.drop('Unnamed: 0', axis=1)\n",
        "AAPL_subs_base = AAPL_subs_base.reset_index()\n",
        "\n",
        "AAPL_subs_sent = AAPL_subs_sent.rename(columns={'AAPL_MSE':'AAPL_MSE_SENT_SUBS', 'AAPL_RMSE':'AAPL_RMSE_SENT_SUBS'})\n",
        "AAPL_subs_sent = AAPL_subs_sent.drop('Unnamed: 0', axis=1)\n",
        "AAPL_subs_sent = AAPL_subs_sent.reset_index()\n",
        "\n",
        "daily = [AAPL_subs_base, AAPL_subs_sent]\n",
        "AAPL_daily_RESULTS = reduce(lambda  left,right: pd.merge(left,right,on='index',\n",
        "                                            how='outer'), daily)\n",
        "print(AAPL_daily_RESULTS[['AAPL_RMSE_BASE_SUBS','AAPL_RMSE_SENT_SUBS']].describe())\n",
        "boxplot_daily = AAPL_daily_RESULTS.boxplot(column=['AAPL_RMSE_BASE_SUBS', 'AAPL_RMSE_SENT_SUBS'],figsize=(12,8))\n",
        "\n",
        "[ax_tmp.set_xlabel('') for ax_tmp in np.asarray(boxplot_daily).reshape(-1)]\n",
        "fig = np.asarray(boxplot_daily).reshape(-1)[0].get_figure()\n",
        "fig.suptitle('Root Mean Squared Error Distribution for Submissions')"
      ],
      "execution_count": null,
      "outputs": [
        {
          "output_type": "stream",
          "text": [
            "       AAPL_RMSE_BASE_SUBS  AAPL_RMSE_SENT_SUBS\n",
            "count            10.000000            10.000000\n",
            "mean              0.090821             0.090927\n",
            "std               0.037809             0.037756\n",
            "min               0.040927             0.040927\n",
            "25%               0.068560             0.068826\n",
            "50%               0.085835             0.085835\n",
            "75%               0.111279             0.111279\n",
            "max               0.157957             0.157957\n"
          ],
          "name": "stdout"
        },
        {
          "output_type": "execute_result",
          "data": {
            "text/plain": [
              "Text(0.5, 0.98, 'Root Mean Squared Error Distribution for Submissions')"
            ]
          },
          "metadata": {
            "tags": []
          },
          "execution_count": 55
        },
        {
          "output_type": "display_data",
          "data": {
            "image/png": "[encoded data removed]",
            "text/plain": [
              "<Figure size 864x576 with 1 Axes>"
            ]
          },
          "metadata": {
            "tags": [],
            "needs_background": "light"
          }
        }
      ]
    },
    {
      "cell_type": "markdown",
      "metadata": {
        "id": "CAX86HfRafZB"
      },
      "source": [
        "# MSFT"
      ]
    },
    {
      "cell_type": "code",
      "metadata": {
        "id": "b1G_bAExafZL"
      },
      "source": [
        "MSFT_comms_base = pd.read_csv('MSFT_BASELINE_LSTM_HR.csv')\n",
        "MSFT_comms_sent = pd.read_csv('MSFT_SENTIMENT_LSTM_HR.csv')\n",
        "MSFT_subs_base = pd.read_csv('MSFT_BASELINE_LSTM_DAILY.csv')\n",
        "MSFT_subs_sent = pd.read_csv('MSFT_SENTIMENT_LSTM_DAILY.csv')"
      ],
      "execution_count": null,
      "outputs": []
    },
    {
      "cell_type": "markdown",
      "metadata": {
        "id": "5qmwpvYdafZL"
      },
      "source": [
        "## Comments"
      ]
    },
    {
      "cell_type": "code",
      "metadata": {
        "colab": {
          "base_uri": "https://localhost:8080/",
          "height": 694
        },
        "id": "YoABY5vxafZL",
        "outputId": "5083ad03-fa75-403d-ed83-5872e8fa516f"
      },
      "source": [
        "MSFT_comms_base = MSFT_comms_base.rename(columns={'MSFT_MSE':'MSFT_MSE_BASE_COMMS', 'MSFT_RMSE':'MSFT_RMSE_BASE_COMMS'})\n",
        "MSFT_comms_base = MSFT_comms_base.drop('Unnamed: 0', axis=1)\n",
        "MSFT_comms_base = MSFT_comms_base.reset_index()\n",
        "\n",
        "MSFT_comms_sent = MSFT_comms_sent.rename(columns={'MSFT_MSE':'MSFT_MSE_SENT_COMMS', 'MSFT_RMSE':'MSFT_RMSE_SENT_COMMS'})\n",
        "MSFT_comms_sent = MSFT_comms_sent.drop('Unnamed: 0', axis=1)\n",
        "MSFT_comms_sent = MSFT_comms_sent.reset_index()\n",
        "\n",
        "hourly = [MSFT_comms_base,MSFT_comms_sent]\n",
        "MSFT_hourly_RESULTS = reduce(lambda  left,right: pd.merge(left,right,on='index',\n",
        "                                            how='outer'), hourly)\n",
        "\n",
        "#Boxplot\n",
        "boxplot_hourly = MSFT_hourly_RESULTS.boxplot(column=['MSFT_RMSE_BASE_COMMS', 'MSFT_RMSE_SENT_COMMS'],figsize=(12,8))\n",
        "[ax_tmp.set_xlabel('') for ax_tmp in np.asarray(boxplot_hourly).reshape(-1)]\n",
        "fig = np.asarray(boxplot_hourly).reshape(-1)[0].get_figure()\n",
        "fig.suptitle('Root Mean Squared Error Distribution for Comments')\n",
        "\n",
        "print(MSFT_hourly_RESULTS[['MSFT_RMSE_BASE_COMMS','MSFT_RMSE_SENT_COMMS']].describe())"
      ],
      "execution_count": null,
      "outputs": [
        {
          "output_type": "stream",
          "text": [
            "       MSFT_RMSE_BASE_COMMS  MSFT_RMSE_SENT_COMMS\n",
            "count             10.000000             10.000000\n",
            "mean               0.137316              0.138041\n",
            "std                0.088142              0.088439\n",
            "min                0.038104              0.038104\n",
            "25%                0.086014              0.086014\n",
            "50%                0.129821              0.129821\n",
            "75%                0.164683              0.170113\n",
            "max                0.346477              0.346477\n"
          ],
          "name": "stdout"
        },
        {
          "output_type": "display_data",
          "data": {
            "image/png": "[encoded data removed]",
            "text/plain": [
              "<Figure size 864x576 with 1 Axes>"
            ]
          },
          "metadata": {
            "tags": [],
            "needs_background": "light"
          }
        }
      ]
    },
    {
      "cell_type": "markdown",
      "metadata": {
        "id": "dfBV5UPnafZM"
      },
      "source": [
        "## Submissions"
      ]
    },
    {
      "cell_type": "code",
      "metadata": {
        "colab": {
          "base_uri": "https://localhost:8080/",
          "height": 711
        },
        "id": "9U65o-VZafZM",
        "outputId": "4e050c04-ae63-4f90-b3f3-52b66beff51d"
      },
      "source": [
        "MSFT_subs_base = MSFT_subs_base.rename(columns={'MSFT_MSE':'MSFT_MSE_BASE_SUBS', 'MSFT_RMSE':'MSFT_RMSE_BASE_SUBS'})\n",
        "MSFT_subs_base = MSFT_subs_base.drop('Unnamed: 0', axis=1)\n",
        "MSFT_subs_base = MSFT_subs_base.reset_index()\n",
        "\n",
        "MSFT_subs_sent = MSFT_subs_sent.rename(columns={'MSFT_MSE':'MSFT_MSE_SENT_SUBS', 'MSFT_RMSE':'MSFT_RMSE_SENT_SUBS'})\n",
        "MSFT_subs_sent = MSFT_subs_sent.drop('Unnamed: 0', axis=1)\n",
        "MSFT_subs_sent = MSFT_subs_sent.reset_index()\n",
        "\n",
        "daily = [MSFT_subs_base, MSFT_subs_sent]\n",
        "MSFT_daily_RESULTS = reduce(lambda  left,right: pd.merge(left,right,on='index',\n",
        "                                            how='outer'), daily)\n",
        "print(MSFT_daily_RESULTS[['MSFT_RMSE_BASE_SUBS','MSFT_RMSE_SENT_SUBS']].describe())\n",
        "boxplot_daily = MSFT_daily_RESULTS.boxplot(column=['MSFT_RMSE_BASE_SUBS', 'MSFT_RMSE_SENT_SUBS'],figsize=(12,8))\n",
        "\n",
        "[ax_tmp.set_xlabel('') for ax_tmp in np.asarray(boxplot_daily).reshape(-1)]\n",
        "fig = np.asarray(boxplot_daily).reshape(-1)[0].get_figure()\n",
        "fig.suptitle('Root Mean Squared Error Distribution for Submissions')"
      ],
      "execution_count": null,
      "outputs": [
        {
          "output_type": "stream",
          "text": [
            "       MSFT_RMSE_BASE_SUBS  MSFT_RMSE_SENT_SUBS\n",
            "count            10.000000            10.000000\n",
            "mean              0.120489             0.118022\n",
            "std               0.059617             0.058822\n",
            "min               0.031894             0.031894\n",
            "25%               0.076771             0.076771\n",
            "50%               0.128092             0.124175\n",
            "75%               0.148714             0.135299\n",
            "max               0.228423             0.228423\n"
          ],
          "name": "stdout"
        },
        {
          "output_type": "execute_result",
          "data": {
            "text/plain": [
              "Text(0.5, 0.98, 'Root Mean Squared Error Distribution for Submissions')"
            ]
          },
          "metadata": {
            "tags": []
          },
          "execution_count": 58
        },
        {
          "output_type": "display_data",
          "data": {
            "image/png": "[encoded data removed]",
            "text/plain": [
              "<Figure size 864x576 with 1 Axes>"
            ]
          },
          "metadata": {
            "tags": [],
            "needs_background": "light"
          }
        }
      ]
    },
    {
      "cell_type": "markdown",
      "metadata": {
        "id": "zGWEUSZrbVWv"
      },
      "source": [
        "# AMD"
      ]
    },
    {
      "cell_type": "code",
      "metadata": {
        "id": "aGLWtXqpbVWv"
      },
      "source": [
        "AMD_comms_base = pd.read_csv('AMD_BASELINE_LSTM_HR.csv')\n",
        "AMD_comms_sent = pd.read_csv('AMD_SENTIMENT_LSTM_HR.csv')\n",
        "AMD_subs_base = pd.read_csv('AMD_BASELINE_LSTM_DAILY.csv')\n",
        "AMD_subs_sent = pd.read_csv('AMD_SENTIMENT_LSTM_DAILY.csv')"
      ],
      "execution_count": null,
      "outputs": []
    },
    {
      "cell_type": "markdown",
      "metadata": {
        "id": "4J3-fooKbVWv"
      },
      "source": [
        "## Comments"
      ]
    },
    {
      "cell_type": "code",
      "metadata": {
        "colab": {
          "base_uri": "https://localhost:8080/",
          "height": 694
        },
        "id": "MgYn4TR7bVWw",
        "outputId": "6badefd4-c0de-44e6-b626-d1ca1f6995ce"
      },
      "source": [
        "AMD_comms_base = AMD_comms_base.rename(columns={'AMD_MSE':'AMD_MSE_BASE_COMMS', 'AMD_RMSE':'AMD_RMSE_BASE_COMMS'})\n",
        "AMD_comms_base = AMD_comms_base.drop('Unnamed: 0', axis=1)\n",
        "AMD_comms_base = AMD_comms_base.reset_index()\n",
        "\n",
        "AMD_comms_sent = AMD_comms_sent.rename(columns={'AMD_MSE':'AMD_MSE_SENT_COMMS', 'AMD_RMSE':'AMD_RMSE_SENT_COMMS'})\n",
        "AMD_comms_sent = AMD_comms_sent.drop('Unnamed: 0', axis=1)\n",
        "AMD_comms_sent = AMD_comms_sent.reset_index()\n",
        "\n",
        "hourly = [AMD_comms_base,AMD_comms_sent]\n",
        "AMD_hourly_RESULTS = reduce(lambda  left,right: pd.merge(left,right,on='index',\n",
        "                                            how='outer'), hourly)\n",
        "\n",
        "#Boxplot\n",
        "boxplot_hourly = AMD_hourly_RESULTS.boxplot(column=['AMD_RMSE_BASE_COMMS', 'AMD_RMSE_SENT_COMMS'],figsize=(12,8))\n",
        "[ax_tmp.set_xlabel('') for ax_tmp in np.asarray(boxplot_hourly).reshape(-1)]\n",
        "fig = np.asarray(boxplot_hourly).reshape(-1)[0].get_figure()\n",
        "fig.suptitle('Root Mean Squared Error Distribution for Comments')\n",
        "\n",
        "print(AMD_hourly_RESULTS[['AMD_RMSE_BASE_COMMS','AMD_RMSE_SENT_COMMS']].describe())"
      ],
      "execution_count": null,
      "outputs": [
        {
          "output_type": "stream",
          "text": [
            "       AMD_RMSE_BASE_COMMS  AMD_RMSE_SENT_COMMS\n",
            "count            10.000000            10.000000\n",
            "mean              0.106163             0.105400\n",
            "std               0.089120             0.089836\n",
            "min               0.022187             0.022187\n",
            "25%               0.034282             0.030713\n",
            "50%               0.080767             0.080767\n",
            "75%               0.155802             0.155802\n",
            "max               0.293080             0.293080\n"
          ],
          "name": "stdout"
        },
        {
          "output_type": "display_data",
          "data": {
            "image/png": "[encoded data removed]",
            "text/plain": [
              "<Figure size 864x576 with 1 Axes>"
            ]
          },
          "metadata": {
            "tags": [],
            "needs_background": "light"
          }
        }
      ]
    },
    {
      "cell_type": "markdown",
      "metadata": {
        "id": "QsRGBbhObVWw"
      },
      "source": [
        "## Submissions"
      ]
    },
    {
      "cell_type": "code",
      "metadata": {
        "colab": {
          "base_uri": "https://localhost:8080/",
          "height": 711
        },
        "id": "Zlu8QgdUbVWw",
        "outputId": "ac5379e7-8370-4b64-80b0-a0a29aa54eac"
      },
      "source": [
        "AMD_subs_base = AMD_subs_base.rename(columns={'AMD_MSE':'AMD_MSE_BASE_SUBS', 'AMD_RMSE':'AMD_RMSE_BASE_SUBS'})\n",
        "AMD_subs_base = AMD_subs_base.drop('Unnamed: 0', axis=1)\n",
        "AMD_subs_base = AMD_subs_base.reset_index()\n",
        "\n",
        "AMD_subs_sent = AMD_subs_sent.rename(columns={'AMD_MSE':'AMD_MSE_SENT_SUBS', 'AMD_RMSE':'AMD_RMSE_SENT_SUBS'})\n",
        "AMD_subs_sent = AMD_subs_sent.drop('Unnamed: 0', axis=1)\n",
        "AMD_subs_sent = AMD_subs_sent.reset_index()\n",
        "\n",
        "daily = [AMD_subs_base, AMD_subs_sent]\n",
        "AMD_daily_RESULTS = reduce(lambda  left,right: pd.merge(left,right,on='index',\n",
        "                                            how='outer'), daily)\n",
        "print(AMD_daily_RESULTS[['AMD_RMSE_BASE_SUBS','AMD_RMSE_SENT_SUBS']].describe())\n",
        "boxplot_daily = AMD_daily_RESULTS.boxplot(column=['AMD_RMSE_BASE_SUBS', 'AMD_RMSE_SENT_SUBS'],figsize=(12,8))\n",
        "\n",
        "[ax_tmp.set_xlabel('') for ax_tmp in np.asarray(boxplot_daily).reshape(-1)]\n",
        "fig = np.asarray(boxplot_daily).reshape(-1)[0].get_figure()\n",
        "fig.suptitle('Root Mean Squared Error Distribution for Submissions')"
      ],
      "execution_count": null,
      "outputs": [
        {
          "output_type": "stream",
          "text": [
            "       AMD_RMSE_BASE_SUBS  AMD_RMSE_SENT_SUBS\n",
            "count           10.000000           10.000000\n",
            "mean             0.106350            0.106197\n",
            "std              0.092451            0.088725\n",
            "min              0.020086            0.020086\n",
            "25%              0.040813            0.050764\n",
            "50%              0.079263            0.079263\n",
            "75%              0.139195            0.114383\n",
            "max              0.314969            0.314969\n"
          ],
          "name": "stdout"
        },
        {
          "output_type": "execute_result",
          "data": {
            "text/plain": [
              "Text(0.5, 0.98, 'Root Mean Squared Error Distribution for Submissions')"
            ]
          },
          "metadata": {
            "tags": []
          },
          "execution_count": 61
        },
        {
          "output_type": "display_data",
          "data": {
            "image/png": "[encoded data removed]",
            "text/plain": [
              "<Figure size 864x576 with 1 Axes>"
            ]
          },
          "metadata": {
            "tags": [],
            "needs_background": "light"
          }
        }
      ]
    },
    {
      "cell_type": "code",
      "metadata": {
        "id": "S1NHDZy8WKwI"
      },
      "source": [
        ""
      ],
      "execution_count": null,
      "outputs": []
    },
    {
      "cell_type": "code",
      "metadata": {
        "id": "Hd50Gn0BgC8j"
      },
      "source": [
        ""
      ],
      "execution_count": null,
      "outputs": []
    }
  ]
}