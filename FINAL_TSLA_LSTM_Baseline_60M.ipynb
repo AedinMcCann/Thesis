{
  "nbformat": 4,
  "nbformat_minor": 0,
  "metadata": {
    "colab": {
      "name": "FINAL TSLA - LSTM Baseline - 60M",
      "provenance": [],
      "collapsed_sections": []
    },
    "kernelspec": {
      "display_name": "Python 3",
      "name": "python3"
    },
    "language_info": {
      "name": "python"
    }
  },
  "cells": [
    {
      "cell_type": "code",
      "metadata": {
        "colab": {
          "base_uri": "https://localhost:8080/"
        },
        "id": "7NWzzUVTbmJD",
        "outputId": "cf13a3c8-bb9f-421e-ab5b-63ea28f0024b"
      },
      "source": [
        "pip install yfinance"
      ],
      "execution_count": null,
      "outputs": [
        {
          "output_type": "stream",
          "text": [
            "Requirement already satisfied: yfinance in /usr/local/lib/python3.7/dist-packages (0.1.59)\n",
            "Requirement already satisfied: multitasking>=0.0.7 in /usr/local/lib/python3.7/dist-packages (from yfinance) (0.0.9)\n",
            "Requirement already satisfied: lxml>=4.5.1 in /usr/local/lib/python3.7/dist-packages (from yfinance) (4.6.3)\n",
            "Requirement already satisfied: pandas>=0.24 in /usr/local/lib/python3.7/dist-packages (from yfinance) (1.1.5)\n",
            "Requirement already satisfied: numpy>=1.15 in /usr/local/lib/python3.7/dist-packages (from yfinance) (1.19.5)\n",
            "Requirement already satisfied: requests>=2.20 in /usr/local/lib/python3.7/dist-packages (from yfinance) (2.23.0)\n",
            "Requirement already satisfied: pytz>=2017.2 in /usr/local/lib/python3.7/dist-packages (from pandas>=0.24->yfinance) (2018.9)\n",
            "Requirement already satisfied: python-dateutil>=2.7.3 in /usr/local/lib/python3.7/dist-packages (from pandas>=0.24->yfinance) (2.8.1)\n",
            "Requirement already satisfied: certifi>=2017.4.17 in /usr/local/lib/python3.7/dist-packages (from requests>=2.20->yfinance) (2020.12.5)\n",
            "Requirement already satisfied: urllib3!=1.25.0,!=1.25.1,<1.26,>=1.21.1 in /usr/local/lib/python3.7/dist-packages (from requests>=2.20->yfinance) (1.24.3)\n",
            "Requirement already satisfied: idna<3,>=2.5 in /usr/local/lib/python3.7/dist-packages (from requests>=2.20->yfinance) (2.10)\n",
            "Requirement already satisfied: chardet<4,>=3.0.2 in /usr/local/lib/python3.7/dist-packages (from requests>=2.20->yfinance) (3.0.4)\n",
            "Requirement already satisfied: six>=1.5 in /usr/local/lib/python3.7/dist-packages (from python-dateutil>=2.7.3->pandas>=0.24->yfinance) (1.15.0)\n"
          ],
          "name": "stdout"
        }
      ]
    },
    {
      "cell_type": "code",
      "metadata": {
        "colab": {
          "base_uri": "https://localhost:8080/"
        },
        "id": "bxMMLj5JDskT",
        "outputId": "d8f09076-8f57-4f1c-f202-ed0f20c2b0b9"
      },
      "source": [
        "pip install yahoofinancials"
      ],
      "execution_count": null,
      "outputs": [
        {
          "output_type": "stream",
          "text": [
            "Requirement already satisfied: yahoofinancials in /usr/local/lib/python3.7/dist-packages (1.6)\n",
            "Requirement already satisfied: beautifulsoup4 in /usr/local/lib/python3.7/dist-packages (from yahoofinancials) (4.6.3)\n",
            "Requirement already satisfied: pytz in /usr/local/lib/python3.7/dist-packages (from yahoofinancials) (2018.9)\n"
          ],
          "name": "stdout"
        }
      ]
    },
    {
      "cell_type": "code",
      "metadata": {
        "id": "x5HOlBCAcU8n"
      },
      "source": [
        "# Import necessary packages\n",
        "import tensorflow as tf\n",
        "from tensorflow.keras.callbacks import CSVLogger, EarlyStopping\n",
        "import numpy as np\n",
        "import matplotlib as mpl\n",
        "import matplotlib.pyplot as plt\n",
        "import numpy as np\n",
        "import os\n",
        "import pandas as pd\n",
        "import seaborn as sns\n",
        "import time\n",
        "import gc\n",
        "import sys\n",
        "from sklearn.preprocessing import MinMaxScaler\n",
        "import pandas as pd\n",
        "import yfinance as yf\n",
        "from yahoofinancials import YahooFinancials\n",
        "import seaborn as sns\n",
        "\n",
        "from sklearn.model_selection import TimeSeriesSplit\n",
        "from sklearn.model_selection import KFold\n",
        "import numpy as np\n",
        "import matplotlib.pyplot as plt\n",
        "from matplotlib.patches import Patch\n",
        "import seaborn as sns \n",
        "\n",
        "import sklearn\n",
        "from sklearn.linear_model import ElasticNet\n",
        "from sklearn.multioutput import MultiOutputRegressor\n",
        "from sklearn.model_selection import cross_val_score\n",
        "from sklearn.model_selection import GridSearchCV\n",
        "from keras.wrappers.scikit_learn import KerasClassifier\n"
      ],
      "execution_count": null,
      "outputs": []
    },
    {
      "cell_type": "code",
      "metadata": {
        "colab": {
          "base_uri": "https://localhost:8080/",
          "height": 216
        },
        "id": "GFMJrJwWbzvx",
        "outputId": "4d246b9c-b7bf-4fab-fcdf-506bc3a0f269"
      },
      "source": [
        "# Get stock data\n",
        "start='2020-01-01'\n",
        "end='2021-01-02'\n",
        "df = yf.download(tickers = \"TSLA\",start=start,end=end,interval = \"60m\")\n",
        "df.reset_index(drop=False, inplace=True)\n",
        "\n",
        "nan_value = float(\"NaN\")\n",
        "df.replace(\"\", nan_value, inplace=True)\n",
        "df.tail()\n",
        "df['Next_close'] = df['Close'].shift(-1)\n",
        "df.tail()\n"
      ],
      "execution_count": null,
      "outputs": [
        {
          "output_type": "stream",
          "text": [
            "\r[*********************100%***********************]  1 of 1 completed\n"
          ],
          "name": "stdout"
        },
        {
          "output_type": "execute_result",
          "data": {
            "text/html": [
              "<div>\n",
              "<style scoped>\n",
              "    .dataframe tbody tr th:only-of-type {\n",
              "        vertical-align: middle;\n",
              "    }\n",
              "\n",
              "    .dataframe tbody tr th {\n",
              "        vertical-align: top;\n",
              "    }\n",
              "\n",
              "    .dataframe thead th {\n",
              "        text-align: right;\n",
              "    }\n",
              "</style>\n",
              "<table border=\"1\" class=\"dataframe\">\n",
              "  <thead>\n",
              "    <tr style=\"text-align: right;\">\n",
              "      <th></th>\n",
              "      <th>Datetime</th>\n",
              "      <th>Open</th>\n",
              "      <th>High</th>\n",
              "      <th>Low</th>\n",
              "      <th>Close</th>\n",
              "      <th>Adj Close</th>\n",
              "      <th>Volume</th>\n",
              "      <th>Next_close</th>\n",
              "    </tr>\n",
              "  </thead>\n",
              "  <tbody>\n",
              "    <tr>\n",
              "      <th>1759</th>\n",
              "      <td>2020-12-31 11:30:00-05:00</td>\n",
              "      <td>715.479980</td>\n",
              "      <td>718.719971</td>\n",
              "      <td>711.679993</td>\n",
              "      <td>715.159973</td>\n",
              "      <td>715.159973</td>\n",
              "      <td>6814139</td>\n",
              "      <td>715.289978</td>\n",
              "    </tr>\n",
              "    <tr>\n",
              "      <th>1760</th>\n",
              "      <td>2020-12-31 12:30:00-05:00</td>\n",
              "      <td>715.090698</td>\n",
              "      <td>717.320007</td>\n",
              "      <td>712.659973</td>\n",
              "      <td>715.289978</td>\n",
              "      <td>715.289978</td>\n",
              "      <td>3831598</td>\n",
              "      <td>708.299988</td>\n",
              "    </tr>\n",
              "    <tr>\n",
              "      <th>1761</th>\n",
              "      <td>2020-12-31 13:30:00-05:00</td>\n",
              "      <td>715.280029</td>\n",
              "      <td>717.770020</td>\n",
              "      <td>707.250000</td>\n",
              "      <td>708.299988</td>\n",
              "      <td>708.299988</td>\n",
              "      <td>4788232</td>\n",
              "      <td>698.000000</td>\n",
              "    </tr>\n",
              "    <tr>\n",
              "      <th>1762</th>\n",
              "      <td>2020-12-31 14:30:00-05:00</td>\n",
              "      <td>708.306580</td>\n",
              "      <td>710.869873</td>\n",
              "      <td>698.000000</td>\n",
              "      <td>698.000000</td>\n",
              "      <td>698.000000</td>\n",
              "      <td>7320384</td>\n",
              "      <td>705.210022</td>\n",
              "    </tr>\n",
              "    <tr>\n",
              "      <th>1763</th>\n",
              "      <td>2020-12-31 15:30:00-05:00</td>\n",
              "      <td>698.203186</td>\n",
              "      <td>706.899902</td>\n",
              "      <td>697.690002</td>\n",
              "      <td>705.210022</td>\n",
              "      <td>705.210022</td>\n",
              "      <td>4105876</td>\n",
              "      <td>NaN</td>\n",
              "    </tr>\n",
              "  </tbody>\n",
              "</table>\n",
              "</div>"
            ],
            "text/plain": [
              "                      Datetime        Open  ...   Volume  Next_close\n",
              "1759 2020-12-31 11:30:00-05:00  715.479980  ...  6814139  715.289978\n",
              "1760 2020-12-31 12:30:00-05:00  715.090698  ...  3831598  708.299988\n",
              "1761 2020-12-31 13:30:00-05:00  715.280029  ...  4788232  698.000000\n",
              "1762 2020-12-31 14:30:00-05:00  708.306580  ...  7320384  705.210022\n",
              "1763 2020-12-31 15:30:00-05:00  698.203186  ...  4105876         NaN\n",
              "\n",
              "[5 rows x 8 columns]"
            ]
          },
          "metadata": {
            "tags": []
          },
          "execution_count": 51
        }
      ]
    },
    {
      "cell_type": "code",
      "metadata": {
        "colab": {
          "base_uri": "https://localhost:8080/",
          "height": 433
        },
        "id": "cnIoHw6wkZRy",
        "outputId": "cbfa6b2f-6014-4758-a234-05a490109de6"
      },
      "source": [
        "# Add in some technical indicators\n",
        "# Simple moving average (SMA)\n",
        "# 3 day period\n",
        "Close = df[['Close']]\n",
        "df['SMA'] = df.Close.rolling(3, min_periods=1).mean()\n",
        "\n",
        "# Exponential moving average (EMA)\n",
        "df['EMA'] = df.Close.ewm(alpha=0.1, adjust=False).mean()\n",
        "\n",
        "# Colors for the line plot\n",
        "colors = ['green', 'red', 'purple']\n",
        "df_plt = df[['Close', 'SMA', 'EMA']]\n",
        "\n",
        "# line plot\n",
        "df_plt.plot(color=colors, linewidth=3, figsize=(12,6))\n",
        "\n",
        "# modify ticks size\n",
        "plt.xticks(fontsize=14)\n",
        "plt.yticks(fontsize=14)\n",
        "\n",
        "# title and labels\n",
        "plt.title('The Closing Price of TSLA Stock', fontsize=20)\n",
        "plt.xlabel('Date', fontsize=16)\n",
        "plt.ylabel('Cost (USD)', fontsize=16)"
      ],
      "execution_count": null,
      "outputs": [
        {
          "output_type": "execute_result",
          "data": {
            "text/plain": [
              "Text(0, 0.5, 'Cost (USD)')"
            ]
          },
          "metadata": {
            "tags": []
          },
          "execution_count": 52
        },
        {
          "output_type": "display_data",
          "data": {
            "image/png": "[encoded data removed]",
            "text/plain": [
              "<Figure size 864x432 with 1 Axes>"
            ]
          },
          "metadata": {
            "tags": [],
            "needs_background": "light"
          }
        }
      ]
    },
    {
      "cell_type": "code",
      "metadata": {
        "colab": {
          "base_uri": "https://localhost:8080/",
          "height": 230
        },
        "id": "xkcrDDZlqgYT",
        "outputId": "ad823e29-a38c-48f7-dfd6-a2da0077a16d"
      },
      "source": [
        "# On Balance Volume\n",
        "# Measures cumulative buying and selling pressure by adding the volume on \"up\" days and subtracting volume on \"down\" days. \n",
        "df['obv'] = (np.sign(df['Close'].diff()) * df['Volume']).fillna(0).cumsum()\n",
        "df = df.set_index('Datetime')\n",
        "df.head()"
      ],
      "execution_count": null,
      "outputs": [
        {
          "output_type": "execute_result",
          "data": {
            "text/html": [
              "<div>\n",
              "<style scoped>\n",
              "    .dataframe tbody tr th:only-of-type {\n",
              "        vertical-align: middle;\n",
              "    }\n",
              "\n",
              "    .dataframe tbody tr th {\n",
              "        vertical-align: top;\n",
              "    }\n",
              "\n",
              "    .dataframe thead th {\n",
              "        text-align: right;\n",
              "    }\n",
              "</style>\n",
              "<table border=\"1\" class=\"dataframe\">\n",
              "  <thead>\n",
              "    <tr style=\"text-align: right;\">\n",
              "      <th></th>\n",
              "      <th>Open</th>\n",
              "      <th>High</th>\n",
              "      <th>Low</th>\n",
              "      <th>Close</th>\n",
              "      <th>Adj Close</th>\n",
              "      <th>Volume</th>\n",
              "      <th>Next_close</th>\n",
              "      <th>SMA</th>\n",
              "      <th>EMA</th>\n",
              "      <th>obv</th>\n",
              "    </tr>\n",
              "    <tr>\n",
              "      <th>Datetime</th>\n",
              "      <th></th>\n",
              "      <th></th>\n",
              "      <th></th>\n",
              "      <th></th>\n",
              "      <th></th>\n",
              "      <th></th>\n",
              "      <th></th>\n",
              "      <th></th>\n",
              "      <th></th>\n",
              "      <th></th>\n",
              "    </tr>\n",
              "  </thead>\n",
              "  <tbody>\n",
              "    <tr>\n",
              "      <th>2020-01-02 09:30:00-05:00</th>\n",
              "      <td>84.900002</td>\n",
              "      <td>85.573997</td>\n",
              "      <td>84.391998</td>\n",
              "      <td>84.780998</td>\n",
              "      <td>84.780998</td>\n",
              "      <td>3205151</td>\n",
              "      <td>85.218002</td>\n",
              "      <td>84.780998</td>\n",
              "      <td>84.780998</td>\n",
              "      <td>0.0</td>\n",
              "    </tr>\n",
              "    <tr>\n",
              "      <th>2020-01-02 10:30:00-05:00</th>\n",
              "      <td>84.784004</td>\n",
              "      <td>85.329498</td>\n",
              "      <td>84.524002</td>\n",
              "      <td>85.218002</td>\n",
              "      <td>85.218002</td>\n",
              "      <td>958142</td>\n",
              "      <td>85.264000</td>\n",
              "      <td>84.999500</td>\n",
              "      <td>84.824699</td>\n",
              "      <td>958142.0</td>\n",
              "    </tr>\n",
              "    <tr>\n",
              "      <th>2020-01-02 11:30:00-05:00</th>\n",
              "      <td>85.229996</td>\n",
              "      <td>85.452003</td>\n",
              "      <td>85.057999</td>\n",
              "      <td>85.264000</td>\n",
              "      <td>85.264000</td>\n",
              "      <td>950558</td>\n",
              "      <td>85.951881</td>\n",
              "      <td>85.087667</td>\n",
              "      <td>84.868629</td>\n",
              "      <td>1908700.0</td>\n",
              "    </tr>\n",
              "    <tr>\n",
              "      <th>2020-01-02 12:30:00-05:00</th>\n",
              "      <td>85.271996</td>\n",
              "      <td>85.970001</td>\n",
              "      <td>85.212578</td>\n",
              "      <td>85.951881</td>\n",
              "      <td>85.951881</td>\n",
              "      <td>1173352</td>\n",
              "      <td>86.078995</td>\n",
              "      <td>85.477961</td>\n",
              "      <td>84.976954</td>\n",
              "      <td>3082052.0</td>\n",
              "    </tr>\n",
              "    <tr>\n",
              "      <th>2020-01-02 13:30:00-05:00</th>\n",
              "      <td>85.955246</td>\n",
              "      <td>86.139145</td>\n",
              "      <td>85.620003</td>\n",
              "      <td>86.078995</td>\n",
              "      <td>86.078995</td>\n",
              "      <td>1246023</td>\n",
              "      <td>85.960098</td>\n",
              "      <td>85.764959</td>\n",
              "      <td>85.087158</td>\n",
              "      <td>4328075.0</td>\n",
              "    </tr>\n",
              "  </tbody>\n",
              "</table>\n",
              "</div>"
            ],
            "text/plain": [
              "                                Open       High  ...        EMA        obv\n",
              "Datetime                                         ...                      \n",
              "2020-01-02 09:30:00-05:00  84.900002  85.573997  ...  84.780998        0.0\n",
              "2020-01-02 10:30:00-05:00  84.784004  85.329498  ...  84.824699   958142.0\n",
              "2020-01-02 11:30:00-05:00  85.229996  85.452003  ...  84.868629  1908700.0\n",
              "2020-01-02 12:30:00-05:00  85.271996  85.970001  ...  84.976954  3082052.0\n",
              "2020-01-02 13:30:00-05:00  85.955246  86.139145  ...  85.087158  4328075.0\n",
              "\n",
              "[5 rows x 10 columns]"
            ]
          },
          "metadata": {
            "tags": []
          },
          "execution_count": 53
        }
      ]
    },
    {
      "cell_type": "code",
      "metadata": {
        "id": "Xz5N7GlLm8tD",
        "colab": {
          "base_uri": "https://localhost:8080/",
          "height": 290
        },
        "outputId": "207ebb37-d1c6-46e9-d7ac-99efb19fc811"
      },
      "source": [
        "df.describe()"
      ],
      "execution_count": null,
      "outputs": [
        {
          "output_type": "execute_result",
          "data": {
            "text/html": [
              "<div>\n",
              "<style scoped>\n",
              "    .dataframe tbody tr th:only-of-type {\n",
              "        vertical-align: middle;\n",
              "    }\n",
              "\n",
              "    .dataframe tbody tr th {\n",
              "        vertical-align: top;\n",
              "    }\n",
              "\n",
              "    .dataframe thead th {\n",
              "        text-align: right;\n",
              "    }\n",
              "</style>\n",
              "<table border=\"1\" class=\"dataframe\">\n",
              "  <thead>\n",
              "    <tr style=\"text-align: right;\">\n",
              "      <th></th>\n",
              "      <th>Open</th>\n",
              "      <th>High</th>\n",
              "      <th>Low</th>\n",
              "      <th>Close</th>\n",
              "      <th>Adj Close</th>\n",
              "      <th>Volume</th>\n",
              "      <th>Next_close</th>\n",
              "      <th>SMA</th>\n",
              "      <th>EMA</th>\n",
              "      <th>obv</th>\n",
              "    </tr>\n",
              "  </thead>\n",
              "  <tbody>\n",
              "    <tr>\n",
              "      <th>count</th>\n",
              "      <td>1764.000000</td>\n",
              "      <td>1764.000000</td>\n",
              "      <td>1764.000000</td>\n",
              "      <td>1764.000000</td>\n",
              "      <td>1764.000000</td>\n",
              "      <td>1.764000e+03</td>\n",
              "      <td>1763.000000</td>\n",
              "      <td>1764.000000</td>\n",
              "      <td>1764.000000</td>\n",
              "      <td>1.764000e+03</td>\n",
              "    </tr>\n",
              "    <tr>\n",
              "      <th>mean</th>\n",
              "      <td>288.454734</td>\n",
              "      <td>291.216482</td>\n",
              "      <td>285.507468</td>\n",
              "      <td>288.574462</td>\n",
              "      <td>288.574462</td>\n",
              "      <td>4.048496e+06</td>\n",
              "      <td>288.690057</td>\n",
              "      <td>288.224149</td>\n",
              "      <td>285.474805</td>\n",
              "      <td>2.719539e+08</td>\n",
              "    </tr>\n",
              "    <tr>\n",
              "      <th>std</th>\n",
              "      <td>167.115233</td>\n",
              "      <td>168.473111</td>\n",
              "      <td>165.640821</td>\n",
              "      <td>167.286553</td>\n",
              "      <td>167.286553</td>\n",
              "      <td>4.410452e+06</td>\n",
              "      <td>167.263532</td>\n",
              "      <td>167.026315</td>\n",
              "      <td>164.889903</td>\n",
              "      <td>1.353014e+08</td>\n",
              "    </tr>\n",
              "    <tr>\n",
              "      <th>min</th>\n",
              "      <td>70.639999</td>\n",
              "      <td>72.669998</td>\n",
              "      <td>70.102005</td>\n",
              "      <td>70.692680</td>\n",
              "      <td>70.692680</td>\n",
              "      <td>0.000000e+00</td>\n",
              "      <td>70.692680</td>\n",
              "      <td>71.249560</td>\n",
              "      <td>83.142943</td>\n",
              "      <td>0.000000e+00</td>\n",
              "    </tr>\n",
              "    <tr>\n",
              "      <th>25%</th>\n",
              "      <td>149.485260</td>\n",
              "      <td>151.497089</td>\n",
              "      <td>147.376999</td>\n",
              "      <td>149.584621</td>\n",
              "      <td>149.584621</td>\n",
              "      <td>1.498679e+06</td>\n",
              "      <td>149.648079</td>\n",
              "      <td>149.650452</td>\n",
              "      <td>149.235594</td>\n",
              "      <td>1.787877e+08</td>\n",
              "    </tr>\n",
              "    <tr>\n",
              "      <th>50%</th>\n",
              "      <td>239.784447</td>\n",
              "      <td>241.849998</td>\n",
              "      <td>237.643997</td>\n",
              "      <td>239.706009</td>\n",
              "      <td>239.706009</td>\n",
              "      <td>2.441167e+06</td>\n",
              "      <td>240.312012</td>\n",
              "      <td>232.277664</td>\n",
              "      <td>219.234638</td>\n",
              "      <td>2.467697e+08</td>\n",
              "    </tr>\n",
              "    <tr>\n",
              "      <th>75%</th>\n",
              "      <td>421.892464</td>\n",
              "      <td>425.107491</td>\n",
              "      <td>418.199997</td>\n",
              "      <td>421.808266</td>\n",
              "      <td>421.808266</td>\n",
              "      <td>4.818659e+06</td>\n",
              "      <td>421.816544</td>\n",
              "      <td>421.905230</td>\n",
              "      <td>420.886824</td>\n",
              "      <td>3.362978e+08</td>\n",
              "    </tr>\n",
              "    <tr>\n",
              "      <th>max</th>\n",
              "      <td>715.479980</td>\n",
              "      <td>718.719971</td>\n",
              "      <td>712.659973</td>\n",
              "      <td>715.429993</td>\n",
              "      <td>715.429993</td>\n",
              "      <td>4.321218e+07</td>\n",
              "      <td>715.429993</td>\n",
              "      <td>715.293315</td>\n",
              "      <td>692.313829</td>\n",
              "      <td>6.714171e+08</td>\n",
              "    </tr>\n",
              "  </tbody>\n",
              "</table>\n",
              "</div>"
            ],
            "text/plain": [
              "              Open         High  ...          EMA           obv\n",
              "count  1764.000000  1764.000000  ...  1764.000000  1.764000e+03\n",
              "mean    288.454734   291.216482  ...   285.474805  2.719539e+08\n",
              "std     167.115233   168.473111  ...   164.889903  1.353014e+08\n",
              "min      70.639999    72.669998  ...    83.142943  0.000000e+00\n",
              "25%     149.485260   151.497089  ...   149.235594  1.787877e+08\n",
              "50%     239.784447   241.849998  ...   219.234638  2.467697e+08\n",
              "75%     421.892464   425.107491  ...   420.886824  3.362978e+08\n",
              "max     715.479980   718.719971  ...   692.313829  6.714171e+08\n",
              "\n",
              "[8 rows x 10 columns]"
            ]
          },
          "metadata": {
            "tags": []
          },
          "execution_count": 54
        }
      ]
    },
    {
      "cell_type": "code",
      "metadata": {
        "id": "e1Iw5CoG35IS",
        "colab": {
          "base_uri": "https://localhost:8080/"
        },
        "outputId": "f83f4605-2c9b-4969-9b32-1516a490b252"
      },
      "source": [
        "df.skew()"
      ],
      "execution_count": null,
      "outputs": [
        {
          "output_type": "execute_result",
          "data": {
            "text/plain": [
              "Open          0.640564\n",
              "High          0.638844\n",
              "Low           0.644599\n",
              "Close         0.642918\n",
              "Adj Close     0.642918\n",
              "Volume        3.157576\n",
              "Next_close    0.642501\n",
              "SMA           0.641588\n",
              "EMA           0.631168\n",
              "obv           0.823891\n",
              "dtype: float64"
            ]
          },
          "metadata": {
            "tags": []
          },
          "execution_count": 55
        }
      ]
    },
    {
      "cell_type": "code",
      "metadata": {
        "id": "KGZp_WSmquTx"
      },
      "source": [
        "df = df[['Next_close', 'Close','Volume','Open','High','Low', \"SMA\", 'EMA', 'obv']]"
      ],
      "execution_count": null,
      "outputs": []
    },
    {
      "cell_type": "code",
      "metadata": {
        "id": "3oQbDPVjUrJr",
        "colab": {
          "base_uri": "https://localhost:8080/",
          "height": 596
        },
        "outputId": "d878ddaf-45ce-4c07-f360-204e63128ae9"
      },
      "source": [
        "#Using Pearson Correlation\n",
        "plt.figure(figsize=(12,10))\n",
        "cor = df.corr()\n",
        "sns.heatmap(cor, annot=True, cmap=plt.cm.Reds)\n",
        "plt.show()"
      ],
      "execution_count": null,
      "outputs": [
        {
          "output_type": "display_data",
          "data": {
            "image/png": "[encoded data removed]",
            "text/plain": [
              "<Figure size 864x720 with 2 Axes>"
            ]
          },
          "metadata": {
            "tags": [],
            "needs_background": "light"
          }
        }
      ]
    },
    {
      "cell_type": "code",
      "metadata": {
        "id": "8t9qAQ1GUyxb",
        "colab": {
          "base_uri": "https://localhost:8080/"
        },
        "outputId": "00ba52b3-1d9c-4ccd-d3fd-ad03391213ea"
      },
      "source": [
        "#Correlation with output variable\n",
        "cor_target = abs(cor[\"Next_close\"])\n",
        "#Selecting highly correlated features\n",
        "relevant_features = cor_target[cor_target>0.5]\n",
        "relevant_features"
      ],
      "execution_count": null,
      "outputs": [
        {
          "output_type": "execute_result",
          "data": {
            "text/plain": [
              "Next_close    1.000000\n",
              "Close         0.999491\n",
              "Open          0.999104\n",
              "High          0.999278\n",
              "Low           0.999275\n",
              "SMA           0.999159\n",
              "EMA           0.996981\n",
              "obv           0.938009\n",
              "Name: Next_close, dtype: float64"
            ]
          },
          "metadata": {
            "tags": []
          },
          "execution_count": 58
        }
      ]
    },
    {
      "cell_type": "code",
      "metadata": {
        "id": "hGogKpI8nV8-",
        "colab": {
          "base_uri": "https://localhost:8080/",
          "height": 445
        },
        "outputId": "f44dc25e-97ed-4e60-b75e-733ad66b0231"
      },
      "source": [
        "df.plot(subplots=True)\n"
      ],
      "execution_count": null,
      "outputs": [
        {
          "output_type": "execute_result",
          "data": {
            "text/plain": [
              "array([<matplotlib.axes._subplots.AxesSubplot object at 0x7fe5c49bad50>,\n",
              "       <matplotlib.axes._subplots.AxesSubplot object at 0x7fe5c36a8390>,\n",
              "       <matplotlib.axes._subplots.AxesSubplot object at 0x7fe5c2031810>,\n",
              "       <matplotlib.axes._subplots.AxesSubplot object at 0x7fe5c885db10>,\n",
              "       <matplotlib.axes._subplots.AxesSubplot object at 0x7fe5c543aed0>,\n",
              "       <matplotlib.axes._subplots.AxesSubplot object at 0x7fe5c83362d0>,\n",
              "       <matplotlib.axes._subplots.AxesSubplot object at 0x7fe5c28e0710>,\n",
              "       <matplotlib.axes._subplots.AxesSubplot object at 0x7fe5c6deca10>,\n",
              "       <matplotlib.axes._subplots.AxesSubplot object at 0x7fe5c6deca50>],\n",
              "      dtype=object)"
            ]
          },
          "metadata": {
            "tags": []
          },
          "execution_count": 59
        },
        {
          "output_type": "display_data",
          "data": {
            "image/png": "[encoded data removed]",
            "text/plain": [
              "<Figure size 432x288 with 9 Axes>"
            ]
          },
          "metadata": {
            "tags": [],
            "needs_background": "light"
          }
        }
      ]
    },
    {
      "cell_type": "code",
      "metadata": {
        "id": "OLlYLvIBX-Kk",
        "colab": {
          "base_uri": "https://localhost:8080/",
          "height": 525
        },
        "outputId": "d90d10f2-f9ef-41e4-8a49-70ddf959423d"
      },
      "source": [
        "# Boxplot of month-wise distribution\n",
        "df.reset_index(inplace=True)\n",
        "# Prepare data\n",
        "df['month'] = [d.strftime('%b') for d in df.Datetime]\n",
        "# Draw Plot\n",
        "fig, axes = plt.subplots(1, 1, figsize=(20,7), dpi= 80)\n",
        "sns.boxplot(x='month', y='Close', data=df)\n",
        "# Set Title\n",
        "axes.set_title('Month-wise Box Plot\\n', fontsize=18)\n",
        "plt.show()\n",
        "\n",
        "# This boxplot shows a clear difference between prices at the start of the year and the end. The distribution is high in August, Sept, Nov and Dec. "
      ],
      "execution_count": null,
      "outputs": [
        {
          "output_type": "display_data",
          "data": {
            "image/png": "[encoded data removed]",
            "text/plain": [
              "<Figure size 1600x560 with 1 Axes>"
            ]
          },
          "metadata": {
            "tags": [],
            "needs_background": "light"
          }
        }
      ]
    },
    {
      "cell_type": "code",
      "metadata": {
        "id": "r7FYcbAPdye0",
        "colab": {
          "base_uri": "https://localhost:8080/"
        },
        "outputId": "d72ff15a-31f1-4dcc-ecf9-dcecd8f77728"
      },
      "source": [
        "# Scale data with MinMaxScaler\n",
        "# define min max scaler\n",
        "scaler = MinMaxScaler()\n",
        "\n",
        "# Data Loader Parameters\n",
        "BATCH_SIZE = 17       # Factors of 1411 (train size):  1, 17, 83, 1411\n",
        "BUFFER_SIZE = 100\n",
        "TRAIN_SPLIT = round(len(df)*0.8)  # 80-20 train-test split \n",
        "print(TRAIN_SPLIT) # Batches should be factor of train size\n",
        "\n",
        "# LSTM Parameters\n",
        "EVALUATION_INTERVAL = 20   \n",
        "EPOCHS = 500 # Early stopping implemented, so this can be artbitrarily high and still work\n",
        "PATIENCE = 10  # number of epochs to wait before early stop if no progress on the validation set. # Tested this out with other values 3 and 5"
      ],
      "execution_count": null,
      "outputs": [
        {
          "output_type": "stream",
          "text": [
            "1411\n"
          ],
          "name": "stdout"
        }
      ]
    },
    {
      "cell_type": "markdown",
      "metadata": {
        "id": "YRm0VWX-_ryu"
      },
      "source": [
        "**Scaling the Data**\n",
        "\n",
        "The values in our datset are of different scales which can increase the difficulty of the problem being modeled. The volume of traders per day is much higher than the value for the previous day's high, open, etc. This high value mayresult in a model that learns large weight values. A model with large weight values is often unstable, meaning that it may suffer from poor performance during learning and sensitivity to input values resulting in higher generalization error. For this reason we scale our data before proceeding\n",
        "\n",
        "MinMaxScaler() subtracts the minimum value in the feature and then divides by the range. The range is the difference between the original maximum and original minimum. This scaling method preserves the shape of the original distribution. It doesn't meaningfully change the information embedded in the original data. Note that MinMaxScaler doesn't reduce the importance of outliers. The default range for the feature returned by MinMaxScaler is 0 to 1\n",
        "\n",
        "Note on activation function:\n",
        "Ensure that the scale of your output variable matches the scale of the activation function (transfer function) on the output layer of your network.\n",
        "If your output activation function has a range of [0,1], then you must ensure that the target values lie within that range. But it is generally better to choose an output activation function suited to the distribution of the targets than to force your data to conform to the output activation function.\n"
      ]
    },
    {
      "cell_type": "code",
      "metadata": {
        "id": "0J3VKrPugbTP",
        "colab": {
          "base_uri": "https://localhost:8080/",
          "height": 440
        },
        "outputId": "ba834e45-7b20-4303-8211-4ad6ef9eb709"
      },
      "source": [
        "df.set_index('Datetime')"
      ],
      "execution_count": null,
      "outputs": [
        {
          "output_type": "execute_result",
          "data": {
            "text/html": [
              "<div>\n",
              "<style scoped>\n",
              "    .dataframe tbody tr th:only-of-type {\n",
              "        vertical-align: middle;\n",
              "    }\n",
              "\n",
              "    .dataframe tbody tr th {\n",
              "        vertical-align: top;\n",
              "    }\n",
              "\n",
              "    .dataframe thead th {\n",
              "        text-align: right;\n",
              "    }\n",
              "</style>\n",
              "<table border=\"1\" class=\"dataframe\">\n",
              "  <thead>\n",
              "    <tr style=\"text-align: right;\">\n",
              "      <th></th>\n",
              "      <th>Next_close</th>\n",
              "      <th>Close</th>\n",
              "      <th>Volume</th>\n",
              "      <th>Open</th>\n",
              "      <th>High</th>\n",
              "      <th>Low</th>\n",
              "      <th>SMA</th>\n",
              "      <th>EMA</th>\n",
              "      <th>obv</th>\n",
              "      <th>month</th>\n",
              "    </tr>\n",
              "    <tr>\n",
              "      <th>Datetime</th>\n",
              "      <th></th>\n",
              "      <th></th>\n",
              "      <th></th>\n",
              "      <th></th>\n",
              "      <th></th>\n",
              "      <th></th>\n",
              "      <th></th>\n",
              "      <th></th>\n",
              "      <th></th>\n",
              "      <th></th>\n",
              "    </tr>\n",
              "  </thead>\n",
              "  <tbody>\n",
              "    <tr>\n",
              "      <th>2020-01-02 09:30:00-05:00</th>\n",
              "      <td>85.218002</td>\n",
              "      <td>84.780998</td>\n",
              "      <td>3205151</td>\n",
              "      <td>84.900002</td>\n",
              "      <td>85.573997</td>\n",
              "      <td>84.391998</td>\n",
              "      <td>84.780998</td>\n",
              "      <td>84.780998</td>\n",
              "      <td>0.0</td>\n",
              "      <td>Jan</td>\n",
              "    </tr>\n",
              "    <tr>\n",
              "      <th>2020-01-02 10:30:00-05:00</th>\n",
              "      <td>85.264000</td>\n",
              "      <td>85.218002</td>\n",
              "      <td>958142</td>\n",
              "      <td>84.784004</td>\n",
              "      <td>85.329498</td>\n",
              "      <td>84.524002</td>\n",
              "      <td>84.999500</td>\n",
              "      <td>84.824699</td>\n",
              "      <td>958142.0</td>\n",
              "      <td>Jan</td>\n",
              "    </tr>\n",
              "    <tr>\n",
              "      <th>2020-01-02 11:30:00-05:00</th>\n",
              "      <td>85.951881</td>\n",
              "      <td>85.264000</td>\n",
              "      <td>950558</td>\n",
              "      <td>85.229996</td>\n",
              "      <td>85.452003</td>\n",
              "      <td>85.057999</td>\n",
              "      <td>85.087667</td>\n",
              "      <td>84.868629</td>\n",
              "      <td>1908700.0</td>\n",
              "      <td>Jan</td>\n",
              "    </tr>\n",
              "    <tr>\n",
              "      <th>2020-01-02 12:30:00-05:00</th>\n",
              "      <td>86.078995</td>\n",
              "      <td>85.951881</td>\n",
              "      <td>1173352</td>\n",
              "      <td>85.271996</td>\n",
              "      <td>85.970001</td>\n",
              "      <td>85.212578</td>\n",
              "      <td>85.477961</td>\n",
              "      <td>84.976954</td>\n",
              "      <td>3082052.0</td>\n",
              "      <td>Jan</td>\n",
              "    </tr>\n",
              "    <tr>\n",
              "      <th>2020-01-02 13:30:00-05:00</th>\n",
              "      <td>85.960098</td>\n",
              "      <td>86.078995</td>\n",
              "      <td>1246023</td>\n",
              "      <td>85.955246</td>\n",
              "      <td>86.139145</td>\n",
              "      <td>85.620003</td>\n",
              "      <td>85.764959</td>\n",
              "      <td>85.087158</td>\n",
              "      <td>4328075.0</td>\n",
              "      <td>Jan</td>\n",
              "    </tr>\n",
              "    <tr>\n",
              "      <th>...</th>\n",
              "      <td>...</td>\n",
              "      <td>...</td>\n",
              "      <td>...</td>\n",
              "      <td>...</td>\n",
              "      <td>...</td>\n",
              "      <td>...</td>\n",
              "      <td>...</td>\n",
              "      <td>...</td>\n",
              "      <td>...</td>\n",
              "      <td>...</td>\n",
              "    </tr>\n",
              "    <tr>\n",
              "      <th>2020-12-31 11:30:00-05:00</th>\n",
              "      <td>715.289978</td>\n",
              "      <td>715.159973</td>\n",
              "      <td>6814139</td>\n",
              "      <td>715.479980</td>\n",
              "      <td>718.719971</td>\n",
              "      <td>711.679993</td>\n",
              "      <td>710.821655</td>\n",
              "      <td>685.041745</td>\n",
              "      <td>664602988.0</td>\n",
              "      <td>Dec</td>\n",
              "    </tr>\n",
              "    <tr>\n",
              "      <th>2020-12-31 12:30:00-05:00</th>\n",
              "      <td>708.299988</td>\n",
              "      <td>715.289978</td>\n",
              "      <td>3831598</td>\n",
              "      <td>715.090698</td>\n",
              "      <td>717.320007</td>\n",
              "      <td>712.659973</td>\n",
              "      <td>715.293315</td>\n",
              "      <td>688.066568</td>\n",
              "      <td>668434586.0</td>\n",
              "      <td>Dec</td>\n",
              "    </tr>\n",
              "    <tr>\n",
              "      <th>2020-12-31 13:30:00-05:00</th>\n",
              "      <td>698.000000</td>\n",
              "      <td>708.299988</td>\n",
              "      <td>4788232</td>\n",
              "      <td>715.280029</td>\n",
              "      <td>717.770020</td>\n",
              "      <td>707.250000</td>\n",
              "      <td>712.916646</td>\n",
              "      <td>690.089910</td>\n",
              "      <td>663646354.0</td>\n",
              "      <td>Dec</td>\n",
              "    </tr>\n",
              "    <tr>\n",
              "      <th>2020-12-31 14:30:00-05:00</th>\n",
              "      <td>705.210022</td>\n",
              "      <td>698.000000</td>\n",
              "      <td>7320384</td>\n",
              "      <td>708.306580</td>\n",
              "      <td>710.869873</td>\n",
              "      <td>698.000000</td>\n",
              "      <td>707.196655</td>\n",
              "      <td>690.880919</td>\n",
              "      <td>656325970.0</td>\n",
              "      <td>Dec</td>\n",
              "    </tr>\n",
              "    <tr>\n",
              "      <th>2020-12-31 15:30:00-05:00</th>\n",
              "      <td>NaN</td>\n",
              "      <td>705.210022</td>\n",
              "      <td>4105876</td>\n",
              "      <td>698.203186</td>\n",
              "      <td>706.899902</td>\n",
              "      <td>697.690002</td>\n",
              "      <td>703.836670</td>\n",
              "      <td>692.313829</td>\n",
              "      <td>660431846.0</td>\n",
              "      <td>Dec</td>\n",
              "    </tr>\n",
              "  </tbody>\n",
              "</table>\n",
              "<p>1764 rows × 10 columns</p>\n",
              "</div>"
            ],
            "text/plain": [
              "                           Next_close       Close  ...          obv  month\n",
              "Datetime                                           ...                    \n",
              "2020-01-02 09:30:00-05:00   85.218002   84.780998  ...          0.0    Jan\n",
              "2020-01-02 10:30:00-05:00   85.264000   85.218002  ...     958142.0    Jan\n",
              "2020-01-02 11:30:00-05:00   85.951881   85.264000  ...    1908700.0    Jan\n",
              "2020-01-02 12:30:00-05:00   86.078995   85.951881  ...    3082052.0    Jan\n",
              "2020-01-02 13:30:00-05:00   85.960098   86.078995  ...    4328075.0    Jan\n",
              "...                               ...         ...  ...          ...    ...\n",
              "2020-12-31 11:30:00-05:00  715.289978  715.159973  ...  664602988.0    Dec\n",
              "2020-12-31 12:30:00-05:00  708.299988  715.289978  ...  668434586.0    Dec\n",
              "2020-12-31 13:30:00-05:00  698.000000  708.299988  ...  663646354.0    Dec\n",
              "2020-12-31 14:30:00-05:00  705.210022  698.000000  ...  656325970.0    Dec\n",
              "2020-12-31 15:30:00-05:00         NaN  705.210022  ...  660431846.0    Dec\n",
              "\n",
              "[1764 rows x 10 columns]"
            ]
          },
          "metadata": {
            "tags": []
          },
          "execution_count": 62
        }
      ]
    },
    {
      "cell_type": "code",
      "metadata": {
        "id": "SPSMXoLPt4E0"
      },
      "source": [
        "#This section is with data scaled to between -1 and 1:\n",
        "df = df.drop(['Datetime', 'month'], axis =1)\n",
        "# Scaled data with MinMaxScaler\n",
        "data = df.values\n",
        "# define min max scaler\n",
        "scaler = MinMaxScaler()\n",
        "# transform data\n",
        "dataset = scaler.fit_transform(data)\n"
      ],
      "execution_count": null,
      "outputs": []
    },
    {
      "cell_type": "markdown",
      "metadata": {
        "id": "D5EEPLDTZ1AS"
      },
      "source": [
        "**Linear Regression**\n",
        "\n",
        "In order to get a measure for which to compare the LSTM model, I will create a control value for MSE using local linear regression. Note that this is a naive regression which is biased. \n",
        "\n"
      ]
    },
    {
      "cell_type": "code",
      "metadata": {
        "id": "TtlwejhtE5f-",
        "colab": {
          "base_uri": "https://localhost:8080/"
        },
        "outputId": "1b9a48c4-52bc-444e-bfca-60ec13509e0e"
      },
      "source": [
        "pip install statsmodels"
      ],
      "execution_count": null,
      "outputs": [
        {
          "output_type": "stream",
          "text": [
            "Requirement already satisfied: statsmodels in /usr/local/lib/python3.7/dist-packages (0.10.2)\n",
            "Requirement already satisfied: patsy>=0.4.0 in /usr/local/lib/python3.7/dist-packages (from statsmodels) (0.5.1)\n",
            "Requirement already satisfied: scipy>=0.18 in /usr/local/lib/python3.7/dist-packages (from statsmodels) (1.4.1)\n",
            "Requirement already satisfied: pandas>=0.19 in /usr/local/lib/python3.7/dist-packages (from statsmodels) (1.1.5)\n",
            "Requirement already satisfied: numpy>=1.11 in /usr/local/lib/python3.7/dist-packages (from statsmodels) (1.19.5)\n",
            "Requirement already satisfied: six in /usr/local/lib/python3.7/dist-packages (from patsy>=0.4.0->statsmodels) (1.15.0)\n",
            "Requirement already satisfied: pytz>=2017.2 in /usr/local/lib/python3.7/dist-packages (from pandas>=0.19->statsmodels) (2018.9)\n",
            "Requirement already satisfied: python-dateutil>=2.7.3 in /usr/local/lib/python3.7/dist-packages (from pandas>=0.19->statsmodels) (2.8.1)\n"
          ],
          "name": "stdout"
        }
      ]
    },
    {
      "cell_type": "code",
      "metadata": {
        "id": "Ou8nE5_IJuoR"
      },
      "source": [
        "import numpy as np\n",
        "def mean_absolute_percentage_error(y_test, y_pred): \n",
        "    y_test, y_pred = np.array(y_test), np.array(y_pred)\n",
        "    return np.mean(np.abs((y_test - y_pred) / y_test)) * 100"
      ],
      "execution_count": null,
      "outputs": []
    },
    {
      "cell_type": "code",
      "metadata": {
        "id": "BNiNjLJshQuC",
        "colab": {
          "base_uri": "https://localhost:8080/",
          "height": 522
        },
        "outputId": "45546dd3-b356-40ea-9865-d23ed8aae8a5"
      },
      "source": [
        "# Split data\n",
        "from sklearn.model_selection import train_test_split \n",
        "from sklearn.linear_model import LinearRegression\n",
        "from sklearn import metrics\n",
        "\n",
        "X = dataset[:-1,1:]\n",
        "y = dataset[:-1, 0]\n",
        "\n",
        "X_train, X_test, y_train, y_test = train_test_split(X, y, test_size=0.2, random_state=0)\n",
        "\n",
        "#Train algorithm\n",
        "regressor = LinearRegression()  \n",
        "regressor = regressor.fit(X_train, y_train) \n",
        "\n",
        "#To retrieve the intercept:\n",
        "print('Intercept:', regressor.intercept_)\n",
        "#For retrieving the slope:\n",
        "print('Coefficients:', regressor.coef_)\n",
        "\n",
        "# Predicted value\n",
        "y_pred = regressor.predict(X_test)\n",
        "\n",
        "df_lin = pd.DataFrame({'Actual': y_test, 'Predicted': y_pred})\n",
        "\n",
        "print('Mean Absolute Error:', metrics.mean_absolute_error(y_test, y_pred))  \n",
        "print('Mean Absolute Percentage Error:', mean_absolute_percentage_error(y_test, y_pred))  \n",
        "print('Mean Squared Error:', metrics.mean_squared_error(y_test, y_pred))  \n",
        "print('Root Mean Squared Error:', np.sqrt(metrics.mean_squared_error(y_test, y_pred)))\n",
        "df_lin"
      ],
      "execution_count": null,
      "outputs": [
        {
          "output_type": "stream",
          "text": [
            "Intercept: 0.0008718744375534326\n",
            "Coefficients: [ 1.04169634e+00 -4.67904845e-03 -1.24362213e-01  7.38917280e-02\n",
            "  2.72040416e-02 -2.54060434e-02  7.57530864e-03 -1.18781025e-04]\n",
            "Mean Absolute Error: 0.00483239188156671\n",
            "Mean Absolute Percentage Error: 2.1745394663769617\n",
            "Mean Squared Error: 6.428136237544849e-05\n",
            "Root Mean Squared Error: 0.008017565863493014\n"
          ],
          "name": "stdout"
        },
        {
          "output_type": "execute_result",
          "data": {
            "text/html": [
              "<div>\n",
              "<style scoped>\n",
              "    .dataframe tbody tr th:only-of-type {\n",
              "        vertical-align: middle;\n",
              "    }\n",
              "\n",
              "    .dataframe tbody tr th {\n",
              "        vertical-align: top;\n",
              "    }\n",
              "\n",
              "    .dataframe thead th {\n",
              "        text-align: right;\n",
              "    }\n",
              "</style>\n",
              "<table border=\"1\" class=\"dataframe\">\n",
              "  <thead>\n",
              "    <tr style=\"text-align: right;\">\n",
              "      <th></th>\n",
              "      <th>Actual</th>\n",
              "      <th>Predicted</th>\n",
              "    </tr>\n",
              "  </thead>\n",
              "  <tbody>\n",
              "    <tr>\n",
              "      <th>0</th>\n",
              "      <td>0.570566</td>\n",
              "      <td>0.581645</td>\n",
              "    </tr>\n",
              "    <tr>\n",
              "      <th>1</th>\n",
              "      <td>0.144216</td>\n",
              "      <td>0.144788</td>\n",
              "    </tr>\n",
              "    <tr>\n",
              "      <th>2</th>\n",
              "      <td>0.045828</td>\n",
              "      <td>0.054526</td>\n",
              "    </tr>\n",
              "    <tr>\n",
              "      <th>3</th>\n",
              "      <td>0.138182</td>\n",
              "      <td>0.135732</td>\n",
              "    </tr>\n",
              "    <tr>\n",
              "      <th>4</th>\n",
              "      <td>0.544543</td>\n",
              "      <td>0.534628</td>\n",
              "    </tr>\n",
              "    <tr>\n",
              "      <th>...</th>\n",
              "      <td>...</td>\n",
              "      <td>...</td>\n",
              "    </tr>\n",
              "    <tr>\n",
              "      <th>348</th>\n",
              "      <td>0.350135</td>\n",
              "      <td>0.351327</td>\n",
              "    </tr>\n",
              "    <tr>\n",
              "      <th>349</th>\n",
              "      <td>0.376624</td>\n",
              "      <td>0.378243</td>\n",
              "    </tr>\n",
              "    <tr>\n",
              "      <th>350</th>\n",
              "      <td>0.116574</td>\n",
              "      <td>0.116309</td>\n",
              "    </tr>\n",
              "    <tr>\n",
              "      <th>351</th>\n",
              "      <td>0.765042</td>\n",
              "      <td>0.766534</td>\n",
              "    </tr>\n",
              "    <tr>\n",
              "      <th>352</th>\n",
              "      <td>0.353768</td>\n",
              "      <td>0.353230</td>\n",
              "    </tr>\n",
              "  </tbody>\n",
              "</table>\n",
              "<p>353 rows × 2 columns</p>\n",
              "</div>"
            ],
            "text/plain": [
              "       Actual  Predicted\n",
              "0    0.570566   0.581645\n",
              "1    0.144216   0.144788\n",
              "2    0.045828   0.054526\n",
              "3    0.138182   0.135732\n",
              "4    0.544543   0.534628\n",
              "..        ...        ...\n",
              "348  0.350135   0.351327\n",
              "349  0.376624   0.378243\n",
              "350  0.116574   0.116309\n",
              "351  0.765042   0.766534\n",
              "352  0.353768   0.353230\n",
              "\n",
              "[353 rows x 2 columns]"
            ]
          },
          "metadata": {
            "tags": []
          },
          "execution_count": 66
        }
      ]
    },
    {
      "cell_type": "code",
      "metadata": {
        "id": "K9f_3q-_rARe",
        "colab": {
          "base_uri": "https://localhost:8080/",
          "height": 200
        },
        "outputId": "ea38369c-0cfa-4f51-f09c-67f63e582dbe"
      },
      "source": [
        "display(pd.DataFrame(dataset, columns = df.columns, index= df.index).tail())"
      ],
      "execution_count": null,
      "outputs": [
        {
          "output_type": "display_data",
          "data": {
            "text/html": [
              "<div>\n",
              "<style scoped>\n",
              "    .dataframe tbody tr th:only-of-type {\n",
              "        vertical-align: middle;\n",
              "    }\n",
              "\n",
              "    .dataframe tbody tr th {\n",
              "        vertical-align: top;\n",
              "    }\n",
              "\n",
              "    .dataframe thead th {\n",
              "        text-align: right;\n",
              "    }\n",
              "</style>\n",
              "<table border=\"1\" class=\"dataframe\">\n",
              "  <thead>\n",
              "    <tr style=\"text-align: right;\">\n",
              "      <th></th>\n",
              "      <th>Next_close</th>\n",
              "      <th>Close</th>\n",
              "      <th>Volume</th>\n",
              "      <th>Open</th>\n",
              "      <th>High</th>\n",
              "      <th>Low</th>\n",
              "      <th>SMA</th>\n",
              "      <th>EMA</th>\n",
              "      <th>obv</th>\n",
              "    </tr>\n",
              "  </thead>\n",
              "  <tbody>\n",
              "    <tr>\n",
              "      <th>1759</th>\n",
              "      <td>0.999783</td>\n",
              "      <td>0.999581</td>\n",
              "      <td>0.157690</td>\n",
              "      <td>1.000000</td>\n",
              "      <td>1.000000</td>\n",
              "      <td>0.998475</td>\n",
              "      <td>0.993057</td>\n",
              "      <td>0.988062</td>\n",
              "      <td>0.989851</td>\n",
              "    </tr>\n",
              "    <tr>\n",
              "      <th>1760</th>\n",
              "      <td>0.988941</td>\n",
              "      <td>0.999783</td>\n",
              "      <td>0.088669</td>\n",
              "      <td>0.999396</td>\n",
              "      <td>0.997833</td>\n",
              "      <td>1.000000</td>\n",
              "      <td>1.000000</td>\n",
              "      <td>0.993028</td>\n",
              "      <td>0.995558</td>\n",
              "    </tr>\n",
              "    <tr>\n",
              "      <th>1761</th>\n",
              "      <td>0.972966</td>\n",
              "      <td>0.988941</td>\n",
              "      <td>0.110807</td>\n",
              "      <td>0.999690</td>\n",
              "      <td>0.998530</td>\n",
              "      <td>0.991581</td>\n",
              "      <td>0.996310</td>\n",
              "      <td>0.996349</td>\n",
              "      <td>0.988426</td>\n",
              "    </tr>\n",
              "    <tr>\n",
              "      <th>1762</th>\n",
              "      <td>0.984149</td>\n",
              "      <td>0.972966</td>\n",
              "      <td>0.169406</td>\n",
              "      <td>0.988876</td>\n",
              "      <td>0.987849</td>\n",
              "      <td>0.977185</td>\n",
              "      <td>0.987428</td>\n",
              "      <td>0.997648</td>\n",
              "      <td>0.977523</td>\n",
              "    </tr>\n",
              "    <tr>\n",
              "      <th>1763</th>\n",
              "      <td>NaN</td>\n",
              "      <td>0.984149</td>\n",
              "      <td>0.095017</td>\n",
              "      <td>0.973208</td>\n",
              "      <td>0.981704</td>\n",
              "      <td>0.976703</td>\n",
              "      <td>0.982211</td>\n",
              "      <td>1.000000</td>\n",
              "      <td>0.983639</td>\n",
              "    </tr>\n",
              "  </tbody>\n",
              "</table>\n",
              "</div>"
            ],
            "text/plain": [
              "      Next_close     Close    Volume  ...       SMA       EMA       obv\n",
              "1759    0.999783  0.999581  0.157690  ...  0.993057  0.988062  0.989851\n",
              "1760    0.988941  0.999783  0.088669  ...  1.000000  0.993028  0.995558\n",
              "1761    0.972966  0.988941  0.110807  ...  0.996310  0.996349  0.988426\n",
              "1762    0.984149  0.972966  0.169406  ...  0.987428  0.997648  0.977523\n",
              "1763         NaN  0.984149  0.095017  ...  0.982211  1.000000  0.983639\n",
              "\n",
              "[5 rows x 9 columns]"
            ]
          },
          "metadata": {
            "tags": []
          }
        }
      ]
    },
    {
      "cell_type": "code",
      "metadata": {
        "id": "Amw1KZBDrAVT"
      },
      "source": [
        "def multivariate_data(dataset, target, start_index, end_index, history_size,\n",
        "                      target_size, step, single_step=False):\n",
        "    data = []\n",
        "    labels = []\n",
        "\n",
        "    start_index = start_index + history_size\n",
        "    if end_index is None:\n",
        "        end_index = len(dataset) - target_size\n",
        "\n",
        "    for i in range(start_index, end_index):\n",
        "        indices = range(i-history_size, i, step)\n",
        "        data.append(dataset[indices])\n",
        "\n",
        "        if single_step:\n",
        "            labels.append(target[i+target_size])\n",
        "        else:\n",
        "            labels.append(target[i:i+target_size])\n",
        "\n",
        "    return np.array(data), np.array(labels)"
      ],
      "execution_count": null,
      "outputs": []
    },
    {
      "cell_type": "markdown",
      "metadata": {
        "id": "0tvPd-J-Taa6"
      },
      "source": [
        "Training Dataset: The sample of data used to fit the model.\n",
        "\n",
        "Validation Dataset: The sample of data used to provide an unbiased evaluation of a model fit on the training dataset while tuning model hyperparameters. The evaluation becomes more biased as skill on the validation dataset is incorporated into the model configuration.\n",
        "\n",
        "Test Dataset: The sample of data used to provide an unbiased evaluation of a final model fit on the training dataset."
      ]
    },
    {
      "cell_type": "code",
      "metadata": {
        "id": "tik9qZyDrAYN"
      },
      "source": [
        "past_history = 320    # Decide on a past_history and give reasoning\n",
        "future_target = 1\n",
        "STEP = 1    \n",
        "\n",
        "x_train_single, y_train_single = multivariate_data(dataset[:,1:], dataset[:, 0], 0,\n",
        "                                                   TRAIN_SPLIT, past_history,\n",
        "                                                   future_target, STEP,\n",
        "                                                   single_step=True)\n",
        "\n",
        "x_val_single, y_val_single = multivariate_data(dataset[:,1:], dataset[:, 0], 0,\n",
        "                                                   TRAIN_SPLIT, past_history,\n",
        "                                                   future_target, STEP,\n",
        "                                                   single_step=True)\n"
      ],
      "execution_count": null,
      "outputs": []
    },
    {
      "cell_type": "code",
      "metadata": {
        "id": "zSLSBWrarAaT",
        "colab": {
          "base_uri": "https://localhost:8080/"
        },
        "outputId": "674b3dce-fa82-49cd-9114-921322c91bad"
      },
      "source": [
        "print(x_train_single.shape)\n",
        "print ('Single window of past history : {}'.format(x_train_single[0].shape))\n",
        "print(x_train_single.shape[-2:])"
      ],
      "execution_count": null,
      "outputs": [
        {
          "output_type": "stream",
          "text": [
            "(1091, 320, 8)\n",
            "Single window of past history : (320, 8)\n",
            "(320, 8)\n"
          ],
          "name": "stdout"
        }
      ]
    },
    {
      "cell_type": "code",
      "metadata": {
        "id": "r5TRl-6TrAgm"
      },
      "source": [
        "train_data_single = tf.data.Dataset.from_tensor_slices((x_train_single, y_train_single))\n",
        "train_data_single = train_data_single.cache().shuffle(BUFFER_SIZE).batch(BATCH_SIZE).repeat() # Should this shuffle? Timeseries? Or with a sufficient buffer is it advised?\n",
        "#train_data_single = train_data_single.cache().batch(BATCH_SIZE).repeat()\n",
        "\n",
        "val_data_single = tf.data.Dataset.from_tensor_slices((x_val_single, y_val_single))\n",
        "val_data_single = val_data_single.cache().shuffle(BUFFER_SIZE).batch(BATCH_SIZE).repeat()  ## Should this shuffle? Timeseries? Or with a sufficient buffer is it advised?\n",
        "#val_data_single = train_data_single.cache().batch(BATCH_SIZE).repeat()\n",
        "#train_data_single.shape"
      ],
      "execution_count": null,
      "outputs": []
    },
    {
      "cell_type": "markdown",
      "metadata": {
        "id": "b6XTRJi-056-"
      },
      "source": [
        "Choosing the correct optimizer: \n",
        "\n",
        "RMSprop:\n",
        "* Maintain a moving (discounted) average of the square of gradients\n",
        "* Divide the gradient by the root of this average\n",
        "adam: Adam optimization is a stochastic gradient descent method that is based on adaptive estimation of first-order and second-order moments.\n",
        "\n",
        "SGD: Gradient descent (with momentum) optimizer.\n",
        "\n",
        "Choice of Loss:\n",
        "MAPE?\n",
        "Can't use with scaled data\n",
        "\n",
        "Mean absolute scaled error (MASE): \n",
        "\n",
        "a measure of the accuracy of forecasts. It is the mean absolute error of the forecast values, divided by the mean absolute error of the in-sample one-step naive forecast. \n",
        "\n",
        "Mean Squared Log Error:\n",
        "\n"
      ]
    },
    {
      "cell_type": "code",
      "metadata": {
        "id": "odS1BDbxsKVY"
      },
      "source": [
        "from keras import regularizers\n",
        "single_step_model = tf.keras.models.Sequential()\n",
        "single_step_model.add(tf.keras.layers.LSTM(4,    # Capacity best out of:2, 8, 32\n",
        "                                           kernel_regularizer = regularizers.l2(0.001), # Regularization - fight overfitting\n",
        "                                           input_shape=x_train_single.shape[-2:]))    # LSTM layer with input shape of x_train_single.shape[-2:]\n",
        "single_step_model.add(tf.keras.layers.Dropout(0.2))   # Add dropout rate\n",
        "single_step_model.add(tf.keras.layers.Dense(1)) # activation = sigmoid? Because I have normalised it to be between -1 and 1? Or no activation?\n",
        "\n",
        "single_step_model.compile(optimizer='adam', loss='mean_squared_error',  metrics=['mean_absolute_error', 'mape']) #adam said to be best in CV\n"
      ],
      "execution_count": null,
      "outputs": []
    },
    {
      "cell_type": "code",
      "metadata": {
        "id": "plKjEXwUela0"
      },
      "source": [
        "# Grid Search\n",
        "\n",
        "def build_classifier(optimizer):\n",
        "  model = tf.keras.models.Sequential()\n",
        "  model.add(tf.keras.layers.LSTM(4,    # Capacity best out of:2, 8, 32\n",
        "                                 kernel_regularizer = regularizers.l2(0.001), # Regularization - fight overfitting\n",
        "                                 input_shape=x_train_single.shape[-2:]))    # LSTM layer with input shape of x_train_single.shape[-2:]\n",
        "  model.add(tf.keras.layers.Dropout(0.2))   # Add dropout rate\n",
        "  model.add(tf.keras.layers.Dense(1)) # activation = sigmoid? Because I have normalised it to be between -1 and 1? Or no activation?\n",
        "  model.compile(optimizer=tf.keras.optimizers.RMSprop(), loss='mean_squared_error',  metrics=['mean_absolute_error', 'mape']) #\n",
        "  return model\n",
        "\n",
        "grid_model = KerasClassifier(build_fn=build_classifier)\n",
        "parameters = {'batch_size' : [1, 17, 83, 1411],\n",
        "              'optimizer' : ['adam','RMSprop'] }\n",
        "\n",
        "grid_search  = GridSearchCV(estimator = grid_model,\n",
        "                            param_grid = parameters,\n",
        "                            scoring = 'neg_mean_squared_error',\n",
        "                            cv = 2)"
      ],
      "execution_count": null,
      "outputs": []
    },
    {
      "cell_type": "code",
      "metadata": {
        "id": "H_5cpavOfdNr",
        "colab": {
          "base_uri": "https://localhost:8080/"
        },
        "outputId": "51606a07-c59d-40cf-a405-bc751bc36abe"
      },
      "source": [
        "#GridSearchCV?\n",
        "grid_search = grid_search.fit(x_train_single, y_train_single)"
      ],
      "execution_count": null,
      "outputs": [
        {
          "output_type": "stream",
          "text": [
            "545/545 [==============================] - 23s 38ms/step - loss: 97079.5781 - mean_absolute_error: 269.2177 - mape: 2796148.0000\n"
          ],
          "name": "stdout"
        },
        {
          "output_type": "stream",
          "text": [
            "/usr/local/lib/python3.7/dist-packages/tensorflow/python/keras/engine/sequential.py:455: UserWarning: `model.predict_classes()` is deprecated and will be removed after 2021-01-01. Please use instead:* `np.argmax(model.predict(x), axis=-1)`,   if your model does multi-class classification   (e.g. if it uses a `softmax` last-layer activation).* `(model.predict(x) > 0.5).astype(\"int32\")`,   if your model does binary classification   (e.g. if it uses a `sigmoid` last-layer activation).\n",
            "  warnings.warn('`model.predict_classes()` is deprecated and '\n"
          ],
          "name": "stderr"
        },
        {
          "output_type": "stream",
          "text": [
            "546/546 [==============================] - 22s 37ms/step - loss: 97463.6172 - mean_absolute_error: 269.8752 - mape: 7197797.5000\n"
          ],
          "name": "stdout"
        },
        {
          "output_type": "stream",
          "text": [
            "/usr/local/lib/python3.7/dist-packages/tensorflow/python/keras/engine/sequential.py:455: UserWarning: `model.predict_classes()` is deprecated and will be removed after 2021-01-01. Please use instead:* `np.argmax(model.predict(x), axis=-1)`,   if your model does multi-class classification   (e.g. if it uses a `softmax` last-layer activation).* `(model.predict(x) > 0.5).astype(\"int32\")`,   if your model does binary classification   (e.g. if it uses a `sigmoid` last-layer activation).\n",
            "  warnings.warn('`model.predict_classes()` is deprecated and '\n"
          ],
          "name": "stderr"
        },
        {
          "output_type": "stream",
          "text": [
            "545/545 [==============================] - 21s 37ms/step - loss: 97005.3906 - mean_absolute_error: 269.0391 - mape: 4419827.0000\n"
          ],
          "name": "stdout"
        },
        {
          "output_type": "stream",
          "text": [
            "/usr/local/lib/python3.7/dist-packages/tensorflow/python/keras/engine/sequential.py:455: UserWarning: `model.predict_classes()` is deprecated and will be removed after 2021-01-01. Please use instead:* `np.argmax(model.predict(x), axis=-1)`,   if your model does multi-class classification   (e.g. if it uses a `softmax` last-layer activation).* `(model.predict(x) > 0.5).astype(\"int32\")`,   if your model does binary classification   (e.g. if it uses a `sigmoid` last-layer activation).\n",
            "  warnings.warn('`model.predict_classes()` is deprecated and '\n"
          ],
          "name": "stderr"
        },
        {
          "output_type": "stream",
          "text": [
            "546/546 [==============================] - 21s 36ms/step - loss: 97553.0781 - mean_absolute_error: 270.0118 - mape: 5314862.0000\n"
          ],
          "name": "stdout"
        },
        {
          "output_type": "stream",
          "text": [
            "/usr/local/lib/python3.7/dist-packages/tensorflow/python/keras/engine/sequential.py:455: UserWarning: `model.predict_classes()` is deprecated and will be removed after 2021-01-01. Please use instead:* `np.argmax(model.predict(x), axis=-1)`,   if your model does multi-class classification   (e.g. if it uses a `softmax` last-layer activation).* `(model.predict(x) > 0.5).astype(\"int32\")`,   if your model does binary classification   (e.g. if it uses a `sigmoid` last-layer activation).\n",
            "  warnings.warn('`model.predict_classes()` is deprecated and '\n"
          ],
          "name": "stderr"
        },
        {
          "output_type": "stream",
          "text": [
            "33/33 [==============================] - 5s 77ms/step - loss: 98422.6406 - mean_absolute_error: 271.6100 - mape: 71173.1797\n"
          ],
          "name": "stdout"
        },
        {
          "output_type": "stream",
          "text": [
            "/usr/local/lib/python3.7/dist-packages/tensorflow/python/keras/engine/sequential.py:455: UserWarning: `model.predict_classes()` is deprecated and will be removed after 2021-01-01. Please use instead:* `np.argmax(model.predict(x), axis=-1)`,   if your model does multi-class classification   (e.g. if it uses a `softmax` last-layer activation).* `(model.predict(x) > 0.5).astype(\"int32\")`,   if your model does binary classification   (e.g. if it uses a `sigmoid` last-layer activation).\n",
            "  warnings.warn('`model.predict_classes()` is deprecated and '\n"
          ],
          "name": "stderr"
        },
        {
          "output_type": "stream",
          "text": [
            "33/33 [==============================] - 4s 78ms/step - loss: 98423.8047 - mean_absolute_error: 271.6437 - mape: 122658.2969\n"
          ],
          "name": "stdout"
        },
        {
          "output_type": "stream",
          "text": [
            "/usr/local/lib/python3.7/dist-packages/tensorflow/python/keras/engine/sequential.py:455: UserWarning: `model.predict_classes()` is deprecated and will be removed after 2021-01-01. Please use instead:* `np.argmax(model.predict(x), axis=-1)`,   if your model does multi-class classification   (e.g. if it uses a `softmax` last-layer activation).* `(model.predict(x) > 0.5).astype(\"int32\")`,   if your model does binary classification   (e.g. if it uses a `sigmoid` last-layer activation).\n",
            "  warnings.warn('`model.predict_classes()` is deprecated and '\n"
          ],
          "name": "stderr"
        },
        {
          "output_type": "stream",
          "text": [
            "33/33 [==============================] - 4s 80ms/step - loss: 98494.0234 - mean_absolute_error: 271.7510 - mape: 256516.1094\n"
          ],
          "name": "stdout"
        },
        {
          "output_type": "stream",
          "text": [
            "/usr/local/lib/python3.7/dist-packages/tensorflow/python/keras/engine/sequential.py:455: UserWarning: `model.predict_classes()` is deprecated and will be removed after 2021-01-01. Please use instead:* `np.argmax(model.predict(x), axis=-1)`,   if your model does multi-class classification   (e.g. if it uses a `softmax` last-layer activation).* `(model.predict(x) > 0.5).astype(\"int32\")`,   if your model does binary classification   (e.g. if it uses a `sigmoid` last-layer activation).\n",
            "  warnings.warn('`model.predict_classes()` is deprecated and '\n"
          ],
          "name": "stderr"
        },
        {
          "output_type": "stream",
          "text": [
            "33/33 [==============================] - 5s 78ms/step - loss: 98620.3438 - mean_absolute_error: 271.9843 - mape: 156140.5938\n"
          ],
          "name": "stdout"
        },
        {
          "output_type": "stream",
          "text": [
            "/usr/local/lib/python3.7/dist-packages/tensorflow/python/keras/engine/sequential.py:455: UserWarning: `model.predict_classes()` is deprecated and will be removed after 2021-01-01. Please use instead:* `np.argmax(model.predict(x), axis=-1)`,   if your model does multi-class classification   (e.g. if it uses a `softmax` last-layer activation).* `(model.predict(x) > 0.5).astype(\"int32\")`,   if your model does binary classification   (e.g. if it uses a `sigmoid` last-layer activation).\n",
            "  warnings.warn('`model.predict_classes()` is deprecated and '\n"
          ],
          "name": "stderr"
        },
        {
          "output_type": "stream",
          "text": [
            "7/7 [==============================] - 2s 81ms/step - loss: 98421.9609 - mean_absolute_error: 271.6532 - mape: 14696.9795\n"
          ],
          "name": "stdout"
        },
        {
          "output_type": "stream",
          "text": [
            "/usr/local/lib/python3.7/dist-packages/tensorflow/python/keras/engine/sequential.py:455: UserWarning: `model.predict_classes()` is deprecated and will be removed after 2021-01-01. Please use instead:* `np.argmax(model.predict(x), axis=-1)`,   if your model does multi-class classification   (e.g. if it uses a `softmax` last-layer activation).* `(model.predict(x) > 0.5).astype(\"int32\")`,   if your model does binary classification   (e.g. if it uses a `sigmoid` last-layer activation).\n",
            "  warnings.warn('`model.predict_classes()` is deprecated and '\n"
          ],
          "name": "stderr"
        },
        {
          "output_type": "stream",
          "text": [
            "7/7 [==============================] - 2s 83ms/step - loss: 98765.3281 - mean_absolute_error: 272.1874 - mape: 88353.1875\n"
          ],
          "name": "stdout"
        },
        {
          "output_type": "stream",
          "text": [
            "/usr/local/lib/python3.7/dist-packages/tensorflow/python/keras/engine/sequential.py:455: UserWarning: `model.predict_classes()` is deprecated and will be removed after 2021-01-01. Please use instead:* `np.argmax(model.predict(x), axis=-1)`,   if your model does multi-class classification   (e.g. if it uses a `softmax` last-layer activation).* `(model.predict(x) > 0.5).astype(\"int32\")`,   if your model does binary classification   (e.g. if it uses a `sigmoid` last-layer activation).\n",
            "  warnings.warn('`model.predict_classes()` is deprecated and '\n"
          ],
          "name": "stderr"
        },
        {
          "output_type": "stream",
          "text": [
            "7/7 [==============================] - 3s 80ms/step - loss: 98483.4141 - mean_absolute_error: 271.7224 - mape: 137417.8281\n"
          ],
          "name": "stdout"
        },
        {
          "output_type": "stream",
          "text": [
            "/usr/local/lib/python3.7/dist-packages/tensorflow/python/keras/engine/sequential.py:455: UserWarning: `model.predict_classes()` is deprecated and will be removed after 2021-01-01. Please use instead:* `np.argmax(model.predict(x), axis=-1)`,   if your model does multi-class classification   (e.g. if it uses a `softmax` last-layer activation).* `(model.predict(x) > 0.5).astype(\"int32\")`,   if your model does binary classification   (e.g. if it uses a `sigmoid` last-layer activation).\n",
            "  warnings.warn('`model.predict_classes()` is deprecated and '\n"
          ],
          "name": "stderr"
        },
        {
          "output_type": "stream",
          "text": [
            "7/7 [==============================] - 2s 81ms/step - loss: 98502.2734 - mean_absolute_error: 271.7881 - mape: 178739.0781\n"
          ],
          "name": "stdout"
        },
        {
          "output_type": "stream",
          "text": [
            "/usr/local/lib/python3.7/dist-packages/tensorflow/python/keras/engine/sequential.py:455: UserWarning: `model.predict_classes()` is deprecated and will be removed after 2021-01-01. Please use instead:* `np.argmax(model.predict(x), axis=-1)`,   if your model does multi-class classification   (e.g. if it uses a `softmax` last-layer activation).* `(model.predict(x) > 0.5).astype(\"int32\")`,   if your model does binary classification   (e.g. if it uses a `sigmoid` last-layer activation).\n",
            "  warnings.warn('`model.predict_classes()` is deprecated and '\n"
          ],
          "name": "stderr"
        },
        {
          "output_type": "stream",
          "text": [
            "1/1 [==============================] - 2s 2s/step - loss: 98778.8984 - mean_absolute_error: 272.2175 - mape: 339020.4688\n"
          ],
          "name": "stdout"
        },
        {
          "output_type": "stream",
          "text": [
            "/usr/local/lib/python3.7/dist-packages/tensorflow/python/keras/engine/sequential.py:455: UserWarning: `model.predict_classes()` is deprecated and will be removed after 2021-01-01. Please use instead:* `np.argmax(model.predict(x), axis=-1)`,   if your model does multi-class classification   (e.g. if it uses a `softmax` last-layer activation).* `(model.predict(x) > 0.5).astype(\"int32\")`,   if your model does binary classification   (e.g. if it uses a `sigmoid` last-layer activation).\n",
            "  warnings.warn('`model.predict_classes()` is deprecated and '\n"
          ],
          "name": "stderr"
        },
        {
          "output_type": "stream",
          "text": [
            "1/1 [==============================] - 2s 2s/step - loss: 98725.5547 - mean_absolute_error: 272.1170 - mape: 80582.9141\n"
          ],
          "name": "stdout"
        },
        {
          "output_type": "stream",
          "text": [
            "/usr/local/lib/python3.7/dist-packages/tensorflow/python/keras/engine/sequential.py:455: UserWarning: `model.predict_classes()` is deprecated and will be removed after 2021-01-01. Please use instead:* `np.argmax(model.predict(x), axis=-1)`,   if your model does multi-class classification   (e.g. if it uses a `softmax` last-layer activation).* `(model.predict(x) > 0.5).astype(\"int32\")`,   if your model does binary classification   (e.g. if it uses a `sigmoid` last-layer activation).\n",
            "  warnings.warn('`model.predict_classes()` is deprecated and '\n"
          ],
          "name": "stderr"
        },
        {
          "output_type": "stream",
          "text": [
            "1/1 [==============================] - 2s 2s/step - loss: 98763.9453 - mean_absolute_error: 272.2228 - mape: 770896.6250\n"
          ],
          "name": "stdout"
        },
        {
          "output_type": "stream",
          "text": [
            "/usr/local/lib/python3.7/dist-packages/tensorflow/python/keras/engine/sequential.py:455: UserWarning: `model.predict_classes()` is deprecated and will be removed after 2021-01-01. Please use instead:* `np.argmax(model.predict(x), axis=-1)`,   if your model does multi-class classification   (e.g. if it uses a `softmax` last-layer activation).* `(model.predict(x) > 0.5).astype(\"int32\")`,   if your model does binary classification   (e.g. if it uses a `sigmoid` last-layer activation).\n",
            "  warnings.warn('`model.predict_classes()` is deprecated and '\n"
          ],
          "name": "stderr"
        },
        {
          "output_type": "stream",
          "text": [
            "1/1 [==============================] - 2s 2s/step - loss: 98680.0938 - mean_absolute_error: 272.0775 - mape: 240503.4375\n"
          ],
          "name": "stdout"
        },
        {
          "output_type": "stream",
          "text": [
            "/usr/local/lib/python3.7/dist-packages/tensorflow/python/keras/engine/sequential.py:455: UserWarning: `model.predict_classes()` is deprecated and will be removed after 2021-01-01. Please use instead:* `np.argmax(model.predict(x), axis=-1)`,   if your model does multi-class classification   (e.g. if it uses a `softmax` last-layer activation).* `(model.predict(x) > 0.5).astype(\"int32\")`,   if your model does binary classification   (e.g. if it uses a `sigmoid` last-layer activation).\n",
            "  warnings.warn('`model.predict_classes()` is deprecated and '\n"
          ],
          "name": "stderr"
        },
        {
          "output_type": "stream",
          "text": [
            "65/65 [==============================] - 7s 79ms/step - loss: 393016.9688 - mean_absolute_error: 542.7804 - mape: 515107.5625\n"
          ],
          "name": "stdout"
        }
      ]
    },
    {
      "cell_type": "code",
      "metadata": {
        "id": "avx2KMokhwIL",
        "colab": {
          "base_uri": "https://localhost:8080/"
        },
        "outputId": "55863a85-ca45-4a11-9e73-6cf553c6ef22"
      },
      "source": [
        "print(\"Best accuracy: {}\\nBest combination: {}\".format(-grid_search.best_score_, \n",
        "                             grid_search.best_params_))"
      ],
      "execution_count": null,
      "outputs": [
        {
          "output_type": "stream",
          "text": [
            "Best accuracy: 0.11707223546336336\n",
            "Best combination: {'batch_size': 17, 'optimizer': 'adam'}\n"
          ],
          "name": "stdout"
        }
      ]
    },
    {
      "cell_type": "code",
      "metadata": {
        "id": "Van5J2poyJsS"
      },
      "source": [
        "BATCH_SIZE = 17\n",
        "train_data_single = tf.data.Dataset.from_tensor_slices((x_train_single, y_train_single))\n",
        "train_data_single = train_data_single.cache().shuffle(BUFFER_SIZE).batch(BATCH_SIZE).repeat() # Should this shuffle? Timeseries? Or with a sufficient buffer is it advised?\n",
        "#train_data_single = train_data_single.cache().batch(BATCH_SIZE).repeat()\n",
        "\n",
        "val_data_single = tf.data.Dataset.from_tensor_slices((x_val_single, y_val_single))\n",
        "val_data_single = val_data_single.cache().shuffle(BUFFER_SIZE).batch(BATCH_SIZE).repeat()  ## Should this shuffle? Timeseries? Or with a sufficient buffer is it advised?\n",
        "#val_data_single = train_data_single.cache().batch(BATCH_SIZE).repeat()\n",
        "#train_data_single.shape"
      ],
      "execution_count": null,
      "outputs": []
    },
    {
      "cell_type": "code",
      "metadata": {
        "id": "DRvCMWSPigVb"
      },
      "source": [
        "means = grid_search.cv_results_['mean_test_score']\n",
        "stds = grid_search.cv_results_['std_test_score']\n",
        "params = grid_search.cv_results_['params']\n",
        "# Create table for analysis\n",
        "\n",
        "d=pd.DataFrame(params)\n",
        "d['Mean']=means\n",
        "d['Std. Dev']=stds"
      ],
      "execution_count": null,
      "outputs": []
    },
    {
      "cell_type": "code",
      "metadata": {
        "id": "F0nr-tFQirX1",
        "colab": {
          "base_uri": "https://localhost:8080/",
          "height": 432
        },
        "outputId": "053ab780-ef3b-4dce-e2e2-b388b4329e37"
      },
      "source": [
        "param_ = ['batch_size','optimizer']\n",
        "import matplotlib.pyplot as plt\n",
        "fig, ax = plt.subplots(1,2,figsize=(10,6), squeeze=False)\n",
        "ax = ax.ravel()\n",
        "for i in range(2):\n",
        "    ax[i].set_title('Distribution of mean accuracy with {}'.format(param_[i]))\n",
        "    sns.violinplot(x=param_[i],y='Mean',data=d,ax=ax[i])\n",
        "fig.tight_layout(pad=1.5)"
      ],
      "execution_count": null,
      "outputs": [
        {
          "output_type": "display_data",
          "data": {
            "image/png": "[encoded data removed]",
            "text/plain": [
              "<Figure size 720x432 with 2 Axes>"
            ]
          },
          "metadata": {
            "tags": [],
            "needs_background": "light"
          }
        }
      ]
    },
    {
      "cell_type": "code",
      "metadata": {
        "id": "5X-BhYIdmOOe"
      },
      "source": [
        "single_step_model = tf.keras.models.Sequential()\n",
        "single_step_model.add(tf.keras.layers.LSTM(4,    # Capacity best out of:2, 8, 32\n",
        "                                           kernel_regularizer = regularizers.l2(0.001), # Regularization - fight overfitting\n",
        "                                           input_shape=x_train_single.shape[-2:]))    # LSTM layer with 32 outputs and input shape of x_train_single.shape[-2:]\n",
        "single_step_model.add(tf.keras.layers.Dropout(0.2))   # Add dropout rate\n",
        "single_step_model.add(tf.keras.layers.Dense(1)) # activation = sigmoid? Because I have normalised it to be between -1 and 1? Or no activation?\n",
        "single_step_model.compile(optimizer='adam', loss='mean_squared_error',  metrics=['mean_absolute_error', 'mape']) #\n"
      ],
      "execution_count": null,
      "outputs": []
    },
    {
      "cell_type": "code",
      "metadata": {
        "id": "18uA1e7KsKal",
        "colab": {
          "base_uri": "https://localhost:8080/"
        },
        "outputId": "0cf5ef7f-12b6-4c67-eb83-3b993d930746"
      },
      "source": [
        "print(f\"Evaluation Threshold: {EVALUATION_INTERVAL}\",\n",
        "      f\"Epochs: {EPOCHS}\", sep=\"\\n\")\n",
        "\n",
        "early_stopping = EarlyStopping(monitor='val_loss', patience = PATIENCE, restore_best_weights=True) \n",
        "single_step_history = single_step_model.fit(train_data_single,\n",
        "                                            epochs=EPOCHS,\n",
        "                                            steps_per_epoch=EVALUATION_INTERVAL,\n",
        "                                            validation_data=val_data_single,\n",
        "                                            callbacks=[early_stopping],\n",
        "                                            validation_steps=17)    # train_length // batch_size = "
      ],
      "execution_count": null,
      "outputs": [
        {
          "output_type": "stream",
          "text": [
            "Evaluation Threshold: 20\n",
            "Epochs: 500\n",
            "Epoch 1/500\n",
            "20/20 [==============================] - 5s 120ms/step - loss: 0.0391 - mean_absolute_error: 0.1173 - mape: 164249.9219 - val_loss: 0.0172 - val_mean_absolute_error: 0.0560 - val_mape: 93336.7734\n",
            "Epoch 2/500\n",
            "20/20 [==============================] - 2s 101ms/step - loss: 0.0397 - mean_absolute_error: 0.0970 - mape: 44272.5586 - val_loss: 0.0155 - val_mean_absolute_error: 0.0504 - val_mape: 76367.8828\n",
            "Epoch 3/500\n",
            "20/20 [==============================] - 2s 103ms/step - loss: 0.0337 - mean_absolute_error: 0.0816 - mape: 53805.3594 - val_loss: 0.0133 - val_mean_absolute_error: 0.0413 - val_mape: 75365.4766\n",
            "Epoch 4/500\n",
            "20/20 [==============================] - 2s 105ms/step - loss: 0.0315 - mean_absolute_error: 0.0783 - mape: 25382.9277 - val_loss: 0.0127 - val_mean_absolute_error: 0.0411 - val_mape: 36381.9297\n",
            "Epoch 5/500\n",
            "20/20 [==============================] - 2s 101ms/step - loss: 0.0295 - mean_absolute_error: 0.0748 - mape: 71100.4609 - val_loss: 0.0119 - val_mean_absolute_error: 0.0392 - val_mape: 39366.5703\n",
            "Epoch 6/500\n",
            "20/20 [==============================] - 2s 105ms/step - loss: 0.0205 - mean_absolute_error: 0.0582 - mape: 27376.9844 - val_loss: 0.0110 - val_mean_absolute_error: 0.0365 - val_mape: 82385.5938\n",
            "Epoch 7/500\n",
            "20/20 [==============================] - 2s 102ms/step - loss: 0.0250 - mean_absolute_error: 0.0748 - mape: 36239.2930 - val_loss: 0.0104 - val_mean_absolute_error: 0.0360 - val_mape: 87203.2656\n",
            "Epoch 8/500\n",
            "20/20 [==============================] - 2s 102ms/step - loss: 0.0151 - mean_absolute_error: 0.0488 - mape: 73067.2422 - val_loss: 0.0099 - val_mean_absolute_error: 0.0358 - val_mape: 90376.6172\n",
            "Epoch 9/500\n",
            "20/20 [==============================] - 2s 101ms/step - loss: 0.0189 - mean_absolute_error: 0.0679 - mape: 21013.6016 - val_loss: 0.0092 - val_mean_absolute_error: 0.0345 - val_mape: 95331.4141\n",
            "Epoch 10/500\n",
            "20/20 [==============================] - 2s 97ms/step - loss: 0.0156 - mean_absolute_error: 0.0596 - mape: 58231.4219 - val_loss: 0.0089 - val_mean_absolute_error: 0.0354 - val_mape: 93995.5234\n",
            "Epoch 11/500\n",
            "20/20 [==============================] - 2s 101ms/step - loss: 0.0142 - mean_absolute_error: 0.0590 - mape: 70161.2812 - val_loss: 0.0080 - val_mean_absolute_error: 0.0331 - val_mape: 101354.7734\n",
            "Epoch 12/500\n",
            "20/20 [==============================] - 2s 100ms/step - loss: 0.0158 - mean_absolute_error: 0.0670 - mape: 77365.9766 - val_loss: 0.0077 - val_mean_absolute_error: 0.0347 - val_mape: 107148.7656\n",
            "Epoch 13/500\n",
            "20/20 [==============================] - 2s 99ms/step - loss: 0.0118 - mean_absolute_error: 0.0553 - mape: 31651.5703 - val_loss: 0.0079 - val_mean_absolute_error: 0.0360 - val_mape: 95311.9375\n",
            "Epoch 14/500\n",
            "20/20 [==============================] - 2s 98ms/step - loss: 0.0142 - mean_absolute_error: 0.0661 - mape: 104071.2188 - val_loss: 0.0070 - val_mean_absolute_error: 0.0340 - val_mape: 103187.1484\n",
            "Epoch 15/500\n",
            "20/20 [==============================] - 2s 99ms/step - loss: 0.0107 - mean_absolute_error: 0.0517 - mape: 134770.3125 - val_loss: 0.0067 - val_mean_absolute_error: 0.0329 - val_mape: 99019.5234\n",
            "Epoch 16/500\n",
            "20/20 [==============================] - 2s 108ms/step - loss: 0.0125 - mean_absolute_error: 0.0637 - mape: 16395.3887 - val_loss: 0.0061 - val_mean_absolute_error: 0.0299 - val_mape: 95285.3594\n",
            "Epoch 17/500\n",
            "20/20 [==============================] - 2s 101ms/step - loss: 0.0112 - mean_absolute_error: 0.0536 - mape: 58556.1758 - val_loss: 0.0058 - val_mean_absolute_error: 0.0296 - val_mape: 47399.7148\n",
            "Epoch 18/500\n",
            "20/20 [==============================] - 2s 102ms/step - loss: 0.0102 - mean_absolute_error: 0.0538 - mape: 95241.9766 - val_loss: 0.0055 - val_mean_absolute_error: 0.0277 - val_mape: 88040.7656\n",
            "Epoch 19/500\n",
            "20/20 [==============================] - 2s 99ms/step - loss: 0.0118 - mean_absolute_error: 0.0585 - mape: 50482.5352 - val_loss: 0.0053 - val_mean_absolute_error: 0.0284 - val_mape: 88966.5156\n",
            "Epoch 20/500\n",
            "20/20 [==============================] - 2s 99ms/step - loss: 0.0088 - mean_absolute_error: 0.0468 - mape: 31581.3164 - val_loss: 0.0050 - val_mean_absolute_error: 0.0276 - val_mape: 90673.3125\n",
            "Epoch 21/500\n",
            "20/20 [==============================] - 2s 99ms/step - loss: 0.0114 - mean_absolute_error: 0.0616 - mape: 28445.7305 - val_loss: 0.0049 - val_mean_absolute_error: 0.0270 - val_mape: 84569.1719\n",
            "Epoch 22/500\n",
            "20/20 [==============================] - 2s 99ms/step - loss: 0.0082 - mean_absolute_error: 0.0452 - mape: 43505.5117 - val_loss: 0.0046 - val_mean_absolute_error: 0.0284 - val_mape: 96827.3438\n",
            "Epoch 23/500\n",
            "20/20 [==============================] - 2s 98ms/step - loss: 0.0102 - mean_absolute_error: 0.0563 - mape: 24769.5352 - val_loss: 0.0047 - val_mean_absolute_error: 0.0288 - val_mape: 84215.7109\n",
            "Epoch 24/500\n",
            "20/20 [==============================] - 2s 99ms/step - loss: 0.0089 - mean_absolute_error: 0.0499 - mape: 128088.8516 - val_loss: 0.0044 - val_mean_absolute_error: 0.0279 - val_mape: 88039.0469\n",
            "Epoch 25/500\n",
            "20/20 [==============================] - 2s 99ms/step - loss: 0.0078 - mean_absolute_error: 0.0461 - mape: 17762.0020 - val_loss: 0.0040 - val_mean_absolute_error: 0.0257 - val_mape: 87644.3125\n",
            "Epoch 26/500\n",
            "20/20 [==============================] - 2s 101ms/step - loss: 0.0088 - mean_absolute_error: 0.0503 - mape: 94551.1484 - val_loss: 0.0040 - val_mean_absolute_error: 0.0266 - val_mape: 84013.4219\n",
            "Epoch 27/500\n",
            "20/20 [==============================] - 2s 101ms/step - loss: 0.0064 - mean_absolute_error: 0.0395 - mape: 56139.5078 - val_loss: 0.0039 - val_mean_absolute_error: 0.0263 - val_mape: 85258.6406\n",
            "Epoch 28/500\n",
            "20/20 [==============================] - 2s 101ms/step - loss: 0.0092 - mean_absolute_error: 0.0543 - mape: 11170.3125 - val_loss: 0.0036 - val_mean_absolute_error: 0.0249 - val_mape: 84028.0156\n",
            "Epoch 29/500\n",
            "20/20 [==============================] - 2s 99ms/step - loss: 0.0064 - mean_absolute_error: 0.0401 - mape: 103624.1328 - val_loss: 0.0035 - val_mean_absolute_error: 0.0231 - val_mape: 76447.6016\n",
            "Epoch 30/500\n",
            "20/20 [==============================] - 2s 99ms/step - loss: 0.0072 - mean_absolute_error: 0.0471 - mape: 17077.2754 - val_loss: 0.0034 - val_mean_absolute_error: 0.0234 - val_mape: 80046.5703\n",
            "Epoch 31/500\n",
            "20/20 [==============================] - 2s 98ms/step - loss: 0.0065 - mean_absolute_error: 0.0419 - mape: 53399.4688 - val_loss: 0.0032 - val_mean_absolute_error: 0.0233 - val_mape: 80959.2656\n",
            "Epoch 32/500\n",
            "20/20 [==============================] - 2s 100ms/step - loss: 0.0063 - mean_absolute_error: 0.0424 - mape: 35648.0195 - val_loss: 0.0033 - val_mean_absolute_error: 0.0238 - val_mape: 75836.0859\n",
            "Epoch 33/500\n",
            "20/20 [==============================] - 2s 99ms/step - loss: 0.0075 - mean_absolute_error: 0.0488 - mape: 192856.8750 - val_loss: 0.0031 - val_mean_absolute_error: 0.0242 - val_mape: 81880.0312\n",
            "Epoch 34/500\n",
            "20/20 [==============================] - 2s 98ms/step - loss: 0.0051 - mean_absolute_error: 0.0374 - mape: 42747.0898 - val_loss: 0.0030 - val_mean_absolute_error: 0.0234 - val_mape: 80761.5859\n",
            "Epoch 35/500\n",
            "20/20 [==============================] - 2s 99ms/step - loss: 0.0078 - mean_absolute_error: 0.0527 - mape: 4031.6917 - val_loss: 0.0029 - val_mean_absolute_error: 0.0216 - val_mape: 70473.7109\n",
            "Epoch 36/500\n",
            "20/20 [==============================] - 2s 100ms/step - loss: 0.0055 - mean_absolute_error: 0.0383 - mape: 98276.5000 - val_loss: 0.0028 - val_mean_absolute_error: 0.0234 - val_mape: 81687.6094\n",
            "Epoch 37/500\n",
            "20/20 [==============================] - 2s 99ms/step - loss: 0.0062 - mean_absolute_error: 0.0455 - mape: 87292.8203 - val_loss: 0.0028 - val_mean_absolute_error: 0.0231 - val_mape: 74987.1250\n",
            "Epoch 38/500\n",
            "20/20 [==============================] - 2s 98ms/step - loss: 0.0055 - mean_absolute_error: 0.0410 - mape: 54386.7070 - val_loss: 0.0028 - val_mean_absolute_error: 0.0229 - val_mape: 71865.7109\n",
            "Epoch 39/500\n",
            "20/20 [==============================] - 2s 99ms/step - loss: 0.0054 - mean_absolute_error: 0.0393 - mape: 12166.1953 - val_loss: 0.0026 - val_mean_absolute_error: 0.0212 - val_mape: 73492.3750\n",
            "Epoch 40/500\n",
            "20/20 [==============================] - 2s 100ms/step - loss: 0.0064 - mean_absolute_error: 0.0460 - mape: 99662.1484 - val_loss: 0.0025 - val_mean_absolute_error: 0.0213 - val_mape: 75263.8047\n",
            "Epoch 41/500\n",
            "20/20 [==============================] - 2s 100ms/step - loss: 0.0049 - mean_absolute_error: 0.0377 - mape: 9762.6367 - val_loss: 0.0024 - val_mean_absolute_error: 0.0200 - val_mape: 70166.7500\n",
            "Epoch 42/500\n",
            "20/20 [==============================] - 2s 101ms/step - loss: 0.0064 - mean_absolute_error: 0.0485 - mape: 8144.4448 - val_loss: 0.0023 - val_mean_absolute_error: 0.0190 - val_mape: 68397.1016\n",
            "Epoch 43/500\n",
            "20/20 [==============================] - 2s 102ms/step - loss: 0.0047 - mean_absolute_error: 0.0363 - mape: 86807.9062 - val_loss: 0.0023 - val_mean_absolute_error: 0.0197 - val_mape: 66615.1484\n",
            "Epoch 44/500\n",
            "20/20 [==============================] - 2s 100ms/step - loss: 0.0053 - mean_absolute_error: 0.0423 - mape: 20238.6113 - val_loss: 0.0024 - val_mean_absolute_error: 0.0227 - val_mape: 73436.3203\n",
            "Epoch 45/500\n",
            "20/20 [==============================] - 2s 99ms/step - loss: 0.0050 - mean_absolute_error: 0.0398 - mape: 48869.5859 - val_loss: 0.0024 - val_mean_absolute_error: 0.0221 - val_mape: 69797.5469\n",
            "Epoch 46/500\n",
            "20/20 [==============================] - 2s 101ms/step - loss: 0.0047 - mean_absolute_error: 0.0384 - mape: 44906.5312 - val_loss: 0.0021 - val_mean_absolute_error: 0.0193 - val_mape: 70169.1797\n",
            "Epoch 47/500\n",
            "20/20 [==============================] - 2s 100ms/step - loss: 0.0057 - mean_absolute_error: 0.0449 - mape: 49049.9141 - val_loss: 0.0021 - val_mean_absolute_error: 0.0194 - val_mape: 70727.7344\n",
            "Epoch 48/500\n",
            "20/20 [==============================] - 2s 103ms/step - loss: 0.0047 - mean_absolute_error: 0.0375 - mape: 41320.8594 - val_loss: 0.0024 - val_mean_absolute_error: 0.0221 - val_mape: 63031.1758\n",
            "Epoch 49/500\n",
            "20/20 [==============================] - 2s 103ms/step - loss: 0.0064 - mean_absolute_error: 0.0529 - mape: 21400.7207 - val_loss: 0.0020 - val_mean_absolute_error: 0.0176 - val_mape: 57680.8906\n",
            "Epoch 50/500\n",
            "20/20 [==============================] - 2s 104ms/step - loss: 0.0048 - mean_absolute_error: 0.0408 - mape: 119393.2656 - val_loss: 0.0024 - val_mean_absolute_error: 0.0282 - val_mape: 83443.3047\n",
            "Epoch 51/500\n",
            "20/20 [==============================] - 2s 100ms/step - loss: 0.0051 - mean_absolute_error: 0.0444 - mape: 2604.8743 - val_loss: 0.0021 - val_mean_absolute_error: 0.0209 - val_mape: 65336.7422\n",
            "Epoch 52/500\n",
            "20/20 [==============================] - 2s 102ms/step - loss: 0.0047 - mean_absolute_error: 0.0407 - mape: 5392.8682 - val_loss: 0.0021 - val_mean_absolute_error: 0.0201 - val_mape: 63937.4336\n",
            "Epoch 53/500\n",
            "20/20 [==============================] - 2s 100ms/step - loss: 0.0039 - mean_absolute_error: 0.0358 - mape: 46517.8359 - val_loss: 0.0019 - val_mean_absolute_error: 0.0196 - val_mape: 71550.6250\n",
            "Epoch 54/500\n",
            "20/20 [==============================] - 2s 99ms/step - loss: 0.0049 - mean_absolute_error: 0.0421 - mape: 5074.6470 - val_loss: 0.0018 - val_mean_absolute_error: 0.0188 - val_mape: 69402.8594\n",
            "Epoch 55/500\n",
            "20/20 [==============================] - 2s 101ms/step - loss: 0.0035 - mean_absolute_error: 0.0340 - mape: 1729.6527 - val_loss: 0.0019 - val_mean_absolute_error: 0.0182 - val_mape: 59205.4336\n",
            "Epoch 56/500\n",
            "20/20 [==============================] - 2s 111ms/step - loss: 0.0053 - mean_absolute_error: 0.0449 - mape: 46372.3359 - val_loss: 0.0017 - val_mean_absolute_error: 0.0174 - val_mape: 64847.9414\n",
            "Epoch 57/500\n",
            "20/20 [==============================] - 2s 104ms/step - loss: 0.0038 - mean_absolute_error: 0.0354 - mape: 3958.9150 - val_loss: 0.0018 - val_mean_absolute_error: 0.0178 - val_mape: 59694.0312\n",
            "Epoch 58/500\n",
            "20/20 [==============================] - 2s 103ms/step - loss: 0.0043 - mean_absolute_error: 0.0396 - mape: 70416.8516 - val_loss: 0.0017 - val_mean_absolute_error: 0.0176 - val_mape: 65461.0625\n",
            "Epoch 59/500\n",
            "20/20 [==============================] - 2s 104ms/step - loss: 0.0044 - mean_absolute_error: 0.0390 - mape: 4307.0708 - val_loss: 0.0018 - val_mean_absolute_error: 0.0216 - val_mape: 75378.5234\n",
            "Epoch 60/500\n",
            "20/20 [==============================] - 2s 101ms/step - loss: 0.0040 - mean_absolute_error: 0.0383 - mape: 2022.4336 - val_loss: 0.0021 - val_mean_absolute_error: 0.0222 - val_mape: 61834.3359\n",
            "Epoch 61/500\n",
            "20/20 [==============================] - 2s 100ms/step - loss: 0.0051 - mean_absolute_error: 0.0459 - mape: 83635.5703 - val_loss: 0.0016 - val_mean_absolute_error: 0.0174 - val_mape: 64179.1719\n",
            "Epoch 62/500\n",
            "20/20 [==============================] - 2s 101ms/step - loss: 0.0032 - mean_absolute_error: 0.0319 - mape: 3615.2166 - val_loss: 0.0017 - val_mean_absolute_error: 0.0181 - val_mape: 63066.5781\n",
            "Epoch 63/500\n",
            "20/20 [==============================] - 2s 101ms/step - loss: 0.0045 - mean_absolute_error: 0.0421 - mape: 26362.4375 - val_loss: 0.0016 - val_mean_absolute_error: 0.0193 - val_mape: 68527.3984\n",
            "Epoch 64/500\n",
            "20/20 [==============================] - 2s 100ms/step - loss: 0.0036 - mean_absolute_error: 0.0352 - mape: 6122.2422 - val_loss: 0.0015 - val_mean_absolute_error: 0.0175 - val_mape: 64202.9258\n",
            "Epoch 65/500\n",
            "20/20 [==============================] - 2s 102ms/step - loss: 0.0041 - mean_absolute_error: 0.0403 - mape: 5688.3423 - val_loss: 0.0016 - val_mean_absolute_error: 0.0182 - val_mape: 62467.2656\n",
            "Epoch 66/500\n",
            "20/20 [==============================] - 2s 102ms/step - loss: 0.0039 - mean_absolute_error: 0.0393 - mape: 51251.3320 - val_loss: 0.0016 - val_mean_absolute_error: 0.0180 - val_mape: 63529.2461\n",
            "Epoch 67/500\n",
            "20/20 [==============================] - 2s 104ms/step - loss: 0.0035 - mean_absolute_error: 0.0356 - mape: 7946.5571 - val_loss: 0.0014 - val_mean_absolute_error: 0.0165 - val_mape: 61738.0078\n",
            "Epoch 68/500\n",
            "20/20 [==============================] - 2s 103ms/step - loss: 0.0043 - mean_absolute_error: 0.0422 - mape: 85086.4297 - val_loss: 0.0015 - val_mean_absolute_error: 0.0201 - val_mape: 72087.7812\n",
            "Epoch 69/500\n",
            "20/20 [==============================] - 2s 104ms/step - loss: 0.0033 - mean_absolute_error: 0.0354 - mape: 5385.6064 - val_loss: 0.0018 - val_mean_absolute_error: 0.0206 - val_mape: 56725.5039\n",
            "Epoch 70/500\n",
            "20/20 [==============================] - 2s 100ms/step - loss: 0.0046 - mean_absolute_error: 0.0437 - mape: 3552.9121 - val_loss: 0.0014 - val_mean_absolute_error: 0.0166 - val_mape: 61203.9688\n",
            "Epoch 71/500\n",
            "20/20 [==============================] - 2s 100ms/step - loss: 0.0036 - mean_absolute_error: 0.0350 - mape: 66527.1797 - val_loss: 0.0014 - val_mean_absolute_error: 0.0180 - val_mape: 63383.0977\n",
            "Epoch 72/500\n",
            "20/20 [==============================] - 2s 100ms/step - loss: 0.0039 - mean_absolute_error: 0.0397 - mape: 70577.7031 - val_loss: 0.0014 - val_mean_absolute_error: 0.0163 - val_mape: 58433.6523\n",
            "Epoch 73/500\n",
            "20/20 [==============================] - 2s 100ms/step - loss: 0.0036 - mean_absolute_error: 0.0377 - mape: 31889.7148 - val_loss: 0.0015 - val_mean_absolute_error: 0.0179 - val_mape: 60425.4219\n",
            "Epoch 74/500\n",
            "20/20 [==============================] - 2s 101ms/step - loss: 0.0031 - mean_absolute_error: 0.0341 - mape: 4351.2979 - val_loss: 0.0014 - val_mean_absolute_error: 0.0185 - val_mape: 65311.7148\n",
            "Epoch 75/500\n",
            "20/20 [==============================] - 2s 98ms/step - loss: 0.0035 - mean_absolute_error: 0.0385 - mape: 32346.1875 - val_loss: 0.0014 - val_mean_absolute_error: 0.0182 - val_mape: 66468.6641\n",
            "Epoch 76/500\n",
            "20/20 [==============================] - 2s 101ms/step - loss: 0.0031 - mean_absolute_error: 0.0326 - mape: 5674.8940 - val_loss: 0.0014 - val_mean_absolute_error: 0.0183 - val_mape: 65260.1094\n",
            "Epoch 77/500\n",
            "20/20 [==============================] - 2s 103ms/step - loss: 0.0040 - mean_absolute_error: 0.0406 - mape: 48961.4922 - val_loss: 0.0013 - val_mean_absolute_error: 0.0170 - val_mape: 63560.1016\n",
            "Epoch 78/500\n",
            "20/20 [==============================] - 2s 103ms/step - loss: 0.0030 - mean_absolute_error: 0.0341 - mape: 84810.3281 - val_loss: 0.0013 - val_mean_absolute_error: 0.0169 - val_mape: 61854.0352\n",
            "Epoch 79/500\n",
            "20/20 [==============================] - 2s 103ms/step - loss: 0.0036 - mean_absolute_error: 0.0379 - mape: 6029.7998 - val_loss: 0.0013 - val_mean_absolute_error: 0.0169 - val_mape: 63847.1289\n",
            "Epoch 80/500\n",
            "20/20 [==============================] - 2s 101ms/step - loss: 0.0033 - mean_absolute_error: 0.0369 - mape: 14745.3027 - val_loss: 0.0014 - val_mean_absolute_error: 0.0178 - val_mape: 64181.7070\n",
            "Epoch 81/500\n",
            "20/20 [==============================] - 2s 105ms/step - loss: 0.0032 - mean_absolute_error: 0.0345 - mape: 65386.4023 - val_loss: 0.0013 - val_mean_absolute_error: 0.0172 - val_mape: 65699.6406\n",
            "Epoch 82/500\n",
            "20/20 [==============================] - 2s 103ms/step - loss: 0.0038 - mean_absolute_error: 0.0404 - mape: 8272.4746 - val_loss: 0.0013 - val_mean_absolute_error: 0.0164 - val_mape: 30251.6504\n",
            "Epoch 83/500\n",
            "20/20 [==============================] - 2s 100ms/step - loss: 0.0028 - mean_absolute_error: 0.0319 - mape: 46136.3008 - val_loss: 0.0013 - val_mean_absolute_error: 0.0177 - val_mape: 67927.5625\n",
            "Epoch 84/500\n",
            "20/20 [==============================] - 2s 102ms/step - loss: 0.0040 - mean_absolute_error: 0.0419 - mape: 7958.5635 - val_loss: 0.0013 - val_mean_absolute_error: 0.0198 - val_mape: 73774.0859\n",
            "Epoch 85/500\n",
            "20/20 [==============================] - 2s 102ms/step - loss: 0.0034 - mean_absolute_error: 0.0387 - mape: 86489.9688 - val_loss: 0.0018 - val_mean_absolute_error: 0.0234 - val_mape: 50047.7422\n",
            "Epoch 86/500\n",
            "20/20 [==============================] - 2s 100ms/step - loss: 0.0042 - mean_absolute_error: 0.0444 - mape: 4073.1812 - val_loss: 0.0012 - val_mean_absolute_error: 0.0175 - val_mape: 60986.4414\n",
            "Epoch 87/500\n",
            "20/20 [==============================] - 2s 102ms/step - loss: 0.0040 - mean_absolute_error: 0.0439 - mape: 21241.8086 - val_loss: 0.0016 - val_mean_absolute_error: 0.0253 - val_mape: 82256.1719\n",
            "Epoch 88/500\n",
            "20/20 [==============================] - 2s 100ms/step - loss: 0.0034 - mean_absolute_error: 0.0386 - mape: 10899.0723 - val_loss: 0.0020 - val_mean_absolute_error: 0.0247 - val_mape: 58808.6328\n",
            "Epoch 89/500\n",
            "20/20 [==============================] - 2s 101ms/step - loss: 0.0043 - mean_absolute_error: 0.0434 - mape: 118537.9844 - val_loss: 0.0012 - val_mean_absolute_error: 0.0174 - val_mape: 63595.6484\n",
            "Epoch 90/500\n",
            "20/20 [==============================] - 2s 101ms/step - loss: 0.0029 - mean_absolute_error: 0.0335 - mape: 9136.2881 - val_loss: 0.0012 - val_mean_absolute_error: 0.0178 - val_mape: 64939.4688\n",
            "Epoch 91/500\n",
            "20/20 [==============================] - 2s 103ms/step - loss: 0.0038 - mean_absolute_error: 0.0410 - mape: 73061.4531 - val_loss: 0.0012 - val_mean_absolute_error: 0.0170 - val_mape: 63383.7500\n",
            "Epoch 92/500\n",
            "20/20 [==============================] - 2s 100ms/step - loss: 0.0031 - mean_absolute_error: 0.0359 - mape: 20920.7969 - val_loss: 0.0011 - val_mean_absolute_error: 0.0159 - val_mape: 58964.1211\n",
            "Epoch 93/500\n",
            "20/20 [==============================] - 2s 102ms/step - loss: 0.0034 - mean_absolute_error: 0.0385 - mape: 15432.0361 - val_loss: 0.0012 - val_mean_absolute_error: 0.0159 - val_mape: 28466.3711\n",
            "Epoch 94/500\n",
            "20/20 [==============================] - 2s 100ms/step - loss: 0.0032 - mean_absolute_error: 0.0383 - mape: 134844.0938 - val_loss: 0.0012 - val_mean_absolute_error: 0.0165 - val_mape: 59737.9297\n",
            "Epoch 95/500\n",
            "20/20 [==============================] - 2s 102ms/step - loss: 0.0030 - mean_absolute_error: 0.0341 - mape: 10466.5986 - val_loss: 0.0011 - val_mean_absolute_error: 0.0172 - val_mape: 64924.5195\n",
            "Epoch 96/500\n",
            "20/20 [==============================] - 2s 103ms/step - loss: 0.0038 - mean_absolute_error: 0.0416 - mape: 21201.3262 - val_loss: 0.0012 - val_mean_absolute_error: 0.0178 - val_mape: 66075.7344\n",
            "Epoch 97/500\n",
            "20/20 [==============================] - 2s 102ms/step - loss: 0.0028 - mean_absolute_error: 0.0343 - mape: 29071.2852 - val_loss: 0.0011 - val_mean_absolute_error: 0.0162 - val_mape: 60888.9258\n",
            "Epoch 98/500\n",
            "20/20 [==============================] - 2s 99ms/step - loss: 0.0036 - mean_absolute_error: 0.0402 - mape: 13865.3438 - val_loss: 0.0011 - val_mean_absolute_error: 0.0168 - val_mape: 62444.3086\n",
            "Epoch 99/500\n",
            "20/20 [==============================] - 2s 102ms/step - loss: 0.0030 - mean_absolute_error: 0.0373 - mape: 25511.8594 - val_loss: 0.0011 - val_mean_absolute_error: 0.0153 - val_mape: 54206.2266\n",
            "Epoch 100/500\n",
            "20/20 [==============================] - 2s 102ms/step - loss: 0.0031 - mean_absolute_error: 0.0368 - mape: 13075.4961 - val_loss: 0.0011 - val_mean_absolute_error: 0.0173 - val_mape: 64671.8398\n",
            "Epoch 101/500\n",
            "20/20 [==============================] - 2s 99ms/step - loss: 0.0033 - mean_absolute_error: 0.0386 - mape: 112046.0156 - val_loss: 0.0011 - val_mean_absolute_error: 0.0170 - val_mape: 63316.5078\n",
            "Epoch 102/500\n",
            "20/20 [==============================] - 2s 105ms/step - loss: 0.0029 - mean_absolute_error: 0.0345 - mape: 116078.9141 - val_loss: 0.0010 - val_mean_absolute_error: 0.0154 - val_mape: 58558.6328\n",
            "Epoch 103/500\n",
            "20/20 [==============================] - 2s 102ms/step - loss: 0.0038 - mean_absolute_error: 0.0426 - mape: 95771.4609 - val_loss: 0.0011 - val_mean_absolute_error: 0.0176 - val_mape: 66471.6328\n",
            "Epoch 104/500\n",
            "20/20 [==============================] - 2s 101ms/step - loss: 0.0027 - mean_absolute_error: 0.0342 - mape: 35746.0703 - val_loss: 0.0012 - val_mean_absolute_error: 0.0171 - val_mape: 57391.1992\n",
            "Epoch 105/500\n",
            "20/20 [==============================] - 2s 102ms/step - loss: 0.0038 - mean_absolute_error: 0.0408 - mape: 72161.6250 - val_loss: 0.0011 - val_mean_absolute_error: 0.0167 - val_mape: 32216.9023\n",
            "Epoch 106/500\n",
            "20/20 [==============================] - 2s 102ms/step - loss: 0.0029 - mean_absolute_error: 0.0359 - mape: 62473.3438 - val_loss: 0.0011 - val_mean_absolute_error: 0.0193 - val_mape: 69613.0938\n",
            "Epoch 107/500\n",
            "20/20 [==============================] - 2s 102ms/step - loss: 0.0036 - mean_absolute_error: 0.0394 - mape: 36045.7109 - val_loss: 0.0011 - val_mean_absolute_error: 0.0171 - val_mape: 31305.9785\n",
            "Epoch 108/500\n",
            "20/20 [==============================] - 2s 101ms/step - loss: 0.0032 - mean_absolute_error: 0.0395 - mape: 145875.4844 - val_loss: 0.0012 - val_mean_absolute_error: 0.0176 - val_mape: 47988.3945\n",
            "Epoch 109/500\n",
            "20/20 [==============================] - 2s 107ms/step - loss: 0.0029 - mean_absolute_error: 0.0360 - mape: 53334.3984 - val_loss: 0.0012 - val_mean_absolute_error: 0.0202 - val_mape: 70791.0078\n",
            "Epoch 110/500\n",
            "20/20 [==============================] - 2s 103ms/step - loss: 0.0039 - mean_absolute_error: 0.0438 - mape: 143172.2812 - val_loss: 0.0012 - val_mean_absolute_error: 0.0209 - val_mape: 75215.8516\n",
            "Epoch 111/500\n",
            "20/20 [==============================] - 2s 105ms/step - loss: 0.0030 - mean_absolute_error: 0.0379 - mape: 16717.5215 - val_loss: 0.0017 - val_mean_absolute_error: 0.0234 - val_mape: 53453.8047\n",
            "Epoch 112/500\n",
            "20/20 [==============================] - 2s 104ms/step - loss: 0.0038 - mean_absolute_error: 0.0430 - mape: 6882.0884 - val_loss: 0.0011 - val_mean_absolute_error: 0.0177 - val_mape: 65528.2734\n"
          ],
          "name": "stdout"
        }
      ]
    },
    {
      "cell_type": "code",
      "metadata": {
        "id": "Yohc8zuNwWcr",
        "colab": {
          "base_uri": "https://localhost:8080/"
        },
        "outputId": "5d7fc1eb-e0db-4271-ab3d-d8a7d4ec0b4a"
      },
      "source": [
        "train_data_single"
      ],
      "execution_count": null,
      "outputs": [
        {
          "output_type": "execute_result",
          "data": {
            "text/plain": [
              "<RepeatDataset shapes: ((None, 320, 8), (None,)), types: (tf.float64, tf.float64)>"
            ]
          },
          "metadata": {
            "tags": []
          },
          "execution_count": 81
        }
      ]
    },
    {
      "cell_type": "code",
      "metadata": {
        "id": "ceVemGRBsKdQ"
      },
      "source": [
        "def plot_train_history(history, title):\n",
        "    loss = history.history['loss']\n",
        "    val_loss = history.history['val_loss']\n",
        "\n",
        "    epochs = range(len(loss))\n",
        "\n",
        "    plt.figure()\n",
        "\n",
        "    plt.plot(epochs, loss, 'b', label='Training loss')\n",
        "    plt.plot(epochs, val_loss, 'r', label='Validation loss')\n",
        "    plt.title(title)\n",
        "    plt.legend()\n",
        "\n",
        "    plt.show()"
      ],
      "execution_count": null,
      "outputs": []
    },
    {
      "cell_type": "code",
      "metadata": {
        "id": "cxS1XggxsgIh",
        "colab": {
          "base_uri": "https://localhost:8080/",
          "height": 281
        },
        "outputId": "da4525b6-9f2e-4bfc-a0bc-5e024c576b12"
      },
      "source": [
        "plot_train_history(single_step_history,\n",
        "                   'Single Step Training and validation loss')"
      ],
      "execution_count": null,
      "outputs": [
        {
          "output_type": "display_data",
          "data": {
            "image/png": "[encoded data removed]",
            "text/plain": [
              "<Figure size 432x288 with 1 Axes>"
            ]
          },
          "metadata": {
            "tags": [],
            "needs_background": "light"
          }
        }
      ]
    },
    {
      "cell_type": "code",
      "metadata": {
        "id": "yKMxx9dDs_Sb"
      },
      "source": [
        "def create_time_steps(length):\n",
        "    return list(range(-length, 0))"
      ],
      "execution_count": null,
      "outputs": []
    },
    {
      "cell_type": "code",
      "metadata": {
        "id": "QRl2ONo1sgOH"
      },
      "source": [
        "def show_plot(plot_data, delta, title):\n",
        "    labels = ['History', 'True Future', 'Model Prediction']\n",
        "    marker = ['.-', 'rx', 'go']\n",
        "    time_steps = create_time_steps(plot_data[0].shape[0])\n",
        "    if delta:\n",
        "        future = delta\n",
        "    else:\n",
        "        future = 0\n",
        "\n",
        "    plt.title(title)\n",
        "    for i, x in enumerate(plot_data):\n",
        "        if i:\n",
        "            plt.plot(future, plot_data[i], marker[i], markersize=10,\n",
        "                   label=labels[i])\n",
        "        else:\n",
        "            plt.plot(time_steps, plot_data[i].flatten(), marker[i], label=labels[i])\n",
        "        plt.legend()\n",
        "        plt.xlim([time_steps[0], (future+5)*2])\n",
        "        plt.xlabel('Time-Step')\n",
        "    \n",
        "    return plt"
      ],
      "execution_count": null,
      "outputs": []
    },
    {
      "cell_type": "code",
      "metadata": {
        "id": "QCgMFgoMsgLP",
        "colab": {
          "base_uri": "https://localhost:8080/",
          "height": 851
        },
        "outputId": "ee59361d-265a-43b9-b1f4-5796c9561983"
      },
      "source": [
        "for x, y in val_data_single.take(3):\n",
        "    plot = show_plot([x[0][:, 1].numpy(), y[0].numpy(),\n",
        "                    single_step_model.predict(x)[0]], 2,\n",
        "                   'Single Step Prediction')\n",
        "    plot.show()"
      ],
      "execution_count": null,
      "outputs": [
        {
          "output_type": "display_data",
          "data": {
            "image/png": "[encoded data removed]",
            "text/plain": [
              "<Figure size 432x288 with 1 Axes>"
            ]
          },
          "metadata": {
            "tags": [],
            "needs_background": "light"
          }
        },
        {
          "output_type": "display_data",
          "data": {
            "image/png": "[encoded data removed]",
            "text/plain": [
              "<Figure size 432x288 with 1 Axes>"
            ]
          },
          "metadata": {
            "tags": [],
            "needs_background": "light"
          }
        },
        {
          "output_type": "display_data",
          "data": {
            "image/png": "[encoded data removed]",
            "text/plain": [
              "<Figure size 432x288 with 1 Axes>"
            ]
          },
          "metadata": {
            "tags": [],
            "needs_background": "light"
          }
        }
      ]
    },
    {
      "cell_type": "markdown",
      "metadata": {
        "id": "-IVxVsl6yZPn"
      },
      "source": [
        "*How good is this prediction?*\n",
        "\n",
        "Loss is the penalty for a bad prediction. That is, loss is a number indicating how bad the model's prediction was on a single example. If the model's prediction is perfect, the loss is zero; otherwise, the loss is greater.\n",
        "\n",
        "With time series data it is more difficult to cross validate a model as we have to be cautious of temporal leakage. That is, the model uses past information to make predictions, therefore we cannot use k-fold validation or we would lose prediction power in the model. \n",
        "\n",
        "I will use Blocking Cross Validation to measure how well the model is performing. It works by adding margins at two positions. The first is between the training and validation folds in order to prevent the model from observing lag values which are used twice, once as a regressor and another as a response. The second is between the folds used at each iteration in order to prevent the model from memorizing patterns from an iteration to the next.\n",
        "\n"
      ]
    },
    {
      "cell_type": "code",
      "metadata": {
        "id": "aEv7h4cATdwJ"
      },
      "source": [
        "# Blocking Cross Validation\n",
        "n_splits = 10\n",
        "X = dataset[:,1:]\n",
        "y= dataset[:,0]\n",
        "\n",
        "class BlockingTimeSeriesSplit():\n",
        "    def __init__(self, n_splits):\n",
        "        self.n_splits = n_splits\n",
        "    \n",
        "    def get_n_splits(self, X, y, groups):\n",
        "        return self.n_splits\n",
        "    \n",
        "    def split(self, X, y=None, groups=None):\n",
        "        n_samples = len(X)\n",
        "        k_fold_size = n_samples // self.n_splits\n",
        "        indices = np.arange(n_samples)\n",
        "\n",
        "        margin = 0\n",
        "        for i in range(self.n_splits):\n",
        "            start = i * k_fold_size\n",
        "            stop = start + k_fold_size\n",
        "            mid = int(0.5 * (stop - start)) + start\n",
        "            yield indices[start: mid], indices[mid + margin: stop]\n",
        "\n",
        "# Keras Wrapper\n",
        "from keras.wrappers.scikit_learn import KerasClassifier\n",
        "def create_model():\n",
        "  single_step_model = tf.keras.models.Sequential()\n",
        "  single_step_model.add(tf.keras.layers.LSTM(4,    # Capacity best out of:2, 8, 32\n",
        "                                           kernel_regularizer = regularizers.l2(0.001), # Regularization - fight overfitting - is this correct?\n",
        "                                           input_shape=x_train_single.shape[-2:]))    # LSTM layer with 4 outputs and input shape of x_train_single.shape[-2:]\n",
        "  single_step_model.add(tf.keras.layers.Dropout(0.2))   # Add dropout rate\n",
        "  single_step_model.add(tf.keras.layers.Dense(1)) # \n",
        "  single_step_model.compile(optimizer=tf.keras.optimizers.RMSprop(), loss='mean_squared_error',  metrics=['mean_absolute_error', 'mape']) \n",
        "  return single_step_model\n"
      ],
      "execution_count": null,
      "outputs": []
    },
    {
      "cell_type": "code",
      "metadata": {
        "id": "6Y4cqG9FjU44",
        "colab": {
          "base_uri": "https://localhost:8080/"
        },
        "outputId": "ad24afbc-0784-4540-f18e-dd3bd18486d9"
      },
      "source": [
        "single_step_model = KerasClassifier(build_fn=create_model)\n",
        "btscv = BlockingTimeSeriesSplit(n_splits=10)    # Or should I use TimeSeriesSplit?\n",
        "mse= -cross_val_score(single_step_model, x_train_single, y_train_single, cv=btscv, scoring='neg_mean_squared_error')\n",
        "mae = -cross_val_score(single_step_model, x_train_single, y_train_single, cv=btscv, scoring='neg_mean_absolute_error')\n",
        "#mape = -cross_val_score(single_step_model, x_train_single, y_train_single, cv=btscv, scoring='neg_mean_absolute_percentage_error') How do I get the MAPE?"
      ],
      "execution_count": null,
      "outputs": [
        {
          "output_type": "stream",
          "text": [
            "2/2 [==============================] - 2s 79ms/step - loss: 943.9040 - mean_absolute_error: 26.4693 - mape: 1842.8342\n"
          ],
          "name": "stdout"
        },
        {
          "output_type": "stream",
          "text": [
            "/usr/local/lib/python3.7/dist-packages/tensorflow/python/keras/engine/sequential.py:455: UserWarning: `model.predict_classes()` is deprecated and will be removed after 2021-01-01. Please use instead:* `np.argmax(model.predict(x), axis=-1)`,   if your model does multi-class classification   (e.g. if it uses a `softmax` last-layer activation).* `(model.predict(x) > 0.5).astype(\"int32\")`,   if your model does binary classification   (e.g. if it uses a `sigmoid` last-layer activation).\n",
            "  warnings.warn('`model.predict_classes()` is deprecated and '\n"
          ],
          "name": "stderr"
        },
        {
          "output_type": "stream",
          "text": [
            "2/2 [==============================] - 2s 88ms/step - loss: 946.3278 - mean_absolute_error: 26.5181 - mape: 90043.6562\n"
          ],
          "name": "stdout"
        },
        {
          "output_type": "stream",
          "text": [
            "/usr/local/lib/python3.7/dist-packages/tensorflow/python/keras/engine/sequential.py:455: UserWarning: `model.predict_classes()` is deprecated and will be removed after 2021-01-01. Please use instead:* `np.argmax(model.predict(x), axis=-1)`,   if your model does multi-class classification   (e.g. if it uses a `softmax` last-layer activation).* `(model.predict(x) > 0.5).astype(\"int32\")`,   if your model does binary classification   (e.g. if it uses a `sigmoid` last-layer activation).\n",
            "  warnings.warn('`model.predict_classes()` is deprecated and '\n"
          ],
          "name": "stderr"
        },
        {
          "output_type": "stream",
          "text": [
            "2/2 [==============================] - 2s 81ms/step - loss: 938.8802 - mean_absolute_error: 26.3777 - mape: 1509994.6250\n"
          ],
          "name": "stdout"
        },
        {
          "output_type": "stream",
          "text": [
            "/usr/local/lib/python3.7/dist-packages/tensorflow/python/keras/engine/sequential.py:455: UserWarning: `model.predict_classes()` is deprecated and will be removed after 2021-01-01. Please use instead:* `np.argmax(model.predict(x), axis=-1)`,   if your model does multi-class classification   (e.g. if it uses a `softmax` last-layer activation).* `(model.predict(x) > 0.5).astype(\"int32\")`,   if your model does binary classification   (e.g. if it uses a `sigmoid` last-layer activation).\n",
            "  warnings.warn('`model.predict_classes()` is deprecated and '\n"
          ],
          "name": "stderr"
        },
        {
          "output_type": "stream",
          "text": [
            "2/2 [==============================] - 2s 85ms/step - loss: 902.6254 - mean_absolute_error: 25.8930 - mape: 3286726.2500\n"
          ],
          "name": "stdout"
        },
        {
          "output_type": "stream",
          "text": [
            "/usr/local/lib/python3.7/dist-packages/tensorflow/python/keras/engine/sequential.py:455: UserWarning: `model.predict_classes()` is deprecated and will be removed after 2021-01-01. Please use instead:* `np.argmax(model.predict(x), axis=-1)`,   if your model does multi-class classification   (e.g. if it uses a `softmax` last-layer activation).* `(model.predict(x) > 0.5).astype(\"int32\")`,   if your model does binary classification   (e.g. if it uses a `sigmoid` last-layer activation).\n",
            "  warnings.warn('`model.predict_classes()` is deprecated and '\n"
          ],
          "name": "stderr"
        },
        {
          "output_type": "stream",
          "text": [
            "2/2 [==============================] - 2s 82ms/step - loss: 925.0136 - mean_absolute_error: 26.3592 - mape: 9729557.0000\n"
          ],
          "name": "stdout"
        },
        {
          "output_type": "stream",
          "text": [
            "/usr/local/lib/python3.7/dist-packages/tensorflow/python/keras/engine/sequential.py:455: UserWarning: `model.predict_classes()` is deprecated and will be removed after 2021-01-01. Please use instead:* `np.argmax(model.predict(x), axis=-1)`,   if your model does multi-class classification   (e.g. if it uses a `softmax` last-layer activation).* `(model.predict(x) > 0.5).astype(\"int32\")`,   if your model does binary classification   (e.g. if it uses a `sigmoid` last-layer activation).\n",
            "  warnings.warn('`model.predict_classes()` is deprecated and '\n"
          ],
          "name": "stderr"
        },
        {
          "output_type": "stream",
          "text": [
            "2/2 [==============================] - 2s 83ms/step - loss: 951.1321 - mean_absolute_error: 26.6063 - mape: 2852302.5000\n"
          ],
          "name": "stdout"
        },
        {
          "output_type": "stream",
          "text": [
            "/usr/local/lib/python3.7/dist-packages/tensorflow/python/keras/engine/sequential.py:455: UserWarning: `model.predict_classes()` is deprecated and will be removed after 2021-01-01. Please use instead:* `np.argmax(model.predict(x), axis=-1)`,   if your model does multi-class classification   (e.g. if it uses a `softmax` last-layer activation).* `(model.predict(x) > 0.5).astype(\"int32\")`,   if your model does binary classification   (e.g. if it uses a `sigmoid` last-layer activation).\n",
            "  warnings.warn('`model.predict_classes()` is deprecated and '\n"
          ],
          "name": "stderr"
        },
        {
          "output_type": "stream",
          "text": [
            "2/2 [==============================] - 2s 90ms/step - loss: 917.7186 - mean_absolute_error: 25.9937 - mape: 12156571.0000\n"
          ],
          "name": "stdout"
        },
        {
          "output_type": "stream",
          "text": [
            "/usr/local/lib/python3.7/dist-packages/tensorflow/python/keras/engine/sequential.py:455: UserWarning: `model.predict_classes()` is deprecated and will be removed after 2021-01-01. Please use instead:* `np.argmax(model.predict(x), axis=-1)`,   if your model does multi-class classification   (e.g. if it uses a `softmax` last-layer activation).* `(model.predict(x) > 0.5).astype(\"int32\")`,   if your model does binary classification   (e.g. if it uses a `sigmoid` last-layer activation).\n",
            "  warnings.warn('`model.predict_classes()` is deprecated and '\n"
          ],
          "name": "stderr"
        },
        {
          "output_type": "stream",
          "text": [
            "2/2 [==============================] - 2s 81ms/step - loss: 928.7015 - mean_absolute_error: 26.2005 - mape: 6943692.0000\n"
          ],
          "name": "stdout"
        },
        {
          "output_type": "stream",
          "text": [
            "/usr/local/lib/python3.7/dist-packages/tensorflow/python/keras/engine/sequential.py:455: UserWarning: `model.predict_classes()` is deprecated and will be removed after 2021-01-01. Please use instead:* `np.argmax(model.predict(x), axis=-1)`,   if your model does multi-class classification   (e.g. if it uses a `softmax` last-layer activation).* `(model.predict(x) > 0.5).astype(\"int32\")`,   if your model does binary classification   (e.g. if it uses a `sigmoid` last-layer activation).\n",
            "  warnings.warn('`model.predict_classes()` is deprecated and '\n"
          ],
          "name": "stderr"
        },
        {
          "output_type": "stream",
          "text": [
            "2/2 [==============================] - 2s 80ms/step - loss: 955.9825 - mean_absolute_error: 26.7132 - mape: 7077074.0000\n"
          ],
          "name": "stdout"
        },
        {
          "output_type": "stream",
          "text": [
            "/usr/local/lib/python3.7/dist-packages/tensorflow/python/keras/engine/sequential.py:455: UserWarning: `model.predict_classes()` is deprecated and will be removed after 2021-01-01. Please use instead:* `np.argmax(model.predict(x), axis=-1)`,   if your model does multi-class classification   (e.g. if it uses a `softmax` last-layer activation).* `(model.predict(x) > 0.5).astype(\"int32\")`,   if your model does binary classification   (e.g. if it uses a `sigmoid` last-layer activation).\n",
            "  warnings.warn('`model.predict_classes()` is deprecated and '\n"
          ],
          "name": "stderr"
        },
        {
          "output_type": "stream",
          "text": [
            "2/2 [==============================] - 2s 84ms/step - loss: 940.1129 - mean_absolute_error: 26.4139 - mape: 906165.6875\n"
          ],
          "name": "stdout"
        },
        {
          "output_type": "stream",
          "text": [
            "/usr/local/lib/python3.7/dist-packages/tensorflow/python/keras/engine/sequential.py:455: UserWarning: `model.predict_classes()` is deprecated and will be removed after 2021-01-01. Please use instead:* `np.argmax(model.predict(x), axis=-1)`,   if your model does multi-class classification   (e.g. if it uses a `softmax` last-layer activation).* `(model.predict(x) > 0.5).astype(\"int32\")`,   if your model does binary classification   (e.g. if it uses a `sigmoid` last-layer activation).\n",
            "  warnings.warn('`model.predict_classes()` is deprecated and '\n"
          ],
          "name": "stderr"
        },
        {
          "output_type": "stream",
          "text": [
            "2/2 [==============================] - 2s 88ms/step - loss: 945.3574 - mean_absolute_error: 26.4974 - mape: 581134.7500\n"
          ],
          "name": "stdout"
        },
        {
          "output_type": "stream",
          "text": [
            "/usr/local/lib/python3.7/dist-packages/tensorflow/python/keras/engine/sequential.py:455: UserWarning: `model.predict_classes()` is deprecated and will be removed after 2021-01-01. Please use instead:* `np.argmax(model.predict(x), axis=-1)`,   if your model does multi-class classification   (e.g. if it uses a `softmax` last-layer activation).* `(model.predict(x) > 0.5).astype(\"int32\")`,   if your model does binary classification   (e.g. if it uses a `sigmoid` last-layer activation).\n",
            "  warnings.warn('`model.predict_classes()` is deprecated and '\n"
          ],
          "name": "stderr"
        },
        {
          "output_type": "stream",
          "text": [
            "2/2 [==============================] - 2s 79ms/step - loss: 948.3852 - mean_absolute_error: 26.5561 - mape: 831419.9375\n"
          ],
          "name": "stdout"
        },
        {
          "output_type": "stream",
          "text": [
            "/usr/local/lib/python3.7/dist-packages/tensorflow/python/keras/engine/sequential.py:455: UserWarning: `model.predict_classes()` is deprecated and will be removed after 2021-01-01. Please use instead:* `np.argmax(model.predict(x), axis=-1)`,   if your model does multi-class classification   (e.g. if it uses a `softmax` last-layer activation).* `(model.predict(x) > 0.5).astype(\"int32\")`,   if your model does binary classification   (e.g. if it uses a `sigmoid` last-layer activation).\n",
            "  warnings.warn('`model.predict_classes()` is deprecated and '\n"
          ],
          "name": "stderr"
        },
        {
          "output_type": "stream",
          "text": [
            "2/2 [==============================] - 2s 83ms/step - loss: 943.3813 - mean_absolute_error: 26.4671 - mape: 1016155.1250\n"
          ],
          "name": "stdout"
        },
        {
          "output_type": "stream",
          "text": [
            "/usr/local/lib/python3.7/dist-packages/tensorflow/python/keras/engine/sequential.py:455: UserWarning: `model.predict_classes()` is deprecated and will be removed after 2021-01-01. Please use instead:* `np.argmax(model.predict(x), axis=-1)`,   if your model does multi-class classification   (e.g. if it uses a `softmax` last-layer activation).* `(model.predict(x) > 0.5).astype(\"int32\")`,   if your model does binary classification   (e.g. if it uses a `sigmoid` last-layer activation).\n",
            "  warnings.warn('`model.predict_classes()` is deprecated and '\n"
          ],
          "name": "stderr"
        },
        {
          "output_type": "stream",
          "text": [
            "2/2 [==============================] - 2s 86ms/step - loss: 896.0919 - mean_absolute_error: 25.7641 - mape: 435373.1562\n"
          ],
          "name": "stdout"
        },
        {
          "output_type": "stream",
          "text": [
            "/usr/local/lib/python3.7/dist-packages/tensorflow/python/keras/engine/sequential.py:455: UserWarning: `model.predict_classes()` is deprecated and will be removed after 2021-01-01. Please use instead:* `np.argmax(model.predict(x), axis=-1)`,   if your model does multi-class classification   (e.g. if it uses a `softmax` last-layer activation).* `(model.predict(x) > 0.5).astype(\"int32\")`,   if your model does binary classification   (e.g. if it uses a `sigmoid` last-layer activation).\n",
            "  warnings.warn('`model.predict_classes()` is deprecated and '\n"
          ],
          "name": "stderr"
        },
        {
          "output_type": "stream",
          "text": [
            "2/2 [==============================] - 2s 93ms/step - loss: 922.2590 - mean_absolute_error: 26.3173 - mape: 5224438.0000\n"
          ],
          "name": "stdout"
        },
        {
          "output_type": "stream",
          "text": [
            "/usr/local/lib/python3.7/dist-packages/tensorflow/python/keras/engine/sequential.py:455: UserWarning: `model.predict_classes()` is deprecated and will be removed after 2021-01-01. Please use instead:* `np.argmax(model.predict(x), axis=-1)`,   if your model does multi-class classification   (e.g. if it uses a `softmax` last-layer activation).* `(model.predict(x) > 0.5).astype(\"int32\")`,   if your model does binary classification   (e.g. if it uses a `sigmoid` last-layer activation).\n",
            "  warnings.warn('`model.predict_classes()` is deprecated and '\n"
          ],
          "name": "stderr"
        },
        {
          "output_type": "stream",
          "text": [
            "2/2 [==============================] - 2s 81ms/step - loss: 956.5356 - mean_absolute_error: 26.6989 - mape: 5712019.5000\n"
          ],
          "name": "stdout"
        },
        {
          "output_type": "stream",
          "text": [
            "/usr/local/lib/python3.7/dist-packages/tensorflow/python/keras/engine/sequential.py:455: UserWarning: `model.predict_classes()` is deprecated and will be removed after 2021-01-01. Please use instead:* `np.argmax(model.predict(x), axis=-1)`,   if your model does multi-class classification   (e.g. if it uses a `softmax` last-layer activation).* `(model.predict(x) > 0.5).astype(\"int32\")`,   if your model does binary classification   (e.g. if it uses a `sigmoid` last-layer activation).\n",
            "  warnings.warn('`model.predict_classes()` is deprecated and '\n"
          ],
          "name": "stderr"
        },
        {
          "output_type": "stream",
          "text": [
            "2/2 [==============================] - 2s 84ms/step - loss: 947.0294 - mean_absolute_error: 26.5373 - mape: 2304040.5000\n"
          ],
          "name": "stdout"
        },
        {
          "output_type": "stream",
          "text": [
            "/usr/local/lib/python3.7/dist-packages/tensorflow/python/keras/engine/sequential.py:455: UserWarning: `model.predict_classes()` is deprecated and will be removed after 2021-01-01. Please use instead:* `np.argmax(model.predict(x), axis=-1)`,   if your model does multi-class classification   (e.g. if it uses a `softmax` last-layer activation).* `(model.predict(x) > 0.5).astype(\"int32\")`,   if your model does binary classification   (e.g. if it uses a `sigmoid` last-layer activation).\n",
            "  warnings.warn('`model.predict_classes()` is deprecated and '\n"
          ],
          "name": "stderr"
        },
        {
          "output_type": "stream",
          "text": [
            "2/2 [==============================] - 2s 108ms/step - loss: 953.6417 - mean_absolute_error: 26.6231 - mape: 2645607.0000\n"
          ],
          "name": "stdout"
        },
        {
          "output_type": "stream",
          "text": [
            "/usr/local/lib/python3.7/dist-packages/tensorflow/python/keras/engine/sequential.py:455: UserWarning: `model.predict_classes()` is deprecated and will be removed after 2021-01-01. Please use instead:* `np.argmax(model.predict(x), axis=-1)`,   if your model does multi-class classification   (e.g. if it uses a `softmax` last-layer activation).* `(model.predict(x) > 0.5).astype(\"int32\")`,   if your model does binary classification   (e.g. if it uses a `sigmoid` last-layer activation).\n",
            "  warnings.warn('`model.predict_classes()` is deprecated and '\n"
          ],
          "name": "stderr"
        },
        {
          "output_type": "stream",
          "text": [
            "2/2 [==============================] - 2s 79ms/step - loss: 950.5896 - mean_absolute_error: 26.5974 - mape: 1610222.5000\n"
          ],
          "name": "stdout"
        },
        {
          "output_type": "stream",
          "text": [
            "/usr/local/lib/python3.7/dist-packages/tensorflow/python/keras/engine/sequential.py:455: UserWarning: `model.predict_classes()` is deprecated and will be removed after 2021-01-01. Please use instead:* `np.argmax(model.predict(x), axis=-1)`,   if your model does multi-class classification   (e.g. if it uses a `softmax` last-layer activation).* `(model.predict(x) > 0.5).astype(\"int32\")`,   if your model does binary classification   (e.g. if it uses a `sigmoid` last-layer activation).\n",
            "  warnings.warn('`model.predict_classes()` is deprecated and '\n"
          ],
          "name": "stderr"
        },
        {
          "output_type": "stream",
          "text": [
            "2/2 [==============================] - 2s 83ms/step - loss: 927.2723 - mean_absolute_error: 26.1691 - mape: 8710955.0000\n"
          ],
          "name": "stdout"
        },
        {
          "output_type": "stream",
          "text": [
            "/usr/local/lib/python3.7/dist-packages/tensorflow/python/keras/engine/sequential.py:455: UserWarning: `model.predict_classes()` is deprecated and will be removed after 2021-01-01. Please use instead:* `np.argmax(model.predict(x), axis=-1)`,   if your model does multi-class classification   (e.g. if it uses a `softmax` last-layer activation).* `(model.predict(x) > 0.5).astype(\"int32\")`,   if your model does binary classification   (e.g. if it uses a `sigmoid` last-layer activation).\n",
            "  warnings.warn('`model.predict_classes()` is deprecated and '\n"
          ],
          "name": "stderr"
        }
      ]
    },
    {
      "cell_type": "code",
      "metadata": {
        "id": "gHw9kbs8soAz",
        "colab": {
          "base_uri": "https://localhost:8080/"
        },
        "outputId": "537281f5-5b3f-42e6-dc78-0f867bac7aa0"
      },
      "source": [
        "#TimeSeries Split\n",
        "from sklearn.model_selection import TimeSeriesSplit\n",
        "from sklearn.model_selection import KFold\n",
        "single_step_model = KerasClassifier(build_fn=create_model)\n",
        "tscv = TimeSeriesSplit(n_splits=10)\n",
        "mse= -cross_val_score(single_step_model, x_train_single, y_train_single, cv=tscv, scoring='neg_mean_squared_error')\n",
        "mae = -cross_val_score(single_step_model, x_train_single, y_train_single, cv=tscv, scoring='neg_mean_absolute_error')\n",
        "#R2 = cross_val_score(model, X_train, y_train, cv=tscv, scoring='r2')\n",
        "\n",
        "print(f\"MSE: {mse.mean()} (+/- {mse.std()}\")\n",
        "#print(f\"\\nR2: {R2.mean()} (+/- {R2.std()}\")"
      ],
      "execution_count": null,
      "outputs": [
        {
          "output_type": "stream",
          "text": [
            "4/4 [==============================] - 2s 86ms/step - loss: 3348.1980 - mean_absolute_error: 49.9455 - mape: 178280.3750\n"
          ],
          "name": "stdout"
        },
        {
          "output_type": "stream",
          "text": [
            "/usr/local/lib/python3.7/dist-packages/tensorflow/python/keras/engine/sequential.py:455: UserWarning: `model.predict_classes()` is deprecated and will be removed after 2021-01-01. Please use instead:* `np.argmax(model.predict(x), axis=-1)`,   if your model does multi-class classification   (e.g. if it uses a `softmax` last-layer activation).* `(model.predict(x) > 0.5).astype(\"int32\")`,   if your model does binary classification   (e.g. if it uses a `sigmoid` last-layer activation).\n",
            "  warnings.warn('`model.predict_classes()` is deprecated and '\n"
          ],
          "name": "stderr"
        },
        {
          "output_type": "stream",
          "text": [
            "7/7 [==============================] - 2s 84ms/step - loss: 13239.2891 - mean_absolute_error: 99.5265 - mape: 78629.8984\n"
          ],
          "name": "stdout"
        },
        {
          "output_type": "stream",
          "text": [
            "/usr/local/lib/python3.7/dist-packages/tensorflow/python/keras/engine/sequential.py:455: UserWarning: `model.predict_classes()` is deprecated and will be removed after 2021-01-01. Please use instead:* `np.argmax(model.predict(x), axis=-1)`,   if your model does multi-class classification   (e.g. if it uses a `softmax` last-layer activation).* `(model.predict(x) > 0.5).astype(\"int32\")`,   if your model does binary classification   (e.g. if it uses a `sigmoid` last-layer activation).\n",
            "  warnings.warn('`model.predict_classes()` is deprecated and '\n"
          ],
          "name": "stderr"
        },
        {
          "output_type": "stream",
          "text": [
            "10/10 [==============================] - 3s 84ms/step - loss: 29610.6719 - mean_absolute_error: 148.8733 - mape: 246828.2031\n"
          ],
          "name": "stdout"
        },
        {
          "output_type": "stream",
          "text": [
            "/usr/local/lib/python3.7/dist-packages/tensorflow/python/keras/engine/sequential.py:455: UserWarning: `model.predict_classes()` is deprecated and will be removed after 2021-01-01. Please use instead:* `np.argmax(model.predict(x), axis=-1)`,   if your model does multi-class classification   (e.g. if it uses a `softmax` last-layer activation).* `(model.predict(x) > 0.5).astype(\"int32\")`,   if your model does binary classification   (e.g. if it uses a `sigmoid` last-layer activation).\n",
            "  warnings.warn('`model.predict_classes()` is deprecated and '\n"
          ],
          "name": "stderr"
        },
        {
          "output_type": "stream",
          "text": [
            "13/13 [==============================] - 3s 85ms/step - loss: 52434.7031 - mean_absolute_error: 198.2361 - mape: 330001.4688\n"
          ],
          "name": "stdout"
        },
        {
          "output_type": "stream",
          "text": [
            "/usr/local/lib/python3.7/dist-packages/tensorflow/python/keras/engine/sequential.py:455: UserWarning: `model.predict_classes()` is deprecated and will be removed after 2021-01-01. Please use instead:* `np.argmax(model.predict(x), axis=-1)`,   if your model does multi-class classification   (e.g. if it uses a `softmax` last-layer activation).* `(model.predict(x) > 0.5).astype(\"int32\")`,   if your model does binary classification   (e.g. if it uses a `sigmoid` last-layer activation).\n",
            "  warnings.warn('`model.predict_classes()` is deprecated and '\n"
          ],
          "name": "stderr"
        },
        {
          "output_type": "stream",
          "text": [
            "16/16 [==============================] - 3s 79ms/step - loss: 81625.1953 - mean_absolute_error: 247.3896 - mape: 36585.4570\n"
          ],
          "name": "stdout"
        },
        {
          "output_type": "stream",
          "text": [
            "/usr/local/lib/python3.7/dist-packages/tensorflow/python/keras/engine/sequential.py:455: UserWarning: `model.predict_classes()` is deprecated and will be removed after 2021-01-01. Please use instead:* `np.argmax(model.predict(x), axis=-1)`,   if your model does multi-class classification   (e.g. if it uses a `softmax` last-layer activation).* `(model.predict(x) > 0.5).astype(\"int32\")`,   if your model does binary classification   (e.g. if it uses a `sigmoid` last-layer activation).\n",
            "  warnings.warn('`model.predict_classes()` is deprecated and '\n"
          ],
          "name": "stderr"
        },
        {
          "output_type": "stream",
          "text": [
            "19/19 [==============================] - 3s 85ms/step - loss: 117323.2734 - mean_absolute_error: 296.6448 - mape: 60814.1953\n"
          ],
          "name": "stdout"
        },
        {
          "output_type": "stream",
          "text": [
            "/usr/local/lib/python3.7/dist-packages/tensorflow/python/keras/engine/sequential.py:455: UserWarning: `model.predict_classes()` is deprecated and will be removed after 2021-01-01. Please use instead:* `np.argmax(model.predict(x), axis=-1)`,   if your model does multi-class classification   (e.g. if it uses a `softmax` last-layer activation).* `(model.predict(x) > 0.5).astype(\"int32\")`,   if your model does binary classification   (e.g. if it uses a `sigmoid` last-layer activation).\n",
            "  warnings.warn('`model.predict_classes()` is deprecated and '\n"
          ],
          "name": "stderr"
        },
        {
          "output_type": "stream",
          "text": [
            "22/22 [==============================] - 4s 81ms/step - loss: 159474.6094 - mean_absolute_error: 345.7982 - mape: 302176.2500\n"
          ],
          "name": "stdout"
        },
        {
          "output_type": "stream",
          "text": [
            "/usr/local/lib/python3.7/dist-packages/tensorflow/python/keras/engine/sequential.py:455: UserWarning: `model.predict_classes()` is deprecated and will be removed after 2021-01-01. Please use instead:* `np.argmax(model.predict(x), axis=-1)`,   if your model does multi-class classification   (e.g. if it uses a `softmax` last-layer activation).* `(model.predict(x) > 0.5).astype(\"int32\")`,   if your model does binary classification   (e.g. if it uses a `sigmoid` last-layer activation).\n",
            "  warnings.warn('`model.predict_classes()` is deprecated and '\n"
          ],
          "name": "stderr"
        },
        {
          "output_type": "stream",
          "text": [
            "25/25 [==============================] - 4s 80ms/step - loss: 208561.3281 - mean_absolute_error: 395.4734 - mape: 43468.6953\n"
          ],
          "name": "stdout"
        },
        {
          "output_type": "stream",
          "text": [
            "/usr/local/lib/python3.7/dist-packages/tensorflow/python/keras/engine/sequential.py:455: UserWarning: `model.predict_classes()` is deprecated and will be removed after 2021-01-01. Please use instead:* `np.argmax(model.predict(x), axis=-1)`,   if your model does multi-class classification   (e.g. if it uses a `softmax` last-layer activation).* `(model.predict(x) > 0.5).astype(\"int32\")`,   if your model does binary classification   (e.g. if it uses a `sigmoid` last-layer activation).\n",
            "  warnings.warn('`model.predict_classes()` is deprecated and '\n"
          ],
          "name": "stderr"
        },
        {
          "output_type": "stream",
          "text": [
            "28/28 [==============================] - 4s 80ms/step - loss: 263905.0312 - mean_absolute_error: 444.8274 - mape: 14145.0693\n"
          ],
          "name": "stdout"
        },
        {
          "output_type": "stream",
          "text": [
            "/usr/local/lib/python3.7/dist-packages/tensorflow/python/keras/engine/sequential.py:455: UserWarning: `model.predict_classes()` is deprecated and will be removed after 2021-01-01. Please use instead:* `np.argmax(model.predict(x), axis=-1)`,   if your model does multi-class classification   (e.g. if it uses a `softmax` last-layer activation).* `(model.predict(x) > 0.5).astype(\"int32\")`,   if your model does binary classification   (e.g. if it uses a `sigmoid` last-layer activation).\n",
            "  warnings.warn('`model.predict_classes()` is deprecated and '\n"
          ],
          "name": "stderr"
        },
        {
          "output_type": "stream",
          "text": [
            "31/31 [==============================] - 3s 49ms/step - loss: 325537.5312 - mean_absolute_error: 494.0254 - mape: 69428.0391\n"
          ],
          "name": "stdout"
        },
        {
          "output_type": "stream",
          "text": [
            "/usr/local/lib/python3.7/dist-packages/tensorflow/python/keras/engine/sequential.py:455: UserWarning: `model.predict_classes()` is deprecated and will be removed after 2021-01-01. Please use instead:* `np.argmax(model.predict(x), axis=-1)`,   if your model does multi-class classification   (e.g. if it uses a `softmax` last-layer activation).* `(model.predict(x) > 0.5).astype(\"int32\")`,   if your model does binary classification   (e.g. if it uses a `sigmoid` last-layer activation).\n",
            "  warnings.warn('`model.predict_classes()` is deprecated and '\n"
          ],
          "name": "stderr"
        },
        {
          "output_type": "stream",
          "text": [
            "4/4 [==============================] - 2s 80ms/step - loss: 3360.4539 - mean_absolute_error: 50.0899 - mape: 557883.3125\n"
          ],
          "name": "stdout"
        },
        {
          "output_type": "stream",
          "text": [
            "/usr/local/lib/python3.7/dist-packages/tensorflow/python/keras/engine/sequential.py:455: UserWarning: `model.predict_classes()` is deprecated and will be removed after 2021-01-01. Please use instead:* `np.argmax(model.predict(x), axis=-1)`,   if your model does multi-class classification   (e.g. if it uses a `softmax` last-layer activation).* `(model.predict(x) > 0.5).astype(\"int32\")`,   if your model does binary classification   (e.g. if it uses a `sigmoid` last-layer activation).\n",
            "  warnings.warn('`model.predict_classes()` is deprecated and '\n"
          ],
          "name": "stderr"
        },
        {
          "output_type": "stream",
          "text": [
            "7/7 [==============================] - 2s 78ms/step - loss: 13189.3574 - mean_absolute_error: 99.2927 - mape: 246957.4844\n"
          ],
          "name": "stdout"
        },
        {
          "output_type": "stream",
          "text": [
            "/usr/local/lib/python3.7/dist-packages/tensorflow/python/keras/engine/sequential.py:455: UserWarning: `model.predict_classes()` is deprecated and will be removed after 2021-01-01. Please use instead:* `np.argmax(model.predict(x), axis=-1)`,   if your model does multi-class classification   (e.g. if it uses a `softmax` last-layer activation).* `(model.predict(x) > 0.5).astype(\"int32\")`,   if your model does binary classification   (e.g. if it uses a `sigmoid` last-layer activation).\n",
            "  warnings.warn('`model.predict_classes()` is deprecated and '\n"
          ],
          "name": "stderr"
        },
        {
          "output_type": "stream",
          "text": [
            "10/10 [==============================] - 3s 81ms/step - loss: 29657.8438 - mean_absolute_error: 149.0169 - mape: 33554.9961\n"
          ],
          "name": "stdout"
        },
        {
          "output_type": "stream",
          "text": [
            "/usr/local/lib/python3.7/dist-packages/tensorflow/python/keras/engine/sequential.py:455: UserWarning: `model.predict_classes()` is deprecated and will be removed after 2021-01-01. Please use instead:* `np.argmax(model.predict(x), axis=-1)`,   if your model does multi-class classification   (e.g. if it uses a `softmax` last-layer activation).* `(model.predict(x) > 0.5).astype(\"int32\")`,   if your model does binary classification   (e.g. if it uses a `sigmoid` last-layer activation).\n",
            "  warnings.warn('`model.predict_classes()` is deprecated and '\n"
          ],
          "name": "stderr"
        },
        {
          "output_type": "stream",
          "text": [
            "13/13 [==============================] - 3s 81ms/step - loss: 52479.0508 - mean_absolute_error: 198.3357 - mape: 146152.5000\n"
          ],
          "name": "stdout"
        },
        {
          "output_type": "stream",
          "text": [
            "/usr/local/lib/python3.7/dist-packages/tensorflow/python/keras/engine/sequential.py:455: UserWarning: `model.predict_classes()` is deprecated and will be removed after 2021-01-01. Please use instead:* `np.argmax(model.predict(x), axis=-1)`,   if your model does multi-class classification   (e.g. if it uses a `softmax` last-layer activation).* `(model.predict(x) > 0.5).astype(\"int32\")`,   if your model does binary classification   (e.g. if it uses a `sigmoid` last-layer activation).\n",
            "  warnings.warn('`model.predict_classes()` is deprecated and '\n"
          ],
          "name": "stderr"
        },
        {
          "output_type": "stream",
          "text": [
            "16/16 [==============================] - 3s 89ms/step - loss: 81625.2812 - mean_absolute_error: 247.4137 - mape: 12806.5771\n"
          ],
          "name": "stdout"
        },
        {
          "output_type": "stream",
          "text": [
            "/usr/local/lib/python3.7/dist-packages/tensorflow/python/keras/engine/sequential.py:455: UserWarning: `model.predict_classes()` is deprecated and will be removed after 2021-01-01. Please use instead:* `np.argmax(model.predict(x), axis=-1)`,   if your model does multi-class classification   (e.g. if it uses a `softmax` last-layer activation).* `(model.predict(x) > 0.5).astype(\"int32\")`,   if your model does binary classification   (e.g. if it uses a `sigmoid` last-layer activation).\n",
            "  warnings.warn('`model.predict_classes()` is deprecated and '\n"
          ],
          "name": "stderr"
        },
        {
          "output_type": "stream",
          "text": [
            "19/19 [==============================] - 3s 77ms/step - loss: 117445.0703 - mean_absolute_error: 296.7716 - mape: 316726.5312\n"
          ],
          "name": "stdout"
        },
        {
          "output_type": "stream",
          "text": [
            "/usr/local/lib/python3.7/dist-packages/tensorflow/python/keras/engine/sequential.py:455: UserWarning: `model.predict_classes()` is deprecated and will be removed after 2021-01-01. Please use instead:* `np.argmax(model.predict(x), axis=-1)`,   if your model does multi-class classification   (e.g. if it uses a `softmax` last-layer activation).* `(model.predict(x) > 0.5).astype(\"int32\")`,   if your model does binary classification   (e.g. if it uses a `sigmoid` last-layer activation).\n",
            "  warnings.warn('`model.predict_classes()` is deprecated and '\n"
          ],
          "name": "stderr"
        },
        {
          "output_type": "stream",
          "text": [
            "22/22 [==============================] - 3s 79ms/step - loss: 159869.6250 - mean_absolute_error: 346.2757 - mape: 88272.9688\n"
          ],
          "name": "stdout"
        },
        {
          "output_type": "stream",
          "text": [
            "/usr/local/lib/python3.7/dist-packages/tensorflow/python/keras/engine/sequential.py:455: UserWarning: `model.predict_classes()` is deprecated and will be removed after 2021-01-01. Please use instead:* `np.argmax(model.predict(x), axis=-1)`,   if your model does multi-class classification   (e.g. if it uses a `softmax` last-layer activation).* `(model.predict(x) > 0.5).astype(\"int32\")`,   if your model does binary classification   (e.g. if it uses a `sigmoid` last-layer activation).\n",
            "  warnings.warn('`model.predict_classes()` is deprecated and '\n"
          ],
          "name": "stderr"
        },
        {
          "output_type": "stream",
          "text": [
            "25/25 [==============================] - 4s 81ms/step - loss: 208411.0156 - mean_absolute_error: 395.3328 - mape: 177450.0781\n"
          ],
          "name": "stdout"
        },
        {
          "output_type": "stream",
          "text": [
            "/usr/local/lib/python3.7/dist-packages/tensorflow/python/keras/engine/sequential.py:455: UserWarning: `model.predict_classes()` is deprecated and will be removed after 2021-01-01. Please use instead:* `np.argmax(model.predict(x), axis=-1)`,   if your model does multi-class classification   (e.g. if it uses a `softmax` last-layer activation).* `(model.predict(x) > 0.5).astype(\"int32\")`,   if your model does binary classification   (e.g. if it uses a `sigmoid` last-layer activation).\n",
            "  warnings.warn('`model.predict_classes()` is deprecated and '\n"
          ],
          "name": "stderr"
        },
        {
          "output_type": "stream",
          "text": [
            "28/28 [==============================] - 4s 79ms/step - loss: 263911.9062 - mean_absolute_error: 444.8426 - mape: 85286.5859\n"
          ],
          "name": "stdout"
        },
        {
          "output_type": "stream",
          "text": [
            "/usr/local/lib/python3.7/dist-packages/tensorflow/python/keras/engine/sequential.py:455: UserWarning: `model.predict_classes()` is deprecated and will be removed after 2021-01-01. Please use instead:* `np.argmax(model.predict(x), axis=-1)`,   if your model does multi-class classification   (e.g. if it uses a `softmax` last-layer activation).* `(model.predict(x) > 0.5).astype(\"int32\")`,   if your model does binary classification   (e.g. if it uses a `sigmoid` last-layer activation).\n",
            "  warnings.warn('`model.predict_classes()` is deprecated and '\n"
          ],
          "name": "stderr"
        },
        {
          "output_type": "stream",
          "text": [
            "31/31 [==============================] - 3s 47ms/step - loss: 325930.0312 - mean_absolute_error: 494.3179 - mape: 99108.2656\n"
          ],
          "name": "stdout"
        },
        {
          "output_type": "stream",
          "text": [
            "/usr/local/lib/python3.7/dist-packages/tensorflow/python/keras/engine/sequential.py:455: UserWarning: `model.predict_classes()` is deprecated and will be removed after 2021-01-01. Please use instead:* `np.argmax(model.predict(x), axis=-1)`,   if your model does multi-class classification   (e.g. if it uses a `softmax` last-layer activation).* `(model.predict(x) > 0.5).astype(\"int32\")`,   if your model does binary classification   (e.g. if it uses a `sigmoid` last-layer activation).\n",
            "  warnings.warn('`model.predict_classes()` is deprecated and '\n"
          ],
          "name": "stderr"
        },
        {
          "output_type": "stream",
          "text": [
            "MSE: 0.13145529972052034 (+/- 0.11923981096458168\n"
          ],
          "name": "stdout"
        }
      ]
    },
    {
      "cell_type": "code",
      "metadata": {
        "id": "MmDbmXOfvwVc",
        "colab": {
          "base_uri": "https://localhost:8080/"
        },
        "outputId": "de019fb5-7b17-4099-fcaa-a429939ab90c"
      },
      "source": [
        "print('The mean squared errors for each of the 10 splits are:', mse)\n",
        "print('The mean mse for the folds is: ', (sum(mse)/10))\n",
        "\n",
        "print('The mean absolute errors for each of the 10 splits are:', mae)\n",
        "print('The mean mae for the folds is: ', (sum(mae)/10))"
      ],
      "execution_count": null,
      "outputs": [
        {
          "output_type": "stream",
          "text": [
            "The mean squared errors for each of the 10 splits are: [0.0067769  0.01585423 0.02022695 0.03345619 0.06145866 0.1331919\n",
            " 0.14253734 0.29536852 0.28469829 0.320984  ]\n",
            "The mean mse for the folds is:  0.13145529972052034\n",
            "The mean absolute errors for each of the 10 splits are: [0.07538777 0.12536822 0.14216747 0.1822185  0.24210187 0.36471057\n",
            " 0.3747754  0.53993464 0.53198151 0.56655518]\n",
            "The mean mae for the folds is:  0.3145201140067625\n"
          ],
          "name": "stdout"
        }
      ]
    },
    {
      "cell_type": "code",
      "metadata": {
        "id": "-lq93UMec9W-",
        "colab": {
          "base_uri": "https://localhost:8080/",
          "height": 351
        },
        "outputId": "00b6e45d-06dd-4274-982d-5e5b2cade7cb"
      },
      "source": [
        "df_results = pd.DataFrame(mse)\n",
        "df_results['RMSE'] = np.sqrt(df_results[0])\n",
        "df_results = df_results.rename(columns={0:'TSLA_MSE', 'RMSE':'TSLA_RMSE'})\n",
        "df_results.to_csv('TSLA_Baseline_LSTM.csv')\n",
        "df_results"
      ],
      "execution_count": null,
      "outputs": [
        {
          "output_type": "execute_result",
          "data": {
            "text/html": [
              "<div>\n",
              "<style scoped>\n",
              "    .dataframe tbody tr th:only-of-type {\n",
              "        vertical-align: middle;\n",
              "    }\n",
              "\n",
              "    .dataframe tbody tr th {\n",
              "        vertical-align: top;\n",
              "    }\n",
              "\n",
              "    .dataframe thead th {\n",
              "        text-align: right;\n",
              "    }\n",
              "</style>\n",
              "<table border=\"1\" class=\"dataframe\">\n",
              "  <thead>\n",
              "    <tr style=\"text-align: right;\">\n",
              "      <th></th>\n",
              "      <th>TSLA_MSE</th>\n",
              "      <th>TSLA_RMSE</th>\n",
              "    </tr>\n",
              "  </thead>\n",
              "  <tbody>\n",
              "    <tr>\n",
              "      <th>0</th>\n",
              "      <td>0.006777</td>\n",
              "      <td>0.082322</td>\n",
              "    </tr>\n",
              "    <tr>\n",
              "      <th>1</th>\n",
              "      <td>0.015854</td>\n",
              "      <td>0.125914</td>\n",
              "    </tr>\n",
              "    <tr>\n",
              "      <th>2</th>\n",
              "      <td>0.020227</td>\n",
              "      <td>0.142221</td>\n",
              "    </tr>\n",
              "    <tr>\n",
              "      <th>3</th>\n",
              "      <td>0.033456</td>\n",
              "      <td>0.182910</td>\n",
              "    </tr>\n",
              "    <tr>\n",
              "      <th>4</th>\n",
              "      <td>0.061459</td>\n",
              "      <td>0.247909</td>\n",
              "    </tr>\n",
              "    <tr>\n",
              "      <th>5</th>\n",
              "      <td>0.133192</td>\n",
              "      <td>0.364955</td>\n",
              "    </tr>\n",
              "    <tr>\n",
              "      <th>6</th>\n",
              "      <td>0.142537</td>\n",
              "      <td>0.377541</td>\n",
              "    </tr>\n",
              "    <tr>\n",
              "      <th>7</th>\n",
              "      <td>0.295369</td>\n",
              "      <td>0.543478</td>\n",
              "    </tr>\n",
              "    <tr>\n",
              "      <th>8</th>\n",
              "      <td>0.284698</td>\n",
              "      <td>0.533571</td>\n",
              "    </tr>\n",
              "    <tr>\n",
              "      <th>9</th>\n",
              "      <td>0.320984</td>\n",
              "      <td>0.566554</td>\n",
              "    </tr>\n",
              "  </tbody>\n",
              "</table>\n",
              "</div>"
            ],
            "text/plain": [
              "   TSLA_MSE  TSLA_RMSE\n",
              "0  0.006777   0.082322\n",
              "1  0.015854   0.125914\n",
              "2  0.020227   0.142221\n",
              "3  0.033456   0.182910\n",
              "4  0.061459   0.247909\n",
              "5  0.133192   0.364955\n",
              "6  0.142537   0.377541\n",
              "7  0.295369   0.543478\n",
              "8  0.284698   0.533571\n",
              "9  0.320984   0.566554"
            ]
          },
          "metadata": {
            "tags": []
          },
          "execution_count": 91
        }
      ]
    },
    {
      "cell_type": "code",
      "metadata": {
        "id": "reC53qQxYSaQ"
      },
      "source": [
        "df_results.to_csv('TSLA_Baseline_LSTM_HR.csv')\n"
      ],
      "execution_count": null,
      "outputs": []
    },
    {
      "cell_type": "code",
      "metadata": {
        "id": "C6W_pFU6biLn",
        "colab": {
          "base_uri": "https://localhost:8080/",
          "height": 290
        },
        "outputId": "4072cc65-b61f-4613-a135-1200a6a903b0"
      },
      "source": [
        "df_results.describe()"
      ],
      "execution_count": null,
      "outputs": [
        {
          "output_type": "execute_result",
          "data": {
            "text/html": [
              "<div>\n",
              "<style scoped>\n",
              "    .dataframe tbody tr th:only-of-type {\n",
              "        vertical-align: middle;\n",
              "    }\n",
              "\n",
              "    .dataframe tbody tr th {\n",
              "        vertical-align: top;\n",
              "    }\n",
              "\n",
              "    .dataframe thead th {\n",
              "        text-align: right;\n",
              "    }\n",
              "</style>\n",
              "<table border=\"1\" class=\"dataframe\">\n",
              "  <thead>\n",
              "    <tr style=\"text-align: right;\">\n",
              "      <th></th>\n",
              "      <th>TSLA_MSE</th>\n",
              "      <th>TSLA_RMSE</th>\n",
              "    </tr>\n",
              "  </thead>\n",
              "  <tbody>\n",
              "    <tr>\n",
              "      <th>count</th>\n",
              "      <td>10.000000</td>\n",
              "      <td>10.000000</td>\n",
              "    </tr>\n",
              "    <tr>\n",
              "      <th>mean</th>\n",
              "      <td>0.131455</td>\n",
              "      <td>0.316738</td>\n",
              "    </tr>\n",
              "    <tr>\n",
              "      <th>std</th>\n",
              "      <td>0.125690</td>\n",
              "      <td>0.185989</td>\n",
              "    </tr>\n",
              "    <tr>\n",
              "      <th>min</th>\n",
              "      <td>0.006777</td>\n",
              "      <td>0.082322</td>\n",
              "    </tr>\n",
              "    <tr>\n",
              "      <th>25%</th>\n",
              "      <td>0.023534</td>\n",
              "      <td>0.152394</td>\n",
              "    </tr>\n",
              "    <tr>\n",
              "      <th>50%</th>\n",
              "      <td>0.097325</td>\n",
              "      <td>0.306432</td>\n",
              "    </tr>\n",
              "    <tr>\n",
              "      <th>75%</th>\n",
              "      <td>0.249158</td>\n",
              "      <td>0.494564</td>\n",
              "    </tr>\n",
              "    <tr>\n",
              "      <th>max</th>\n",
              "      <td>0.320984</td>\n",
              "      <td>0.566554</td>\n",
              "    </tr>\n",
              "  </tbody>\n",
              "</table>\n",
              "</div>"
            ],
            "text/plain": [
              "        TSLA_MSE  TSLA_RMSE\n",
              "count  10.000000  10.000000\n",
              "mean    0.131455   0.316738\n",
              "std     0.125690   0.185989\n",
              "min     0.006777   0.082322\n",
              "25%     0.023534   0.152394\n",
              "50%     0.097325   0.306432\n",
              "75%     0.249158   0.494564\n",
              "max     0.320984   0.566554"
            ]
          },
          "metadata": {
            "tags": []
          },
          "execution_count": 92
        }
      ]
    },
    {
      "cell_type": "code",
      "metadata": {
        "colab": {
          "base_uri": "https://localhost:8080/",
          "height": 328
        },
        "id": "2nj1gGu9SJyU",
        "outputId": "c155d576-7629-4c8d-b363-f4e3f12599c3"
      },
      "source": [
        "# Groupby the quality column using aggreate\n",
        "# value of mean and std\n",
        "#qual = df_results.groupby(\"quality\").agg([np.mean, np.std])\n",
        "#qual = qual['insert']\n",
        "df_results.plot(kind = \"barh\", y = \"TSLA_RMSE\", legend = False, \n",
        "          xerr = \"std\", title = \"Quality\", color='green')"
      ],
      "execution_count": null,
      "outputs": [
        {
          "output_type": "error",
          "ename": "KeyError",
          "evalue": "ignored",
          "traceback": [
            "\u001b[0;31m---------------------------------------------------------------------------\u001b[0m",
            "\u001b[0;31mKeyError\u001b[0m                                  Traceback (most recent call last)",
            "\u001b[0;32m<ipython-input-93-ed2c8e19e566>\u001b[0m in \u001b[0;36m<module>\u001b[0;34m()\u001b[0m\n\u001b[1;32m      4\u001b[0m \u001b[0;31m#qual = qual['insert']\u001b[0m\u001b[0;34m\u001b[0m\u001b[0;34m\u001b[0m\u001b[0;34m\u001b[0m\u001b[0m\n\u001b[1;32m      5\u001b[0m df_results.plot(kind = \"barh\", y = \"TSLA_RMSE\", legend = False, \n\u001b[0;32m----> 6\u001b[0;31m           xerr = \"std\", title = \"Quality\", color='green')\n\u001b[0m",
            "\u001b[0;32m/usr/local/lib/python3.7/dist-packages/pandas/plotting/_core.py\u001b[0m in \u001b[0;36m__call__\u001b[0;34m(self, *args, **kwargs)\u001b[0m\n\u001b[1;32m    947\u001b[0m                     \u001b[0mdata\u001b[0m\u001b[0;34m.\u001b[0m\u001b[0mcolumns\u001b[0m \u001b[0;34m=\u001b[0m \u001b[0mlabel_name\u001b[0m\u001b[0;34m\u001b[0m\u001b[0;34m\u001b[0m\u001b[0m\n\u001b[1;32m    948\u001b[0m \u001b[0;34m\u001b[0m\u001b[0m\n\u001b[0;32m--> 949\u001b[0;31m         \u001b[0;32mreturn\u001b[0m \u001b[0mplot_backend\u001b[0m\u001b[0;34m.\u001b[0m\u001b[0mplot\u001b[0m\u001b[0;34m(\u001b[0m\u001b[0mdata\u001b[0m\u001b[0;34m,\u001b[0m \u001b[0mkind\u001b[0m\u001b[0;34m=\u001b[0m\u001b[0mkind\u001b[0m\u001b[0;34m,\u001b[0m \u001b[0;34m**\u001b[0m\u001b[0mkwargs\u001b[0m\u001b[0;34m)\u001b[0m\u001b[0;34m\u001b[0m\u001b[0;34m\u001b[0m\u001b[0m\n\u001b[0m\u001b[1;32m    950\u001b[0m \u001b[0;34m\u001b[0m\u001b[0m\n\u001b[1;32m    951\u001b[0m     \u001b[0m__call__\u001b[0m\u001b[0;34m.\u001b[0m\u001b[0m__doc__\u001b[0m \u001b[0;34m=\u001b[0m \u001b[0m__doc__\u001b[0m\u001b[0;34m\u001b[0m\u001b[0;34m\u001b[0m\u001b[0m\n",
            "\u001b[0;32m/usr/local/lib/python3.7/dist-packages/pandas/plotting/_matplotlib/__init__.py\u001b[0m in \u001b[0;36mplot\u001b[0;34m(data, kind, **kwargs)\u001b[0m\n\u001b[1;32m     58\u001b[0m                 \u001b[0max\u001b[0m \u001b[0;34m=\u001b[0m \u001b[0mplt\u001b[0m\u001b[0;34m.\u001b[0m\u001b[0mgca\u001b[0m\u001b[0;34m(\u001b[0m\u001b[0;34m)\u001b[0m\u001b[0;34m\u001b[0m\u001b[0;34m\u001b[0m\u001b[0m\n\u001b[1;32m     59\u001b[0m             \u001b[0mkwargs\u001b[0m\u001b[0;34m[\u001b[0m\u001b[0;34m\"ax\"\u001b[0m\u001b[0;34m]\u001b[0m \u001b[0;34m=\u001b[0m \u001b[0mgetattr\u001b[0m\u001b[0;34m(\u001b[0m\u001b[0max\u001b[0m\u001b[0;34m,\u001b[0m \u001b[0;34m\"left_ax\"\u001b[0m\u001b[0;34m,\u001b[0m \u001b[0max\u001b[0m\u001b[0;34m)\u001b[0m\u001b[0;34m\u001b[0m\u001b[0;34m\u001b[0m\u001b[0m\n\u001b[0;32m---> 60\u001b[0;31m     \u001b[0mplot_obj\u001b[0m \u001b[0;34m=\u001b[0m \u001b[0mPLOT_CLASSES\u001b[0m\u001b[0;34m[\u001b[0m\u001b[0mkind\u001b[0m\u001b[0;34m]\u001b[0m\u001b[0;34m(\u001b[0m\u001b[0mdata\u001b[0m\u001b[0;34m,\u001b[0m \u001b[0;34m**\u001b[0m\u001b[0mkwargs\u001b[0m\u001b[0;34m)\u001b[0m\u001b[0;34m\u001b[0m\u001b[0;34m\u001b[0m\u001b[0m\n\u001b[0m\u001b[1;32m     61\u001b[0m     \u001b[0mplot_obj\u001b[0m\u001b[0;34m.\u001b[0m\u001b[0mgenerate\u001b[0m\u001b[0;34m(\u001b[0m\u001b[0;34m)\u001b[0m\u001b[0;34m\u001b[0m\u001b[0;34m\u001b[0m\u001b[0m\n\u001b[1;32m     62\u001b[0m     \u001b[0mplot_obj\u001b[0m\u001b[0;34m.\u001b[0m\u001b[0mdraw\u001b[0m\u001b[0;34m(\u001b[0m\u001b[0;34m)\u001b[0m\u001b[0;34m\u001b[0m\u001b[0;34m\u001b[0m\u001b[0m\n",
            "\u001b[0;32m/usr/local/lib/python3.7/dist-packages/pandas/plotting/_matplotlib/core.py\u001b[0m in \u001b[0;36m__init__\u001b[0;34m(self, data, **kwargs)\u001b[0m\n\u001b[1;32m   1344\u001b[0m \u001b[0;34m\u001b[0m\u001b[0m\n\u001b[1;32m   1345\u001b[0m         \u001b[0mself\u001b[0m\u001b[0;34m.\u001b[0m\u001b[0mlog\u001b[0m \u001b[0;34m=\u001b[0m \u001b[0mkwargs\u001b[0m\u001b[0;34m.\u001b[0m\u001b[0mpop\u001b[0m\u001b[0;34m(\u001b[0m\u001b[0;34m\"log\"\u001b[0m\u001b[0;34m,\u001b[0m \u001b[0;32mFalse\u001b[0m\u001b[0;34m)\u001b[0m\u001b[0;34m\u001b[0m\u001b[0;34m\u001b[0m\u001b[0m\n\u001b[0;32m-> 1346\u001b[0;31m         \u001b[0mMPLPlot\u001b[0m\u001b[0;34m.\u001b[0m\u001b[0m__init__\u001b[0m\u001b[0;34m(\u001b[0m\u001b[0mself\u001b[0m\u001b[0;34m,\u001b[0m \u001b[0mdata\u001b[0m\u001b[0;34m,\u001b[0m \u001b[0;34m**\u001b[0m\u001b[0mkwargs\u001b[0m\u001b[0;34m)\u001b[0m\u001b[0;34m\u001b[0m\u001b[0;34m\u001b[0m\u001b[0m\n\u001b[0m\u001b[1;32m   1347\u001b[0m \u001b[0;34m\u001b[0m\u001b[0m\n\u001b[1;32m   1348\u001b[0m         \u001b[0;32mif\u001b[0m \u001b[0mself\u001b[0m\u001b[0;34m.\u001b[0m\u001b[0mstacked\u001b[0m \u001b[0;32mor\u001b[0m \u001b[0mself\u001b[0m\u001b[0;34m.\u001b[0m\u001b[0msubplots\u001b[0m\u001b[0;34m:\u001b[0m\u001b[0;34m\u001b[0m\u001b[0;34m\u001b[0m\u001b[0m\n",
            "\u001b[0;32m/usr/local/lib/python3.7/dist-packages/pandas/plotting/_matplotlib/core.py\u001b[0m in \u001b[0;36m__init__\u001b[0;34m(self, data, kind, by, subplots, sharex, sharey, use_index, figsize, grid, legend, rot, ax, fig, title, xlim, ylim, xticks, yticks, xlabel, ylabel, sort_columns, fontsize, secondary_y, colormap, table, layout, include_bool, **kwds)\u001b[0m\n\u001b[1;32m    178\u001b[0m         self.errors = {\n\u001b[1;32m    179\u001b[0m             \u001b[0mkw\u001b[0m\u001b[0;34m:\u001b[0m \u001b[0mself\u001b[0m\u001b[0;34m.\u001b[0m\u001b[0m_parse_errorbars\u001b[0m\u001b[0;34m(\u001b[0m\u001b[0mkw\u001b[0m\u001b[0;34m,\u001b[0m \u001b[0merr\u001b[0m\u001b[0;34m)\u001b[0m\u001b[0;34m\u001b[0m\u001b[0;34m\u001b[0m\u001b[0m\n\u001b[0;32m--> 180\u001b[0;31m             \u001b[0;32mfor\u001b[0m \u001b[0mkw\u001b[0m\u001b[0;34m,\u001b[0m \u001b[0merr\u001b[0m \u001b[0;32min\u001b[0m \u001b[0mzip\u001b[0m\u001b[0;34m(\u001b[0m\u001b[0;34m[\u001b[0m\u001b[0;34m\"xerr\"\u001b[0m\u001b[0;34m,\u001b[0m \u001b[0;34m\"yerr\"\u001b[0m\u001b[0;34m]\u001b[0m\u001b[0;34m,\u001b[0m \u001b[0;34m[\u001b[0m\u001b[0mxerr\u001b[0m\u001b[0;34m,\u001b[0m \u001b[0myerr\u001b[0m\u001b[0;34m]\u001b[0m\u001b[0;34m)\u001b[0m\u001b[0;34m\u001b[0m\u001b[0;34m\u001b[0m\u001b[0m\n\u001b[0m\u001b[1;32m    181\u001b[0m         }\n\u001b[1;32m    182\u001b[0m \u001b[0;34m\u001b[0m\u001b[0m\n",
            "\u001b[0;32m/usr/local/lib/python3.7/dist-packages/pandas/plotting/_matplotlib/core.py\u001b[0m in \u001b[0;36m<dictcomp>\u001b[0;34m(.0)\u001b[0m\n\u001b[1;32m    178\u001b[0m         self.errors = {\n\u001b[1;32m    179\u001b[0m             \u001b[0mkw\u001b[0m\u001b[0;34m:\u001b[0m \u001b[0mself\u001b[0m\u001b[0;34m.\u001b[0m\u001b[0m_parse_errorbars\u001b[0m\u001b[0;34m(\u001b[0m\u001b[0mkw\u001b[0m\u001b[0;34m,\u001b[0m \u001b[0merr\u001b[0m\u001b[0;34m)\u001b[0m\u001b[0;34m\u001b[0m\u001b[0;34m\u001b[0m\u001b[0m\n\u001b[0;32m--> 180\u001b[0;31m             \u001b[0;32mfor\u001b[0m \u001b[0mkw\u001b[0m\u001b[0;34m,\u001b[0m \u001b[0merr\u001b[0m \u001b[0;32min\u001b[0m \u001b[0mzip\u001b[0m\u001b[0;34m(\u001b[0m\u001b[0;34m[\u001b[0m\u001b[0;34m\"xerr\"\u001b[0m\u001b[0;34m,\u001b[0m \u001b[0;34m\"yerr\"\u001b[0m\u001b[0;34m]\u001b[0m\u001b[0;34m,\u001b[0m \u001b[0;34m[\u001b[0m\u001b[0mxerr\u001b[0m\u001b[0;34m,\u001b[0m \u001b[0myerr\u001b[0m\u001b[0;34m]\u001b[0m\u001b[0;34m)\u001b[0m\u001b[0;34m\u001b[0m\u001b[0;34m\u001b[0m\u001b[0m\n\u001b[0m\u001b[1;32m    181\u001b[0m         }\n\u001b[1;32m    182\u001b[0m \u001b[0;34m\u001b[0m\u001b[0m\n",
            "\u001b[0;32m/usr/local/lib/python3.7/dist-packages/pandas/plotting/_matplotlib/core.py\u001b[0m in \u001b[0;36m_parse_errorbars\u001b[0;34m(self, label, err)\u001b[0m\n\u001b[1;32m    802\u001b[0m         \u001b[0;31m# errors are a column in the dataframe\u001b[0m\u001b[0;34m\u001b[0m\u001b[0;34m\u001b[0m\u001b[0;34m\u001b[0m\u001b[0m\n\u001b[1;32m    803\u001b[0m         \u001b[0;32melif\u001b[0m \u001b[0misinstance\u001b[0m\u001b[0;34m(\u001b[0m\u001b[0merr\u001b[0m\u001b[0;34m,\u001b[0m \u001b[0mstr\u001b[0m\u001b[0;34m)\u001b[0m\u001b[0;34m:\u001b[0m\u001b[0;34m\u001b[0m\u001b[0;34m\u001b[0m\u001b[0m\n\u001b[0;32m--> 804\u001b[0;31m             \u001b[0mevalues\u001b[0m \u001b[0;34m=\u001b[0m \u001b[0mself\u001b[0m\u001b[0;34m.\u001b[0m\u001b[0mdata\u001b[0m\u001b[0;34m[\u001b[0m\u001b[0merr\u001b[0m\u001b[0;34m]\u001b[0m\u001b[0;34m.\u001b[0m\u001b[0mvalues\u001b[0m\u001b[0;34m\u001b[0m\u001b[0;34m\u001b[0m\u001b[0m\n\u001b[0m\u001b[1;32m    805\u001b[0m             \u001b[0mself\u001b[0m\u001b[0;34m.\u001b[0m\u001b[0mdata\u001b[0m \u001b[0;34m=\u001b[0m \u001b[0mself\u001b[0m\u001b[0;34m.\u001b[0m\u001b[0mdata\u001b[0m\u001b[0;34m[\u001b[0m\u001b[0mself\u001b[0m\u001b[0;34m.\u001b[0m\u001b[0mdata\u001b[0m\u001b[0;34m.\u001b[0m\u001b[0mcolumns\u001b[0m\u001b[0;34m.\u001b[0m\u001b[0mdrop\u001b[0m\u001b[0;34m(\u001b[0m\u001b[0merr\u001b[0m\u001b[0;34m)\u001b[0m\u001b[0;34m]\u001b[0m\u001b[0;34m\u001b[0m\u001b[0;34m\u001b[0m\u001b[0m\n\u001b[1;32m    806\u001b[0m             \u001b[0merr\u001b[0m \u001b[0;34m=\u001b[0m \u001b[0mnp\u001b[0m\u001b[0;34m.\u001b[0m\u001b[0matleast_2d\u001b[0m\u001b[0;34m(\u001b[0m\u001b[0mevalues\u001b[0m\u001b[0;34m)\u001b[0m\u001b[0;34m\u001b[0m\u001b[0;34m\u001b[0m\u001b[0m\n",
            "\u001b[0;32m/usr/local/lib/python3.7/dist-packages/pandas/core/series.py\u001b[0m in \u001b[0;36m__getitem__\u001b[0;34m(self, key)\u001b[0m\n\u001b[1;32m    880\u001b[0m \u001b[0;34m\u001b[0m\u001b[0m\n\u001b[1;32m    881\u001b[0m         \u001b[0;32melif\u001b[0m \u001b[0mkey_is_scalar\u001b[0m\u001b[0;34m:\u001b[0m\u001b[0;34m\u001b[0m\u001b[0;34m\u001b[0m\u001b[0m\n\u001b[0;32m--> 882\u001b[0;31m             \u001b[0;32mreturn\u001b[0m \u001b[0mself\u001b[0m\u001b[0;34m.\u001b[0m\u001b[0m_get_value\u001b[0m\u001b[0;34m(\u001b[0m\u001b[0mkey\u001b[0m\u001b[0;34m)\u001b[0m\u001b[0;34m\u001b[0m\u001b[0;34m\u001b[0m\u001b[0m\n\u001b[0m\u001b[1;32m    883\u001b[0m \u001b[0;34m\u001b[0m\u001b[0m\n\u001b[1;32m    884\u001b[0m         \u001b[0;32mif\u001b[0m \u001b[0mis_hashable\u001b[0m\u001b[0;34m(\u001b[0m\u001b[0mkey\u001b[0m\u001b[0;34m)\u001b[0m\u001b[0;34m:\u001b[0m\u001b[0;34m\u001b[0m\u001b[0;34m\u001b[0m\u001b[0m\n",
            "\u001b[0;32m/usr/local/lib/python3.7/dist-packages/pandas/core/series.py\u001b[0m in \u001b[0;36m_get_value\u001b[0;34m(self, label, takeable)\u001b[0m\n\u001b[1;32m    988\u001b[0m \u001b[0;34m\u001b[0m\u001b[0m\n\u001b[1;32m    989\u001b[0m         \u001b[0;31m# Similar to Index.get_value, but we do not fall back to positional\u001b[0m\u001b[0;34m\u001b[0m\u001b[0;34m\u001b[0m\u001b[0;34m\u001b[0m\u001b[0m\n\u001b[0;32m--> 990\u001b[0;31m         \u001b[0mloc\u001b[0m \u001b[0;34m=\u001b[0m \u001b[0mself\u001b[0m\u001b[0;34m.\u001b[0m\u001b[0mindex\u001b[0m\u001b[0;34m.\u001b[0m\u001b[0mget_loc\u001b[0m\u001b[0;34m(\u001b[0m\u001b[0mlabel\u001b[0m\u001b[0;34m)\u001b[0m\u001b[0;34m\u001b[0m\u001b[0;34m\u001b[0m\u001b[0m\n\u001b[0m\u001b[1;32m    991\u001b[0m         \u001b[0;32mreturn\u001b[0m \u001b[0mself\u001b[0m\u001b[0;34m.\u001b[0m\u001b[0mindex\u001b[0m\u001b[0;34m.\u001b[0m\u001b[0m_get_values_for_loc\u001b[0m\u001b[0;34m(\u001b[0m\u001b[0mself\u001b[0m\u001b[0;34m,\u001b[0m \u001b[0mloc\u001b[0m\u001b[0;34m,\u001b[0m \u001b[0mlabel\u001b[0m\u001b[0;34m)\u001b[0m\u001b[0;34m\u001b[0m\u001b[0;34m\u001b[0m\u001b[0m\n\u001b[1;32m    992\u001b[0m \u001b[0;34m\u001b[0m\u001b[0m\n",
            "\u001b[0;32m/usr/local/lib/python3.7/dist-packages/pandas/core/indexes/range.py\u001b[0m in \u001b[0;36mget_loc\u001b[0;34m(self, key, method, tolerance)\u001b[0m\n\u001b[1;32m    356\u001b[0m                 \u001b[0;32mexcept\u001b[0m \u001b[0mValueError\u001b[0m \u001b[0;32mas\u001b[0m \u001b[0merr\u001b[0m\u001b[0;34m:\u001b[0m\u001b[0;34m\u001b[0m\u001b[0;34m\u001b[0m\u001b[0m\n\u001b[1;32m    357\u001b[0m                     \u001b[0;32mraise\u001b[0m \u001b[0mKeyError\u001b[0m\u001b[0;34m(\u001b[0m\u001b[0mkey\u001b[0m\u001b[0;34m)\u001b[0m \u001b[0;32mfrom\u001b[0m \u001b[0merr\u001b[0m\u001b[0;34m\u001b[0m\u001b[0;34m\u001b[0m\u001b[0m\n\u001b[0;32m--> 358\u001b[0;31m             \u001b[0;32mraise\u001b[0m \u001b[0mKeyError\u001b[0m\u001b[0;34m(\u001b[0m\u001b[0mkey\u001b[0m\u001b[0;34m)\u001b[0m\u001b[0;34m\u001b[0m\u001b[0;34m\u001b[0m\u001b[0m\n\u001b[0m\u001b[1;32m    359\u001b[0m         \u001b[0;32mreturn\u001b[0m \u001b[0msuper\u001b[0m\u001b[0;34m(\u001b[0m\u001b[0;34m)\u001b[0m\u001b[0;34m.\u001b[0m\u001b[0mget_loc\u001b[0m\u001b[0;34m(\u001b[0m\u001b[0mkey\u001b[0m\u001b[0;34m,\u001b[0m \u001b[0mmethod\u001b[0m\u001b[0;34m=\u001b[0m\u001b[0mmethod\u001b[0m\u001b[0;34m,\u001b[0m \u001b[0mtolerance\u001b[0m\u001b[0;34m=\u001b[0m\u001b[0mtolerance\u001b[0m\u001b[0;34m)\u001b[0m\u001b[0;34m\u001b[0m\u001b[0;34m\u001b[0m\u001b[0m\n\u001b[1;32m    360\u001b[0m \u001b[0;34m\u001b[0m\u001b[0m\n",
            "\u001b[0;31mKeyError\u001b[0m: 'std'"
          ]
        }
      ]
    },
    {
      "cell_type": "code",
      "metadata": {
        "id": "lSGvNk8ZVjJI"
      },
      "source": [
        ""
      ],
      "execution_count": null,
      "outputs": []
    }
  ]
}