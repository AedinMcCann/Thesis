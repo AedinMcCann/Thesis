{
  "nbformat": 4,
  "nbformat_minor": 0,
  "metadata": {
    "colab": {
      "name": "FINAL FINAL MSFT- LSTM SENTIMENT - 60M",
      "provenance": [],
      "collapsed_sections": [],
      "authorship_tag": "ABX9TyPUx7QsjAvpJe1LBXgY2HsC",
      "include_colab_link": true
    },
    "kernelspec": {
      "display_name": "Python 3",
      "name": "python3"
    },
    "language_info": {
      "name": "python"
    }
  },
  "cells": [
    {
      "cell_type": "markdown",
      "metadata": {
        "id": "view-in-github",
        "colab_type": "text"
      },
      "source": [
        "<a href=\"https://colab.research.google.com/github/AedinMcCann/Thesis/blob/main/FINAL_FINAL_MSFT_LSTM_SENTIMENT_60M.ipynb\" target=\"_parent\"><img src=\"https://colab.research.google.com/assets/colab-badge.svg\" alt=\"Open In Colab\"/></a>"
      ]
    },
    {
      "cell_type": "code",
      "metadata": {
        "colab": {
          "base_uri": "https://localhost:8080/"
        },
        "id": "7NWzzUVTbmJD",
        "outputId": "3da7bf72-903d-4862-beff-93c599af9966"
      },
      "source": [
        "pip install yfinance"
      ],
      "execution_count": null,
      "outputs": [
        {
          "output_type": "stream",
          "text": [
            "Requirement already satisfied: yfinance in /usr/local/lib/python3.7/dist-packages (0.1.59)\n",
            "Requirement already satisfied: pandas>=0.24 in /usr/local/lib/python3.7/dist-packages (from yfinance) (1.1.5)\n",
            "Requirement already satisfied: multitasking>=0.0.7 in /usr/local/lib/python3.7/dist-packages (from yfinance) (0.0.9)\n",
            "Requirement already satisfied: lxml>=4.5.1 in /usr/local/lib/python3.7/dist-packages (from yfinance) (4.6.3)\n",
            "Requirement already satisfied: requests>=2.20 in /usr/local/lib/python3.7/dist-packages (from yfinance) (2.23.0)\n",
            "Requirement already satisfied: numpy>=1.15 in /usr/local/lib/python3.7/dist-packages (from yfinance) (1.19.5)\n",
            "Requirement already satisfied: python-dateutil>=2.7.3 in /usr/local/lib/python3.7/dist-packages (from pandas>=0.24->yfinance) (2.8.1)\n",
            "Requirement already satisfied: pytz>=2017.2 in /usr/local/lib/python3.7/dist-packages (from pandas>=0.24->yfinance) (2018.9)\n",
            "Requirement already satisfied: chardet<4,>=3.0.2 in /usr/local/lib/python3.7/dist-packages (from requests>=2.20->yfinance) (3.0.4)\n",
            "Requirement already satisfied: certifi>=2017.4.17 in /usr/local/lib/python3.7/dist-packages (from requests>=2.20->yfinance) (2021.5.30)\n",
            "Requirement already satisfied: idna<3,>=2.5 in /usr/local/lib/python3.7/dist-packages (from requests>=2.20->yfinance) (2.10)\n",
            "Requirement already satisfied: urllib3!=1.25.0,!=1.25.1,<1.26,>=1.21.1 in /usr/local/lib/python3.7/dist-packages (from requests>=2.20->yfinance) (1.24.3)\n",
            "Requirement already satisfied: six>=1.5 in /usr/local/lib/python3.7/dist-packages (from python-dateutil>=2.7.3->pandas>=0.24->yfinance) (1.15.0)\n"
          ],
          "name": "stdout"
        }
      ]
    },
    {
      "cell_type": "code",
      "metadata": {
        "colab": {
          "base_uri": "https://localhost:8080/"
        },
        "id": "y-Rx4YTKpQyY",
        "outputId": "474d4b60-c80d-4618-bb93-fa354cbe6021"
      },
      "source": [
        "pip install statsmodels"
      ],
      "execution_count": null,
      "outputs": [
        {
          "output_type": "stream",
          "text": [
            "Requirement already satisfied: statsmodels in /usr/local/lib/python3.7/dist-packages (0.10.2)\n",
            "Requirement already satisfied: patsy>=0.4.0 in /usr/local/lib/python3.7/dist-packages (from statsmodels) (0.5.1)\n",
            "Requirement already satisfied: pandas>=0.19 in /usr/local/lib/python3.7/dist-packages (from statsmodels) (1.1.5)\n",
            "Requirement already satisfied: scipy>=0.18 in /usr/local/lib/python3.7/dist-packages (from statsmodels) (1.4.1)\n",
            "Requirement already satisfied: numpy>=1.11 in /usr/local/lib/python3.7/dist-packages (from statsmodels) (1.19.5)\n",
            "Requirement already satisfied: six in /usr/local/lib/python3.7/dist-packages (from patsy>=0.4.0->statsmodels) (1.15.0)\n",
            "Requirement already satisfied: python-dateutil>=2.7.3 in /usr/local/lib/python3.7/dist-packages (from pandas>=0.19->statsmodels) (2.8.1)\n",
            "Requirement already satisfied: pytz>=2017.2 in /usr/local/lib/python3.7/dist-packages (from pandas>=0.19->statsmodels) (2018.9)\n"
          ],
          "name": "stdout"
        }
      ]
    },
    {
      "cell_type": "code",
      "metadata": {
        "colab": {
          "base_uri": "https://localhost:8080/"
        },
        "id": "1GA6cwXApSRo",
        "outputId": "30518d86-c29a-4603-b5fe-1fb3f8292dc6"
      },
      "source": [
        "pip install yahoofinancials"
      ],
      "execution_count": null,
      "outputs": [
        {
          "output_type": "stream",
          "text": [
            "Collecting yahoofinancials\n",
            "  Downloading https://files.pythonhosted.org/packages/97/fe/be0f6ea704137848779fc61e7d1c9a901489aaf3423cd7b6f86a350c14c6/yahoofinancials-1.6.tar.gz\n",
            "Requirement already satisfied: beautifulsoup4 in /usr/local/lib/python3.7/dist-packages (from yahoofinancials) (4.6.3)\n",
            "Requirement already satisfied: pytz in /usr/local/lib/python3.7/dist-packages (from yahoofinancials) (2018.9)\n",
            "Building wheels for collected packages: yahoofinancials\n",
            "  Building wheel for yahoofinancials (setup.py) ... \u001b[?25l\u001b[?25hdone\n",
            "  Created wheel for yahoofinancials: filename=yahoofinancials-1.6-cp37-none-any.whl size=15192 sha256=90d5ee35c9354cb0b36ce4305c7aec14b4e896080681c50b8477e1112597bbeb\n",
            "  Stored in directory: /root/.cache/pip/wheels/d9/7e/cf/4977a8572d5247242a4b13018d1d36923024ba84236e0d28bc\n",
            "Successfully built yahoofinancials\n",
            "Installing collected packages: yahoofinancials\n",
            "Successfully installed yahoofinancials-1.6\n"
          ],
          "name": "stdout"
        }
      ]
    },
    {
      "cell_type": "code",
      "metadata": {
        "id": "x5HOlBCAcU8n"
      },
      "source": [
        "# Import necessary packages\n",
        "import tensorflow as tf\n",
        "from tensorflow.keras.callbacks import CSVLogger, EarlyStopping\n",
        "import numpy as np\n",
        "import matplotlib as mpl\n",
        "import matplotlib.pyplot as plt\n",
        "import numpy as np\n",
        "import os\n",
        "import pandas as pd\n",
        "import seaborn as sns\n",
        "import time\n",
        "import gc\n",
        "import sys\n",
        "from sklearn.preprocessing import MinMaxScaler\n",
        "import pandas as pd\n",
        "import yfinance as yf\n",
        "from yahoofinancials import YahooFinancials\n",
        "import seaborn as sns\n",
        "\n",
        "from sklearn.model_selection import train_test_split \n",
        "from sklearn import metrics\n",
        "from keras import regularizers\n",
        "\n",
        "\n",
        "from sklearn.model_selection import TimeSeriesSplit\n",
        "from sklearn.model_selection import KFold\n",
        "import numpy as np\n",
        "import matplotlib.pyplot as plt\n",
        "from matplotlib.patches import Patch\n",
        "import seaborn as sns \n",
        "\n",
        "import sklearn\n",
        "from sklearn.linear_model import ElasticNet\n",
        "from sklearn.multioutput import MultiOutputRegressor\n",
        "from sklearn.model_selection import cross_val_score\n",
        "from sklearn.model_selection import GridSearchCV\n",
        "from keras.wrappers.scikit_learn import KerasClassifier\n"
      ],
      "execution_count": null,
      "outputs": []
    },
    {
      "cell_type": "code",
      "metadata": {
        "colab": {
          "base_uri": "https://localhost:8080/",
          "height": 216
        },
        "id": "GFMJrJwWbzvx",
        "outputId": "3c19f649-1f1f-465c-9308-1d0838453da9"
      },
      "source": [
        "# Get stock data\n",
        "start='2020-01-01'\n",
        "end='2021-01-03'\n",
        "df = yf.download(tickers = \"MSFT\",start=start,end=end,interval = \"60m\")\n",
        "df.reset_index(drop=False, inplace=True)\n",
        "\n",
        "nan_value = float(\"NaN\")\n",
        "df.replace(\"\", nan_value, inplace=True)\n",
        "df.tail()\n",
        "df['Next_close'] = df['Close'].shift(-1)\n",
        "df.head()\n"
      ],
      "execution_count": null,
      "outputs": [
        {
          "output_type": "stream",
          "text": [
            "\r[*********************100%***********************]  1 of 1 completed\n"
          ],
          "name": "stdout"
        },
        {
          "output_type": "execute_result",
          "data": {
            "text/html": [
              "<div>\n",
              "<style scoped>\n",
              "    .dataframe tbody tr th:only-of-type {\n",
              "        vertical-align: middle;\n",
              "    }\n",
              "\n",
              "    .dataframe tbody tr th {\n",
              "        vertical-align: top;\n",
              "    }\n",
              "\n",
              "    .dataframe thead th {\n",
              "        text-align: right;\n",
              "    }\n",
              "</style>\n",
              "<table border=\"1\" class=\"dataframe\">\n",
              "  <thead>\n",
              "    <tr style=\"text-align: right;\">\n",
              "      <th></th>\n",
              "      <th>Datetime</th>\n",
              "      <th>Open</th>\n",
              "      <th>High</th>\n",
              "      <th>Low</th>\n",
              "      <th>Close</th>\n",
              "      <th>Adj Close</th>\n",
              "      <th>Volume</th>\n",
              "      <th>Next_close</th>\n",
              "    </tr>\n",
              "  </thead>\n",
              "  <tbody>\n",
              "    <tr>\n",
              "      <th>0</th>\n",
              "      <td>2020-01-02 09:30:00-05:00</td>\n",
              "      <td>158.779999</td>\n",
              "      <td>159.554993</td>\n",
              "      <td>158.330002</td>\n",
              "      <td>159.100006</td>\n",
              "      <td>159.100006</td>\n",
              "      <td>5598544</td>\n",
              "      <td>159.485001</td>\n",
              "    </tr>\n",
              "    <tr>\n",
              "      <th>1</th>\n",
              "      <td>2020-01-02 10:30:00-05:00</td>\n",
              "      <td>159.095001</td>\n",
              "      <td>159.630005</td>\n",
              "      <td>158.990005</td>\n",
              "      <td>159.485001</td>\n",
              "      <td>159.485001</td>\n",
              "      <td>2349407</td>\n",
              "      <td>159.529999</td>\n",
              "    </tr>\n",
              "    <tr>\n",
              "      <th>2</th>\n",
              "      <td>2020-01-02 11:30:00-05:00</td>\n",
              "      <td>159.479996</td>\n",
              "      <td>159.619995</td>\n",
              "      <td>159.110001</td>\n",
              "      <td>159.529999</td>\n",
              "      <td>159.529999</td>\n",
              "      <td>1784440</td>\n",
              "      <td>159.615005</td>\n",
              "    </tr>\n",
              "    <tr>\n",
              "      <th>3</th>\n",
              "      <td>2020-01-02 12:30:00-05:00</td>\n",
              "      <td>159.520004</td>\n",
              "      <td>159.800003</td>\n",
              "      <td>159.445007</td>\n",
              "      <td>159.615005</td>\n",
              "      <td>159.615005</td>\n",
              "      <td>1571495</td>\n",
              "      <td>159.934998</td>\n",
              "    </tr>\n",
              "    <tr>\n",
              "      <th>4</th>\n",
              "      <td>2020-01-02 13:30:00-05:00</td>\n",
              "      <td>159.615005</td>\n",
              "      <td>159.949997</td>\n",
              "      <td>159.529999</td>\n",
              "      <td>159.934998</td>\n",
              "      <td>159.934998</td>\n",
              "      <td>1508504</td>\n",
              "      <td>160.070007</td>\n",
              "    </tr>\n",
              "  </tbody>\n",
              "</table>\n",
              "</div>"
            ],
            "text/plain": [
              "                   Datetime        Open  ...   Volume  Next_close\n",
              "0 2020-01-02 09:30:00-05:00  158.779999  ...  5598544  159.485001\n",
              "1 2020-01-02 10:30:00-05:00  159.095001  ...  2349407  159.529999\n",
              "2 2020-01-02 11:30:00-05:00  159.479996  ...  1784440  159.615005\n",
              "3 2020-01-02 12:30:00-05:00  159.520004  ...  1571495  159.934998\n",
              "4 2020-01-02 13:30:00-05:00  159.615005  ...  1508504  160.070007\n",
              "\n",
              "[5 rows x 8 columns]"
            ]
          },
          "metadata": {
            "tags": []
          },
          "execution_count": 6
        }
      ]
    },
    {
      "cell_type": "code",
      "metadata": {
        "colab": {
          "base_uri": "https://localhost:8080/",
          "height": 396
        },
        "id": "cnIoHw6wkZRy",
        "outputId": "732bf51c-77b3-4277-f555-e8c92f23d567"
      },
      "source": [
        "# Add in some technical indicators\n",
        "# Simple moving average (SMA)\n",
        "# 3 day period\n",
        "Close = df[['Close']]\n",
        "df['SMA'] = df.Close.rolling(3, min_periods=1).mean()\n",
        "\n",
        "# Exponential moving average (EMA)\n",
        "df['EMA'] = df.Close.ewm(alpha=0.1, adjust=False).mean()\n",
        "\n",
        "# Plot price changes for the year\n",
        "# Colors for the line plot\n",
        "colors = ['green', 'red', 'purple']\n",
        "df_plt = df[['Close', 'SMA', 'EMA', 'Datetime']]\n",
        "\n",
        "# line plot\n",
        "df_plt.plot(color=colors, x = 'Datetime', linewidth=3, figsize=(12,6))\n",
        "\n",
        "# modify ticks size\n",
        "plt.xticks(fontsize=10)\n",
        "plt.yticks(fontsize=10)\n",
        "\n",
        "# title and labels\n",
        "plt.xlabel('Date', fontsize=16)\n",
        "plt.ylabel('Cost (USD)', fontsize=16)"
      ],
      "execution_count": null,
      "outputs": [
        {
          "output_type": "execute_result",
          "data": {
            "text/plain": [
              "Text(0, 0.5, 'Cost (USD)')"
            ]
          },
          "metadata": {
            "tags": []
          },
          "execution_count": 7
        },
        {
          "output_type": "display_data",
          "data": {
            "image/png": "[encoded data removed]",
            "text/plain": [
              "<Figure size 864x432 with 1 Axes>"
            ]
          },
          "metadata": {
            "tags": [],
            "needs_background": "light"
          }
        }
      ]
    },
    {
      "cell_type": "code",
      "metadata": {
        "id": "xkcrDDZlqgYT"
      },
      "source": [
        "# On Balance Volume\n",
        "# Measures cumulative buying and selling pressure by adding the volume on \"up\" days and subtracting volume on \"down\" days. \n",
        "df['obv'] = (np.sign(df['Close'].diff()) * df['Volume']).fillna(0).cumsum()\n",
        "df = df.set_index('Datetime')\n"
      ],
      "execution_count": null,
      "outputs": []
    },
    {
      "cell_type": "code",
      "metadata": {
        "id": "Zl_dlyXZeujy"
      },
      "source": [
        "# Create hour_id for merging with Sentiment Data\n",
        "df = df.reset_index()\n",
        "df['date'] = df['Datetime'].dt.date  # for daily sentiment\n",
        "df['datehour'] = df['Datetime'].dt.hour     #For hourly sentiment\n",
        "df['hour_id'] = df[df.columns[-2:]].apply(\n",
        "    lambda x: '.'.join(x.dropna().astype(str)),\n",
        "    axis=1\n",
        ")"
      ],
      "execution_count": null,
      "outputs": []
    },
    {
      "cell_type": "code",
      "metadata": {
        "colab": {
          "base_uri": "https://localhost:8080/",
          "height": 408
        },
        "id": "zKwSmno5eefB",
        "outputId": "cc11bda1-d431-424c-aa53-3b602ab1c154"
      },
      "source": [
        "# Import Sentiment Data\n",
        "sent = pd.read_csv('MSFT_sentiment_hr.csv')\n",
        "sent"
      ],
      "execution_count": null,
      "outputs": [
        {
          "output_type": "execute_result",
          "data": {
            "text/html": [
              "<div>\n",
              "<style scoped>\n",
              "    .dataframe tbody tr th:only-of-type {\n",
              "        vertical-align: middle;\n",
              "    }\n",
              "\n",
              "    .dataframe tbody tr th {\n",
              "        vertical-align: top;\n",
              "    }\n",
              "\n",
              "    .dataframe thead th {\n",
              "        text-align: right;\n",
              "    }\n",
              "</style>\n",
              "<table border=\"1\" class=\"dataframe\">\n",
              "  <thead>\n",
              "    <tr style=\"text-align: right;\">\n",
              "      <th></th>\n",
              "      <th>Unnamed: 0</th>\n",
              "      <th>hour_id</th>\n",
              "      <th>compound</th>\n",
              "      <th>Count</th>\n",
              "      <th>average</th>\n",
              "    </tr>\n",
              "  </thead>\n",
              "  <tbody>\n",
              "    <tr>\n",
              "      <th>0</th>\n",
              "      <td>0</td>\n",
              "      <td>2019-12-31.23</td>\n",
              "      <td>-0.4019</td>\n",
              "      <td>2</td>\n",
              "      <td>-0.200950</td>\n",
              "    </tr>\n",
              "    <tr>\n",
              "      <th>1</th>\n",
              "      <td>1</td>\n",
              "      <td>2020-01-01.16</td>\n",
              "      <td>-0.1661</td>\n",
              "      <td>1</td>\n",
              "      <td>-0.166100</td>\n",
              "    </tr>\n",
              "    <tr>\n",
              "      <th>2</th>\n",
              "      <td>2</td>\n",
              "      <td>2020-01-01.21</td>\n",
              "      <td>-0.0697</td>\n",
              "      <td>2</td>\n",
              "      <td>-0.034850</td>\n",
              "    </tr>\n",
              "    <tr>\n",
              "      <th>3</th>\n",
              "      <td>3</td>\n",
              "      <td>2020-01-01.22</td>\n",
              "      <td>0.2586</td>\n",
              "      <td>1</td>\n",
              "      <td>0.258600</td>\n",
              "    </tr>\n",
              "    <tr>\n",
              "      <th>4</th>\n",
              "      <td>4</td>\n",
              "      <td>2020-01-01.23</td>\n",
              "      <td>0.3818</td>\n",
              "      <td>1</td>\n",
              "      <td>0.381800</td>\n",
              "    </tr>\n",
              "    <tr>\n",
              "      <th>...</th>\n",
              "      <td>...</td>\n",
              "      <td>...</td>\n",
              "      <td>...</td>\n",
              "      <td>...</td>\n",
              "      <td>...</td>\n",
              "    </tr>\n",
              "    <tr>\n",
              "      <th>7559</th>\n",
              "      <td>7559</td>\n",
              "      <td>2020-12-31.4</td>\n",
              "      <td>1.3475</td>\n",
              "      <td>3</td>\n",
              "      <td>0.449167</td>\n",
              "    </tr>\n",
              "    <tr>\n",
              "      <th>7560</th>\n",
              "      <td>7560</td>\n",
              "      <td>2020-12-31.5</td>\n",
              "      <td>0.8979</td>\n",
              "      <td>4</td>\n",
              "      <td>0.224475</td>\n",
              "    </tr>\n",
              "    <tr>\n",
              "      <th>7561</th>\n",
              "      <td>7561</td>\n",
              "      <td>2020-12-31.7</td>\n",
              "      <td>-0.2924</td>\n",
              "      <td>1</td>\n",
              "      <td>-0.292400</td>\n",
              "    </tr>\n",
              "    <tr>\n",
              "      <th>7562</th>\n",
              "      <td>7562</td>\n",
              "      <td>2020-12-31.8</td>\n",
              "      <td>0.0000</td>\n",
              "      <td>2</td>\n",
              "      <td>0.000000</td>\n",
              "    </tr>\n",
              "    <tr>\n",
              "      <th>7563</th>\n",
              "      <td>7563</td>\n",
              "      <td>2020-12-31.9</td>\n",
              "      <td>0.1794</td>\n",
              "      <td>2</td>\n",
              "      <td>0.089700</td>\n",
              "    </tr>\n",
              "  </tbody>\n",
              "</table>\n",
              "<p>7564 rows × 5 columns</p>\n",
              "</div>"
            ],
            "text/plain": [
              "      Unnamed: 0        hour_id  compound  Count   average\n",
              "0              0  2019-12-31.23   -0.4019      2 -0.200950\n",
              "1              1  2020-01-01.16   -0.1661      1 -0.166100\n",
              "2              2  2020-01-01.21   -0.0697      2 -0.034850\n",
              "3              3  2020-01-01.22    0.2586      1  0.258600\n",
              "4              4  2020-01-01.23    0.3818      1  0.381800\n",
              "...          ...            ...       ...    ...       ...\n",
              "7559        7559   2020-12-31.4    1.3475      3  0.449167\n",
              "7560        7560   2020-12-31.5    0.8979      4  0.224475\n",
              "7561        7561   2020-12-31.7   -0.2924      1 -0.292400\n",
              "7562        7562   2020-12-31.8    0.0000      2  0.000000\n",
              "7563        7563   2020-12-31.9    0.1794      2  0.089700\n",
              "\n",
              "[7564 rows x 5 columns]"
            ]
          },
          "metadata": {
            "tags": []
          },
          "execution_count": 10
        }
      ]
    },
    {
      "cell_type": "code",
      "metadata": {
        "colab": {
          "base_uri": "https://localhost:8080/",
          "height": 310
        },
        "id": "tG1ncl8eeIds",
        "outputId": "53af6f41-edf1-4026-f7c6-8e631048095f"
      },
      "source": [
        "# Merge Dataframes\n",
        "df = pd.merge(df, sent, on = 'hour_id', how = 'left')\n",
        "#df = df.fillna(0)\n",
        "df.describe()"
      ],
      "execution_count": null,
      "outputs": [
        {
          "output_type": "execute_result",
          "data": {
            "text/html": [
              "<div>\n",
              "<style scoped>\n",
              "    .dataframe tbody tr th:only-of-type {\n",
              "        vertical-align: middle;\n",
              "    }\n",
              "\n",
              "    .dataframe tbody tr th {\n",
              "        vertical-align: top;\n",
              "    }\n",
              "\n",
              "    .dataframe thead th {\n",
              "        text-align: right;\n",
              "    }\n",
              "</style>\n",
              "<table border=\"1\" class=\"dataframe\">\n",
              "  <thead>\n",
              "    <tr style=\"text-align: right;\">\n",
              "      <th></th>\n",
              "      <th>Open</th>\n",
              "      <th>High</th>\n",
              "      <th>Low</th>\n",
              "      <th>Close</th>\n",
              "      <th>Adj Close</th>\n",
              "      <th>Volume</th>\n",
              "      <th>Next_close</th>\n",
              "      <th>SMA</th>\n",
              "      <th>EMA</th>\n",
              "      <th>obv</th>\n",
              "      <th>datehour</th>\n",
              "      <th>Unnamed: 0</th>\n",
              "      <th>compound</th>\n",
              "      <th>Count</th>\n",
              "      <th>average</th>\n",
              "    </tr>\n",
              "  </thead>\n",
              "  <tbody>\n",
              "    <tr>\n",
              "      <th>count</th>\n",
              "      <td>1764.000000</td>\n",
              "      <td>1764.000000</td>\n",
              "      <td>1764.000000</td>\n",
              "      <td>1764.000000</td>\n",
              "      <td>1764.000000</td>\n",
              "      <td>1.764000e+03</td>\n",
              "      <td>1763.000000</td>\n",
              "      <td>1764.000000</td>\n",
              "      <td>1764.000000</td>\n",
              "      <td>1.764000e+03</td>\n",
              "      <td>1764.000000</td>\n",
              "      <td>1549.000000</td>\n",
              "      <td>1549.000000</td>\n",
              "      <td>1549.000000</td>\n",
              "      <td>1549.000000</td>\n",
              "    </tr>\n",
              "    <tr>\n",
              "      <th>mean</th>\n",
              "      <td>192.922239</td>\n",
              "      <td>193.825921</td>\n",
              "      <td>191.999376</td>\n",
              "      <td>192.941001</td>\n",
              "      <td>192.941001</td>\n",
              "      <td>4.566292e+06</td>\n",
              "      <td>192.960196</td>\n",
              "      <td>192.905329</td>\n",
              "      <td>192.619718</td>\n",
              "      <td>2.331774e+08</td>\n",
              "      <td>11.994898</td>\n",
              "      <td>3787.248547</td>\n",
              "      <td>0.312523</td>\n",
              "      <td>15.728857</td>\n",
              "      <td>0.041792</td>\n",
              "    </tr>\n",
              "    <tr>\n",
              "      <th>std</th>\n",
              "      <td>22.957954</td>\n",
              "      <td>22.785290</td>\n",
              "      <td>23.090392</td>\n",
              "      <td>22.939181</td>\n",
              "      <td>22.939181</td>\n",
              "      <td>3.129898e+06</td>\n",
              "      <td>22.931514</td>\n",
              "      <td>22.918551</td>\n",
              "      <td>22.752246</td>\n",
              "      <td>1.350495e+08</td>\n",
              "      <td>2.000702</td>\n",
              "      <td>2172.138666</td>\n",
              "      <td>1.982829</td>\n",
              "      <td>29.219588</td>\n",
              "      <td>0.225441</td>\n",
              "    </tr>\n",
              "    <tr>\n",
              "      <th>min</th>\n",
              "      <td>134.160004</td>\n",
              "      <td>137.250000</td>\n",
              "      <td>132.520004</td>\n",
              "      <td>134.139999</td>\n",
              "      <td>134.139999</td>\n",
              "      <td>0.000000e+00</td>\n",
              "      <td>134.139999</td>\n",
              "      <td>135.313334</td>\n",
              "      <td>139.093149</td>\n",
              "      <td>-7.974553e+07</td>\n",
              "      <td>9.000000</td>\n",
              "      <td>8.000000</td>\n",
              "      <td>-17.594100</td>\n",
              "      <td>1.000000</td>\n",
              "      <td>-0.845500</td>\n",
              "    </tr>\n",
              "    <tr>\n",
              "      <th>25%</th>\n",
              "      <td>173.881248</td>\n",
              "      <td>174.474998</td>\n",
              "      <td>172.899994</td>\n",
              "      <td>173.799923</td>\n",
              "      <td>173.799923</td>\n",
              "      <td>2.562148e+06</td>\n",
              "      <td>173.869949</td>\n",
              "      <td>173.581750</td>\n",
              "      <td>173.271001</td>\n",
              "      <td>1.191854e+08</td>\n",
              "      <td>10.000000</td>\n",
              "      <td>1910.000000</td>\n",
              "      <td>-0.460600</td>\n",
              "      <td>3.000000</td>\n",
              "      <td>-0.055300</td>\n",
              "    </tr>\n",
              "    <tr>\n",
              "      <th>50%</th>\n",
              "      <td>200.864998</td>\n",
              "      <td>201.840004</td>\n",
              "      <td>199.910004</td>\n",
              "      <td>200.931046</td>\n",
              "      <td>200.931046</td>\n",
              "      <td>3.564974e+06</td>\n",
              "      <td>200.932098</td>\n",
              "      <td>201.257484</td>\n",
              "      <td>201.059177</td>\n",
              "      <td>2.833942e+08</td>\n",
              "      <td>12.000000</td>\n",
              "      <td>3773.000000</td>\n",
              "      <td>0.212600</td>\n",
              "      <td>7.000000</td>\n",
              "      <td>0.023575</td>\n",
              "    </tr>\n",
              "    <tr>\n",
              "      <th>75%</th>\n",
              "      <td>212.389999</td>\n",
              "      <td>213.184994</td>\n",
              "      <td>211.602505</td>\n",
              "      <td>212.397499</td>\n",
              "      <td>212.397499</td>\n",
              "      <td>5.511006e+06</td>\n",
              "      <td>212.404999</td>\n",
              "      <td>212.350416</td>\n",
              "      <td>212.242562</td>\n",
              "      <td>3.474824e+08</td>\n",
              "      <td>14.000000</td>\n",
              "      <td>5671.000000</td>\n",
              "      <td>0.952700</td>\n",
              "      <td>15.000000</td>\n",
              "      <td>0.140094</td>\n",
              "    </tr>\n",
              "    <tr>\n",
              "      <th>max</th>\n",
              "      <td>232.354996</td>\n",
              "      <td>232.860001</td>\n",
              "      <td>231.350006</td>\n",
              "      <td>232.350006</td>\n",
              "      <td>232.350006</td>\n",
              "      <td>2.795370e+07</td>\n",
              "      <td>232.350006</td>\n",
              "      <td>232.180003</td>\n",
              "      <td>228.858003</td>\n",
              "      <td>4.074811e+08</td>\n",
              "      <td>15.000000</td>\n",
              "      <td>7563.000000</td>\n",
              "      <td>22.077400</td>\n",
              "      <td>337.000000</td>\n",
              "      <td>0.955900</td>\n",
              "    </tr>\n",
              "  </tbody>\n",
              "</table>\n",
              "</div>"
            ],
            "text/plain": [
              "              Open         High  ...        Count      average\n",
              "count  1764.000000  1764.000000  ...  1549.000000  1549.000000\n",
              "mean    192.922239   193.825921  ...    15.728857     0.041792\n",
              "std      22.957954    22.785290  ...    29.219588     0.225441\n",
              "min     134.160004   137.250000  ...     1.000000    -0.845500\n",
              "25%     173.881248   174.474998  ...     3.000000    -0.055300\n",
              "50%     200.864998   201.840004  ...     7.000000     0.023575\n",
              "75%     212.389999   213.184994  ...    15.000000     0.140094\n",
              "max     232.354996   232.860001  ...   337.000000     0.955900\n",
              "\n",
              "[8 rows x 15 columns]"
            ]
          },
          "metadata": {
            "tags": []
          },
          "execution_count": 11
        }
      ]
    },
    {
      "cell_type": "code",
      "metadata": {
        "id": "jUTQj59FPpdz",
        "colab": {
          "base_uri": "https://localhost:8080/",
          "height": 585
        },
        "outputId": "1aac323d-6cf1-4845-bc9f-e378a1d83b05"
      },
      "source": [
        "# Check for correlation between sentiment and price change\n",
        "df['per_change'] = ((df['Next_close'] - df['Close'])/df['Next_close'])*100\n",
        "df.corr()"
      ],
      "execution_count": null,
      "outputs": [
        {
          "output_type": "execute_result",
          "data": {
            "text/html": [
              "<div>\n",
              "<style scoped>\n",
              "    .dataframe tbody tr th:only-of-type {\n",
              "        vertical-align: middle;\n",
              "    }\n",
              "\n",
              "    .dataframe tbody tr th {\n",
              "        vertical-align: top;\n",
              "    }\n",
              "\n",
              "    .dataframe thead th {\n",
              "        text-align: right;\n",
              "    }\n",
              "</style>\n",
              "<table border=\"1\" class=\"dataframe\">\n",
              "  <thead>\n",
              "    <tr style=\"text-align: right;\">\n",
              "      <th></th>\n",
              "      <th>Open</th>\n",
              "      <th>High</th>\n",
              "      <th>Low</th>\n",
              "      <th>Close</th>\n",
              "      <th>Adj Close</th>\n",
              "      <th>Volume</th>\n",
              "      <th>Next_close</th>\n",
              "      <th>SMA</th>\n",
              "      <th>EMA</th>\n",
              "      <th>obv</th>\n",
              "      <th>datehour</th>\n",
              "      <th>Unnamed: 0</th>\n",
              "      <th>compound</th>\n",
              "      <th>Count</th>\n",
              "      <th>average</th>\n",
              "      <th>per_change</th>\n",
              "    </tr>\n",
              "  </thead>\n",
              "  <tbody>\n",
              "    <tr>\n",
              "      <th>Open</th>\n",
              "      <td>1.000000</td>\n",
              "      <td>0.999042</td>\n",
              "      <td>0.999121</td>\n",
              "      <td>0.998368</td>\n",
              "      <td>0.998368</td>\n",
              "      <td>-0.371304</td>\n",
              "      <td>0.996288</td>\n",
              "      <td>0.999067</td>\n",
              "      <td>0.992487</td>\n",
              "      <td>0.955913</td>\n",
              "      <td>-0.002690</td>\n",
              "      <td>0.863786</td>\n",
              "      <td>-0.007141</td>\n",
              "      <td>0.035633</td>\n",
              "      <td>-0.010940</td>\n",
              "      <td>-0.027233</td>\n",
              "    </tr>\n",
              "    <tr>\n",
              "      <th>High</th>\n",
              "      <td>0.999042</td>\n",
              "      <td>1.000000</td>\n",
              "      <td>0.998422</td>\n",
              "      <td>0.999152</td>\n",
              "      <td>0.999152</td>\n",
              "      <td>-0.350797</td>\n",
              "      <td>0.996740</td>\n",
              "      <td>0.999001</td>\n",
              "      <td>0.992934</td>\n",
              "      <td>0.956461</td>\n",
              "      <td>-0.009911</td>\n",
              "      <td>0.867903</td>\n",
              "      <td>-0.006428</td>\n",
              "      <td>0.034206</td>\n",
              "      <td>-0.010437</td>\n",
              "      <td>-0.032727</td>\n",
              "    </tr>\n",
              "    <tr>\n",
              "      <th>Low</th>\n",
              "      <td>0.999121</td>\n",
              "      <td>0.998422</td>\n",
              "      <td>1.000000</td>\n",
              "      <td>0.999080</td>\n",
              "      <td>0.999080</td>\n",
              "      <td>-0.390154</td>\n",
              "      <td>0.996957</td>\n",
              "      <td>0.998783</td>\n",
              "      <td>0.991397</td>\n",
              "      <td>0.955869</td>\n",
              "      <td>0.004206</td>\n",
              "      <td>0.860626</td>\n",
              "      <td>-0.007267</td>\n",
              "      <td>0.037562</td>\n",
              "      <td>-0.009705</td>\n",
              "      <td>-0.028055</td>\n",
              "    </tr>\n",
              "    <tr>\n",
              "      <th>Close</th>\n",
              "      <td>0.998368</td>\n",
              "      <td>0.999152</td>\n",
              "      <td>0.999080</td>\n",
              "      <td>1.000000</td>\n",
              "      <td>1.000000</td>\n",
              "      <td>-0.369038</td>\n",
              "      <td>0.997498</td>\n",
              "      <td>0.998725</td>\n",
              "      <td>0.991552</td>\n",
              "      <td>0.956408</td>\n",
              "      <td>-0.003988</td>\n",
              "      <td>0.863812</td>\n",
              "      <td>-0.006422</td>\n",
              "      <td>0.036341</td>\n",
              "      <td>-0.009200</td>\n",
              "      <td>-0.034402</td>\n",
              "    </tr>\n",
              "    <tr>\n",
              "      <th>Adj Close</th>\n",
              "      <td>0.998368</td>\n",
              "      <td>0.999152</td>\n",
              "      <td>0.999080</td>\n",
              "      <td>1.000000</td>\n",
              "      <td>1.000000</td>\n",
              "      <td>-0.369038</td>\n",
              "      <td>0.997498</td>\n",
              "      <td>0.998725</td>\n",
              "      <td>0.991552</td>\n",
              "      <td>0.956408</td>\n",
              "      <td>-0.003988</td>\n",
              "      <td>0.863812</td>\n",
              "      <td>-0.006422</td>\n",
              "      <td>0.036341</td>\n",
              "      <td>-0.009200</td>\n",
              "      <td>-0.034402</td>\n",
              "    </tr>\n",
              "    <tr>\n",
              "      <th>Volume</th>\n",
              "      <td>-0.371304</td>\n",
              "      <td>-0.350797</td>\n",
              "      <td>-0.390154</td>\n",
              "      <td>-0.369038</td>\n",
              "      <td>-0.369038</td>\n",
              "      <td>1.000000</td>\n",
              "      <td>-0.370304</td>\n",
              "      <td>-0.368575</td>\n",
              "      <td>-0.356954</td>\n",
              "      <td>-0.351767</td>\n",
              "      <td>-0.326642</td>\n",
              "      <td>-0.274150</td>\n",
              "      <td>0.038550</td>\n",
              "      <td>-0.013254</td>\n",
              "      <td>-0.000738</td>\n",
              "      <td>-0.021247</td>\n",
              "    </tr>\n",
              "    <tr>\n",
              "      <th>Next_close</th>\n",
              "      <td>0.996288</td>\n",
              "      <td>0.996740</td>\n",
              "      <td>0.996957</td>\n",
              "      <td>0.997498</td>\n",
              "      <td>0.997498</td>\n",
              "      <td>-0.370304</td>\n",
              "      <td>1.000000</td>\n",
              "      <td>0.996556</td>\n",
              "      <td>0.989549</td>\n",
              "      <td>0.955429</td>\n",
              "      <td>-0.001806</td>\n",
              "      <td>0.863407</td>\n",
              "      <td>-0.004474</td>\n",
              "      <td>0.036599</td>\n",
              "      <td>-0.007842</td>\n",
              "      <td>0.035425</td>\n",
              "    </tr>\n",
              "    <tr>\n",
              "      <th>SMA</th>\n",
              "      <td>0.999067</td>\n",
              "      <td>0.999001</td>\n",
              "      <td>0.998783</td>\n",
              "      <td>0.998725</td>\n",
              "      <td>0.998725</td>\n",
              "      <td>-0.368575</td>\n",
              "      <td>0.996556</td>\n",
              "      <td>1.000000</td>\n",
              "      <td>0.994022</td>\n",
              "      <td>0.956101</td>\n",
              "      <td>-0.001629</td>\n",
              "      <td>0.865119</td>\n",
              "      <td>-0.008225</td>\n",
              "      <td>0.036087</td>\n",
              "      <td>-0.012521</td>\n",
              "      <td>-0.028640</td>\n",
              "    </tr>\n",
              "    <tr>\n",
              "      <th>EMA</th>\n",
              "      <td>0.992487</td>\n",
              "      <td>0.992934</td>\n",
              "      <td>0.991397</td>\n",
              "      <td>0.991552</td>\n",
              "      <td>0.991552</td>\n",
              "      <td>-0.356954</td>\n",
              "      <td>0.989549</td>\n",
              "      <td>0.994022</td>\n",
              "      <td>1.000000</td>\n",
              "      <td>0.952828</td>\n",
              "      <td>-0.000320</td>\n",
              "      <td>0.874314</td>\n",
              "      <td>-0.028000</td>\n",
              "      <td>0.031556</td>\n",
              "      <td>-0.022292</td>\n",
              "      <td>-0.026138</td>\n",
              "    </tr>\n",
              "    <tr>\n",
              "      <th>obv</th>\n",
              "      <td>0.955913</td>\n",
              "      <td>0.956461</td>\n",
              "      <td>0.955869</td>\n",
              "      <td>0.956408</td>\n",
              "      <td>0.956408</td>\n",
              "      <td>-0.351767</td>\n",
              "      <td>0.955429</td>\n",
              "      <td>0.956101</td>\n",
              "      <td>0.952828</td>\n",
              "      <td>1.000000</td>\n",
              "      <td>-0.001669</td>\n",
              "      <td>0.909789</td>\n",
              "      <td>-0.038897</td>\n",
              "      <td>-0.027594</td>\n",
              "      <td>-0.032959</td>\n",
              "      <td>-0.012099</td>\n",
              "    </tr>\n",
              "    <tr>\n",
              "      <th>datehour</th>\n",
              "      <td>-0.002690</td>\n",
              "      <td>-0.009911</td>\n",
              "      <td>0.004206</td>\n",
              "      <td>-0.003988</td>\n",
              "      <td>-0.003988</td>\n",
              "      <td>-0.326642</td>\n",
              "      <td>-0.001806</td>\n",
              "      <td>-0.001629</td>\n",
              "      <td>-0.000320</td>\n",
              "      <td>-0.001669</td>\n",
              "      <td>1.000000</td>\n",
              "      <td>0.010690</td>\n",
              "      <td>0.032815</td>\n",
              "      <td>0.340294</td>\n",
              "      <td>-0.078153</td>\n",
              "      <td>0.040532</td>\n",
              "    </tr>\n",
              "    <tr>\n",
              "      <th>Unnamed: 0</th>\n",
              "      <td>0.863786</td>\n",
              "      <td>0.867903</td>\n",
              "      <td>0.860626</td>\n",
              "      <td>0.863812</td>\n",
              "      <td>0.863812</td>\n",
              "      <td>-0.274150</td>\n",
              "      <td>0.863407</td>\n",
              "      <td>0.865119</td>\n",
              "      <td>0.874314</td>\n",
              "      <td>0.909789</td>\n",
              "      <td>0.010690</td>\n",
              "      <td>1.000000</td>\n",
              "      <td>-0.068400</td>\n",
              "      <td>-0.142392</td>\n",
              "      <td>-0.013025</td>\n",
              "      <td>-0.002039</td>\n",
              "    </tr>\n",
              "    <tr>\n",
              "      <th>compound</th>\n",
              "      <td>-0.007141</td>\n",
              "      <td>-0.006428</td>\n",
              "      <td>-0.007267</td>\n",
              "      <td>-0.006422</td>\n",
              "      <td>-0.006422</td>\n",
              "      <td>0.038550</td>\n",
              "      <td>-0.004474</td>\n",
              "      <td>-0.008225</td>\n",
              "      <td>-0.028000</td>\n",
              "      <td>-0.038897</td>\n",
              "      <td>0.032815</td>\n",
              "      <td>-0.068400</td>\n",
              "      <td>1.000000</td>\n",
              "      <td>0.203070</td>\n",
              "      <td>0.429323</td>\n",
              "      <td>0.018435</td>\n",
              "    </tr>\n",
              "    <tr>\n",
              "      <th>Count</th>\n",
              "      <td>0.035633</td>\n",
              "      <td>0.034206</td>\n",
              "      <td>0.037562</td>\n",
              "      <td>0.036341</td>\n",
              "      <td>0.036341</td>\n",
              "      <td>-0.013254</td>\n",
              "      <td>0.036599</td>\n",
              "      <td>0.036087</td>\n",
              "      <td>0.031556</td>\n",
              "      <td>-0.027594</td>\n",
              "      <td>0.340294</td>\n",
              "      <td>-0.142392</td>\n",
              "      <td>0.203070</td>\n",
              "      <td>1.000000</td>\n",
              "      <td>-0.052380</td>\n",
              "      <td>-0.001879</td>\n",
              "    </tr>\n",
              "    <tr>\n",
              "      <th>average</th>\n",
              "      <td>-0.010940</td>\n",
              "      <td>-0.010437</td>\n",
              "      <td>-0.009705</td>\n",
              "      <td>-0.009200</td>\n",
              "      <td>-0.009200</td>\n",
              "      <td>-0.000738</td>\n",
              "      <td>-0.007842</td>\n",
              "      <td>-0.012521</td>\n",
              "      <td>-0.022292</td>\n",
              "      <td>-0.032959</td>\n",
              "      <td>-0.078153</td>\n",
              "      <td>-0.013025</td>\n",
              "      <td>0.429323</td>\n",
              "      <td>-0.052380</td>\n",
              "      <td>1.000000</td>\n",
              "      <td>0.009860</td>\n",
              "    </tr>\n",
              "    <tr>\n",
              "      <th>per_change</th>\n",
              "      <td>-0.027233</td>\n",
              "      <td>-0.032727</td>\n",
              "      <td>-0.028055</td>\n",
              "      <td>-0.034402</td>\n",
              "      <td>-0.034402</td>\n",
              "      <td>-0.021247</td>\n",
              "      <td>0.035425</td>\n",
              "      <td>-0.028640</td>\n",
              "      <td>-0.026138</td>\n",
              "      <td>-0.012099</td>\n",
              "      <td>0.040532</td>\n",
              "      <td>-0.002039</td>\n",
              "      <td>0.018435</td>\n",
              "      <td>-0.001879</td>\n",
              "      <td>0.009860</td>\n",
              "      <td>1.000000</td>\n",
              "    </tr>\n",
              "  </tbody>\n",
              "</table>\n",
              "</div>"
            ],
            "text/plain": [
              "                Open      High       Low  ...     Count   average  per_change\n",
              "Open        1.000000  0.999042  0.999121  ...  0.035633 -0.010940   -0.027233\n",
              "High        0.999042  1.000000  0.998422  ...  0.034206 -0.010437   -0.032727\n",
              "Low         0.999121  0.998422  1.000000  ...  0.037562 -0.009705   -0.028055\n",
              "Close       0.998368  0.999152  0.999080  ...  0.036341 -0.009200   -0.034402\n",
              "Adj Close   0.998368  0.999152  0.999080  ...  0.036341 -0.009200   -0.034402\n",
              "Volume     -0.371304 -0.350797 -0.390154  ... -0.013254 -0.000738   -0.021247\n",
              "Next_close  0.996288  0.996740  0.996957  ...  0.036599 -0.007842    0.035425\n",
              "SMA         0.999067  0.999001  0.998783  ...  0.036087 -0.012521   -0.028640\n",
              "EMA         0.992487  0.992934  0.991397  ...  0.031556 -0.022292   -0.026138\n",
              "obv         0.955913  0.956461  0.955869  ... -0.027594 -0.032959   -0.012099\n",
              "datehour   -0.002690 -0.009911  0.004206  ...  0.340294 -0.078153    0.040532\n",
              "Unnamed: 0  0.863786  0.867903  0.860626  ... -0.142392 -0.013025   -0.002039\n",
              "compound   -0.007141 -0.006428 -0.007267  ...  0.203070  0.429323    0.018435\n",
              "Count       0.035633  0.034206  0.037562  ...  1.000000 -0.052380   -0.001879\n",
              "average    -0.010940 -0.010437 -0.009705  ... -0.052380  1.000000    0.009860\n",
              "per_change -0.027233 -0.032727 -0.028055  ... -0.001879  0.009860    1.000000\n",
              "\n",
              "[16 rows x 16 columns]"
            ]
          },
          "metadata": {
            "tags": []
          },
          "execution_count": 12
        }
      ]
    },
    {
      "cell_type": "code",
      "metadata": {
        "id": "3oQbDPVjUrJr",
        "colab": {
          "base_uri": "https://localhost:8080/",
          "height": 647
        },
        "outputId": "2df53a13-df36-456b-af4d-211501605e3e"
      },
      "source": [
        "#Using Pearson Correlation\n",
        "plt.figure(figsize=(12,10))\n",
        "cor = df.corr()\n",
        "sns.heatmap(cor, annot=True, cmap=plt.cm.Reds)\n",
        "plt.show()"
      ],
      "execution_count": null,
      "outputs": [
        {
          "output_type": "display_data",
          "data": {
            "image/png": "[encoded data removed]",
            "text/plain": [
              "<Figure size 864x720 with 2 Axes>"
            ]
          },
          "metadata": {
            "tags": [],
            "needs_background": "light"
          }
        }
      ]
    },
    {
      "cell_type": "code",
      "metadata": {
        "id": "KGZp_WSmquTx"
      },
      "source": [
        "df = df[['Next_close','Close','Volume','Open','High','Low', \"SMA\", 'EMA', 'obv', 'average']]"
      ],
      "execution_count": null,
      "outputs": []
    },
    {
      "cell_type": "code",
      "metadata": {
        "id": "r7FYcbAPdye0",
        "colab": {
          "base_uri": "https://localhost:8080/"
        },
        "outputId": "4f2d81ab-d5f1-45b4-fd57-7d86bc8f4a22"
      },
      "source": [
        "# Scale data with MinMaxScaler\n",
        "# define min max scaler\n",
        "scaler = MinMaxScaler()\n",
        "\n",
        "# Data Loader Parameters\n",
        "BATCH_SIZE = 17       # Factors of 1411 (train size):  1, 17, 83, 1411\n",
        "BUFFER_SIZE = 130\n",
        "TRAIN_SPLIT = round(len(df)*0.8)  # 80-20 train-test split \n",
        "print(TRAIN_SPLIT) # Batches should be factor of train size\n",
        "\n",
        "# LSTM Parameters\n",
        "EVALUATION_INTERVAL = 20   \n",
        "EPOCHS = 500 # Early stopping implemented, so this can be artbitrarily high and still work\n",
        "PATIENCE = 10  # number of epochs to wait before early stop if no progress on the validation set. # Tested this out with other values 3 and 5"
      ],
      "execution_count": null,
      "outputs": [
        {
          "output_type": "stream",
          "text": [
            "1411\n"
          ],
          "name": "stdout"
        }
      ]
    },
    {
      "cell_type": "markdown",
      "metadata": {
        "id": "YRm0VWX-_ryu"
      },
      "source": [
        "**Scaling the Data**\n",
        "\n",
        "The values in our datset are of different scales which can increase the difficulty of the problem being modeled. The volume of traders per day is much higher than the value for the previous day's high, open, etc. This high value mayresult in a model that learns large weight values. A model with large weight values is often unstable, meaning that it may suffer from poor performance during learning and sensitivity to input values resulting in higher generalization error. For this reason we scale our data before proceeding\n",
        "\n",
        "MinMaxScaler() subtracts the minimum value in the feature and then divides by the range. The range is the difference between the original maximum and original minimum. This scaling method preserves the shape of the original distribution. It doesn't meaningfully change the information embedded in the original data. Note that MinMaxScaler doesn't reduce the importance of outliers. The default range for the feature returned by MinMaxScaler is 0 to 1\n"
      ]
    },
    {
      "cell_type": "code",
      "metadata": {
        "id": "SPSMXoLPt4E0"
      },
      "source": [
        "# Scaled data with MinMaxScaler\n",
        " # from pandas df to array of values\n",
        "data = df.values\n",
        "# define min max scaler\n",
        "scaler = MinMaxScaler()\n",
        "# transform data\n",
        "dataset = scaler.fit_transform(data)"
      ],
      "execution_count": null,
      "outputs": []
    },
    {
      "cell_type": "code",
      "metadata": {
        "id": "BNiNjLJshQuC"
      },
      "source": [
        "# Split into endogenous and exogenous \n",
        "X = dataset[:,1:]\n",
        "y = dataset[:, 0]\n"
      ],
      "execution_count": null,
      "outputs": []
    },
    {
      "cell_type": "markdown",
      "metadata": {
        "id": "Mz_9KSrthznt"
      },
      "source": [
        "# LSTM Model"
      ]
    },
    {
      "cell_type": "code",
      "metadata": {
        "id": "Amw1KZBDrAVT"
      },
      "source": [
        "# This was taken from the book Deep Learning with Python by François Chollet \n",
        "\n",
        "def multivariate_data(dataset, target, start_index, end_index, history_size,\n",
        "                      target_size, step, single_step=False):\n",
        "    data = []\n",
        "    labels = []\n",
        "\n",
        "    start_index = start_index + history_size\n",
        "    if end_index is None:\n",
        "        end_index = len(dataset) - target_size\n",
        "\n",
        "    for i in range(start_index, end_index):\n",
        "        indices = range(i-history_size, i, step)\n",
        "        data.append(dataset[indices])\n",
        "\n",
        "        if single_step:\n",
        "            labels.append(target[i+target_size])\n",
        "        else:\n",
        "            labels.append(target[i:i+target_size])\n",
        "\n",
        "    return np.array(data), np.array(labels)"
      ],
      "execution_count": null,
      "outputs": []
    },
    {
      "cell_type": "code",
      "metadata": {
        "id": "tik9qZyDrAYN"
      },
      "source": [
        "past_history = 130    # How far back the model looks\n",
        "future_target = 1 # this analysis is concerned with 1 step (hour/day) into the future\n",
        "STEP = 1    \n",
        "\n",
        "x_train_model, y_train_model = multivariate_data(X,y, 0,\n",
        "                                                   TRAIN_SPLIT, past_history,\n",
        "                                                   future_target, STEP,\n",
        "                                                   single_step=True)\n",
        "x_val_model, y_val_model = multivariate_data(X,y, 0,\n",
        "                                                   TRAIN_SPLIT, past_history,\n",
        "                                                   future_target, STEP,\n",
        "                                                   single_step=True)"
      ],
      "execution_count": null,
      "outputs": []
    },
    {
      "cell_type": "code",
      "metadata": {
        "id": "zSLSBWrarAaT",
        "colab": {
          "base_uri": "https://localhost:8080/"
        },
        "outputId": "24f59942-a30b-466d-b62b-c8b8f56f5119"
      },
      "source": [
        "print(x_train_model.shape)\n",
        "print ('Window of past history : {}'.format(x_train_model[0].shape))\n",
        "print(x_train_model.shape[-2:])"
      ],
      "execution_count": null,
      "outputs": [
        {
          "output_type": "stream",
          "text": [
            "(1281, 130, 9)\n",
            "Window of past history : (130, 9)\n",
            "(130, 9)\n"
          ],
          "name": "stdout"
        }
      ]
    },
    {
      "cell_type": "code",
      "metadata": {
        "id": "r5TRl-6TrAgm"
      },
      "source": [
        "train_data_model = tf.data.Dataset.from_tensor_slices((x_train_model, y_train_model))\n",
        "train_data_model = train_data_model.cache().shuffle(BUFFER_SIZE).batch(BATCH_SIZE).repeat() \n",
        "val_data_model = tf.data.Dataset.from_tensor_slices((x_val_model, y_val_model))\n",
        "val_data_model = val_data_model.cache().shuffle(BUFFER_SIZE).batch(BATCH_SIZE).repeat()  ##Shuffle with buffer"
      ],
      "execution_count": null,
      "outputs": []
    },
    {
      "cell_type": "code",
      "metadata": {
        "id": "odS1BDbxsKVY"
      },
      "source": [
        "model = tf.keras.models.Sequential()\n",
        "model.add(tf.keras.layers.LSTM(4,    # Capacity best out of:2, 8, 32\n",
        "                                           kernel_regularizer = regularizers.l2(0.001), # Regularization - fight overfitting\n",
        "                                           input_shape=x_train_model.shape[-2:]))    # LSTM layer with input shape of x_train_model.shape[-2:]\n",
        "model.add(tf.keras.layers.Dropout(0.2))   # Add dropout rate\n",
        "model.add(tf.keras.layers.Dense(1)) # activation = sigmoid? Because I have normalised it to be between -1 and 1? Or no activation?\n",
        "\n",
        "model.compile(optimizer='adam', loss='mean_squared_error',  metrics=['mean_absolute_error', 'mape']) #adam said to be best in CV\n"
      ],
      "execution_count": null,
      "outputs": []
    },
    {
      "cell_type": "code",
      "metadata": {
        "id": "plKjEXwUela0"
      },
      "source": [
        "# Grid Search\n",
        "# This build classifier and KerasClassifer step is taken from https://machinelearningmastery.com/use-keras-deep-learning-models-scikit-learn-python/. It is a wrapped which allows the use of Sklearn CV with Keras\n",
        "\n",
        "def build_classifier(optimizer, dropout_rate):\n",
        "  model = tf.keras.models.Sequential()\n",
        "  model.add(tf.keras.layers.LSTM(4,    # Capacity best out of:2, 8, 32\n",
        "                                 kernel_regularizer = regularizers.l2(0.001), # Regularization - fight overfitting\n",
        "                                 input_shape=x_train_model.shape[-2:]))    # LSTM layer with input shape of x_train_model.shape[-2:]\n",
        "  model.add(tf.keras.layers.Dropout(0.2))   # Add dropout rate\n",
        "  model.add(tf.keras.layers.Dense(1)) # activation = sigmoid? Because I have normalised it to be between -1 and 1? Or no activation?\n",
        "  model.compile(optimizer=tf.keras.optimizers.RMSprop(), loss='mean_squared_error',  metrics=['mean_absolute_error', 'mape']) #\n",
        "  return model\n",
        "\n",
        "grid_model = KerasClassifier(build_fn=build_classifier)\n",
        "parameters = {'batch_size' : [1, 17, 83, 1411],\n",
        "              'optimizer' : ['adam','RMSprop'],\n",
        "              'dropout_rate' : [0.0, 0.1, 0.2],  #What is 'forgotten' - important to avoid overfitting\n",
        "}\n",
        "\n",
        "grid_search  = GridSearchCV(estimator = grid_model,\n",
        "                            param_grid = parameters,\n",
        "                            scoring = 'neg_mean_squared_error',\n",
        "                            cv = 2)"
      ],
      "execution_count": null,
      "outputs": []
    },
    {
      "cell_type": "code",
      "metadata": {
        "id": "H_5cpavOfdNr",
        "colab": {
          "base_uri": "https://localhost:8080/"
        },
        "outputId": "4c0620e0-8faa-4034-9a1a-56b0e406554d"
      },
      "source": [
        "#GridSearchCV\n",
        "grid_search = grid_search.fit(x_train_model, y_train_model)"
      ],
      "execution_count": null,
      "outputs": [
        {
          "output_type": "stream",
          "text": [
            "640/640 [==============================] - 13s 17ms/step - loss: nan - mean_absolute_error: nan - mape: nan\n"
          ],
          "name": "stdout"
        },
        {
          "output_type": "stream",
          "text": [
            "/usr/local/lib/python3.7/dist-packages/tensorflow/python/keras/engine/sequential.py:455: UserWarning: `model.predict_classes()` is deprecated and will be removed after 2021-01-01. Please use instead:* `np.argmax(model.predict(x), axis=-1)`,   if your model does multi-class classification   (e.g. if it uses a `softmax` last-layer activation).* `(model.predict(x) > 0.5).astype(\"int32\")`,   if your model does binary classification   (e.g. if it uses a `sigmoid` last-layer activation).\n",
            "  warnings.warn('`model.predict_classes()` is deprecated and '\n"
          ],
          "name": "stderr"
        },
        {
          "output_type": "stream",
          "text": [
            "641/641 [==============================] - 13s 17ms/step - loss: nan - mean_absolute_error: nan - mape: nan\n"
          ],
          "name": "stdout"
        },
        {
          "output_type": "stream",
          "text": [
            "/usr/local/lib/python3.7/dist-packages/tensorflow/python/keras/engine/sequential.py:455: UserWarning: `model.predict_classes()` is deprecated and will be removed after 2021-01-01. Please use instead:* `np.argmax(model.predict(x), axis=-1)`,   if your model does multi-class classification   (e.g. if it uses a `softmax` last-layer activation).* `(model.predict(x) > 0.5).astype(\"int32\")`,   if your model does binary classification   (e.g. if it uses a `sigmoid` last-layer activation).\n",
            "  warnings.warn('`model.predict_classes()` is deprecated and '\n"
          ],
          "name": "stderr"
        },
        {
          "output_type": "stream",
          "text": [
            "640/640 [==============================] - 13s 17ms/step - loss: nan - mean_absolute_error: nan - mape: nan\n"
          ],
          "name": "stdout"
        },
        {
          "output_type": "stream",
          "text": [
            "/usr/local/lib/python3.7/dist-packages/tensorflow/python/keras/engine/sequential.py:455: UserWarning: `model.predict_classes()` is deprecated and will be removed after 2021-01-01. Please use instead:* `np.argmax(model.predict(x), axis=-1)`,   if your model does multi-class classification   (e.g. if it uses a `softmax` last-layer activation).* `(model.predict(x) > 0.5).astype(\"int32\")`,   if your model does binary classification   (e.g. if it uses a `sigmoid` last-layer activation).\n",
            "  warnings.warn('`model.predict_classes()` is deprecated and '\n"
          ],
          "name": "stderr"
        },
        {
          "output_type": "stream",
          "text": [
            "641/641 [==============================] - 13s 17ms/step - loss: nan - mean_absolute_error: nan - mape: nan\n"
          ],
          "name": "stdout"
        },
        {
          "output_type": "stream",
          "text": [
            "/usr/local/lib/python3.7/dist-packages/tensorflow/python/keras/engine/sequential.py:455: UserWarning: `model.predict_classes()` is deprecated and will be removed after 2021-01-01. Please use instead:* `np.argmax(model.predict(x), axis=-1)`,   if your model does multi-class classification   (e.g. if it uses a `softmax` last-layer activation).* `(model.predict(x) > 0.5).astype(\"int32\")`,   if your model does binary classification   (e.g. if it uses a `sigmoid` last-layer activation).\n",
            "  warnings.warn('`model.predict_classes()` is deprecated and '\n"
          ],
          "name": "stderr"
        },
        {
          "output_type": "stream",
          "text": [
            "640/640 [==============================] - 13s 18ms/step - loss: nan - mean_absolute_error: nan - mape: nan\n"
          ],
          "name": "stdout"
        },
        {
          "output_type": "stream",
          "text": [
            "/usr/local/lib/python3.7/dist-packages/tensorflow/python/keras/engine/sequential.py:455: UserWarning: `model.predict_classes()` is deprecated and will be removed after 2021-01-01. Please use instead:* `np.argmax(model.predict(x), axis=-1)`,   if your model does multi-class classification   (e.g. if it uses a `softmax` last-layer activation).* `(model.predict(x) > 0.5).astype(\"int32\")`,   if your model does binary classification   (e.g. if it uses a `sigmoid` last-layer activation).\n",
            "  warnings.warn('`model.predict_classes()` is deprecated and '\n"
          ],
          "name": "stderr"
        },
        {
          "output_type": "stream",
          "text": [
            "641/641 [==============================] - 13s 17ms/step - loss: nan - mean_absolute_error: nan - mape: nan\n"
          ],
          "name": "stdout"
        },
        {
          "output_type": "stream",
          "text": [
            "/usr/local/lib/python3.7/dist-packages/tensorflow/python/keras/engine/sequential.py:455: UserWarning: `model.predict_classes()` is deprecated and will be removed after 2021-01-01. Please use instead:* `np.argmax(model.predict(x), axis=-1)`,   if your model does multi-class classification   (e.g. if it uses a `softmax` last-layer activation).* `(model.predict(x) > 0.5).astype(\"int32\")`,   if your model does binary classification   (e.g. if it uses a `sigmoid` last-layer activation).\n",
            "  warnings.warn('`model.predict_classes()` is deprecated and '\n"
          ],
          "name": "stderr"
        },
        {
          "output_type": "stream",
          "text": [
            "640/640 [==============================] - 13s 18ms/step - loss: nan - mean_absolute_error: nan - mape: nan\n"
          ],
          "name": "stdout"
        },
        {
          "output_type": "stream",
          "text": [
            "/usr/local/lib/python3.7/dist-packages/tensorflow/python/keras/engine/sequential.py:455: UserWarning: `model.predict_classes()` is deprecated and will be removed after 2021-01-01. Please use instead:* `np.argmax(model.predict(x), axis=-1)`,   if your model does multi-class classification   (e.g. if it uses a `softmax` last-layer activation).* `(model.predict(x) > 0.5).astype(\"int32\")`,   if your model does binary classification   (e.g. if it uses a `sigmoid` last-layer activation).\n",
            "  warnings.warn('`model.predict_classes()` is deprecated and '\n"
          ],
          "name": "stderr"
        },
        {
          "output_type": "stream",
          "text": [
            "641/641 [==============================] - 13s 17ms/step - loss: nan - mean_absolute_error: nan - mape: nan\n"
          ],
          "name": "stdout"
        },
        {
          "output_type": "stream",
          "text": [
            "/usr/local/lib/python3.7/dist-packages/tensorflow/python/keras/engine/sequential.py:455: UserWarning: `model.predict_classes()` is deprecated and will be removed after 2021-01-01. Please use instead:* `np.argmax(model.predict(x), axis=-1)`,   if your model does multi-class classification   (e.g. if it uses a `softmax` last-layer activation).* `(model.predict(x) > 0.5).astype(\"int32\")`,   if your model does binary classification   (e.g. if it uses a `sigmoid` last-layer activation).\n",
            "  warnings.warn('`model.predict_classes()` is deprecated and '\n"
          ],
          "name": "stderr"
        },
        {
          "output_type": "stream",
          "text": [
            "640/640 [==============================] - 13s 18ms/step - loss: nan - mean_absolute_error: nan - mape: nan\n"
          ],
          "name": "stdout"
        },
        {
          "output_type": "stream",
          "text": [
            "/usr/local/lib/python3.7/dist-packages/tensorflow/python/keras/engine/sequential.py:455: UserWarning: `model.predict_classes()` is deprecated and will be removed after 2021-01-01. Please use instead:* `np.argmax(model.predict(x), axis=-1)`,   if your model does multi-class classification   (e.g. if it uses a `softmax` last-layer activation).* `(model.predict(x) > 0.5).astype(\"int32\")`,   if your model does binary classification   (e.g. if it uses a `sigmoid` last-layer activation).\n",
            "  warnings.warn('`model.predict_classes()` is deprecated and '\n"
          ],
          "name": "stderr"
        },
        {
          "output_type": "stream",
          "text": [
            "641/641 [==============================] - 12s 17ms/step - loss: nan - mean_absolute_error: nan - mape: nan\n"
          ],
          "name": "stdout"
        },
        {
          "output_type": "stream",
          "text": [
            "/usr/local/lib/python3.7/dist-packages/tensorflow/python/keras/engine/sequential.py:455: UserWarning: `model.predict_classes()` is deprecated and will be removed after 2021-01-01. Please use instead:* `np.argmax(model.predict(x), axis=-1)`,   if your model does multi-class classification   (e.g. if it uses a `softmax` last-layer activation).* `(model.predict(x) > 0.5).astype(\"int32\")`,   if your model does binary classification   (e.g. if it uses a `sigmoid` last-layer activation).\n",
            "  warnings.warn('`model.predict_classes()` is deprecated and '\n"
          ],
          "name": "stderr"
        },
        {
          "output_type": "stream",
          "text": [
            "640/640 [==============================] - 13s 17ms/step - loss: nan - mean_absolute_error: nan - mape: nan\n"
          ],
          "name": "stdout"
        },
        {
          "output_type": "stream",
          "text": [
            "/usr/local/lib/python3.7/dist-packages/tensorflow/python/keras/engine/sequential.py:455: UserWarning: `model.predict_classes()` is deprecated and will be removed after 2021-01-01. Please use instead:* `np.argmax(model.predict(x), axis=-1)`,   if your model does multi-class classification   (e.g. if it uses a `softmax` last-layer activation).* `(model.predict(x) > 0.5).astype(\"int32\")`,   if your model does binary classification   (e.g. if it uses a `sigmoid` last-layer activation).\n",
            "  warnings.warn('`model.predict_classes()` is deprecated and '\n"
          ],
          "name": "stderr"
        },
        {
          "output_type": "stream",
          "text": [
            "641/641 [==============================] - 13s 17ms/step - loss: nan - mean_absolute_error: nan - mape: nan\n"
          ],
          "name": "stdout"
        },
        {
          "output_type": "stream",
          "text": [
            "/usr/local/lib/python3.7/dist-packages/tensorflow/python/keras/engine/sequential.py:455: UserWarning: `model.predict_classes()` is deprecated and will be removed after 2021-01-01. Please use instead:* `np.argmax(model.predict(x), axis=-1)`,   if your model does multi-class classification   (e.g. if it uses a `softmax` last-layer activation).* `(model.predict(x) > 0.5).astype(\"int32\")`,   if your model does binary classification   (e.g. if it uses a `sigmoid` last-layer activation).\n",
            "  warnings.warn('`model.predict_classes()` is deprecated and '\n"
          ],
          "name": "stderr"
        },
        {
          "output_type": "stream",
          "text": [
            "38/38 [==============================] - 3s 41ms/step - loss: nan - mean_absolute_error: nan - mape: nan\n"
          ],
          "name": "stdout"
        },
        {
          "output_type": "stream",
          "text": [
            "/usr/local/lib/python3.7/dist-packages/tensorflow/python/keras/engine/sequential.py:455: UserWarning: `model.predict_classes()` is deprecated and will be removed after 2021-01-01. Please use instead:* `np.argmax(model.predict(x), axis=-1)`,   if your model does multi-class classification   (e.g. if it uses a `softmax` last-layer activation).* `(model.predict(x) > 0.5).astype(\"int32\")`,   if your model does binary classification   (e.g. if it uses a `sigmoid` last-layer activation).\n",
            "  warnings.warn('`model.predict_classes()` is deprecated and '\n"
          ],
          "name": "stderr"
        },
        {
          "output_type": "stream",
          "text": [
            "38/38 [==============================] - 3s 41ms/step - loss: nan - mean_absolute_error: nan - mape: nan\n"
          ],
          "name": "stdout"
        },
        {
          "output_type": "stream",
          "text": [
            "/usr/local/lib/python3.7/dist-packages/tensorflow/python/keras/engine/sequential.py:455: UserWarning: `model.predict_classes()` is deprecated and will be removed after 2021-01-01. Please use instead:* `np.argmax(model.predict(x), axis=-1)`,   if your model does multi-class classification   (e.g. if it uses a `softmax` last-layer activation).* `(model.predict(x) > 0.5).astype(\"int32\")`,   if your model does binary classification   (e.g. if it uses a `sigmoid` last-layer activation).\n",
            "  warnings.warn('`model.predict_classes()` is deprecated and '\n"
          ],
          "name": "stderr"
        },
        {
          "output_type": "stream",
          "text": [
            "38/38 [==============================] - 3s 42ms/step - loss: nan - mean_absolute_error: nan - mape: nan\n"
          ],
          "name": "stdout"
        },
        {
          "output_type": "stream",
          "text": [
            "/usr/local/lib/python3.7/dist-packages/tensorflow/python/keras/engine/sequential.py:455: UserWarning: `model.predict_classes()` is deprecated and will be removed after 2021-01-01. Please use instead:* `np.argmax(model.predict(x), axis=-1)`,   if your model does multi-class classification   (e.g. if it uses a `softmax` last-layer activation).* `(model.predict(x) > 0.5).astype(\"int32\")`,   if your model does binary classification   (e.g. if it uses a `sigmoid` last-layer activation).\n",
            "  warnings.warn('`model.predict_classes()` is deprecated and '\n"
          ],
          "name": "stderr"
        },
        {
          "output_type": "stream",
          "text": [
            "38/38 [==============================] - 4s 46ms/step - loss: nan - mean_absolute_error: nan - mape: nan\n"
          ],
          "name": "stdout"
        },
        {
          "output_type": "stream",
          "text": [
            "/usr/local/lib/python3.7/dist-packages/tensorflow/python/keras/engine/sequential.py:455: UserWarning: `model.predict_classes()` is deprecated and will be removed after 2021-01-01. Please use instead:* `np.argmax(model.predict(x), axis=-1)`,   if your model does multi-class classification   (e.g. if it uses a `softmax` last-layer activation).* `(model.predict(x) > 0.5).astype(\"int32\")`,   if your model does binary classification   (e.g. if it uses a `sigmoid` last-layer activation).\n",
            "  warnings.warn('`model.predict_classes()` is deprecated and '\n"
          ],
          "name": "stderr"
        },
        {
          "output_type": "stream",
          "text": [
            "38/38 [==============================] - 3s 42ms/step - loss: nan - mean_absolute_error: nan - mape: nan\n"
          ],
          "name": "stdout"
        },
        {
          "output_type": "stream",
          "text": [
            "/usr/local/lib/python3.7/dist-packages/tensorflow/python/keras/engine/sequential.py:455: UserWarning: `model.predict_classes()` is deprecated and will be removed after 2021-01-01. Please use instead:* `np.argmax(model.predict(x), axis=-1)`,   if your model does multi-class classification   (e.g. if it uses a `softmax` last-layer activation).* `(model.predict(x) > 0.5).astype(\"int32\")`,   if your model does binary classification   (e.g. if it uses a `sigmoid` last-layer activation).\n",
            "  warnings.warn('`model.predict_classes()` is deprecated and '\n"
          ],
          "name": "stderr"
        },
        {
          "output_type": "stream",
          "text": [
            "38/38 [==============================] - 4s 43ms/step - loss: nan - mean_absolute_error: nan - mape: nan\n"
          ],
          "name": "stdout"
        },
        {
          "output_type": "stream",
          "text": [
            "/usr/local/lib/python3.7/dist-packages/tensorflow/python/keras/engine/sequential.py:455: UserWarning: `model.predict_classes()` is deprecated and will be removed after 2021-01-01. Please use instead:* `np.argmax(model.predict(x), axis=-1)`,   if your model does multi-class classification   (e.g. if it uses a `softmax` last-layer activation).* `(model.predict(x) > 0.5).astype(\"int32\")`,   if your model does binary classification   (e.g. if it uses a `sigmoid` last-layer activation).\n",
            "  warnings.warn('`model.predict_classes()` is deprecated and '\n"
          ],
          "name": "stderr"
        },
        {
          "output_type": "stream",
          "text": [
            "38/38 [==============================] - 3s 42ms/step - loss: nan - mean_absolute_error: nan - mape: nan\n"
          ],
          "name": "stdout"
        },
        {
          "output_type": "stream",
          "text": [
            "/usr/local/lib/python3.7/dist-packages/tensorflow/python/keras/engine/sequential.py:455: UserWarning: `model.predict_classes()` is deprecated and will be removed after 2021-01-01. Please use instead:* `np.argmax(model.predict(x), axis=-1)`,   if your model does multi-class classification   (e.g. if it uses a `softmax` last-layer activation).* `(model.predict(x) > 0.5).astype(\"int32\")`,   if your model does binary classification   (e.g. if it uses a `sigmoid` last-layer activation).\n",
            "  warnings.warn('`model.predict_classes()` is deprecated and '\n"
          ],
          "name": "stderr"
        },
        {
          "output_type": "stream",
          "text": [
            "38/38 [==============================] - 3s 41ms/step - loss: nan - mean_absolute_error: nan - mape: nan\n"
          ],
          "name": "stdout"
        },
        {
          "output_type": "stream",
          "text": [
            "/usr/local/lib/python3.7/dist-packages/tensorflow/python/keras/engine/sequential.py:455: UserWarning: `model.predict_classes()` is deprecated and will be removed after 2021-01-01. Please use instead:* `np.argmax(model.predict(x), axis=-1)`,   if your model does multi-class classification   (e.g. if it uses a `softmax` last-layer activation).* `(model.predict(x) > 0.5).astype(\"int32\")`,   if your model does binary classification   (e.g. if it uses a `sigmoid` last-layer activation).\n",
            "  warnings.warn('`model.predict_classes()` is deprecated and '\n"
          ],
          "name": "stderr"
        },
        {
          "output_type": "stream",
          "text": [
            "38/38 [==============================] - 3s 42ms/step - loss: nan - mean_absolute_error: nan - mape: nan\n"
          ],
          "name": "stdout"
        },
        {
          "output_type": "stream",
          "text": [
            "/usr/local/lib/python3.7/dist-packages/tensorflow/python/keras/engine/sequential.py:455: UserWarning: `model.predict_classes()` is deprecated and will be removed after 2021-01-01. Please use instead:* `np.argmax(model.predict(x), axis=-1)`,   if your model does multi-class classification   (e.g. if it uses a `softmax` last-layer activation).* `(model.predict(x) > 0.5).astype(\"int32\")`,   if your model does binary classification   (e.g. if it uses a `sigmoid` last-layer activation).\n",
            "  warnings.warn('`model.predict_classes()` is deprecated and '\n"
          ],
          "name": "stderr"
        },
        {
          "output_type": "stream",
          "text": [
            "38/38 [==============================] - 3s 42ms/step - loss: nan - mean_absolute_error: nan - mape: nan\n"
          ],
          "name": "stdout"
        },
        {
          "output_type": "stream",
          "text": [
            "/usr/local/lib/python3.7/dist-packages/tensorflow/python/keras/engine/sequential.py:455: UserWarning: `model.predict_classes()` is deprecated and will be removed after 2021-01-01. Please use instead:* `np.argmax(model.predict(x), axis=-1)`,   if your model does multi-class classification   (e.g. if it uses a `softmax` last-layer activation).* `(model.predict(x) > 0.5).astype(\"int32\")`,   if your model does binary classification   (e.g. if it uses a `sigmoid` last-layer activation).\n",
            "  warnings.warn('`model.predict_classes()` is deprecated and '\n"
          ],
          "name": "stderr"
        },
        {
          "output_type": "stream",
          "text": [
            "38/38 [==============================] - 4s 43ms/step - loss: nan - mean_absolute_error: nan - mape: nan\n"
          ],
          "name": "stdout"
        },
        {
          "output_type": "stream",
          "text": [
            "/usr/local/lib/python3.7/dist-packages/tensorflow/python/keras/engine/sequential.py:455: UserWarning: `model.predict_classes()` is deprecated and will be removed after 2021-01-01. Please use instead:* `np.argmax(model.predict(x), axis=-1)`,   if your model does multi-class classification   (e.g. if it uses a `softmax` last-layer activation).* `(model.predict(x) > 0.5).astype(\"int32\")`,   if your model does binary classification   (e.g. if it uses a `sigmoid` last-layer activation).\n",
            "  warnings.warn('`model.predict_classes()` is deprecated and '\n"
          ],
          "name": "stderr"
        },
        {
          "output_type": "stream",
          "text": [
            "38/38 [==============================] - 3s 42ms/step - loss: nan - mean_absolute_error: nan - mape: nan\n"
          ],
          "name": "stdout"
        },
        {
          "output_type": "stream",
          "text": [
            "/usr/local/lib/python3.7/dist-packages/tensorflow/python/keras/engine/sequential.py:455: UserWarning: `model.predict_classes()` is deprecated and will be removed after 2021-01-01. Please use instead:* `np.argmax(model.predict(x), axis=-1)`,   if your model does multi-class classification   (e.g. if it uses a `softmax` last-layer activation).* `(model.predict(x) > 0.5).astype(\"int32\")`,   if your model does binary classification   (e.g. if it uses a `sigmoid` last-layer activation).\n",
            "  warnings.warn('`model.predict_classes()` is deprecated and '\n"
          ],
          "name": "stderr"
        },
        {
          "output_type": "stream",
          "text": [
            "8/8 [==============================] - 2s 44ms/step - loss: nan - mean_absolute_error: nan - mape: nan\n"
          ],
          "name": "stdout"
        },
        {
          "output_type": "stream",
          "text": [
            "/usr/local/lib/python3.7/dist-packages/tensorflow/python/keras/engine/sequential.py:455: UserWarning: `model.predict_classes()` is deprecated and will be removed after 2021-01-01. Please use instead:* `np.argmax(model.predict(x), axis=-1)`,   if your model does multi-class classification   (e.g. if it uses a `softmax` last-layer activation).* `(model.predict(x) > 0.5).astype(\"int32\")`,   if your model does binary classification   (e.g. if it uses a `sigmoid` last-layer activation).\n",
            "  warnings.warn('`model.predict_classes()` is deprecated and '\n"
          ],
          "name": "stderr"
        },
        {
          "output_type": "stream",
          "text": [
            "8/8 [==============================] - 2s 47ms/step - loss: nan - mean_absolute_error: nan - mape: nan\n"
          ],
          "name": "stdout"
        },
        {
          "output_type": "stream",
          "text": [
            "/usr/local/lib/python3.7/dist-packages/tensorflow/python/keras/engine/sequential.py:455: UserWarning: `model.predict_classes()` is deprecated and will be removed after 2021-01-01. Please use instead:* `np.argmax(model.predict(x), axis=-1)`,   if your model does multi-class classification   (e.g. if it uses a `softmax` last-layer activation).* `(model.predict(x) > 0.5).astype(\"int32\")`,   if your model does binary classification   (e.g. if it uses a `sigmoid` last-layer activation).\n",
            "  warnings.warn('`model.predict_classes()` is deprecated and '\n"
          ],
          "name": "stderr"
        },
        {
          "output_type": "stream",
          "text": [
            "8/8 [==============================] - 2s 44ms/step - loss: nan - mean_absolute_error: nan - mape: nan\n"
          ],
          "name": "stdout"
        },
        {
          "output_type": "stream",
          "text": [
            "/usr/local/lib/python3.7/dist-packages/tensorflow/python/keras/engine/sequential.py:455: UserWarning: `model.predict_classes()` is deprecated and will be removed after 2021-01-01. Please use instead:* `np.argmax(model.predict(x), axis=-1)`,   if your model does multi-class classification   (e.g. if it uses a `softmax` last-layer activation).* `(model.predict(x) > 0.5).astype(\"int32\")`,   if your model does binary classification   (e.g. if it uses a `sigmoid` last-layer activation).\n",
            "  warnings.warn('`model.predict_classes()` is deprecated and '\n"
          ],
          "name": "stderr"
        },
        {
          "output_type": "stream",
          "text": [
            "8/8 [==============================] - 2s 44ms/step - loss: nan - mean_absolute_error: nan - mape: nan\n"
          ],
          "name": "stdout"
        },
        {
          "output_type": "stream",
          "text": [
            "/usr/local/lib/python3.7/dist-packages/tensorflow/python/keras/engine/sequential.py:455: UserWarning: `model.predict_classes()` is deprecated and will be removed after 2021-01-01. Please use instead:* `np.argmax(model.predict(x), axis=-1)`,   if your model does multi-class classification   (e.g. if it uses a `softmax` last-layer activation).* `(model.predict(x) > 0.5).astype(\"int32\")`,   if your model does binary classification   (e.g. if it uses a `sigmoid` last-layer activation).\n",
            "  warnings.warn('`model.predict_classes()` is deprecated and '\n"
          ],
          "name": "stderr"
        },
        {
          "output_type": "stream",
          "text": [
            "8/8 [==============================] - 2s 43ms/step - loss: nan - mean_absolute_error: nan - mape: nan\n"
          ],
          "name": "stdout"
        },
        {
          "output_type": "stream",
          "text": [
            "/usr/local/lib/python3.7/dist-packages/tensorflow/python/keras/engine/sequential.py:455: UserWarning: `model.predict_classes()` is deprecated and will be removed after 2021-01-01. Please use instead:* `np.argmax(model.predict(x), axis=-1)`,   if your model does multi-class classification   (e.g. if it uses a `softmax` last-layer activation).* `(model.predict(x) > 0.5).astype(\"int32\")`,   if your model does binary classification   (e.g. if it uses a `sigmoid` last-layer activation).\n",
            "  warnings.warn('`model.predict_classes()` is deprecated and '\n"
          ],
          "name": "stderr"
        },
        {
          "output_type": "stream",
          "text": [
            "8/8 [==============================] - 3s 49ms/step - loss: nan - mean_absolute_error: nan - mape: nan\n"
          ],
          "name": "stdout"
        },
        {
          "output_type": "stream",
          "text": [
            "/usr/local/lib/python3.7/dist-packages/tensorflow/python/keras/engine/sequential.py:455: UserWarning: `model.predict_classes()` is deprecated and will be removed after 2021-01-01. Please use instead:* `np.argmax(model.predict(x), axis=-1)`,   if your model does multi-class classification   (e.g. if it uses a `softmax` last-layer activation).* `(model.predict(x) > 0.5).astype(\"int32\")`,   if your model does binary classification   (e.g. if it uses a `sigmoid` last-layer activation).\n",
            "  warnings.warn('`model.predict_classes()` is deprecated and '\n"
          ],
          "name": "stderr"
        },
        {
          "output_type": "stream",
          "text": [
            "8/8 [==============================] - 2s 46ms/step - loss: nan - mean_absolute_error: nan - mape: nan\n"
          ],
          "name": "stdout"
        },
        {
          "output_type": "stream",
          "text": [
            "/usr/local/lib/python3.7/dist-packages/tensorflow/python/keras/engine/sequential.py:455: UserWarning: `model.predict_classes()` is deprecated and will be removed after 2021-01-01. Please use instead:* `np.argmax(model.predict(x), axis=-1)`,   if your model does multi-class classification   (e.g. if it uses a `softmax` last-layer activation).* `(model.predict(x) > 0.5).astype(\"int32\")`,   if your model does binary classification   (e.g. if it uses a `sigmoid` last-layer activation).\n",
            "  warnings.warn('`model.predict_classes()` is deprecated and '\n"
          ],
          "name": "stderr"
        },
        {
          "output_type": "stream",
          "text": [
            "8/8 [==============================] - 3s 47ms/step - loss: nan - mean_absolute_error: nan - mape: nan\n"
          ],
          "name": "stdout"
        },
        {
          "output_type": "stream",
          "text": [
            "/usr/local/lib/python3.7/dist-packages/tensorflow/python/keras/engine/sequential.py:455: UserWarning: `model.predict_classes()` is deprecated and will be removed after 2021-01-01. Please use instead:* `np.argmax(model.predict(x), axis=-1)`,   if your model does multi-class classification   (e.g. if it uses a `softmax` last-layer activation).* `(model.predict(x) > 0.5).astype(\"int32\")`,   if your model does binary classification   (e.g. if it uses a `sigmoid` last-layer activation).\n",
            "  warnings.warn('`model.predict_classes()` is deprecated and '\n"
          ],
          "name": "stderr"
        },
        {
          "output_type": "stream",
          "text": [
            "8/8 [==============================] - 2s 44ms/step - loss: nan - mean_absolute_error: nan - mape: nan\n"
          ],
          "name": "stdout"
        },
        {
          "output_type": "stream",
          "text": [
            "/usr/local/lib/python3.7/dist-packages/tensorflow/python/keras/engine/sequential.py:455: UserWarning: `model.predict_classes()` is deprecated and will be removed after 2021-01-01. Please use instead:* `np.argmax(model.predict(x), axis=-1)`,   if your model does multi-class classification   (e.g. if it uses a `softmax` last-layer activation).* `(model.predict(x) > 0.5).astype(\"int32\")`,   if your model does binary classification   (e.g. if it uses a `sigmoid` last-layer activation).\n",
            "  warnings.warn('`model.predict_classes()` is deprecated and '\n"
          ],
          "name": "stderr"
        },
        {
          "output_type": "stream",
          "text": [
            "8/8 [==============================] - 2s 43ms/step - loss: nan - mean_absolute_error: nan - mape: nan\n"
          ],
          "name": "stdout"
        },
        {
          "output_type": "stream",
          "text": [
            "/usr/local/lib/python3.7/dist-packages/tensorflow/python/keras/engine/sequential.py:455: UserWarning: `model.predict_classes()` is deprecated and will be removed after 2021-01-01. Please use instead:* `np.argmax(model.predict(x), axis=-1)`,   if your model does multi-class classification   (e.g. if it uses a `softmax` last-layer activation).* `(model.predict(x) > 0.5).astype(\"int32\")`,   if your model does binary classification   (e.g. if it uses a `sigmoid` last-layer activation).\n",
            "  warnings.warn('`model.predict_classes()` is deprecated and '\n"
          ],
          "name": "stderr"
        },
        {
          "output_type": "stream",
          "text": [
            "8/8 [==============================] - 3s 46ms/step - loss: nan - mean_absolute_error: nan - mape: nan\n"
          ],
          "name": "stdout"
        },
        {
          "output_type": "stream",
          "text": [
            "/usr/local/lib/python3.7/dist-packages/tensorflow/python/keras/engine/sequential.py:455: UserWarning: `model.predict_classes()` is deprecated and will be removed after 2021-01-01. Please use instead:* `np.argmax(model.predict(x), axis=-1)`,   if your model does multi-class classification   (e.g. if it uses a `softmax` last-layer activation).* `(model.predict(x) > 0.5).astype(\"int32\")`,   if your model does binary classification   (e.g. if it uses a `sigmoid` last-layer activation).\n",
            "  warnings.warn('`model.predict_classes()` is deprecated and '\n"
          ],
          "name": "stderr"
        },
        {
          "output_type": "stream",
          "text": [
            "8/8 [==============================] - 2s 50ms/step - loss: nan - mean_absolute_error: nan - mape: nan\n"
          ],
          "name": "stdout"
        },
        {
          "output_type": "stream",
          "text": [
            "/usr/local/lib/python3.7/dist-packages/tensorflow/python/keras/engine/sequential.py:455: UserWarning: `model.predict_classes()` is deprecated and will be removed after 2021-01-01. Please use instead:* `np.argmax(model.predict(x), axis=-1)`,   if your model does multi-class classification   (e.g. if it uses a `softmax` last-layer activation).* `(model.predict(x) > 0.5).astype(\"int32\")`,   if your model does binary classification   (e.g. if it uses a `sigmoid` last-layer activation).\n",
            "  warnings.warn('`model.predict_classes()` is deprecated and '\n"
          ],
          "name": "stderr"
        },
        {
          "output_type": "stream",
          "text": [
            "1/1 [==============================] - 2s 2s/step - loss: nan - mean_absolute_error: nan - mape: nan\n"
          ],
          "name": "stdout"
        },
        {
          "output_type": "stream",
          "text": [
            "/usr/local/lib/python3.7/dist-packages/tensorflow/python/keras/engine/sequential.py:455: UserWarning: `model.predict_classes()` is deprecated and will be removed after 2021-01-01. Please use instead:* `np.argmax(model.predict(x), axis=-1)`,   if your model does multi-class classification   (e.g. if it uses a `softmax` last-layer activation).* `(model.predict(x) > 0.5).astype(\"int32\")`,   if your model does binary classification   (e.g. if it uses a `sigmoid` last-layer activation).\n",
            "  warnings.warn('`model.predict_classes()` is deprecated and '\n"
          ],
          "name": "stderr"
        },
        {
          "output_type": "stream",
          "text": [
            "1/1 [==============================] - 2s 2s/step - loss: nan - mean_absolute_error: nan - mape: nan\n"
          ],
          "name": "stdout"
        },
        {
          "output_type": "stream",
          "text": [
            "/usr/local/lib/python3.7/dist-packages/tensorflow/python/keras/engine/sequential.py:455: UserWarning: `model.predict_classes()` is deprecated and will be removed after 2021-01-01. Please use instead:* `np.argmax(model.predict(x), axis=-1)`,   if your model does multi-class classification   (e.g. if it uses a `softmax` last-layer activation).* `(model.predict(x) > 0.5).astype(\"int32\")`,   if your model does binary classification   (e.g. if it uses a `sigmoid` last-layer activation).\n",
            "  warnings.warn('`model.predict_classes()` is deprecated and '\n"
          ],
          "name": "stderr"
        },
        {
          "output_type": "stream",
          "text": [
            "1/1 [==============================] - 2s 2s/step - loss: nan - mean_absolute_error: nan - mape: nan\n"
          ],
          "name": "stdout"
        },
        {
          "output_type": "stream",
          "text": [
            "/usr/local/lib/python3.7/dist-packages/tensorflow/python/keras/engine/sequential.py:455: UserWarning: `model.predict_classes()` is deprecated and will be removed after 2021-01-01. Please use instead:* `np.argmax(model.predict(x), axis=-1)`,   if your model does multi-class classification   (e.g. if it uses a `softmax` last-layer activation).* `(model.predict(x) > 0.5).astype(\"int32\")`,   if your model does binary classification   (e.g. if it uses a `sigmoid` last-layer activation).\n",
            "  warnings.warn('`model.predict_classes()` is deprecated and '\n"
          ],
          "name": "stderr"
        },
        {
          "output_type": "stream",
          "text": [
            "WARNING:tensorflow:5 out of the last 12 calls to <function Model.make_train_function.<locals>.train_function at 0x7fd96eb0ec20> triggered tf.function retracing. Tracing is expensive and the excessive number of tracings could be due to (1) creating @tf.function repeatedly in a loop, (2) passing tensors with different shapes, (3) passing Python objects instead of tensors. For (1), please define your @tf.function outside of the loop. For (2), @tf.function has experimental_relax_shapes=True option that relaxes argument shapes that can avoid unnecessary retracing. For (3), please refer to https://www.tensorflow.org/guide/function#controlling_retracing and https://www.tensorflow.org/api_docs/python/tf/function for  more details.\n",
            "1/1 [==============================] - 2s 2s/step - loss: nan - mean_absolute_error: nan - mape: nan\n"
          ],
          "name": "stdout"
        },
        {
          "output_type": "stream",
          "text": [
            "/usr/local/lib/python3.7/dist-packages/tensorflow/python/keras/engine/sequential.py:455: UserWarning: `model.predict_classes()` is deprecated and will be removed after 2021-01-01. Please use instead:* `np.argmax(model.predict(x), axis=-1)`,   if your model does multi-class classification   (e.g. if it uses a `softmax` last-layer activation).* `(model.predict(x) > 0.5).astype(\"int32\")`,   if your model does binary classification   (e.g. if it uses a `sigmoid` last-layer activation).\n",
            "  warnings.warn('`model.predict_classes()` is deprecated and '\n"
          ],
          "name": "stderr"
        },
        {
          "output_type": "stream",
          "text": [
            "WARNING:tensorflow:5 out of the last 12 calls to <function Model.make_predict_function.<locals>.predict_function at 0x7fd97284a950> triggered tf.function retracing. Tracing is expensive and the excessive number of tracings could be due to (1) creating @tf.function repeatedly in a loop, (2) passing tensors with different shapes, (3) passing Python objects instead of tensors. For (1), please define your @tf.function outside of the loop. For (2), @tf.function has experimental_relax_shapes=True option that relaxes argument shapes that can avoid unnecessary retracing. For (3), please refer to https://www.tensorflow.org/guide/function#controlling_retracing and https://www.tensorflow.org/api_docs/python/tf/function for  more details.\n",
            "WARNING:tensorflow:6 out of the last 13 calls to <function Model.make_train_function.<locals>.train_function at 0x7fd96ebf5440> triggered tf.function retracing. Tracing is expensive and the excessive number of tracings could be due to (1) creating @tf.function repeatedly in a loop, (2) passing tensors with different shapes, (3) passing Python objects instead of tensors. For (1), please define your @tf.function outside of the loop. For (2), @tf.function has experimental_relax_shapes=True option that relaxes argument shapes that can avoid unnecessary retracing. For (3), please refer to https://www.tensorflow.org/guide/function#controlling_retracing and https://www.tensorflow.org/api_docs/python/tf/function for  more details.\n",
            "1/1 [==============================] - 2s 2s/step - loss: nan - mean_absolute_error: nan - mape: nan\n"
          ],
          "name": "stdout"
        },
        {
          "output_type": "stream",
          "text": [
            "/usr/local/lib/python3.7/dist-packages/tensorflow/python/keras/engine/sequential.py:455: UserWarning: `model.predict_classes()` is deprecated and will be removed after 2021-01-01. Please use instead:* `np.argmax(model.predict(x), axis=-1)`,   if your model does multi-class classification   (e.g. if it uses a `softmax` last-layer activation).* `(model.predict(x) > 0.5).astype(\"int32\")`,   if your model does binary classification   (e.g. if it uses a `sigmoid` last-layer activation).\n",
            "  warnings.warn('`model.predict_classes()` is deprecated and '\n"
          ],
          "name": "stderr"
        },
        {
          "output_type": "stream",
          "text": [
            "WARNING:tensorflow:6 out of the last 13 calls to <function Model.make_predict_function.<locals>.predict_function at 0x7fd9724dc830> triggered tf.function retracing. Tracing is expensive and the excessive number of tracings could be due to (1) creating @tf.function repeatedly in a loop, (2) passing tensors with different shapes, (3) passing Python objects instead of tensors. For (1), please define your @tf.function outside of the loop. For (2), @tf.function has experimental_relax_shapes=True option that relaxes argument shapes that can avoid unnecessary retracing. For (3), please refer to https://www.tensorflow.org/guide/function#controlling_retracing and https://www.tensorflow.org/api_docs/python/tf/function for  more details.\n",
            "1/1 [==============================] - 2s 2s/step - loss: nan - mean_absolute_error: nan - mape: nan\n"
          ],
          "name": "stdout"
        },
        {
          "output_type": "stream",
          "text": [
            "/usr/local/lib/python3.7/dist-packages/tensorflow/python/keras/engine/sequential.py:455: UserWarning: `model.predict_classes()` is deprecated and will be removed after 2021-01-01. Please use instead:* `np.argmax(model.predict(x), axis=-1)`,   if your model does multi-class classification   (e.g. if it uses a `softmax` last-layer activation).* `(model.predict(x) > 0.5).astype(\"int32\")`,   if your model does binary classification   (e.g. if it uses a `sigmoid` last-layer activation).\n",
            "  warnings.warn('`model.predict_classes()` is deprecated and '\n"
          ],
          "name": "stderr"
        },
        {
          "output_type": "stream",
          "text": [
            "1/1 [==============================] - 2s 2s/step - loss: nan - mean_absolute_error: nan - mape: nan\n"
          ],
          "name": "stdout"
        },
        {
          "output_type": "stream",
          "text": [
            "/usr/local/lib/python3.7/dist-packages/tensorflow/python/keras/engine/sequential.py:455: UserWarning: `model.predict_classes()` is deprecated and will be removed after 2021-01-01. Please use instead:* `np.argmax(model.predict(x), axis=-1)`,   if your model does multi-class classification   (e.g. if it uses a `softmax` last-layer activation).* `(model.predict(x) > 0.5).astype(\"int32\")`,   if your model does binary classification   (e.g. if it uses a `sigmoid` last-layer activation).\n",
            "  warnings.warn('`model.predict_classes()` is deprecated and '\n"
          ],
          "name": "stderr"
        },
        {
          "output_type": "stream",
          "text": [
            "1/1 [==============================] - 2s 2s/step - loss: nan - mean_absolute_error: nan - mape: nan\n"
          ],
          "name": "stdout"
        },
        {
          "output_type": "stream",
          "text": [
            "/usr/local/lib/python3.7/dist-packages/tensorflow/python/keras/engine/sequential.py:455: UserWarning: `model.predict_classes()` is deprecated and will be removed after 2021-01-01. Please use instead:* `np.argmax(model.predict(x), axis=-1)`,   if your model does multi-class classification   (e.g. if it uses a `softmax` last-layer activation).* `(model.predict(x) > 0.5).astype(\"int32\")`,   if your model does binary classification   (e.g. if it uses a `sigmoid` last-layer activation).\n",
            "  warnings.warn('`model.predict_classes()` is deprecated and '\n"
          ],
          "name": "stderr"
        },
        {
          "output_type": "stream",
          "text": [
            "1/1 [==============================] - 2s 2s/step - loss: nan - mean_absolute_error: nan - mape: nan\n"
          ],
          "name": "stdout"
        },
        {
          "output_type": "stream",
          "text": [
            "/usr/local/lib/python3.7/dist-packages/tensorflow/python/keras/engine/sequential.py:455: UserWarning: `model.predict_classes()` is deprecated and will be removed after 2021-01-01. Please use instead:* `np.argmax(model.predict(x), axis=-1)`,   if your model does multi-class classification   (e.g. if it uses a `softmax` last-layer activation).* `(model.predict(x) > 0.5).astype(\"int32\")`,   if your model does binary classification   (e.g. if it uses a `sigmoid` last-layer activation).\n",
            "  warnings.warn('`model.predict_classes()` is deprecated and '\n"
          ],
          "name": "stderr"
        },
        {
          "output_type": "stream",
          "text": [
            "1/1 [==============================] - 2s 2s/step - loss: nan - mean_absolute_error: nan - mape: nan\n"
          ],
          "name": "stdout"
        },
        {
          "output_type": "stream",
          "text": [
            "/usr/local/lib/python3.7/dist-packages/tensorflow/python/keras/engine/sequential.py:455: UserWarning: `model.predict_classes()` is deprecated and will be removed after 2021-01-01. Please use instead:* `np.argmax(model.predict(x), axis=-1)`,   if your model does multi-class classification   (e.g. if it uses a `softmax` last-layer activation).* `(model.predict(x) > 0.5).astype(\"int32\")`,   if your model does binary classification   (e.g. if it uses a `sigmoid` last-layer activation).\n",
            "  warnings.warn('`model.predict_classes()` is deprecated and '\n"
          ],
          "name": "stderr"
        },
        {
          "output_type": "stream",
          "text": [
            "1/1 [==============================] - 2s 2s/step - loss: nan - mean_absolute_error: nan - mape: nan\n"
          ],
          "name": "stdout"
        },
        {
          "output_type": "stream",
          "text": [
            "/usr/local/lib/python3.7/dist-packages/tensorflow/python/keras/engine/sequential.py:455: UserWarning: `model.predict_classes()` is deprecated and will be removed after 2021-01-01. Please use instead:* `np.argmax(model.predict(x), axis=-1)`,   if your model does multi-class classification   (e.g. if it uses a `softmax` last-layer activation).* `(model.predict(x) > 0.5).astype(\"int32\")`,   if your model does binary classification   (e.g. if it uses a `sigmoid` last-layer activation).\n",
            "  warnings.warn('`model.predict_classes()` is deprecated and '\n"
          ],
          "name": "stderr"
        },
        {
          "output_type": "stream",
          "text": [
            "1/1 [==============================] - 2s 2s/step - loss: nan - mean_absolute_error: nan - mape: nan\n"
          ],
          "name": "stdout"
        },
        {
          "output_type": "stream",
          "text": [
            "/usr/local/lib/python3.7/dist-packages/tensorflow/python/keras/engine/sequential.py:455: UserWarning: `model.predict_classes()` is deprecated and will be removed after 2021-01-01. Please use instead:* `np.argmax(model.predict(x), axis=-1)`,   if your model does multi-class classification   (e.g. if it uses a `softmax` last-layer activation).* `(model.predict(x) > 0.5).astype(\"int32\")`,   if your model does binary classification   (e.g. if it uses a `sigmoid` last-layer activation).\n",
            "  warnings.warn('`model.predict_classes()` is deprecated and '\n"
          ],
          "name": "stderr"
        },
        {
          "output_type": "stream",
          "text": [
            "1281/1281 [==============================] - 24s 18ms/step - loss: nan - mean_absolute_error: nan - mape: nan\n"
          ],
          "name": "stdout"
        }
      ]
    },
    {
      "cell_type": "code",
      "metadata": {
        "id": "avx2KMokhwIL",
        "colab": {
          "base_uri": "https://localhost:8080/"
        },
        "outputId": "f2061fef-bf39-4de1-bfbe-93c997966f89"
      },
      "source": [
        "print(\"Best accuracy: {}\\nBest combination: {}\".format(-grid_search.best_score_, \n",
        "                             grid_search.best_params_))"
      ],
      "execution_count": null,
      "outputs": [
        {
          "output_type": "stream",
          "text": [
            "Best accuracy: 0.31234109690845396\n",
            "Best combination: {'batch_size': 1, 'dropout_rate': 0.0, 'optimizer': 'adam'}\n"
          ],
          "name": "stdout"
        }
      ]
    },
    {
      "cell_type": "code",
      "metadata": {
        "colab": {
          "base_uri": "https://localhost:8080/",
          "height": 126
        },
        "id": "8pCDKp7e_un1",
        "outputId": "86d5c6a0-486b-478d-9c9b-26ff02653b23"
      },
      "source": [
        "BREAK TO UPDATE"
      ],
      "execution_count": null,
      "outputs": [
        {
          "output_type": "error",
          "ename": "SyntaxError",
          "evalue": "ignored",
          "traceback": [
            "\u001b[0;36m  File \u001b[0;32m\"<ipython-input-26-db31344b8f46>\"\u001b[0;36m, line \u001b[0;32m1\u001b[0m\n\u001b[0;31m    BREAK TO UPDATE\u001b[0m\n\u001b[0m           ^\u001b[0m\n\u001b[0;31mSyntaxError\u001b[0m\u001b[0;31m:\u001b[0m invalid syntax\n"
          ]
        }
      ]
    },
    {
      "cell_type": "code",
      "metadata": {
        "id": "Van5J2poyJsS"
      },
      "source": [
        "BATCH_SIZE = 1\n",
        "DROPOUT_RATE = 0\n",
        "OPTIMIZER = 'adam'\n",
        "\n",
        "train_data_model = tf.data.Dataset.from_tensor_slices((x_train_model, y_train_model))\n",
        "train_data_model = train_data_model.cache().batch(BATCH_SIZE).repeat()\n",
        "val_data_model = tf.data.Dataset.from_tensor_slices((x_val_model, y_val_model))\n",
        "val_data_model = val_data_model.cache().batch(BATCH_SIZE).repeat()  "
      ],
      "execution_count": null,
      "outputs": []
    },
    {
      "cell_type": "code",
      "metadata": {
        "id": "5X-BhYIdmOOe"
      },
      "source": [
        "# Model updated with parameters as determined using Grid Search\n",
        "model = tf.keras.models.Sequential()\n",
        "model.add(tf.keras.layers.LSTM(4,    # Capacity best out of:2, 4, 8, 32\n",
        "                                           kernel_regularizer = regularizers.l2(0.001), # Regularization - fight overfitting\n",
        "                                           input_shape=x_train_model.shape[-2:]))    # LSTM layer with 4 outputs and input shape of x_train_model.shape[-2:]\n",
        "model.add(tf.keras.layers.Dropout(DROPOUT_RATE))   # Add dropout rate\n",
        "model.add(tf.keras.layers.Dense(1)) \n",
        "model.compile(optimizer='RMSprop', loss='mean_squared_error',  metrics=['mean_absolute_error', 'mape']) #\n"
      ],
      "execution_count": null,
      "outputs": []
    },
    {
      "cell_type": "code",
      "metadata": {
        "id": "18uA1e7KsKal",
        "colab": {
          "base_uri": "https://localhost:8080/"
        },
        "outputId": "4b96d634-760e-4f71-d2c4-4de5da4454d8"
      },
      "source": [
        "print(f\"Evaluation Threshold: {EVALUATION_INTERVAL}\",\n",
        "      f\"Epochs: {EPOCHS}\", sep=\"\\n\")\n",
        "\n",
        "# Train with early stopping so as to avoid overfitting\n",
        "early_stopping = EarlyStopping(monitor='val_loss', patience = PATIENCE, restore_best_weights=True) \n",
        "history = model.fit(train_data_model,\n",
        "                                            epochs=EPOCHS,\n",
        "                                            steps_per_epoch=EVALUATION_INTERVAL,\n",
        "                                            validation_data=val_data_model,\n",
        "                                            callbacks=[early_stopping],\n",
        "                                            validation_steps=17)   "
      ],
      "execution_count": null,
      "outputs": [
        {
          "output_type": "stream",
          "text": [
            "Evaluation Threshold: 20\n",
            "Epochs: 500\n",
            "Epoch 1/500\n",
            "20/20 [==============================] - 3s 55ms/step - loss: nan - mean_absolute_error: nan - mape: nan - val_loss: nan - val_mean_absolute_error: nan - val_mape: nan\n",
            "Epoch 2/500\n",
            "20/20 [==============================] - 1s 30ms/step - loss: nan - mean_absolute_error: nan - mape: nan - val_loss: nan - val_mean_absolute_error: nan - val_mape: nan\n",
            "Epoch 3/500\n",
            "20/20 [==============================] - 1s 32ms/step - loss: nan - mean_absolute_error: nan - mape: nan - val_loss: nan - val_mean_absolute_error: nan - val_mape: nan\n",
            "Epoch 4/500\n",
            "20/20 [==============================] - 1s 30ms/step - loss: nan - mean_absolute_error: nan - mape: nan - val_loss: nan - val_mean_absolute_error: nan - val_mape: nan\n",
            "Epoch 5/500\n",
            "20/20 [==============================] - 1s 31ms/step - loss: nan - mean_absolute_error: nan - mape: nan - val_loss: nan - val_mean_absolute_error: nan - val_mape: nan\n",
            "Epoch 6/500\n",
            "20/20 [==============================] - 1s 31ms/step - loss: nan - mean_absolute_error: nan - mape: nan - val_loss: nan - val_mean_absolute_error: nan - val_mape: nan\n",
            "Epoch 7/500\n",
            "20/20 [==============================] - 1s 32ms/step - loss: nan - mean_absolute_error: nan - mape: nan - val_loss: nan - val_mean_absolute_error: nan - val_mape: nan\n",
            "Epoch 8/500\n",
            "20/20 [==============================] - 1s 32ms/step - loss: nan - mean_absolute_error: nan - mape: nan - val_loss: nan - val_mean_absolute_error: nan - val_mape: nan\n",
            "Epoch 9/500\n",
            "20/20 [==============================] - 1s 36ms/step - loss: nan - mean_absolute_error: nan - mape: nan - val_loss: nan - val_mean_absolute_error: nan - val_mape: nan\n",
            "Epoch 10/500\n",
            "20/20 [==============================] - 1s 33ms/step - loss: nan - mean_absolute_error: nan - mape: nan - val_loss: nan - val_mean_absolute_error: nan - val_mape: nan\n"
          ],
          "name": "stdout"
        }
      ]
    },
    {
      "cell_type": "code",
      "metadata": {
        "colab": {
          "base_uri": "https://localhost:8080/"
        },
        "id": "pHYFCh7BB5IF",
        "outputId": "8d8aaf95-8a25-48e3-ce2d-43c4e8633dbd"
      },
      "source": [
        "history"
      ],
      "execution_count": null,
      "outputs": [
        {
          "output_type": "execute_result",
          "data": {
            "text/plain": [
              "<tensorflow.python.keras.callbacks.History at 0x7fd96eaae990>"
            ]
          },
          "metadata": {
            "tags": []
          },
          "execution_count": 41
        }
      ]
    },
    {
      "cell_type": "code",
      "metadata": {
        "id": "ceVemGRBsKdQ"
      },
      "source": [
        "# Plot training \n",
        "\n",
        "def plot_train_history(history, title):\n",
        "    loss = history.history['loss']\n",
        "    val_loss = history.history['val_loss']\n",
        "\n",
        "    epochs = range(len(loss))\n",
        "\n",
        "    plt.figure()\n",
        "\n",
        "    plt.plot(epochs, loss, 'b', label='Training loss')\n",
        "    plt.plot(epochs, val_loss, 'r', label='Validation loss')\n",
        "    plt.title(title)\n",
        "    plt.legend()\n",
        "\n",
        "    plt.show()"
      ],
      "execution_count": null,
      "outputs": []
    },
    {
      "cell_type": "code",
      "metadata": {
        "id": "cxS1XggxsgIh",
        "colab": {
          "base_uri": "https://localhost:8080/",
          "height": 281
        },
        "outputId": "5fcd1ee8-78cf-4c57-8e00-b8d39a61b125"
      },
      "source": [
        "plot_train_history(history,\n",
        "                   'Single Step Training and validation loss')"
      ],
      "execution_count": null,
      "outputs": [
        {
          "output_type": "display_data",
          "data": {
            "image/png": "[encoded data removed]",
            "text/plain": [
              "<Figure size 432x288 with 1 Axes>"
            ]
          },
          "metadata": {
            "tags": [],
            "needs_background": "light"
          }
        }
      ]
    },
    {
      "cell_type": "code",
      "metadata": {
        "id": "yKMxx9dDs_Sb"
      },
      "source": [
        "# Plot 3 examples of predictions for different timeframes\n",
        "def create_time_steps(length):\n",
        "    return list(range(-length, 0))"
      ],
      "execution_count": null,
      "outputs": []
    },
    {
      "cell_type": "code",
      "metadata": {
        "id": "QRl2ONo1sgOH"
      },
      "source": [
        "def show_plot(plot_data, delta, title):\n",
        "    labels = ['History', 'True Future', 'Model Prediction']\n",
        "    marker = ['.-', 'rx', 'go']\n",
        "    time_steps = create_time_steps(plot_data[0].shape[0])\n",
        "    if delta:\n",
        "        future = delta\n",
        "    else:\n",
        "        future = 0\n",
        "\n",
        "    plt.title(title)\n",
        "    for i, x in enumerate(plot_data):\n",
        "        if i:\n",
        "            plt.plot(future, plot_data[i], marker[i], markersize=10,\n",
        "                   label=labels[i])\n",
        "        else:\n",
        "            plt.plot(time_steps, plot_data[i].flatten(), marker[i], label=labels[i])\n",
        "        plt.legend()\n",
        "        plt.xlim([time_steps[0], (future+5)*2])\n",
        "        plt.xlabel('Time-Step')\n",
        "    \n",
        "    return plt"
      ],
      "execution_count": null,
      "outputs": []
    },
    {
      "cell_type": "code",
      "metadata": {
        "id": "QCgMFgoMsgLP",
        "colab": {
          "base_uri": "https://localhost:8080/",
          "height": 851
        },
        "outputId": "ccaeb037-19b4-43c7-9b09-5b70e1da7186"
      },
      "source": [
        "for x, y in val_data_model.take(3):\n",
        "    plot = show_plot([x[0][:, 1].numpy(), y[0].numpy(),\n",
        "                    model.predict(x)[0]], 2,\n",
        "                   'Single Step Prediction')\n",
        "    plot.show()"
      ],
      "execution_count": null,
      "outputs": [
        {
          "output_type": "display_data",
          "data": {
            "image/png": "[encoded data removed]",
            "text/plain": [
              "<Figure size 432x288 with 1 Axes>"
            ]
          },
          "metadata": {
            "tags": [],
            "needs_background": "light"
          }
        },
        {
          "output_type": "display_data",
          "data": {
            "image/png": "[encoded data removed]",
            "text/plain": [
              "<Figure size 432x288 with 1 Axes>"
            ]
          },
          "metadata": {
            "tags": [],
            "needs_background": "light"
          }
        },
        {
          "output_type": "display_data",
          "data": {
            "image/png": "[encoded data removed]",
            "text/plain": [
              "<Figure size 432x288 with 1 Axes>"
            ]
          },
          "metadata": {
            "tags": [],
            "needs_background": "light"
          }
        }
      ]
    },
    {
      "cell_type": "markdown",
      "metadata": {
        "id": "2z9vn6Ly3-NW"
      },
      "source": [
        "## Cross Validation"
      ]
    },
    {
      "cell_type": "code",
      "metadata": {
        "id": "aEv7h4cATdwJ"
      },
      "source": [
        "# Blocking Cross Validation\n",
        "n_splits = 10\n",
        "X = dataset[:,1:]\n",
        "y= dataset[:,0]\n",
        "\n",
        "class BlockingTimeSeriesSplit():\n",
        "    def __init__(self, n_splits):\n",
        "        self.n_splits = n_splits\n",
        "    \n",
        "    def get_n_splits(self, X, y, groups):\n",
        "        return self.n_splits\n",
        "    \n",
        "    def split(self, X, y=None, groups=None):\n",
        "        n_samples = len(X)\n",
        "        k_fold_size = n_samples // self.n_splits\n",
        "        indices = np.arange(n_samples)\n",
        "\n",
        "        margin = 0\n",
        "        for i in range(self.n_splits):\n",
        "            start = i * k_fold_size\n",
        "            stop = start + k_fold_size\n",
        "            mid = int(0.5 * (stop - start)) + start\n",
        "            yield indices[start: mid], indices[mid + margin: stop]\n",
        "\n",
        "# Keras Wrapper\n",
        "from keras.wrappers.scikit_learn import KerasClassifier\n",
        "def create_model():\n",
        "  model = tf.keras.models.Sequential()\n",
        "  model.add(tf.keras.layers.LSTM(4,    # Capacity best out of:2, 8, 32\n",
        "                                           kernel_regularizer = regularizers.l2(0.001), # Regularization - fight overfitting - is this correct?\n",
        "                                           input_shape=x_train_model.shape[-2:]))    # LSTM layer with 4 outputs and input shape of x_train_model.shape[-2:]\n",
        "  model.add(tf.keras.layers.Dropout(0.2))   # Add dropout rate\n",
        "  model.add(tf.keras.layers.Dense(1)) # \n",
        "  model.compile(optimizer=tf.keras.optimizers.RMSprop(), loss='mean_squared_error',  metrics=['mean_absolute_error', 'mape']) \n",
        "  return model\n"
      ],
      "execution_count": null,
      "outputs": []
    },
    {
      "cell_type": "code",
      "metadata": {
        "id": "6Y4cqG9FjU44",
        "colab": {
          "base_uri": "https://localhost:8080/"
        },
        "outputId": "0b07a65a-c841-403a-a0b8-135231302c05"
      },
      "source": [
        "model = KerasClassifier(build_fn=create_model)\n",
        "btscv = BlockingTimeSeriesSplit(n_splits=10)    # Or should I use TimeSeriesSplit?\n",
        "mse_block= -cross_val_score(model, x_train_model, y_train_model, cv=btscv, scoring='neg_mean_squared_error')\n",
        "mae_block = -cross_val_score(model, x_train_model, y_train_model, cv=btscv, scoring='neg_mean_absolute_error')"
      ],
      "execution_count": null,
      "outputs": [
        {
          "output_type": "stream",
          "text": [
            "2/2 [==============================] - 2s 29ms/step - loss: nan - mean_absolute_error: nan - mape: nan\n"
          ],
          "name": "stdout"
        },
        {
          "output_type": "stream",
          "text": [
            "/usr/local/lib/python3.7/dist-packages/tensorflow/python/keras/engine/sequential.py:455: UserWarning: `model.predict_classes()` is deprecated and will be removed after 2021-01-01. Please use instead:* `np.argmax(model.predict(x), axis=-1)`,   if your model does multi-class classification   (e.g. if it uses a `softmax` last-layer activation).* `(model.predict(x) > 0.5).astype(\"int32\")`,   if your model does binary classification   (e.g. if it uses a `sigmoid` last-layer activation).\n",
            "  warnings.warn('`model.predict_classes()` is deprecated and '\n"
          ],
          "name": "stderr"
        },
        {
          "output_type": "stream",
          "text": [
            "2/2 [==============================] - 2s 28ms/step - loss: nan - mean_absolute_error: nan - mape: nan\n"
          ],
          "name": "stdout"
        },
        {
          "output_type": "stream",
          "text": [
            "/usr/local/lib/python3.7/dist-packages/tensorflow/python/keras/engine/sequential.py:455: UserWarning: `model.predict_classes()` is deprecated and will be removed after 2021-01-01. Please use instead:* `np.argmax(model.predict(x), axis=-1)`,   if your model does multi-class classification   (e.g. if it uses a `softmax` last-layer activation).* `(model.predict(x) > 0.5).astype(\"int32\")`,   if your model does binary classification   (e.g. if it uses a `sigmoid` last-layer activation).\n",
            "  warnings.warn('`model.predict_classes()` is deprecated and '\n"
          ],
          "name": "stderr"
        },
        {
          "output_type": "stream",
          "text": [
            "2/2 [==============================] - 2s 29ms/step - loss: nan - mean_absolute_error: nan - mape: nan\n"
          ],
          "name": "stdout"
        },
        {
          "output_type": "stream",
          "text": [
            "/usr/local/lib/python3.7/dist-packages/tensorflow/python/keras/engine/sequential.py:455: UserWarning: `model.predict_classes()` is deprecated and will be removed after 2021-01-01. Please use instead:* `np.argmax(model.predict(x), axis=-1)`,   if your model does multi-class classification   (e.g. if it uses a `softmax` last-layer activation).* `(model.predict(x) > 0.5).astype(\"int32\")`,   if your model does binary classification   (e.g. if it uses a `sigmoid` last-layer activation).\n",
            "  warnings.warn('`model.predict_classes()` is deprecated and '\n"
          ],
          "name": "stderr"
        },
        {
          "output_type": "stream",
          "text": [
            "2/2 [==============================] - 2s 32ms/step - loss: nan - mean_absolute_error: nan - mape: nan\n"
          ],
          "name": "stdout"
        },
        {
          "output_type": "stream",
          "text": [
            "/usr/local/lib/python3.7/dist-packages/tensorflow/python/keras/engine/sequential.py:455: UserWarning: `model.predict_classes()` is deprecated and will be removed after 2021-01-01. Please use instead:* `np.argmax(model.predict(x), axis=-1)`,   if your model does multi-class classification   (e.g. if it uses a `softmax` last-layer activation).* `(model.predict(x) > 0.5).astype(\"int32\")`,   if your model does binary classification   (e.g. if it uses a `sigmoid` last-layer activation).\n",
            "  warnings.warn('`model.predict_classes()` is deprecated and '\n"
          ],
          "name": "stderr"
        },
        {
          "output_type": "stream",
          "text": [
            "2/2 [==============================] - 1s 31ms/step - loss: nan - mean_absolute_error: nan - mape: nan\n"
          ],
          "name": "stdout"
        },
        {
          "output_type": "stream",
          "text": [
            "/usr/local/lib/python3.7/dist-packages/tensorflow/python/keras/engine/sequential.py:455: UserWarning: `model.predict_classes()` is deprecated and will be removed after 2021-01-01. Please use instead:* `np.argmax(model.predict(x), axis=-1)`,   if your model does multi-class classification   (e.g. if it uses a `softmax` last-layer activation).* `(model.predict(x) > 0.5).astype(\"int32\")`,   if your model does binary classification   (e.g. if it uses a `sigmoid` last-layer activation).\n",
            "  warnings.warn('`model.predict_classes()` is deprecated and '\n"
          ],
          "name": "stderr"
        },
        {
          "output_type": "stream",
          "text": [
            "2/2 [==============================] - 2s 30ms/step - loss: nan - mean_absolute_error: nan - mape: nan\n"
          ],
          "name": "stdout"
        },
        {
          "output_type": "stream",
          "text": [
            "/usr/local/lib/python3.7/dist-packages/tensorflow/python/keras/engine/sequential.py:455: UserWarning: `model.predict_classes()` is deprecated and will be removed after 2021-01-01. Please use instead:* `np.argmax(model.predict(x), axis=-1)`,   if your model does multi-class classification   (e.g. if it uses a `softmax` last-layer activation).* `(model.predict(x) > 0.5).astype(\"int32\")`,   if your model does binary classification   (e.g. if it uses a `sigmoid` last-layer activation).\n",
            "  warnings.warn('`model.predict_classes()` is deprecated and '\n"
          ],
          "name": "stderr"
        },
        {
          "output_type": "stream",
          "text": [
            "2/2 [==============================] - 2s 33ms/step - loss: nan - mean_absolute_error: nan - mape: nan\n"
          ],
          "name": "stdout"
        },
        {
          "output_type": "stream",
          "text": [
            "/usr/local/lib/python3.7/dist-packages/tensorflow/python/keras/engine/sequential.py:455: UserWarning: `model.predict_classes()` is deprecated and will be removed after 2021-01-01. Please use instead:* `np.argmax(model.predict(x), axis=-1)`,   if your model does multi-class classification   (e.g. if it uses a `softmax` last-layer activation).* `(model.predict(x) > 0.5).astype(\"int32\")`,   if your model does binary classification   (e.g. if it uses a `sigmoid` last-layer activation).\n",
            "  warnings.warn('`model.predict_classes()` is deprecated and '\n"
          ],
          "name": "stderr"
        },
        {
          "output_type": "stream",
          "text": [
            "2/2 [==============================] - 1s 30ms/step - loss: nan - mean_absolute_error: nan - mape: nan\n"
          ],
          "name": "stdout"
        },
        {
          "output_type": "stream",
          "text": [
            "/usr/local/lib/python3.7/dist-packages/tensorflow/python/keras/engine/sequential.py:455: UserWarning: `model.predict_classes()` is deprecated and will be removed after 2021-01-01. Please use instead:* `np.argmax(model.predict(x), axis=-1)`,   if your model does multi-class classification   (e.g. if it uses a `softmax` last-layer activation).* `(model.predict(x) > 0.5).astype(\"int32\")`,   if your model does binary classification   (e.g. if it uses a `sigmoid` last-layer activation).\n",
            "  warnings.warn('`model.predict_classes()` is deprecated and '\n"
          ],
          "name": "stderr"
        },
        {
          "output_type": "stream",
          "text": [
            "2/2 [==============================] - 2s 30ms/step - loss: nan - mean_absolute_error: nan - mape: nan\n"
          ],
          "name": "stdout"
        },
        {
          "output_type": "stream",
          "text": [
            "/usr/local/lib/python3.7/dist-packages/tensorflow/python/keras/engine/sequential.py:455: UserWarning: `model.predict_classes()` is deprecated and will be removed after 2021-01-01. Please use instead:* `np.argmax(model.predict(x), axis=-1)`,   if your model does multi-class classification   (e.g. if it uses a `softmax` last-layer activation).* `(model.predict(x) > 0.5).astype(\"int32\")`,   if your model does binary classification   (e.g. if it uses a `sigmoid` last-layer activation).\n",
            "  warnings.warn('`model.predict_classes()` is deprecated and '\n"
          ],
          "name": "stderr"
        },
        {
          "output_type": "stream",
          "text": [
            "2/2 [==============================] - 2s 31ms/step - loss: nan - mean_absolute_error: nan - mape: nan\n"
          ],
          "name": "stdout"
        },
        {
          "output_type": "stream",
          "text": [
            "/usr/local/lib/python3.7/dist-packages/tensorflow/python/keras/engine/sequential.py:455: UserWarning: `model.predict_classes()` is deprecated and will be removed after 2021-01-01. Please use instead:* `np.argmax(model.predict(x), axis=-1)`,   if your model does multi-class classification   (e.g. if it uses a `softmax` last-layer activation).* `(model.predict(x) > 0.5).astype(\"int32\")`,   if your model does binary classification   (e.g. if it uses a `sigmoid` last-layer activation).\n",
            "  warnings.warn('`model.predict_classes()` is deprecated and '\n"
          ],
          "name": "stderr"
        },
        {
          "output_type": "stream",
          "text": [
            "2/2 [==============================] - 1s 30ms/step - loss: nan - mean_absolute_error: nan - mape: nan\n"
          ],
          "name": "stdout"
        },
        {
          "output_type": "stream",
          "text": [
            "/usr/local/lib/python3.7/dist-packages/tensorflow/python/keras/engine/sequential.py:455: UserWarning: `model.predict_classes()` is deprecated and will be removed after 2021-01-01. Please use instead:* `np.argmax(model.predict(x), axis=-1)`,   if your model does multi-class classification   (e.g. if it uses a `softmax` last-layer activation).* `(model.predict(x) > 0.5).astype(\"int32\")`,   if your model does binary classification   (e.g. if it uses a `sigmoid` last-layer activation).\n",
            "  warnings.warn('`model.predict_classes()` is deprecated and '\n"
          ],
          "name": "stderr"
        },
        {
          "output_type": "stream",
          "text": [
            "2/2 [==============================] - 2s 29ms/step - loss: nan - mean_absolute_error: nan - mape: nan\n"
          ],
          "name": "stdout"
        },
        {
          "output_type": "stream",
          "text": [
            "/usr/local/lib/python3.7/dist-packages/tensorflow/python/keras/engine/sequential.py:455: UserWarning: `model.predict_classes()` is deprecated and will be removed after 2021-01-01. Please use instead:* `np.argmax(model.predict(x), axis=-1)`,   if your model does multi-class classification   (e.g. if it uses a `softmax` last-layer activation).* `(model.predict(x) > 0.5).astype(\"int32\")`,   if your model does binary classification   (e.g. if it uses a `sigmoid` last-layer activation).\n",
            "  warnings.warn('`model.predict_classes()` is deprecated and '\n"
          ],
          "name": "stderr"
        },
        {
          "output_type": "stream",
          "text": [
            "2/2 [==============================] - 2s 30ms/step - loss: nan - mean_absolute_error: nan - mape: nan\n"
          ],
          "name": "stdout"
        },
        {
          "output_type": "stream",
          "text": [
            "/usr/local/lib/python3.7/dist-packages/tensorflow/python/keras/engine/sequential.py:455: UserWarning: `model.predict_classes()` is deprecated and will be removed after 2021-01-01. Please use instead:* `np.argmax(model.predict(x), axis=-1)`,   if your model does multi-class classification   (e.g. if it uses a `softmax` last-layer activation).* `(model.predict(x) > 0.5).astype(\"int32\")`,   if your model does binary classification   (e.g. if it uses a `sigmoid` last-layer activation).\n",
            "  warnings.warn('`model.predict_classes()` is deprecated and '\n"
          ],
          "name": "stderr"
        },
        {
          "output_type": "stream",
          "text": [
            "2/2 [==============================] - 2s 30ms/step - loss: nan - mean_absolute_error: nan - mape: nan\n"
          ],
          "name": "stdout"
        },
        {
          "output_type": "stream",
          "text": [
            "/usr/local/lib/python3.7/dist-packages/tensorflow/python/keras/engine/sequential.py:455: UserWarning: `model.predict_classes()` is deprecated and will be removed after 2021-01-01. Please use instead:* `np.argmax(model.predict(x), axis=-1)`,   if your model does multi-class classification   (e.g. if it uses a `softmax` last-layer activation).* `(model.predict(x) > 0.5).astype(\"int32\")`,   if your model does binary classification   (e.g. if it uses a `sigmoid` last-layer activation).\n",
            "  warnings.warn('`model.predict_classes()` is deprecated and '\n"
          ],
          "name": "stderr"
        },
        {
          "output_type": "stream",
          "text": [
            "2/2 [==============================] - 2s 30ms/step - loss: nan - mean_absolute_error: nan - mape: nan\n"
          ],
          "name": "stdout"
        },
        {
          "output_type": "stream",
          "text": [
            "/usr/local/lib/python3.7/dist-packages/tensorflow/python/keras/engine/sequential.py:455: UserWarning: `model.predict_classes()` is deprecated and will be removed after 2021-01-01. Please use instead:* `np.argmax(model.predict(x), axis=-1)`,   if your model does multi-class classification   (e.g. if it uses a `softmax` last-layer activation).* `(model.predict(x) > 0.5).astype(\"int32\")`,   if your model does binary classification   (e.g. if it uses a `sigmoid` last-layer activation).\n",
            "  warnings.warn('`model.predict_classes()` is deprecated and '\n"
          ],
          "name": "stderr"
        },
        {
          "output_type": "stream",
          "text": [
            "2/2 [==============================] - 2s 29ms/step - loss: nan - mean_absolute_error: nan - mape: nan\n"
          ],
          "name": "stdout"
        },
        {
          "output_type": "stream",
          "text": [
            "/usr/local/lib/python3.7/dist-packages/tensorflow/python/keras/engine/sequential.py:455: UserWarning: `model.predict_classes()` is deprecated and will be removed after 2021-01-01. Please use instead:* `np.argmax(model.predict(x), axis=-1)`,   if your model does multi-class classification   (e.g. if it uses a `softmax` last-layer activation).* `(model.predict(x) > 0.5).astype(\"int32\")`,   if your model does binary classification   (e.g. if it uses a `sigmoid` last-layer activation).\n",
            "  warnings.warn('`model.predict_classes()` is deprecated and '\n"
          ],
          "name": "stderr"
        },
        {
          "output_type": "stream",
          "text": [
            "2/2 [==============================] - 2s 32ms/step - loss: nan - mean_absolute_error: nan - mape: nan\n"
          ],
          "name": "stdout"
        },
        {
          "output_type": "stream",
          "text": [
            "/usr/local/lib/python3.7/dist-packages/tensorflow/python/keras/engine/sequential.py:455: UserWarning: `model.predict_classes()` is deprecated and will be removed after 2021-01-01. Please use instead:* `np.argmax(model.predict(x), axis=-1)`,   if your model does multi-class classification   (e.g. if it uses a `softmax` last-layer activation).* `(model.predict(x) > 0.5).astype(\"int32\")`,   if your model does binary classification   (e.g. if it uses a `sigmoid` last-layer activation).\n",
            "  warnings.warn('`model.predict_classes()` is deprecated and '\n"
          ],
          "name": "stderr"
        },
        {
          "output_type": "stream",
          "text": [
            "2/2 [==============================] - 2s 31ms/step - loss: nan - mean_absolute_error: nan - mape: nan\n"
          ],
          "name": "stdout"
        },
        {
          "output_type": "stream",
          "text": [
            "/usr/local/lib/python3.7/dist-packages/tensorflow/python/keras/engine/sequential.py:455: UserWarning: `model.predict_classes()` is deprecated and will be removed after 2021-01-01. Please use instead:* `np.argmax(model.predict(x), axis=-1)`,   if your model does multi-class classification   (e.g. if it uses a `softmax` last-layer activation).* `(model.predict(x) > 0.5).astype(\"int32\")`,   if your model does binary classification   (e.g. if it uses a `sigmoid` last-layer activation).\n",
            "  warnings.warn('`model.predict_classes()` is deprecated and '\n"
          ],
          "name": "stderr"
        },
        {
          "output_type": "stream",
          "text": [
            "2/2 [==============================] - 2s 31ms/step - loss: nan - mean_absolute_error: nan - mape: nan\n"
          ],
          "name": "stdout"
        },
        {
          "output_type": "stream",
          "text": [
            "/usr/local/lib/python3.7/dist-packages/tensorflow/python/keras/engine/sequential.py:455: UserWarning: `model.predict_classes()` is deprecated and will be removed after 2021-01-01. Please use instead:* `np.argmax(model.predict(x), axis=-1)`,   if your model does multi-class classification   (e.g. if it uses a `softmax` last-layer activation).* `(model.predict(x) > 0.5).astype(\"int32\")`,   if your model does binary classification   (e.g. if it uses a `sigmoid` last-layer activation).\n",
            "  warnings.warn('`model.predict_classes()` is deprecated and '\n"
          ],
          "name": "stderr"
        },
        {
          "output_type": "stream",
          "text": [
            "2/2 [==============================] - 2s 30ms/step - loss: nan - mean_absolute_error: nan - mape: nan\n"
          ],
          "name": "stdout"
        },
        {
          "output_type": "stream",
          "text": [
            "/usr/local/lib/python3.7/dist-packages/tensorflow/python/keras/engine/sequential.py:455: UserWarning: `model.predict_classes()` is deprecated and will be removed after 2021-01-01. Please use instead:* `np.argmax(model.predict(x), axis=-1)`,   if your model does multi-class classification   (e.g. if it uses a `softmax` last-layer activation).* `(model.predict(x) > 0.5).astype(\"int32\")`,   if your model does binary classification   (e.g. if it uses a `sigmoid` last-layer activation).\n",
            "  warnings.warn('`model.predict_classes()` is deprecated and '\n"
          ],
          "name": "stderr"
        }
      ]
    },
    {
      "cell_type": "code",
      "metadata": {
        "id": "MmDbmXOfvwVc",
        "colab": {
          "base_uri": "https://localhost:8080/"
        },
        "outputId": "11103bc8-c931-4950-b8d7-cfb4a7064d78"
      },
      "source": [
        "print('The mean squared errors for each of the 10 splits are:', mse_block)\n",
        "print('The mean mse for the folds is: ', (sum(mse_block)/10))\n",
        "\n",
        "print('The mean absolute errors for each of the 10 splits are:', mae_block)\n",
        "print('The mean mae for the folds is: ', (sum(mae_block)/10))"
      ],
      "execution_count": null,
      "outputs": [
        {
          "output_type": "stream",
          "text": [
            "The mean squared errors for each of the 10 splits are: [0.02152461 0.00675071 0.12004598 0.0251755  0.00951963 0.03125818\n",
            " 0.00221412 0.01275304 0.00145195 0.03025118]\n",
            "The mean mse for the folds is:  0.02609448881293234\n",
            "The mean absolute errors for each of the 10 splits are: [0.13323199 0.07402293 0.3411101  0.15461303 0.09308435 0.16828145\n",
            " 0.03357818 0.10364778 0.03308532 0.16530125]\n",
            "The mean mae for the folds is:  0.12999563845272072\n"
          ],
          "name": "stdout"
        }
      ]
    },
    {
      "cell_type": "code",
      "metadata": {
        "id": "-lq93UMec9W-",
        "colab": {
          "base_uri": "https://localhost:8080/",
          "height": 351
        },
        "outputId": "d4889d4a-7736-4dfc-fb97-20a1dfdc53d7"
      },
      "source": [
        "df_results = pd.DataFrame(mse_block)\n",
        "df_results['RMSE'] = np.sqrt(df_results[0])\n",
        "df_results = df_results.rename(columns={0:'MSFT_MSE', 'RMSE':'MSFT_RMSE'})\n",
        "df_results"
      ],
      "execution_count": null,
      "outputs": [
        {
          "output_type": "execute_result",
          "data": {
            "text/html": [
              "<div>\n",
              "<style scoped>\n",
              "    .dataframe tbody tr th:only-of-type {\n",
              "        vertical-align: middle;\n",
              "    }\n",
              "\n",
              "    .dataframe tbody tr th {\n",
              "        vertical-align: top;\n",
              "    }\n",
              "\n",
              "    .dataframe thead th {\n",
              "        text-align: right;\n",
              "    }\n",
              "</style>\n",
              "<table border=\"1\" class=\"dataframe\">\n",
              "  <thead>\n",
              "    <tr style=\"text-align: right;\">\n",
              "      <th></th>\n",
              "      <th>MSFT_MSE</th>\n",
              "      <th>MSFT_RMSE</th>\n",
              "    </tr>\n",
              "  </thead>\n",
              "  <tbody>\n",
              "    <tr>\n",
              "      <th>0</th>\n",
              "      <td>0.021525</td>\n",
              "      <td>0.146713</td>\n",
              "    </tr>\n",
              "    <tr>\n",
              "      <th>1</th>\n",
              "      <td>0.006751</td>\n",
              "      <td>0.082163</td>\n",
              "    </tr>\n",
              "    <tr>\n",
              "      <th>2</th>\n",
              "      <td>0.120046</td>\n",
              "      <td>0.346477</td>\n",
              "    </tr>\n",
              "    <tr>\n",
              "      <th>3</th>\n",
              "      <td>0.025175</td>\n",
              "      <td>0.158668</td>\n",
              "    </tr>\n",
              "    <tr>\n",
              "      <th>4</th>\n",
              "      <td>0.009520</td>\n",
              "      <td>0.097569</td>\n",
              "    </tr>\n",
              "    <tr>\n",
              "      <th>5</th>\n",
              "      <td>0.031258</td>\n",
              "      <td>0.176800</td>\n",
              "    </tr>\n",
              "    <tr>\n",
              "      <th>6</th>\n",
              "      <td>0.002214</td>\n",
              "      <td>0.047054</td>\n",
              "    </tr>\n",
              "    <tr>\n",
              "      <th>7</th>\n",
              "      <td>0.012753</td>\n",
              "      <td>0.112929</td>\n",
              "    </tr>\n",
              "    <tr>\n",
              "      <th>8</th>\n",
              "      <td>0.001452</td>\n",
              "      <td>0.038104</td>\n",
              "    </tr>\n",
              "    <tr>\n",
              "      <th>9</th>\n",
              "      <td>0.030251</td>\n",
              "      <td>0.173929</td>\n",
              "    </tr>\n",
              "  </tbody>\n",
              "</table>\n",
              "</div>"
            ],
            "text/plain": [
              "   MSFT_MSE  MSFT_RMSE\n",
              "0  0.021525   0.146713\n",
              "1  0.006751   0.082163\n",
              "2  0.120046   0.346477\n",
              "3  0.025175   0.158668\n",
              "4  0.009520   0.097569\n",
              "5  0.031258   0.176800\n",
              "6  0.002214   0.047054\n",
              "7  0.012753   0.112929\n",
              "8  0.001452   0.038104\n",
              "9  0.030251   0.173929"
            ]
          },
          "metadata": {
            "tags": []
          },
          "execution_count": 38
        }
      ]
    },
    {
      "cell_type": "code",
      "metadata": {
        "id": "reC53qQxYSaQ"
      },
      "source": [
        "df_results.to_csv('MSFT_SENTIMENT_LSTM_HR.csv')\n"
      ],
      "execution_count": null,
      "outputs": []
    },
    {
      "cell_type": "code",
      "metadata": {
        "id": "C6W_pFU6biLn",
        "colab": {
          "base_uri": "https://localhost:8080/",
          "height": 290
        },
        "outputId": "e6676f00-bc65-44ad-e238-55c6333c9687"
      },
      "source": [
        "df_results.describe()"
      ],
      "execution_count": null,
      "outputs": [
        {
          "output_type": "execute_result",
          "data": {
            "text/html": [
              "<div>\n",
              "<style scoped>\n",
              "    .dataframe tbody tr th:only-of-type {\n",
              "        vertical-align: middle;\n",
              "    }\n",
              "\n",
              "    .dataframe tbody tr th {\n",
              "        vertical-align: top;\n",
              "    }\n",
              "\n",
              "    .dataframe thead th {\n",
              "        text-align: right;\n",
              "    }\n",
              "</style>\n",
              "<table border=\"1\" class=\"dataframe\">\n",
              "  <thead>\n",
              "    <tr style=\"text-align: right;\">\n",
              "      <th></th>\n",
              "      <th>MSFT_MSE</th>\n",
              "      <th>MSFT_RMSE</th>\n",
              "    </tr>\n",
              "  </thead>\n",
              "  <tbody>\n",
              "    <tr>\n",
              "      <th>count</th>\n",
              "      <td>10.000000</td>\n",
              "      <td>10.000000</td>\n",
              "    </tr>\n",
              "    <tr>\n",
              "      <th>mean</th>\n",
              "      <td>0.026094</td>\n",
              "      <td>0.138041</td>\n",
              "    </tr>\n",
              "    <tr>\n",
              "      <th>std</th>\n",
              "      <td>0.034796</td>\n",
              "      <td>0.088439</td>\n",
              "    </tr>\n",
              "    <tr>\n",
              "      <th>min</th>\n",
              "      <td>0.001452</td>\n",
              "      <td>0.038104</td>\n",
              "    </tr>\n",
              "    <tr>\n",
              "      <th>25%</th>\n",
              "      <td>0.007443</td>\n",
              "      <td>0.086014</td>\n",
              "    </tr>\n",
              "    <tr>\n",
              "      <th>50%</th>\n",
              "      <td>0.017139</td>\n",
              "      <td>0.129821</td>\n",
              "    </tr>\n",
              "    <tr>\n",
              "      <th>75%</th>\n",
              "      <td>0.028982</td>\n",
              "      <td>0.170113</td>\n",
              "    </tr>\n",
              "    <tr>\n",
              "      <th>max</th>\n",
              "      <td>0.120046</td>\n",
              "      <td>0.346477</td>\n",
              "    </tr>\n",
              "  </tbody>\n",
              "</table>\n",
              "</div>"
            ],
            "text/plain": [
              "        MSFT_MSE  MSFT_RMSE\n",
              "count  10.000000  10.000000\n",
              "mean    0.026094   0.138041\n",
              "std     0.034796   0.088439\n",
              "min     0.001452   0.038104\n",
              "25%     0.007443   0.086014\n",
              "50%     0.017139   0.129821\n",
              "75%     0.028982   0.170113\n",
              "max     0.120046   0.346477"
            ]
          },
          "metadata": {
            "tags": []
          },
          "execution_count": 40
        }
      ]
    },
    {
      "cell_type": "code",
      "metadata": {
        "id": "vPZp6HtBE16V"
      },
      "source": [
        ""
      ],
      "execution_count": null,
      "outputs": []
    }
  ]
}