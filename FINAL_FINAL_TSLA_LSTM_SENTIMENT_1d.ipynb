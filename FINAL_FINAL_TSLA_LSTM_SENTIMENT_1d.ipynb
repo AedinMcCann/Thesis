{
  "nbformat": 4,
  "nbformat_minor": 0,
  "metadata": {
    "colab": {
      "name": "FINAL FINAL TSLA - LSTM SENTIMENT - 1d",
      "provenance": [],
      "collapsed_sections": [],
      "authorship_tag": "ABX9TyPkKPLinBSus3g/tbYxVNaX",
      "include_colab_link": true
    },
    "kernelspec": {
      "display_name": "Python 3",
      "name": "python3"
    },
    "language_info": {
      "name": "python"
    }
  },
  "cells": [
    {
      "cell_type": "markdown",
      "metadata": {
        "id": "view-in-github",
        "colab_type": "text"
      },
      "source": [
        "<a href=\"https://colab.research.google.com/github/AedinMcCann/Thesis/blob/main/FINAL_FINAL_TSLA_LSTM_SENTIMENT_1d.ipynb\" target=\"_parent\"><img src=\"https://colab.research.google.com/assets/colab-badge.svg\" alt=\"Open In Colab\"/></a>"
      ]
    },
    {
      "cell_type": "code",
      "metadata": {
        "colab": {
          "base_uri": "https://localhost:8080/"
        },
        "id": "7NWzzUVTbmJD",
        "outputId": "f0f2cf45-bb6e-467c-e811-fd6b623df9e6"
      },
      "source": [
        "pip install yfinance"
      ],
      "execution_count": null,
      "outputs": [
        {
          "output_type": "stream",
          "text": [
            "Collecting yfinance\n",
            "  Downloading https://files.pythonhosted.org/packages/a7/ee/315752b9ef281ba83c62aa7ec2e2074f85223da6e7e74efb4d3e11c0f510/yfinance-0.1.59.tar.gz\n",
            "Requirement already satisfied: pandas>=0.24 in /usr/local/lib/python3.7/dist-packages (from yfinance) (1.1.5)\n",
            "Requirement already satisfied: numpy>=1.15 in /usr/local/lib/python3.7/dist-packages (from yfinance) (1.19.5)\n",
            "Requirement already satisfied: requests>=2.20 in /usr/local/lib/python3.7/dist-packages (from yfinance) (2.23.0)\n",
            "Requirement already satisfied: multitasking>=0.0.7 in /usr/local/lib/python3.7/dist-packages (from yfinance) (0.0.9)\n",
            "Collecting lxml>=4.5.1\n",
            "\u001b[?25l  Downloading https://files.pythonhosted.org/packages/30/c0/d0526314971fc661b083ab135747dc68446a3022686da8c16d25fcf6ef07/lxml-4.6.3-cp37-cp37m-manylinux2014_x86_64.whl (6.3MB)\n",
            "\u001b[K     |████████████████████████████████| 6.3MB 8.0MB/s \n",
            "\u001b[?25hRequirement already satisfied: pytz>=2017.2 in /usr/local/lib/python3.7/dist-packages (from pandas>=0.24->yfinance) (2018.9)\n",
            "Requirement already satisfied: python-dateutil>=2.7.3 in /usr/local/lib/python3.7/dist-packages (from pandas>=0.24->yfinance) (2.8.1)\n",
            "Requirement already satisfied: urllib3!=1.25.0,!=1.25.1,<1.26,>=1.21.1 in /usr/local/lib/python3.7/dist-packages (from requests>=2.20->yfinance) (1.24.3)\n",
            "Requirement already satisfied: idna<3,>=2.5 in /usr/local/lib/python3.7/dist-packages (from requests>=2.20->yfinance) (2.10)\n",
            "Requirement already satisfied: chardet<4,>=3.0.2 in /usr/local/lib/python3.7/dist-packages (from requests>=2.20->yfinance) (3.0.4)\n",
            "Requirement already satisfied: certifi>=2017.4.17 in /usr/local/lib/python3.7/dist-packages (from requests>=2.20->yfinance) (2021.5.30)\n",
            "Requirement already satisfied: six>=1.5 in /usr/local/lib/python3.7/dist-packages (from python-dateutil>=2.7.3->pandas>=0.24->yfinance) (1.15.0)\n",
            "Building wheels for collected packages: yfinance\n",
            "  Building wheel for yfinance (setup.py) ... \u001b[?25l\u001b[?25hdone\n",
            "  Created wheel for yfinance: filename=yfinance-0.1.59-py2.py3-none-any.whl size=23455 sha256=368752777389c8ca0e76f4d7c9f2d38bdc5347fd87c20b9a0412aba4cee3dbd4\n",
            "  Stored in directory: /root/.cache/pip/wheels/f8/2a/0f/4b5a86e1d52e451757eb6bc17fd899629f0925c777741b6d04\n",
            "Successfully built yfinance\n",
            "Installing collected packages: lxml, yfinance\n",
            "  Found existing installation: lxml 4.2.6\n",
            "    Uninstalling lxml-4.2.6:\n",
            "      Successfully uninstalled lxml-4.2.6\n",
            "Successfully installed lxml-4.6.3 yfinance-0.1.59\n"
          ],
          "name": "stdout"
        }
      ]
    },
    {
      "cell_type": "code",
      "metadata": {
        "colab": {
          "base_uri": "https://localhost:8080/"
        },
        "id": "y-Rx4YTKpQyY",
        "outputId": "5533e896-0096-4c13-c0b4-02752e8ec7e2"
      },
      "source": [
        "pip install statsmodels"
      ],
      "execution_count": null,
      "outputs": [
        {
          "output_type": "stream",
          "text": [
            "Requirement already satisfied: statsmodels in /usr/local/lib/python3.7/dist-packages (0.10.2)\n",
            "Requirement already satisfied: pandas>=0.19 in /usr/local/lib/python3.7/dist-packages (from statsmodels) (1.1.5)\n",
            "Requirement already satisfied: numpy>=1.11 in /usr/local/lib/python3.7/dist-packages (from statsmodels) (1.19.5)\n",
            "Requirement already satisfied: scipy>=0.18 in /usr/local/lib/python3.7/dist-packages (from statsmodels) (1.4.1)\n",
            "Requirement already satisfied: patsy>=0.4.0 in /usr/local/lib/python3.7/dist-packages (from statsmodels) (0.5.1)\n",
            "Requirement already satisfied: python-dateutil>=2.7.3 in /usr/local/lib/python3.7/dist-packages (from pandas>=0.19->statsmodels) (2.8.1)\n",
            "Requirement already satisfied: pytz>=2017.2 in /usr/local/lib/python3.7/dist-packages (from pandas>=0.19->statsmodels) (2018.9)\n",
            "Requirement already satisfied: six in /usr/local/lib/python3.7/dist-packages (from patsy>=0.4.0->statsmodels) (1.15.0)\n"
          ],
          "name": "stdout"
        }
      ]
    },
    {
      "cell_type": "code",
      "metadata": {
        "colab": {
          "base_uri": "https://localhost:8080/"
        },
        "id": "1GA6cwXApSRo",
        "outputId": "11c0bbc2-add8-438c-b095-cb87e46195b0"
      },
      "source": [
        "pip install yahoofinancials"
      ],
      "execution_count": null,
      "outputs": [
        {
          "output_type": "stream",
          "text": [
            "Collecting yahoofinancials\n",
            "  Downloading https://files.pythonhosted.org/packages/97/fe/be0f6ea704137848779fc61e7d1c9a901489aaf3423cd7b6f86a350c14c6/yahoofinancials-1.6.tar.gz\n",
            "Requirement already satisfied: beautifulsoup4 in /usr/local/lib/python3.7/dist-packages (from yahoofinancials) (4.6.3)\n",
            "Requirement already satisfied: pytz in /usr/local/lib/python3.7/dist-packages (from yahoofinancials) (2018.9)\n",
            "Building wheels for collected packages: yahoofinancials\n",
            "  Building wheel for yahoofinancials (setup.py) ... \u001b[?25l\u001b[?25hdone\n",
            "  Created wheel for yahoofinancials: filename=yahoofinancials-1.6-cp37-none-any.whl size=15192 sha256=a51aacab481289a98ea445307d6d2998811913c6e0c97b9eebf9f3d53d251373\n",
            "  Stored in directory: /root/.cache/pip/wheels/d9/7e/cf/4977a8572d5247242a4b13018d1d36923024ba84236e0d28bc\n",
            "Successfully built yahoofinancials\n",
            "Installing collected packages: yahoofinancials\n",
            "Successfully installed yahoofinancials-1.6\n"
          ],
          "name": "stdout"
        }
      ]
    },
    {
      "cell_type": "code",
      "metadata": {
        "id": "x5HOlBCAcU8n"
      },
      "source": [
        "# Import necessary packages\n",
        "import tensorflow as tf\n",
        "from tensorflow.keras.callbacks import CSVLogger, EarlyStopping\n",
        "import numpy as np\n",
        "import matplotlib as mpl\n",
        "import matplotlib.pyplot as plt\n",
        "import numpy as np\n",
        "import os\n",
        "import pandas as pd\n",
        "import seaborn as sns\n",
        "import time\n",
        "import gc\n",
        "import sys\n",
        "from sklearn.preprocessing import MinMaxScaler\n",
        "import pandas as pd\n",
        "import yfinance as yf\n",
        "from yahoofinancials import YahooFinancials\n",
        "import seaborn as sns\n",
        "\n",
        "from sklearn.model_selection import train_test_split \n",
        "from sklearn import metrics\n",
        "from keras import regularizers\n",
        "\n",
        "\n",
        "from sklearn.model_selection import TimeSeriesSplit\n",
        "from sklearn.model_selection import KFold\n",
        "import numpy as np\n",
        "import matplotlib.pyplot as plt\n",
        "from matplotlib.patches import Patch\n",
        "import seaborn as sns \n",
        "\n",
        "import sklearn\n",
        "from sklearn.linear_model import ElasticNet\n",
        "from sklearn.multioutput import MultiOutputRegressor\n",
        "from sklearn.model_selection import cross_val_score\n",
        "from sklearn.model_selection import GridSearchCV\n",
        "from keras.wrappers.scikit_learn import KerasClassifier\n"
      ],
      "execution_count": null,
      "outputs": []
    },
    {
      "cell_type": "code",
      "metadata": {
        "colab": {
          "base_uri": "https://localhost:8080/",
          "height": 221
        },
        "id": "GFMJrJwWbzvx",
        "outputId": "e33140ad-3f96-4e2a-f096-8c48a8115582"
      },
      "source": [
        "# Get stock data\n",
        "start='2020-01-01'\n",
        "end='2021-01-02'\n",
        "df = yf.download(tickers = \"TSLA\",start=start,end=end,interval = \"1d\")\n",
        "df.reset_index(drop=False, inplace=True)\n",
        "\n",
        "nan_value = float(\"NaN\")\n",
        "df.replace(\"\", nan_value, inplace=True)\n",
        "df.tail()\n",
        "df['Next_close'] = df['Close'].shift(-1)\n",
        "df.head()\n"
      ],
      "execution_count": null,
      "outputs": [
        {
          "output_type": "stream",
          "text": [
            "\r[*********************100%***********************]  1 of 1 completed\n"
          ],
          "name": "stdout"
        },
        {
          "output_type": "execute_result",
          "data": {
            "text/html": [
              "<div>\n",
              "<style scoped>\n",
              "    .dataframe tbody tr th:only-of-type {\n",
              "        vertical-align: middle;\n",
              "    }\n",
              "\n",
              "    .dataframe tbody tr th {\n",
              "        vertical-align: top;\n",
              "    }\n",
              "\n",
              "    .dataframe thead th {\n",
              "        text-align: right;\n",
              "    }\n",
              "</style>\n",
              "<table border=\"1\" class=\"dataframe\">\n",
              "  <thead>\n",
              "    <tr style=\"text-align: right;\">\n",
              "      <th></th>\n",
              "      <th>Date</th>\n",
              "      <th>Open</th>\n",
              "      <th>High</th>\n",
              "      <th>Low</th>\n",
              "      <th>Close</th>\n",
              "      <th>Adj Close</th>\n",
              "      <th>Volume</th>\n",
              "      <th>Next_close</th>\n",
              "    </tr>\n",
              "  </thead>\n",
              "  <tbody>\n",
              "    <tr>\n",
              "      <th>0</th>\n",
              "      <td>2020-01-02</td>\n",
              "      <td>84.900002</td>\n",
              "      <td>86.139999</td>\n",
              "      <td>84.342003</td>\n",
              "      <td>86.052002</td>\n",
              "      <td>86.052002</td>\n",
              "      <td>47660500</td>\n",
              "      <td>88.601997</td>\n",
              "    </tr>\n",
              "    <tr>\n",
              "      <th>1</th>\n",
              "      <td>2020-01-03</td>\n",
              "      <td>88.099998</td>\n",
              "      <td>90.800003</td>\n",
              "      <td>87.384003</td>\n",
              "      <td>88.601997</td>\n",
              "      <td>88.601997</td>\n",
              "      <td>88892500</td>\n",
              "      <td>90.307999</td>\n",
              "    </tr>\n",
              "    <tr>\n",
              "      <th>2</th>\n",
              "      <td>2020-01-06</td>\n",
              "      <td>88.094002</td>\n",
              "      <td>90.311996</td>\n",
              "      <td>88.000000</td>\n",
              "      <td>90.307999</td>\n",
              "      <td>90.307999</td>\n",
              "      <td>50665000</td>\n",
              "      <td>93.811996</td>\n",
              "    </tr>\n",
              "    <tr>\n",
              "      <th>3</th>\n",
              "      <td>2020-01-07</td>\n",
              "      <td>92.279999</td>\n",
              "      <td>94.325996</td>\n",
              "      <td>90.671997</td>\n",
              "      <td>93.811996</td>\n",
              "      <td>93.811996</td>\n",
              "      <td>89410500</td>\n",
              "      <td>98.428001</td>\n",
              "    </tr>\n",
              "    <tr>\n",
              "      <th>4</th>\n",
              "      <td>2020-01-08</td>\n",
              "      <td>94.739998</td>\n",
              "      <td>99.697998</td>\n",
              "      <td>93.646004</td>\n",
              "      <td>98.428001</td>\n",
              "      <td>98.428001</td>\n",
              "      <td>155721500</td>\n",
              "      <td>96.267998</td>\n",
              "    </tr>\n",
              "  </tbody>\n",
              "</table>\n",
              "</div>"
            ],
            "text/plain": [
              "        Date       Open       High  ...  Adj Close     Volume  Next_close\n",
              "0 2020-01-02  84.900002  86.139999  ...  86.052002   47660500   88.601997\n",
              "1 2020-01-03  88.099998  90.800003  ...  88.601997   88892500   90.307999\n",
              "2 2020-01-06  88.094002  90.311996  ...  90.307999   50665000   93.811996\n",
              "3 2020-01-07  92.279999  94.325996  ...  93.811996   89410500   98.428001\n",
              "4 2020-01-08  94.739998  99.697998  ...  98.428001  155721500   96.267998\n",
              "\n",
              "[5 rows x 8 columns]"
            ]
          },
          "metadata": {
            "tags": []
          },
          "execution_count": 6
        }
      ]
    },
    {
      "cell_type": "code",
      "metadata": {
        "colab": {
          "base_uri": "https://localhost:8080/",
          "height": 397
        },
        "id": "cnIoHw6wkZRy",
        "outputId": "179a393f-54bf-4fcd-e201-703387004aea"
      },
      "source": [
        "# Add in some technical indicators\n",
        "# Simple moving average (SMA)\n",
        "# 3 day period\n",
        "Close = df[['Close']]\n",
        "df['SMA'] = df.Close.rolling(3, min_periods=1).mean()\n",
        "\n",
        "# Exponential moving average (EMA)\n",
        "df['EMA'] = df.Close.ewm(alpha=0.1, adjust=False).mean()\n",
        "\n",
        "# Plot price changes for the year\n",
        "# Colors for the line plot\n",
        "colors = ['green', 'red', 'purple']\n",
        "df_plt = df[['Close', 'SMA', 'EMA', 'Date']]\n",
        "\n",
        "# line plot\n",
        "df_plt.plot(color=colors, x = 'Date', linewidth=3, figsize=(12,6))\n",
        "\n",
        "# modify ticks size\n",
        "plt.xticks(fontsize=10)\n",
        "plt.yticks(fontsize=10)\n",
        "\n",
        "# title and labels\n",
        "plt.xlabel('Date', fontsize=16)\n",
        "plt.ylabel('Cost (USD)', fontsize=16)"
      ],
      "execution_count": null,
      "outputs": [
        {
          "output_type": "execute_result",
          "data": {
            "text/plain": [
              "Text(0, 0.5, 'Cost (USD)')"
            ]
          },
          "metadata": {
            "tags": []
          },
          "execution_count": 7
        },
        {
          "output_type": "display_data",
          "data": {
            "image/png": "[encoded data removed]",
            "text/plain": [
              "<Figure size 864x432 with 1 Axes>"
            ]
          },
          "metadata": {
            "tags": [],
            "needs_background": "light"
          }
        }
      ]
    },
    {
      "cell_type": "code",
      "metadata": {
        "id": "xkcrDDZlqgYT"
      },
      "source": [
        "# On Balance Volume\n",
        "# Measures cumulative buying and selling pressure by adding the volume on \"up\" days and subtracting volume on \"down\" days. \n",
        "df['obv'] = (np.sign(df['Close'].diff()) * df['Volume']).fillna(0).cumsum()\n",
        "df = df.set_index('Date')\n"
      ],
      "execution_count": null,
      "outputs": []
    },
    {
      "cell_type": "code",
      "metadata": {
        "colab": {
          "base_uri": "https://localhost:8080/",
          "height": 297
        },
        "id": "zKwSmno5eefB",
        "outputId": "874f1b61-19aa-4a75-ada2-4394f56ad52a"
      },
      "source": [
        "# Import sentiment data and merge\n",
        "df = df.reset_index()\n",
        "df['Date'] = pd.to_datetime(df['Date'])\n",
        "sent = pd.read_csv('TSLA_sentiment_submissions.csv')\n",
        "sent = sent.rename(columns={'date':'Date'})\n",
        "sent['Date'] = pd.to_datetime(sent['Date'])\n",
        "df = pd.merge(df, sent, on = 'Date', how='left')\n",
        "#df = df.fillna(0)\n",
        "df.describe()"
      ],
      "execution_count": null,
      "outputs": [
        {
          "output_type": "execute_result",
          "data": {
            "text/html": [
              "<div>\n",
              "<style scoped>\n",
              "    .dataframe tbody tr th:only-of-type {\n",
              "        vertical-align: middle;\n",
              "    }\n",
              "\n",
              "    .dataframe tbody tr th {\n",
              "        vertical-align: top;\n",
              "    }\n",
              "\n",
              "    .dataframe thead th {\n",
              "        text-align: right;\n",
              "    }\n",
              "</style>\n",
              "<table border=\"1\" class=\"dataframe\">\n",
              "  <thead>\n",
              "    <tr style=\"text-align: right;\">\n",
              "      <th></th>\n",
              "      <th>Open</th>\n",
              "      <th>High</th>\n",
              "      <th>Low</th>\n",
              "      <th>Close</th>\n",
              "      <th>Adj Close</th>\n",
              "      <th>Volume</th>\n",
              "      <th>Next_close</th>\n",
              "      <th>SMA</th>\n",
              "      <th>EMA</th>\n",
              "      <th>obv</th>\n",
              "      <th>Unnamed: 0</th>\n",
              "      <th>compound</th>\n",
              "      <th>Count</th>\n",
              "      <th>average</th>\n",
              "    </tr>\n",
              "  </thead>\n",
              "  <tbody>\n",
              "    <tr>\n",
              "      <th>count</th>\n",
              "      <td>253.000000</td>\n",
              "      <td>253.000000</td>\n",
              "      <td>253.000000</td>\n",
              "      <td>253.000000</td>\n",
              "      <td>253.000000</td>\n",
              "      <td>2.530000e+02</td>\n",
              "      <td>252.000000</td>\n",
              "      <td>253.000000</td>\n",
              "      <td>253.000000</td>\n",
              "      <td>2.530000e+02</td>\n",
              "      <td>252.000000</td>\n",
              "      <td>252.000000</td>\n",
              "      <td>252.000000</td>\n",
              "      <td>252.000000</td>\n",
              "    </tr>\n",
              "    <tr>\n",
              "      <th>mean</th>\n",
              "      <td>289.108428</td>\n",
              "      <td>297.288411</td>\n",
              "      <td>280.697937</td>\n",
              "      <td>289.997067</td>\n",
              "      <td>289.997067</td>\n",
              "      <td>7.530795e+07</td>\n",
              "      <td>290.806373</td>\n",
              "      <td>287.564012</td>\n",
              "      <td>270.266095</td>\n",
              "      <td>1.911766e+09</td>\n",
              "      <td>182.488095</td>\n",
              "      <td>5.037606</td>\n",
              "      <td>32.817460</td>\n",
              "      <td>0.144562</td>\n",
              "    </tr>\n",
              "    <tr>\n",
              "      <th>std</th>\n",
              "      <td>167.665389</td>\n",
              "      <td>171.702889</td>\n",
              "      <td>163.350196</td>\n",
              "      <td>168.995613</td>\n",
              "      <td>168.995613</td>\n",
              "      <td>4.013706e+07</td>\n",
              "      <td>168.839956</td>\n",
              "      <td>167.122237</td>\n",
              "      <td>154.357671</td>\n",
              "      <td>8.882851e+08</td>\n",
              "      <td>104.630006</td>\n",
              "      <td>7.139996</td>\n",
              "      <td>36.248567</td>\n",
              "      <td>0.197860</td>\n",
              "    </tr>\n",
              "    <tr>\n",
              "      <th>min</th>\n",
              "      <td>74.940002</td>\n",
              "      <td>80.972000</td>\n",
              "      <td>70.101997</td>\n",
              "      <td>72.244003</td>\n",
              "      <td>72.244003</td>\n",
              "      <td>1.735770e+07</td>\n",
              "      <td>72.244003</td>\n",
              "      <td>81.092667</td>\n",
              "      <td>86.052002</td>\n",
              "      <td>0.000000e+00</td>\n",
              "      <td>1.000000</td>\n",
              "      <td>-4.830000</td>\n",
              "      <td>1.000000</td>\n",
              "      <td>-0.760100</td>\n",
              "    </tr>\n",
              "    <tr>\n",
              "      <th>25%</th>\n",
              "      <td>148.367996</td>\n",
              "      <td>154.990005</td>\n",
              "      <td>143.222000</td>\n",
              "      <td>149.792007</td>\n",
              "      <td>149.792007</td>\n",
              "      <td>4.713450e+07</td>\n",
              "      <td>149.872997</td>\n",
              "      <td>149.241999</td>\n",
              "      <td>139.893243</td>\n",
              "      <td>1.329942e+09</td>\n",
              "      <td>91.750000</td>\n",
              "      <td>0.771500</td>\n",
              "      <td>11.000000</td>\n",
              "      <td>0.065281</td>\n",
              "    </tr>\n",
              "    <tr>\n",
              "      <th>50%</th>\n",
              "      <td>244.296005</td>\n",
              "      <td>245.600006</td>\n",
              "      <td>237.119995</td>\n",
              "      <td>241.731995</td>\n",
              "      <td>241.731995</td>\n",
              "      <td>7.025550e+07</td>\n",
              "      <td>257.453995</td>\n",
              "      <td>227.206665</td>\n",
              "      <td>201.239920</td>\n",
              "      <td>1.786169e+09</td>\n",
              "      <td>183.000000</td>\n",
              "      <td>2.943150</td>\n",
              "      <td>20.000000</td>\n",
              "      <td>0.149701</td>\n",
              "    </tr>\n",
              "    <tr>\n",
              "      <th>75%</th>\n",
              "      <td>421.390015</td>\n",
              "      <td>430.500000</td>\n",
              "      <td>410.579987</td>\n",
              "      <td>421.200012</td>\n",
              "      <td>421.200012</td>\n",
              "      <td>9.454550e+07</td>\n",
              "      <td>421.215012</td>\n",
              "      <td>421.653330</td>\n",
              "      <td>415.487761</td>\n",
              "      <td>2.803595e+09</td>\n",
              "      <td>272.250000</td>\n",
              "      <td>7.135425</td>\n",
              "      <td>39.000000</td>\n",
              "      <td>0.239371</td>\n",
              "    </tr>\n",
              "    <tr>\n",
              "      <th>max</th>\n",
              "      <td>699.989990</td>\n",
              "      <td>718.719971</td>\n",
              "      <td>691.119995</td>\n",
              "      <td>705.669983</td>\n",
              "      <td>705.669983</td>\n",
              "      <td>3.046940e+08</td>\n",
              "      <td>705.669983</td>\n",
              "      <td>688.813334</td>\n",
              "      <td>640.711540</td>\n",
              "      <td>3.571193e+09</td>\n",
              "      <td>363.000000</td>\n",
              "      <td>46.235000</td>\n",
              "      <td>272.000000</td>\n",
              "      <td>0.980200</td>\n",
              "    </tr>\n",
              "  </tbody>\n",
              "</table>\n",
              "</div>"
            ],
            "text/plain": [
              "             Open        High         Low  ...    compound       Count     average\n",
              "count  253.000000  253.000000  253.000000  ...  252.000000  252.000000  252.000000\n",
              "mean   289.108428  297.288411  280.697937  ...    5.037606   32.817460    0.144562\n",
              "std    167.665389  171.702889  163.350196  ...    7.139996   36.248567    0.197860\n",
              "min     74.940002   80.972000   70.101997  ...   -4.830000    1.000000   -0.760100\n",
              "25%    148.367996  154.990005  143.222000  ...    0.771500   11.000000    0.065281\n",
              "50%    244.296005  245.600006  237.119995  ...    2.943150   20.000000    0.149701\n",
              "75%    421.390015  430.500000  410.579987  ...    7.135425   39.000000    0.239371\n",
              "max    699.989990  718.719971  691.119995  ...   46.235000  272.000000    0.980200\n",
              "\n",
              "[8 rows x 14 columns]"
            ]
          },
          "metadata": {
            "tags": []
          },
          "execution_count": 9
        }
      ]
    },
    {
      "cell_type": "code",
      "metadata": {
        "id": "jUTQj59FPpdz",
        "colab": {
          "base_uri": "https://localhost:8080/",
          "height": 514
        },
        "outputId": "7a4a93c2-c2db-4d1e-90f3-6cb34e523fc3"
      },
      "source": [
        "# Check for correlation between sentiment and price change\n",
        "df['per_change'] = ((df['Next_close'] - df['Close'])/df['Next_close'])*100\n",
        "df.corr()"
      ],
      "execution_count": null,
      "outputs": [
        {
          "output_type": "execute_result",
          "data": {
            "text/html": [
              "<div>\n",
              "<style scoped>\n",
              "    .dataframe tbody tr th:only-of-type {\n",
              "        vertical-align: middle;\n",
              "    }\n",
              "\n",
              "    .dataframe tbody tr th {\n",
              "        vertical-align: top;\n",
              "    }\n",
              "\n",
              "    .dataframe thead th {\n",
              "        text-align: right;\n",
              "    }\n",
              "</style>\n",
              "<table border=\"1\" class=\"dataframe\">\n",
              "  <thead>\n",
              "    <tr style=\"text-align: right;\">\n",
              "      <th></th>\n",
              "      <th>Open</th>\n",
              "      <th>High</th>\n",
              "      <th>Low</th>\n",
              "      <th>Close</th>\n",
              "      <th>Adj Close</th>\n",
              "      <th>Volume</th>\n",
              "      <th>Next_close</th>\n",
              "      <th>SMA</th>\n",
              "      <th>EMA</th>\n",
              "      <th>obv</th>\n",
              "      <th>Unnamed: 0</th>\n",
              "      <th>compound</th>\n",
              "      <th>Count</th>\n",
              "      <th>average</th>\n",
              "      <th>per_change</th>\n",
              "    </tr>\n",
              "  </thead>\n",
              "  <tbody>\n",
              "    <tr>\n",
              "      <th>Open</th>\n",
              "      <td>1.000000</td>\n",
              "      <td>0.998722</td>\n",
              "      <td>0.998407</td>\n",
              "      <td>0.997204</td>\n",
              "      <td>0.997204</td>\n",
              "      <td>-0.365506</td>\n",
              "      <td>0.993037</td>\n",
              "      <td>0.998032</td>\n",
              "      <td>0.987991</td>\n",
              "      <td>0.949966</td>\n",
              "      <td>0.938420</td>\n",
              "      <td>0.353780</td>\n",
              "      <td>0.287818</td>\n",
              "      <td>0.226523</td>\n",
              "      <td>-0.027249</td>\n",
              "    </tr>\n",
              "    <tr>\n",
              "      <th>High</th>\n",
              "      <td>0.998722</td>\n",
              "      <td>1.000000</td>\n",
              "      <td>0.998116</td>\n",
              "      <td>0.998931</td>\n",
              "      <td>0.998931</td>\n",
              "      <td>-0.347166</td>\n",
              "      <td>0.994442</td>\n",
              "      <td>0.998201</td>\n",
              "      <td>0.987203</td>\n",
              "      <td>0.949572</td>\n",
              "      <td>0.936857</td>\n",
              "      <td>0.368476</td>\n",
              "      <td>0.304465</td>\n",
              "      <td>0.227754</td>\n",
              "      <td>-0.029793</td>\n",
              "    </tr>\n",
              "    <tr>\n",
              "      <th>Low</th>\n",
              "      <td>0.998407</td>\n",
              "      <td>0.998116</td>\n",
              "      <td>1.000000</td>\n",
              "      <td>0.998407</td>\n",
              "      <td>0.998407</td>\n",
              "      <td>-0.383821</td>\n",
              "      <td>0.995062</td>\n",
              "      <td>0.997682</td>\n",
              "      <td>0.988438</td>\n",
              "      <td>0.951300</td>\n",
              "      <td>0.939752</td>\n",
              "      <td>0.348913</td>\n",
              "      <td>0.274825</td>\n",
              "      <td>0.230989</td>\n",
              "      <td>-0.019037</td>\n",
              "    </tr>\n",
              "    <tr>\n",
              "      <th>Close</th>\n",
              "      <td>0.997204</td>\n",
              "      <td>0.998931</td>\n",
              "      <td>0.998407</td>\n",
              "      <td>1.000000</td>\n",
              "      <td>1.000000</td>\n",
              "      <td>-0.360490</td>\n",
              "      <td>0.995523</td>\n",
              "      <td>0.997655</td>\n",
              "      <td>0.986844</td>\n",
              "      <td>0.949292</td>\n",
              "      <td>0.936582</td>\n",
              "      <td>0.363087</td>\n",
              "      <td>0.292673</td>\n",
              "      <td>0.230472</td>\n",
              "      <td>-0.027493</td>\n",
              "    </tr>\n",
              "    <tr>\n",
              "      <th>Adj Close</th>\n",
              "      <td>0.997204</td>\n",
              "      <td>0.998931</td>\n",
              "      <td>0.998407</td>\n",
              "      <td>1.000000</td>\n",
              "      <td>1.000000</td>\n",
              "      <td>-0.360490</td>\n",
              "      <td>0.995523</td>\n",
              "      <td>0.997655</td>\n",
              "      <td>0.986844</td>\n",
              "      <td>0.949292</td>\n",
              "      <td>0.936582</td>\n",
              "      <td>0.363087</td>\n",
              "      <td>0.292673</td>\n",
              "      <td>0.230472</td>\n",
              "      <td>-0.027493</td>\n",
              "    </tr>\n",
              "    <tr>\n",
              "      <th>Volume</th>\n",
              "      <td>-0.365506</td>\n",
              "      <td>-0.347166</td>\n",
              "      <td>-0.383821</td>\n",
              "      <td>-0.360490</td>\n",
              "      <td>-0.360490</td>\n",
              "      <td>1.000000</td>\n",
              "      <td>-0.370728</td>\n",
              "      <td>-0.371831</td>\n",
              "      <td>-0.409523</td>\n",
              "      <td>-0.420621</td>\n",
              "      <td>-0.492280</td>\n",
              "      <td>0.239520</td>\n",
              "      <td>0.493474</td>\n",
              "      <td>-0.119839</td>\n",
              "      <td>-0.125142</td>\n",
              "    </tr>\n",
              "    <tr>\n",
              "      <th>Next_close</th>\n",
              "      <td>0.993037</td>\n",
              "      <td>0.994442</td>\n",
              "      <td>0.995062</td>\n",
              "      <td>0.995523</td>\n",
              "      <td>0.995523</td>\n",
              "      <td>-0.370728</td>\n",
              "      <td>1.000000</td>\n",
              "      <td>0.993467</td>\n",
              "      <td>0.983348</td>\n",
              "      <td>0.944457</td>\n",
              "      <td>0.936461</td>\n",
              "      <td>0.359752</td>\n",
              "      <td>0.286989</td>\n",
              "      <td>0.227319</td>\n",
              "      <td>0.052469</td>\n",
              "    </tr>\n",
              "    <tr>\n",
              "      <th>SMA</th>\n",
              "      <td>0.998032</td>\n",
              "      <td>0.998201</td>\n",
              "      <td>0.997682</td>\n",
              "      <td>0.997655</td>\n",
              "      <td>0.997655</td>\n",
              "      <td>-0.371831</td>\n",
              "      <td>0.993467</td>\n",
              "      <td>1.000000</td>\n",
              "      <td>0.990876</td>\n",
              "      <td>0.949680</td>\n",
              "      <td>0.938302</td>\n",
              "      <td>0.349708</td>\n",
              "      <td>0.284272</td>\n",
              "      <td>0.226620</td>\n",
              "      <td>-0.026842</td>\n",
              "    </tr>\n",
              "    <tr>\n",
              "      <th>EMA</th>\n",
              "      <td>0.987991</td>\n",
              "      <td>0.987203</td>\n",
              "      <td>0.988438</td>\n",
              "      <td>0.986844</td>\n",
              "      <td>0.986844</td>\n",
              "      <td>-0.409523</td>\n",
              "      <td>0.983348</td>\n",
              "      <td>0.990876</td>\n",
              "      <td>1.000000</td>\n",
              "      <td>0.953448</td>\n",
              "      <td>0.949993</td>\n",
              "      <td>0.292217</td>\n",
              "      <td>0.222146</td>\n",
              "      <td>0.225179</td>\n",
              "      <td>-0.022396</td>\n",
              "    </tr>\n",
              "    <tr>\n",
              "      <th>obv</th>\n",
              "      <td>0.949966</td>\n",
              "      <td>0.949572</td>\n",
              "      <td>0.951300</td>\n",
              "      <td>0.949292</td>\n",
              "      <td>0.949292</td>\n",
              "      <td>-0.420621</td>\n",
              "      <td>0.944457</td>\n",
              "      <td>0.949680</td>\n",
              "      <td>0.953448</td>\n",
              "      <td>1.000000</td>\n",
              "      <td>0.963856</td>\n",
              "      <td>0.277611</td>\n",
              "      <td>0.212706</td>\n",
              "      <td>0.201260</td>\n",
              "      <td>-0.048705</td>\n",
              "    </tr>\n",
              "    <tr>\n",
              "      <th>Unnamed: 0</th>\n",
              "      <td>0.938420</td>\n",
              "      <td>0.936857</td>\n",
              "      <td>0.939752</td>\n",
              "      <td>0.936582</td>\n",
              "      <td>0.936582</td>\n",
              "      <td>-0.492280</td>\n",
              "      <td>0.936461</td>\n",
              "      <td>0.938302</td>\n",
              "      <td>0.949993</td>\n",
              "      <td>0.963856</td>\n",
              "      <td>1.000000</td>\n",
              "      <td>0.265915</td>\n",
              "      <td>0.165457</td>\n",
              "      <td>0.220301</td>\n",
              "      <td>0.012886</td>\n",
              "    </tr>\n",
              "    <tr>\n",
              "      <th>compound</th>\n",
              "      <td>0.353780</td>\n",
              "      <td>0.368476</td>\n",
              "      <td>0.348913</td>\n",
              "      <td>0.363087</td>\n",
              "      <td>0.363087</td>\n",
              "      <td>0.239520</td>\n",
              "      <td>0.359752</td>\n",
              "      <td>0.349708</td>\n",
              "      <td>0.292217</td>\n",
              "      <td>0.277611</td>\n",
              "      <td>0.265915</td>\n",
              "      <td>1.000000</td>\n",
              "      <td>0.775240</td>\n",
              "      <td>0.407607</td>\n",
              "      <td>-0.028095</td>\n",
              "    </tr>\n",
              "    <tr>\n",
              "      <th>Count</th>\n",
              "      <td>0.287818</td>\n",
              "      <td>0.304465</td>\n",
              "      <td>0.274825</td>\n",
              "      <td>0.292673</td>\n",
              "      <td>0.292673</td>\n",
              "      <td>0.493474</td>\n",
              "      <td>0.286989</td>\n",
              "      <td>0.284272</td>\n",
              "      <td>0.222146</td>\n",
              "      <td>0.212706</td>\n",
              "      <td>0.165457</td>\n",
              "      <td>0.775240</td>\n",
              "      <td>1.000000</td>\n",
              "      <td>0.041077</td>\n",
              "      <td>-0.104854</td>\n",
              "    </tr>\n",
              "    <tr>\n",
              "      <th>average</th>\n",
              "      <td>0.226523</td>\n",
              "      <td>0.227754</td>\n",
              "      <td>0.230989</td>\n",
              "      <td>0.230472</td>\n",
              "      <td>0.230472</td>\n",
              "      <td>-0.119839</td>\n",
              "      <td>0.227319</td>\n",
              "      <td>0.226620</td>\n",
              "      <td>0.225179</td>\n",
              "      <td>0.201260</td>\n",
              "      <td>0.220301</td>\n",
              "      <td>0.407607</td>\n",
              "      <td>0.041077</td>\n",
              "      <td>1.000000</td>\n",
              "      <td>0.035183</td>\n",
              "    </tr>\n",
              "    <tr>\n",
              "      <th>per_change</th>\n",
              "      <td>-0.027249</td>\n",
              "      <td>-0.029793</td>\n",
              "      <td>-0.019037</td>\n",
              "      <td>-0.027493</td>\n",
              "      <td>-0.027493</td>\n",
              "      <td>-0.125142</td>\n",
              "      <td>0.052469</td>\n",
              "      <td>-0.026842</td>\n",
              "      <td>-0.022396</td>\n",
              "      <td>-0.048705</td>\n",
              "      <td>0.012886</td>\n",
              "      <td>-0.028095</td>\n",
              "      <td>-0.104854</td>\n",
              "      <td>0.035183</td>\n",
              "      <td>1.000000</td>\n",
              "    </tr>\n",
              "  </tbody>\n",
              "</table>\n",
              "</div>"
            ],
            "text/plain": [
              "                Open      High       Low  ...     Count   average  per_change\n",
              "Open        1.000000  0.998722  0.998407  ...  0.287818  0.226523   -0.027249\n",
              "High        0.998722  1.000000  0.998116  ...  0.304465  0.227754   -0.029793\n",
              "Low         0.998407  0.998116  1.000000  ...  0.274825  0.230989   -0.019037\n",
              "Close       0.997204  0.998931  0.998407  ...  0.292673  0.230472   -0.027493\n",
              "Adj Close   0.997204  0.998931  0.998407  ...  0.292673  0.230472   -0.027493\n",
              "Volume     -0.365506 -0.347166 -0.383821  ...  0.493474 -0.119839   -0.125142\n",
              "Next_close  0.993037  0.994442  0.995062  ...  0.286989  0.227319    0.052469\n",
              "SMA         0.998032  0.998201  0.997682  ...  0.284272  0.226620   -0.026842\n",
              "EMA         0.987991  0.987203  0.988438  ...  0.222146  0.225179   -0.022396\n",
              "obv         0.949966  0.949572  0.951300  ...  0.212706  0.201260   -0.048705\n",
              "Unnamed: 0  0.938420  0.936857  0.939752  ...  0.165457  0.220301    0.012886\n",
              "compound    0.353780  0.368476  0.348913  ...  0.775240  0.407607   -0.028095\n",
              "Count       0.287818  0.304465  0.274825  ...  1.000000  0.041077   -0.104854\n",
              "average     0.226523  0.227754  0.230989  ...  0.041077  1.000000    0.035183\n",
              "per_change -0.027249 -0.029793 -0.019037  ... -0.104854  0.035183    1.000000\n",
              "\n",
              "[15 rows x 15 columns]"
            ]
          },
          "metadata": {
            "tags": []
          },
          "execution_count": 10
        }
      ]
    },
    {
      "cell_type": "code",
      "metadata": {
        "id": "3oQbDPVjUrJr",
        "colab": {
          "base_uri": "https://localhost:8080/",
          "height": 647
        },
        "outputId": "71e36576-692b-4237-cde2-5640192477fb"
      },
      "source": [
        "#Using Pearson Correlation\n",
        "plt.figure(figsize=(12,10))\n",
        "cor = df.corr()\n",
        "sns.heatmap(cor, annot=True, cmap=plt.cm.Reds)\n",
        "plt.show()"
      ],
      "execution_count": null,
      "outputs": [
        {
          "output_type": "display_data",
          "data": {
            "image/png": "[encoded data removed]",
            "text/plain": [
              "<Figure size 864x720 with 2 Axes>"
            ]
          },
          "metadata": {
            "tags": [],
            "needs_background": "light"
          }
        }
      ]
    },
    {
      "cell_type": "code",
      "metadata": {
        "id": "KGZp_WSmquTx"
      },
      "source": [
        "df = df[['Next_close','Close','Volume','Open','High','Low', \"SMA\", 'EMA', 'obv', 'average']]"
      ],
      "execution_count": null,
      "outputs": []
    },
    {
      "cell_type": "code",
      "metadata": {
        "id": "r7FYcbAPdye0",
        "colab": {
          "base_uri": "https://localhost:8080/"
        },
        "outputId": "4866ceaf-db29-44e8-adb4-8d4054dba9b8"
      },
      "source": [
        "# Scale data with MinMaxScaler\n",
        "# define min max scaler\n",
        "scaler = MinMaxScaler()\n",
        "\n",
        "# Data Loader Parameters\n",
        "BATCH_SIZE = 2       # Factors of 202 (train size):   1, 2, 101\n",
        "BUFFER_SIZE = 20\n",
        "TRAIN_SPLIT = round(len(df)*0.8)  # 80-20 train-test split \n",
        "print(TRAIN_SPLIT) # Batches should be factor of train size\n",
        "\n",
        "# LSTM Parameters\n",
        "EVALUATION_INTERVAL = 20   \n",
        "EPOCHS = 500 # Early stopping implemented, so this can be artbitrarily high and still work\n",
        "PATIENCE = 10  # number of epochs to wait before early stop if no progress on the validation set. # Tested this out with other values 3 and 5"
      ],
      "execution_count": null,
      "outputs": [
        {
          "output_type": "stream",
          "text": [
            "202\n"
          ],
          "name": "stdout"
        }
      ]
    },
    {
      "cell_type": "markdown",
      "metadata": {
        "id": "YRm0VWX-_ryu"
      },
      "source": [
        "**Scaling the Data**\n",
        "\n",
        "The values in our datset are of different scales which can increase the difficulty of the problem being modeled. The volume of traders per day is much higher than the value for the previous day's high, open, etc. This high value mayresult in a model that learns large weight values. A model with large weight values is often unstable, meaning that it may suffer from poor performance during learning and sensitivity to input values resulting in higher generalization error. For this reason we scale our data before proceeding\n",
        "\n",
        "MinMaxScaler() subtracts the minimum value in the feature and then divides by the range. The range is the difference between the original maximum and original minimum. This scaling method preserves the shape of the original distribution. It doesn't meaningfully change the information embedded in the original data. Note that MinMaxScaler doesn't reduce the importance of outliers. The default range for the feature returned by MinMaxScaler is 0 to 1\n"
      ]
    },
    {
      "cell_type": "code",
      "metadata": {
        "id": "SPSMXoLPt4E0"
      },
      "source": [
        "# Scaled data with MinMaxScaler\n",
        " # from pandas df to array of values\n",
        "data = df.values\n",
        "# define min max scaler\n",
        "scaler = MinMaxScaler()\n",
        "# transform data\n",
        "dataset = scaler.fit_transform(data)"
      ],
      "execution_count": null,
      "outputs": []
    },
    {
      "cell_type": "code",
      "metadata": {
        "id": "BNiNjLJshQuC"
      },
      "source": [
        "# Split into endogenous and exogenous \n",
        "X = dataset[:,1:]\n",
        "y = dataset[:, 0]\n"
      ],
      "execution_count": null,
      "outputs": []
    },
    {
      "cell_type": "markdown",
      "metadata": {
        "id": "Mz_9KSrthznt"
      },
      "source": [
        "# LSTM Model"
      ]
    },
    {
      "cell_type": "code",
      "metadata": {
        "id": "Amw1KZBDrAVT"
      },
      "source": [
        "# This was taken from the book Deep Learning with Python by François Chollet \n",
        "\n",
        "def multivariate_data(dataset, target, start_index, end_index, history_size,\n",
        "                      target_size, step, single_step=False):\n",
        "    data = []\n",
        "    labels = []\n",
        "\n",
        "    start_index = start_index + history_size\n",
        "    if end_index is None:\n",
        "        end_index = len(dataset) - target_size\n",
        "\n",
        "    for i in range(start_index, end_index):\n",
        "        indices = range(i-history_size, i, step)\n",
        "        data.append(dataset[indices])\n",
        "\n",
        "        if single_step:\n",
        "            labels.append(target[i+target_size])\n",
        "        else:\n",
        "            labels.append(target[i:i+target_size])\n",
        "\n",
        "    return np.array(data), np.array(labels)"
      ],
      "execution_count": null,
      "outputs": []
    },
    {
      "cell_type": "code",
      "metadata": {
        "id": "tik9qZyDrAYN"
      },
      "source": [
        "past_history = 20    # How far back the model looks\n",
        "future_target = 1 # this analysis is concerned with 1 step (hour/day) into the future\n",
        "STEP = 1    \n",
        "\n",
        "x_train_model, y_train_model = multivariate_data(X,y, 0,\n",
        "                                                   TRAIN_SPLIT, past_history,\n",
        "                                                   future_target, STEP,\n",
        "                                                   single_step=True)\n",
        "x_val_model, y_val_model = multivariate_data(X,y, 0,\n",
        "                                                   TRAIN_SPLIT, past_history,\n",
        "                                                   future_target, STEP,\n",
        "                                                   single_step=True)"
      ],
      "execution_count": null,
      "outputs": []
    },
    {
      "cell_type": "code",
      "metadata": {
        "id": "zSLSBWrarAaT",
        "colab": {
          "base_uri": "https://localhost:8080/"
        },
        "outputId": "4110ce5d-7adf-4a2b-8583-560c3fe468af"
      },
      "source": [
        "print ('Window of past history : {}'.format(x_train_model[0].shape))\n"
      ],
      "execution_count": null,
      "outputs": [
        {
          "output_type": "stream",
          "text": [
            "(182, 20, 9)\n",
            "Window of past history : (20, 9)\n",
            "(20, 9)\n"
          ],
          "name": "stdout"
        }
      ]
    },
    {
      "cell_type": "code",
      "metadata": {
        "id": "r5TRl-6TrAgm"
      },
      "source": [
        "train_data_model = tf.data.Dataset.from_tensor_slices((x_train_model, y_train_model))\n",
        "train_data_model = train_data_model.cache().shuffle(BUFFER_SIZE).batch(BATCH_SIZE).repeat() \n",
        "val_data_model = tf.data.Dataset.from_tensor_slices((x_val_model, y_val_model))\n",
        "val_data_model = val_data_model.cache().shuffle(BUFFER_SIZE).batch(BATCH_SIZE).repeat()  ##Shuffle with buffer"
      ],
      "execution_count": null,
      "outputs": []
    },
    {
      "cell_type": "code",
      "metadata": {
        "id": "odS1BDbxsKVY"
      },
      "source": [
        "model = tf.keras.models.Sequential()\n",
        "model.add(tf.keras.layers.LSTM(4,    # Capacity best out of:2, 8, 32\n",
        "                                           kernel_regularizer = regularizers.l2(0.001), # Regularization - fight overfitting\n",
        "                                           input_shape=x_train_model.shape[-2:]))    # LSTM layer with input shape of x_train_model.shape[-2:]\n",
        "model.add(tf.keras.layers.Dropout(0.2))   # Add dropout rate\n",
        "model.add(tf.keras.layers.Dense(1)) # activation = sigmoid? Because I have normalised it to be between -1 and 1? Or no activation?\n",
        "\n",
        "model.compile(optimizer='adam', loss='mean_squared_error',  metrics=['mean_absolute_error', 'mape']) #adam said to be best in CV\n"
      ],
      "execution_count": null,
      "outputs": []
    },
    {
      "cell_type": "code",
      "metadata": {
        "id": "plKjEXwUela0"
      },
      "source": [
        "# Grid Search\n",
        "# This build classifier and KerasClassifer step is taken from https://machinelearningmastery.com/use-keras-deep-learning-models-scikit-learn-python/. It is a wrapped which allows the use of Sklearn CV with Keras\n",
        "\n",
        "def build_classifier(optimizer, dropout_rate):\n",
        "  model = tf.keras.models.Sequential()\n",
        "  model.add(tf.keras.layers.LSTM(4,    # Capacity best out of:2, 8, 32\n",
        "                                 kernel_regularizer = regularizers.l2(0.001), # Regularization - fight overfitting\n",
        "                                 input_shape=x_train_model.shape[-2:]))    # LSTM layer with input shape of x_train_model.shape[-2:]\n",
        "  model.add(tf.keras.layers.Dropout(0.2))   # Add dropout rate\n",
        "  model.add(tf.keras.layers.Dense(1)) # activation = sigmoid? Because I have normalised it to be between -1 and 1? Or no activation?\n",
        "  model.compile(optimizer=tf.keras.optimizers.RMSprop(), loss='mean_squared_error',  metrics=['mean_absolute_error', 'mape']) #\n",
        "  return model\n",
        "\n",
        "grid_model = KerasClassifier(build_fn=build_classifier)\n",
        "parameters = {'batch_size' : [ 1, 2, 101],\n",
        "              'optimizer' : ['adam','RMSprop'],\n",
        "              'dropout_rate' : [0.0, 0.1, 0.2],  #What is 'forgotten' - important to avoid overfitting\n",
        "}\n",
        "\n",
        "grid_search  = GridSearchCV(estimator = grid_model,\n",
        "                            param_grid = parameters,\n",
        "                            scoring = 'neg_mean_squared_error',\n",
        "                            cv = 2)"
      ],
      "execution_count": null,
      "outputs": []
    },
    {
      "cell_type": "code",
      "metadata": {
        "id": "H_5cpavOfdNr",
        "colab": {
          "base_uri": "https://localhost:8080/"
        },
        "outputId": "3cf7dae2-e68e-4b24-d516-c6b9aa4a79e6"
      },
      "source": [
        "#GridSearchCV\n",
        "grid_search = grid_search.fit(x_train_model, y_train_model)"
      ],
      "execution_count": null,
      "outputs": [
        {
          "output_type": "stream",
          "text": [
            "91/91 [==============================] - 2s 5ms/step - loss: nan - mean_absolute_error: nan - mape: nan\n"
          ],
          "name": "stdout"
        },
        {
          "output_type": "stream",
          "text": [
            "/usr/local/lib/python3.7/dist-packages/tensorflow/python/keras/engine/sequential.py:455: UserWarning: `model.predict_classes()` is deprecated and will be removed after 2021-01-01. Please use instead:* `np.argmax(model.predict(x), axis=-1)`,   if your model does multi-class classification   (e.g. if it uses a `softmax` last-layer activation).* `(model.predict(x) > 0.5).astype(\"int32\")`,   if your model does binary classification   (e.g. if it uses a `sigmoid` last-layer activation).\n",
            "  warnings.warn('`model.predict_classes()` is deprecated and '\n"
          ],
          "name": "stderr"
        },
        {
          "output_type": "stream",
          "text": [
            "91/91 [==============================] - 2s 4ms/step - loss: nan - mean_absolute_error: nan - mape: nan\n"
          ],
          "name": "stdout"
        },
        {
          "output_type": "stream",
          "text": [
            "/usr/local/lib/python3.7/dist-packages/tensorflow/python/keras/engine/sequential.py:455: UserWarning: `model.predict_classes()` is deprecated and will be removed after 2021-01-01. Please use instead:* `np.argmax(model.predict(x), axis=-1)`,   if your model does multi-class classification   (e.g. if it uses a `softmax` last-layer activation).* `(model.predict(x) > 0.5).astype(\"int32\")`,   if your model does binary classification   (e.g. if it uses a `sigmoid` last-layer activation).\n",
            "  warnings.warn('`model.predict_classes()` is deprecated and '\n"
          ],
          "name": "stderr"
        },
        {
          "output_type": "stream",
          "text": [
            "91/91 [==============================] - 2s 4ms/step - loss: nan - mean_absolute_error: nan - mape: nan\n"
          ],
          "name": "stdout"
        },
        {
          "output_type": "stream",
          "text": [
            "/usr/local/lib/python3.7/dist-packages/tensorflow/python/keras/engine/sequential.py:455: UserWarning: `model.predict_classes()` is deprecated and will be removed after 2021-01-01. Please use instead:* `np.argmax(model.predict(x), axis=-1)`,   if your model does multi-class classification   (e.g. if it uses a `softmax` last-layer activation).* `(model.predict(x) > 0.5).astype(\"int32\")`,   if your model does binary classification   (e.g. if it uses a `sigmoid` last-layer activation).\n",
            "  warnings.warn('`model.predict_classes()` is deprecated and '\n"
          ],
          "name": "stderr"
        },
        {
          "output_type": "stream",
          "text": [
            "91/91 [==============================] - 2s 5ms/step - loss: nan - mean_absolute_error: nan - mape: nan\n"
          ],
          "name": "stdout"
        },
        {
          "output_type": "stream",
          "text": [
            "/usr/local/lib/python3.7/dist-packages/tensorflow/python/keras/engine/sequential.py:455: UserWarning: `model.predict_classes()` is deprecated and will be removed after 2021-01-01. Please use instead:* `np.argmax(model.predict(x), axis=-1)`,   if your model does multi-class classification   (e.g. if it uses a `softmax` last-layer activation).* `(model.predict(x) > 0.5).astype(\"int32\")`,   if your model does binary classification   (e.g. if it uses a `sigmoid` last-layer activation).\n",
            "  warnings.warn('`model.predict_classes()` is deprecated and '\n"
          ],
          "name": "stderr"
        },
        {
          "output_type": "stream",
          "text": [
            "91/91 [==============================] - 2s 4ms/step - loss: nan - mean_absolute_error: nan - mape: nan\n"
          ],
          "name": "stdout"
        },
        {
          "output_type": "stream",
          "text": [
            "/usr/local/lib/python3.7/dist-packages/tensorflow/python/keras/engine/sequential.py:455: UserWarning: `model.predict_classes()` is deprecated and will be removed after 2021-01-01. Please use instead:* `np.argmax(model.predict(x), axis=-1)`,   if your model does multi-class classification   (e.g. if it uses a `softmax` last-layer activation).* `(model.predict(x) > 0.5).astype(\"int32\")`,   if your model does binary classification   (e.g. if it uses a `sigmoid` last-layer activation).\n",
            "  warnings.warn('`model.predict_classes()` is deprecated and '\n"
          ],
          "name": "stderr"
        },
        {
          "output_type": "stream",
          "text": [
            "91/91 [==============================] - 2s 5ms/step - loss: nan - mean_absolute_error: nan - mape: nan\n"
          ],
          "name": "stdout"
        },
        {
          "output_type": "stream",
          "text": [
            "/usr/local/lib/python3.7/dist-packages/tensorflow/python/keras/engine/sequential.py:455: UserWarning: `model.predict_classes()` is deprecated and will be removed after 2021-01-01. Please use instead:* `np.argmax(model.predict(x), axis=-1)`,   if your model does multi-class classification   (e.g. if it uses a `softmax` last-layer activation).* `(model.predict(x) > 0.5).astype(\"int32\")`,   if your model does binary classification   (e.g. if it uses a `sigmoid` last-layer activation).\n",
            "  warnings.warn('`model.predict_classes()` is deprecated and '\n"
          ],
          "name": "stderr"
        },
        {
          "output_type": "stream",
          "text": [
            "91/91 [==============================] - 2s 4ms/step - loss: nan - mean_absolute_error: nan - mape: nan\n"
          ],
          "name": "stdout"
        },
        {
          "output_type": "stream",
          "text": [
            "/usr/local/lib/python3.7/dist-packages/tensorflow/python/keras/engine/sequential.py:455: UserWarning: `model.predict_classes()` is deprecated and will be removed after 2021-01-01. Please use instead:* `np.argmax(model.predict(x), axis=-1)`,   if your model does multi-class classification   (e.g. if it uses a `softmax` last-layer activation).* `(model.predict(x) > 0.5).astype(\"int32\")`,   if your model does binary classification   (e.g. if it uses a `sigmoid` last-layer activation).\n",
            "  warnings.warn('`model.predict_classes()` is deprecated and '\n"
          ],
          "name": "stderr"
        },
        {
          "output_type": "stream",
          "text": [
            "91/91 [==============================] - 2s 5ms/step - loss: nan - mean_absolute_error: nan - mape: nan\n"
          ],
          "name": "stdout"
        },
        {
          "output_type": "stream",
          "text": [
            "/usr/local/lib/python3.7/dist-packages/tensorflow/python/keras/engine/sequential.py:455: UserWarning: `model.predict_classes()` is deprecated and will be removed after 2021-01-01. Please use instead:* `np.argmax(model.predict(x), axis=-1)`,   if your model does multi-class classification   (e.g. if it uses a `softmax` last-layer activation).* `(model.predict(x) > 0.5).astype(\"int32\")`,   if your model does binary classification   (e.g. if it uses a `sigmoid` last-layer activation).\n",
            "  warnings.warn('`model.predict_classes()` is deprecated and '\n"
          ],
          "name": "stderr"
        },
        {
          "output_type": "stream",
          "text": [
            "91/91 [==============================] - 2s 4ms/step - loss: nan - mean_absolute_error: nan - mape: nan\n"
          ],
          "name": "stdout"
        },
        {
          "output_type": "stream",
          "text": [
            "/usr/local/lib/python3.7/dist-packages/tensorflow/python/keras/engine/sequential.py:455: UserWarning: `model.predict_classes()` is deprecated and will be removed after 2021-01-01. Please use instead:* `np.argmax(model.predict(x), axis=-1)`,   if your model does multi-class classification   (e.g. if it uses a `softmax` last-layer activation).* `(model.predict(x) > 0.5).astype(\"int32\")`,   if your model does binary classification   (e.g. if it uses a `sigmoid` last-layer activation).\n",
            "  warnings.warn('`model.predict_classes()` is deprecated and '\n"
          ],
          "name": "stderr"
        },
        {
          "output_type": "stream",
          "text": [
            "91/91 [==============================] - 2s 4ms/step - loss: nan - mean_absolute_error: nan - mape: nan\n"
          ],
          "name": "stdout"
        },
        {
          "output_type": "stream",
          "text": [
            "/usr/local/lib/python3.7/dist-packages/tensorflow/python/keras/engine/sequential.py:455: UserWarning: `model.predict_classes()` is deprecated and will be removed after 2021-01-01. Please use instead:* `np.argmax(model.predict(x), axis=-1)`,   if your model does multi-class classification   (e.g. if it uses a `softmax` last-layer activation).* `(model.predict(x) > 0.5).astype(\"int32\")`,   if your model does binary classification   (e.g. if it uses a `sigmoid` last-layer activation).\n",
            "  warnings.warn('`model.predict_classes()` is deprecated and '\n"
          ],
          "name": "stderr"
        },
        {
          "output_type": "stream",
          "text": [
            "91/91 [==============================] - 2s 4ms/step - loss: nan - mean_absolute_error: nan - mape: nan\n"
          ],
          "name": "stdout"
        },
        {
          "output_type": "stream",
          "text": [
            "/usr/local/lib/python3.7/dist-packages/tensorflow/python/keras/engine/sequential.py:455: UserWarning: `model.predict_classes()` is deprecated and will be removed after 2021-01-01. Please use instead:* `np.argmax(model.predict(x), axis=-1)`,   if your model does multi-class classification   (e.g. if it uses a `softmax` last-layer activation).* `(model.predict(x) > 0.5).astype(\"int32\")`,   if your model does binary classification   (e.g. if it uses a `sigmoid` last-layer activation).\n",
            "  warnings.warn('`model.predict_classes()` is deprecated and '\n"
          ],
          "name": "stderr"
        },
        {
          "output_type": "stream",
          "text": [
            "91/91 [==============================] - 2s 4ms/step - loss: nan - mean_absolute_error: nan - mape: nan\n"
          ],
          "name": "stdout"
        },
        {
          "output_type": "stream",
          "text": [
            "/usr/local/lib/python3.7/dist-packages/tensorflow/python/keras/engine/sequential.py:455: UserWarning: `model.predict_classes()` is deprecated and will be removed after 2021-01-01. Please use instead:* `np.argmax(model.predict(x), axis=-1)`,   if your model does multi-class classification   (e.g. if it uses a `softmax` last-layer activation).* `(model.predict(x) > 0.5).astype(\"int32\")`,   if your model does binary classification   (e.g. if it uses a `sigmoid` last-layer activation).\n",
            "  warnings.warn('`model.predict_classes()` is deprecated and '\n"
          ],
          "name": "stderr"
        },
        {
          "output_type": "stream",
          "text": [
            "46/46 [==============================] - 3s 8ms/step - loss: nan - mean_absolute_error: nan - mape: nan\n"
          ],
          "name": "stdout"
        },
        {
          "output_type": "stream",
          "text": [
            "/usr/local/lib/python3.7/dist-packages/tensorflow/python/keras/engine/sequential.py:455: UserWarning: `model.predict_classes()` is deprecated and will be removed after 2021-01-01. Please use instead:* `np.argmax(model.predict(x), axis=-1)`,   if your model does multi-class classification   (e.g. if it uses a `softmax` last-layer activation).* `(model.predict(x) > 0.5).astype(\"int32\")`,   if your model does binary classification   (e.g. if it uses a `sigmoid` last-layer activation).\n",
            "  warnings.warn('`model.predict_classes()` is deprecated and '\n"
          ],
          "name": "stderr"
        },
        {
          "output_type": "stream",
          "text": [
            "46/46 [==============================] - 2s 8ms/step - loss: nan - mean_absolute_error: nan - mape: nan\n"
          ],
          "name": "stdout"
        },
        {
          "output_type": "stream",
          "text": [
            "/usr/local/lib/python3.7/dist-packages/tensorflow/python/keras/engine/sequential.py:455: UserWarning: `model.predict_classes()` is deprecated and will be removed after 2021-01-01. Please use instead:* `np.argmax(model.predict(x), axis=-1)`,   if your model does multi-class classification   (e.g. if it uses a `softmax` last-layer activation).* `(model.predict(x) > 0.5).astype(\"int32\")`,   if your model does binary classification   (e.g. if it uses a `sigmoid` last-layer activation).\n",
            "  warnings.warn('`model.predict_classes()` is deprecated and '\n"
          ],
          "name": "stderr"
        },
        {
          "output_type": "stream",
          "text": [
            "46/46 [==============================] - 2s 8ms/step - loss: nan - mean_absolute_error: nan - mape: nan\n"
          ],
          "name": "stdout"
        },
        {
          "output_type": "stream",
          "text": [
            "/usr/local/lib/python3.7/dist-packages/tensorflow/python/keras/engine/sequential.py:455: UserWarning: `model.predict_classes()` is deprecated and will be removed after 2021-01-01. Please use instead:* `np.argmax(model.predict(x), axis=-1)`,   if your model does multi-class classification   (e.g. if it uses a `softmax` last-layer activation).* `(model.predict(x) > 0.5).astype(\"int32\")`,   if your model does binary classification   (e.g. if it uses a `sigmoid` last-layer activation).\n",
            "  warnings.warn('`model.predict_classes()` is deprecated and '\n"
          ],
          "name": "stderr"
        },
        {
          "output_type": "stream",
          "text": [
            "46/46 [==============================] - 2s 8ms/step - loss: nan - mean_absolute_error: nan - mape: nan\n"
          ],
          "name": "stdout"
        },
        {
          "output_type": "stream",
          "text": [
            "/usr/local/lib/python3.7/dist-packages/tensorflow/python/keras/engine/sequential.py:455: UserWarning: `model.predict_classes()` is deprecated and will be removed after 2021-01-01. Please use instead:* `np.argmax(model.predict(x), axis=-1)`,   if your model does multi-class classification   (e.g. if it uses a `softmax` last-layer activation).* `(model.predict(x) > 0.5).astype(\"int32\")`,   if your model does binary classification   (e.g. if it uses a `sigmoid` last-layer activation).\n",
            "  warnings.warn('`model.predict_classes()` is deprecated and '\n"
          ],
          "name": "stderr"
        },
        {
          "output_type": "stream",
          "text": [
            "46/46 [==============================] - 2s 9ms/step - loss: nan - mean_absolute_error: nan - mape: nan\n"
          ],
          "name": "stdout"
        },
        {
          "output_type": "stream",
          "text": [
            "/usr/local/lib/python3.7/dist-packages/tensorflow/python/keras/engine/sequential.py:455: UserWarning: `model.predict_classes()` is deprecated and will be removed after 2021-01-01. Please use instead:* `np.argmax(model.predict(x), axis=-1)`,   if your model does multi-class classification   (e.g. if it uses a `softmax` last-layer activation).* `(model.predict(x) > 0.5).astype(\"int32\")`,   if your model does binary classification   (e.g. if it uses a `sigmoid` last-layer activation).\n",
            "  warnings.warn('`model.predict_classes()` is deprecated and '\n"
          ],
          "name": "stderr"
        },
        {
          "output_type": "stream",
          "text": [
            "46/46 [==============================] - 3s 8ms/step - loss: nan - mean_absolute_error: nan - mape: nan\n"
          ],
          "name": "stdout"
        },
        {
          "output_type": "stream",
          "text": [
            "/usr/local/lib/python3.7/dist-packages/tensorflow/python/keras/engine/sequential.py:455: UserWarning: `model.predict_classes()` is deprecated and will be removed after 2021-01-01. Please use instead:* `np.argmax(model.predict(x), axis=-1)`,   if your model does multi-class classification   (e.g. if it uses a `softmax` last-layer activation).* `(model.predict(x) > 0.5).astype(\"int32\")`,   if your model does binary classification   (e.g. if it uses a `sigmoid` last-layer activation).\n",
            "  warnings.warn('`model.predict_classes()` is deprecated and '\n"
          ],
          "name": "stderr"
        },
        {
          "output_type": "stream",
          "text": [
            "46/46 [==============================] - 2s 8ms/step - loss: nan - mean_absolute_error: nan - mape: nan\n"
          ],
          "name": "stdout"
        },
        {
          "output_type": "stream",
          "text": [
            "/usr/local/lib/python3.7/dist-packages/tensorflow/python/keras/engine/sequential.py:455: UserWarning: `model.predict_classes()` is deprecated and will be removed after 2021-01-01. Please use instead:* `np.argmax(model.predict(x), axis=-1)`,   if your model does multi-class classification   (e.g. if it uses a `softmax` last-layer activation).* `(model.predict(x) > 0.5).astype(\"int32\")`,   if your model does binary classification   (e.g. if it uses a `sigmoid` last-layer activation).\n",
            "  warnings.warn('`model.predict_classes()` is deprecated and '\n"
          ],
          "name": "stderr"
        },
        {
          "output_type": "stream",
          "text": [
            "46/46 [==============================] - 2s 8ms/step - loss: nan - mean_absolute_error: nan - mape: nan\n"
          ],
          "name": "stdout"
        },
        {
          "output_type": "stream",
          "text": [
            "/usr/local/lib/python3.7/dist-packages/tensorflow/python/keras/engine/sequential.py:455: UserWarning: `model.predict_classes()` is deprecated and will be removed after 2021-01-01. Please use instead:* `np.argmax(model.predict(x), axis=-1)`,   if your model does multi-class classification   (e.g. if it uses a `softmax` last-layer activation).* `(model.predict(x) > 0.5).astype(\"int32\")`,   if your model does binary classification   (e.g. if it uses a `sigmoid` last-layer activation).\n",
            "  warnings.warn('`model.predict_classes()` is deprecated and '\n"
          ],
          "name": "stderr"
        },
        {
          "output_type": "stream",
          "text": [
            "46/46 [==============================] - 2s 9ms/step - loss: nan - mean_absolute_error: nan - mape: nan\n"
          ],
          "name": "stdout"
        },
        {
          "output_type": "stream",
          "text": [
            "/usr/local/lib/python3.7/dist-packages/tensorflow/python/keras/engine/sequential.py:455: UserWarning: `model.predict_classes()` is deprecated and will be removed after 2021-01-01. Please use instead:* `np.argmax(model.predict(x), axis=-1)`,   if your model does multi-class classification   (e.g. if it uses a `softmax` last-layer activation).* `(model.predict(x) > 0.5).astype(\"int32\")`,   if your model does binary classification   (e.g. if it uses a `sigmoid` last-layer activation).\n",
            "  warnings.warn('`model.predict_classes()` is deprecated and '\n"
          ],
          "name": "stderr"
        },
        {
          "output_type": "stream",
          "text": [
            "46/46 [==============================] - 2s 8ms/step - loss: nan - mean_absolute_error: nan - mape: nan\n"
          ],
          "name": "stdout"
        },
        {
          "output_type": "stream",
          "text": [
            "/usr/local/lib/python3.7/dist-packages/tensorflow/python/keras/engine/sequential.py:455: UserWarning: `model.predict_classes()` is deprecated and will be removed after 2021-01-01. Please use instead:* `np.argmax(model.predict(x), axis=-1)`,   if your model does multi-class classification   (e.g. if it uses a `softmax` last-layer activation).* `(model.predict(x) > 0.5).astype(\"int32\")`,   if your model does binary classification   (e.g. if it uses a `sigmoid` last-layer activation).\n",
            "  warnings.warn('`model.predict_classes()` is deprecated and '\n"
          ],
          "name": "stderr"
        },
        {
          "output_type": "stream",
          "text": [
            "46/46 [==============================] - 3s 9ms/step - loss: nan - mean_absolute_error: nan - mape: nan\n"
          ],
          "name": "stdout"
        },
        {
          "output_type": "stream",
          "text": [
            "/usr/local/lib/python3.7/dist-packages/tensorflow/python/keras/engine/sequential.py:455: UserWarning: `model.predict_classes()` is deprecated and will be removed after 2021-01-01. Please use instead:* `np.argmax(model.predict(x), axis=-1)`,   if your model does multi-class classification   (e.g. if it uses a `softmax` last-layer activation).* `(model.predict(x) > 0.5).astype(\"int32\")`,   if your model does binary classification   (e.g. if it uses a `sigmoid` last-layer activation).\n",
            "  warnings.warn('`model.predict_classes()` is deprecated and '\n"
          ],
          "name": "stderr"
        },
        {
          "output_type": "stream",
          "text": [
            "46/46 [==============================] - 2s 8ms/step - loss: nan - mean_absolute_error: nan - mape: nan\n"
          ],
          "name": "stdout"
        },
        {
          "output_type": "stream",
          "text": [
            "/usr/local/lib/python3.7/dist-packages/tensorflow/python/keras/engine/sequential.py:455: UserWarning: `model.predict_classes()` is deprecated and will be removed after 2021-01-01. Please use instead:* `np.argmax(model.predict(x), axis=-1)`,   if your model does multi-class classification   (e.g. if it uses a `softmax` last-layer activation).* `(model.predict(x) > 0.5).astype(\"int32\")`,   if your model does binary classification   (e.g. if it uses a `sigmoid` last-layer activation).\n",
            "  warnings.warn('`model.predict_classes()` is deprecated and '\n"
          ],
          "name": "stderr"
        },
        {
          "output_type": "stream",
          "text": [
            "1/1 [==============================] - 2s 2s/step - loss: nan - mean_absolute_error: nan - mape: nan\n"
          ],
          "name": "stdout"
        },
        {
          "output_type": "stream",
          "text": [
            "/usr/local/lib/python3.7/dist-packages/tensorflow/python/keras/engine/sequential.py:455: UserWarning: `model.predict_classes()` is deprecated and will be removed after 2021-01-01. Please use instead:* `np.argmax(model.predict(x), axis=-1)`,   if your model does multi-class classification   (e.g. if it uses a `softmax` last-layer activation).* `(model.predict(x) > 0.5).astype(\"int32\")`,   if your model does binary classification   (e.g. if it uses a `sigmoid` last-layer activation).\n",
            "  warnings.warn('`model.predict_classes()` is deprecated and '\n"
          ],
          "name": "stderr"
        },
        {
          "output_type": "stream",
          "text": [
            "1/1 [==============================] - 2s 2s/step - loss: nan - mean_absolute_error: nan - mape: nan\n"
          ],
          "name": "stdout"
        },
        {
          "output_type": "stream",
          "text": [
            "/usr/local/lib/python3.7/dist-packages/tensorflow/python/keras/engine/sequential.py:455: UserWarning: `model.predict_classes()` is deprecated and will be removed after 2021-01-01. Please use instead:* `np.argmax(model.predict(x), axis=-1)`,   if your model does multi-class classification   (e.g. if it uses a `softmax` last-layer activation).* `(model.predict(x) > 0.5).astype(\"int32\")`,   if your model does binary classification   (e.g. if it uses a `sigmoid` last-layer activation).\n",
            "  warnings.warn('`model.predict_classes()` is deprecated and '\n"
          ],
          "name": "stderr"
        },
        {
          "output_type": "stream",
          "text": [
            "1/1 [==============================] - 2s 2s/step - loss: nan - mean_absolute_error: nan - mape: nan\n"
          ],
          "name": "stdout"
        },
        {
          "output_type": "stream",
          "text": [
            "/usr/local/lib/python3.7/dist-packages/tensorflow/python/keras/engine/sequential.py:455: UserWarning: `model.predict_classes()` is deprecated and will be removed after 2021-01-01. Please use instead:* `np.argmax(model.predict(x), axis=-1)`,   if your model does multi-class classification   (e.g. if it uses a `softmax` last-layer activation).* `(model.predict(x) > 0.5).astype(\"int32\")`,   if your model does binary classification   (e.g. if it uses a `sigmoid` last-layer activation).\n",
            "  warnings.warn('`model.predict_classes()` is deprecated and '\n"
          ],
          "name": "stderr"
        },
        {
          "output_type": "stream",
          "text": [
            "WARNING:tensorflow:5 out of the last 50 calls to <function Model.make_train_function.<locals>.train_function at 0x7f6bac5d7050> triggered tf.function retracing. Tracing is expensive and the excessive number of tracings could be due to (1) creating @tf.function repeatedly in a loop, (2) passing tensors with different shapes, (3) passing Python objects instead of tensors. For (1), please define your @tf.function outside of the loop. For (2), @tf.function has experimental_relax_shapes=True option that relaxes argument shapes that can avoid unnecessary retracing. For (3), please refer to https://www.tensorflow.org/guide/function#controlling_retracing and https://www.tensorflow.org/api_docs/python/tf/function for  more details.\n",
            "1/1 [==============================] - 2s 2s/step - loss: nan - mean_absolute_error: nan - mape: nan\n"
          ],
          "name": "stdout"
        },
        {
          "output_type": "stream",
          "text": [
            "/usr/local/lib/python3.7/dist-packages/tensorflow/python/keras/engine/sequential.py:455: UserWarning: `model.predict_classes()` is deprecated and will be removed after 2021-01-01. Please use instead:* `np.argmax(model.predict(x), axis=-1)`,   if your model does multi-class classification   (e.g. if it uses a `softmax` last-layer activation).* `(model.predict(x) > 0.5).astype(\"int32\")`,   if your model does binary classification   (e.g. if it uses a `sigmoid` last-layer activation).\n",
            "  warnings.warn('`model.predict_classes()` is deprecated and '\n"
          ],
          "name": "stderr"
        },
        {
          "output_type": "stream",
          "text": [
            "WARNING:tensorflow:5 out of the last 50 calls to <function Model.make_predict_function.<locals>.predict_function at 0x7f6bb4471170> triggered tf.function retracing. Tracing is expensive and the excessive number of tracings could be due to (1) creating @tf.function repeatedly in a loop, (2) passing tensors with different shapes, (3) passing Python objects instead of tensors. For (1), please define your @tf.function outside of the loop. For (2), @tf.function has experimental_relax_shapes=True option that relaxes argument shapes that can avoid unnecessary retracing. For (3), please refer to https://www.tensorflow.org/guide/function#controlling_retracing and https://www.tensorflow.org/api_docs/python/tf/function for  more details.\n",
            "WARNING:tensorflow:6 out of the last 51 calls to <function Model.make_train_function.<locals>.train_function at 0x7f6baba59c20> triggered tf.function retracing. Tracing is expensive and the excessive number of tracings could be due to (1) creating @tf.function repeatedly in a loop, (2) passing tensors with different shapes, (3) passing Python objects instead of tensors. For (1), please define your @tf.function outside of the loop. For (2), @tf.function has experimental_relax_shapes=True option that relaxes argument shapes that can avoid unnecessary retracing. For (3), please refer to https://www.tensorflow.org/guide/function#controlling_retracing and https://www.tensorflow.org/api_docs/python/tf/function for  more details.\n",
            "1/1 [==============================] - 2s 2s/step - loss: nan - mean_absolute_error: nan - mape: nan\n"
          ],
          "name": "stdout"
        },
        {
          "output_type": "stream",
          "text": [
            "/usr/local/lib/python3.7/dist-packages/tensorflow/python/keras/engine/sequential.py:455: UserWarning: `model.predict_classes()` is deprecated and will be removed after 2021-01-01. Please use instead:* `np.argmax(model.predict(x), axis=-1)`,   if your model does multi-class classification   (e.g. if it uses a `softmax` last-layer activation).* `(model.predict(x) > 0.5).astype(\"int32\")`,   if your model does binary classification   (e.g. if it uses a `sigmoid` last-layer activation).\n",
            "  warnings.warn('`model.predict_classes()` is deprecated and '\n"
          ],
          "name": "stderr"
        },
        {
          "output_type": "stream",
          "text": [
            "WARNING:tensorflow:6 out of the last 51 calls to <function Model.make_predict_function.<locals>.predict_function at 0x7f6bae2b0830> triggered tf.function retracing. Tracing is expensive and the excessive number of tracings could be due to (1) creating @tf.function repeatedly in a loop, (2) passing tensors with different shapes, (3) passing Python objects instead of tensors. For (1), please define your @tf.function outside of the loop. For (2), @tf.function has experimental_relax_shapes=True option that relaxes argument shapes that can avoid unnecessary retracing. For (3), please refer to https://www.tensorflow.org/guide/function#controlling_retracing and https://www.tensorflow.org/api_docs/python/tf/function for  more details.\n",
            "1/1 [==============================] - 2s 2s/step - loss: nan - mean_absolute_error: nan - mape: nan\n"
          ],
          "name": "stdout"
        },
        {
          "output_type": "stream",
          "text": [
            "/usr/local/lib/python3.7/dist-packages/tensorflow/python/keras/engine/sequential.py:455: UserWarning: `model.predict_classes()` is deprecated and will be removed after 2021-01-01. Please use instead:* `np.argmax(model.predict(x), axis=-1)`,   if your model does multi-class classification   (e.g. if it uses a `softmax` last-layer activation).* `(model.predict(x) > 0.5).astype(\"int32\")`,   if your model does binary classification   (e.g. if it uses a `sigmoid` last-layer activation).\n",
            "  warnings.warn('`model.predict_classes()` is deprecated and '\n"
          ],
          "name": "stderr"
        },
        {
          "output_type": "stream",
          "text": [
            "1/1 [==============================] - 2s 2s/step - loss: nan - mean_absolute_error: nan - mape: nan\n"
          ],
          "name": "stdout"
        },
        {
          "output_type": "stream",
          "text": [
            "/usr/local/lib/python3.7/dist-packages/tensorflow/python/keras/engine/sequential.py:455: UserWarning: `model.predict_classes()` is deprecated and will be removed after 2021-01-01. Please use instead:* `np.argmax(model.predict(x), axis=-1)`,   if your model does multi-class classification   (e.g. if it uses a `softmax` last-layer activation).* `(model.predict(x) > 0.5).astype(\"int32\")`,   if your model does binary classification   (e.g. if it uses a `sigmoid` last-layer activation).\n",
            "  warnings.warn('`model.predict_classes()` is deprecated and '\n"
          ],
          "name": "stderr"
        },
        {
          "output_type": "stream",
          "text": [
            "1/1 [==============================] - 2s 2s/step - loss: nan - mean_absolute_error: nan - mape: nan\n"
          ],
          "name": "stdout"
        },
        {
          "output_type": "stream",
          "text": [
            "/usr/local/lib/python3.7/dist-packages/tensorflow/python/keras/engine/sequential.py:455: UserWarning: `model.predict_classes()` is deprecated and will be removed after 2021-01-01. Please use instead:* `np.argmax(model.predict(x), axis=-1)`,   if your model does multi-class classification   (e.g. if it uses a `softmax` last-layer activation).* `(model.predict(x) > 0.5).astype(\"int32\")`,   if your model does binary classification   (e.g. if it uses a `sigmoid` last-layer activation).\n",
            "  warnings.warn('`model.predict_classes()` is deprecated and '\n"
          ],
          "name": "stderr"
        },
        {
          "output_type": "stream",
          "text": [
            "1/1 [==============================] - 2s 2s/step - loss: nan - mean_absolute_error: nan - mape: nan\n"
          ],
          "name": "stdout"
        },
        {
          "output_type": "stream",
          "text": [
            "/usr/local/lib/python3.7/dist-packages/tensorflow/python/keras/engine/sequential.py:455: UserWarning: `model.predict_classes()` is deprecated and will be removed after 2021-01-01. Please use instead:* `np.argmax(model.predict(x), axis=-1)`,   if your model does multi-class classification   (e.g. if it uses a `softmax` last-layer activation).* `(model.predict(x) > 0.5).astype(\"int32\")`,   if your model does binary classification   (e.g. if it uses a `sigmoid` last-layer activation).\n",
            "  warnings.warn('`model.predict_classes()` is deprecated and '\n"
          ],
          "name": "stderr"
        },
        {
          "output_type": "stream",
          "text": [
            "1/1 [==============================] - 2s 2s/step - loss: nan - mean_absolute_error: nan - mape: nan\n"
          ],
          "name": "stdout"
        },
        {
          "output_type": "stream",
          "text": [
            "/usr/local/lib/python3.7/dist-packages/tensorflow/python/keras/engine/sequential.py:455: UserWarning: `model.predict_classes()` is deprecated and will be removed after 2021-01-01. Please use instead:* `np.argmax(model.predict(x), axis=-1)`,   if your model does multi-class classification   (e.g. if it uses a `softmax` last-layer activation).* `(model.predict(x) > 0.5).astype(\"int32\")`,   if your model does binary classification   (e.g. if it uses a `sigmoid` last-layer activation).\n",
            "  warnings.warn('`model.predict_classes()` is deprecated and '\n"
          ],
          "name": "stderr"
        },
        {
          "output_type": "stream",
          "text": [
            "1/1 [==============================] - 2s 2s/step - loss: nan - mean_absolute_error: nan - mape: nan\n"
          ],
          "name": "stdout"
        },
        {
          "output_type": "stream",
          "text": [
            "/usr/local/lib/python3.7/dist-packages/tensorflow/python/keras/engine/sequential.py:455: UserWarning: `model.predict_classes()` is deprecated and will be removed after 2021-01-01. Please use instead:* `np.argmax(model.predict(x), axis=-1)`,   if your model does multi-class classification   (e.g. if it uses a `softmax` last-layer activation).* `(model.predict(x) > 0.5).astype(\"int32\")`,   if your model does binary classification   (e.g. if it uses a `sigmoid` last-layer activation).\n",
            "  warnings.warn('`model.predict_classes()` is deprecated and '\n"
          ],
          "name": "stderr"
        },
        {
          "output_type": "stream",
          "text": [
            "1/1 [==============================] - 2s 2s/step - loss: nan - mean_absolute_error: nan - mape: nan\n"
          ],
          "name": "stdout"
        },
        {
          "output_type": "stream",
          "text": [
            "/usr/local/lib/python3.7/dist-packages/tensorflow/python/keras/engine/sequential.py:455: UserWarning: `model.predict_classes()` is deprecated and will be removed after 2021-01-01. Please use instead:* `np.argmax(model.predict(x), axis=-1)`,   if your model does multi-class classification   (e.g. if it uses a `softmax` last-layer activation).* `(model.predict(x) > 0.5).astype(\"int32\")`,   if your model does binary classification   (e.g. if it uses a `sigmoid` last-layer activation).\n",
            "  warnings.warn('`model.predict_classes()` is deprecated and '\n"
          ],
          "name": "stderr"
        },
        {
          "output_type": "stream",
          "text": [
            "182/182 [==============================] - 3s 4ms/step - loss: nan - mean_absolute_error: nan - mape: nan\n"
          ],
          "name": "stdout"
        }
      ]
    },
    {
      "cell_type": "code",
      "metadata": {
        "id": "avx2KMokhwIL",
        "colab": {
          "base_uri": "https://localhost:8080/"
        },
        "outputId": "bc1e3631-a703-4958-e217-593daeb9a292"
      },
      "source": [
        "print(\"Best accuracy: {}\\nBest combination: {}\".format(-grid_search.best_score_, \n",
        "                             grid_search.best_params_))"
      ],
      "execution_count": null,
      "outputs": [
        {
          "output_type": "stream",
          "text": [
            "Best accuracy: 0.10690680697012497\n",
            "Best combination: {'batch_size': 1, 'dropout_rate': 0.0, 'optimizer': 'adam'}\n"
          ],
          "name": "stdout"
        }
      ]
    },
    {
      "cell_type": "code",
      "metadata": {
        "colab": {
          "base_uri": "https://localhost:8080/",
          "height": 129
        },
        "id": "vm7FgAT8Koiz",
        "outputId": "e4d7a253-b7a6-4a76-a6c0-0df56f8b4d27"
      },
      "source": [
        "BREAK TO UPDATE"
      ],
      "execution_count": null,
      "outputs": [
        {
          "output_type": "error",
          "ename": "SyntaxError",
          "evalue": "ignored",
          "traceback": [
            "\u001b[0;36m  File \u001b[0;32m\"<ipython-input-24-db31344b8f46>\"\u001b[0;36m, line \u001b[0;32m1\u001b[0m\n\u001b[0;31m    BREAK TO UPDATE\u001b[0m\n\u001b[0m           ^\u001b[0m\n\u001b[0;31mSyntaxError\u001b[0m\u001b[0;31m:\u001b[0m invalid syntax\n"
          ]
        }
      ]
    },
    {
      "cell_type": "code",
      "metadata": {
        "id": "Van5J2poyJsS"
      },
      "source": [
        "BATCH_SIZE = 1\n",
        "DROPOUT_RATE = 0\n",
        "OPTIMIZER = 'adam'\n",
        "\n",
        "train_data_model = tf.data.Dataset.from_tensor_slices((x_train_model, y_train_model))\n",
        "train_data_model = train_data_model.cache().batch(BATCH_SIZE).repeat()\n",
        "val_data_model = tf.data.Dataset.from_tensor_slices((x_val_model, y_val_model))\n",
        "val_data_model = val_data_model.cache().batch(BATCH_SIZE).repeat()  "
      ],
      "execution_count": null,
      "outputs": []
    },
    {
      "cell_type": "code",
      "metadata": {
        "id": "5X-BhYIdmOOe"
      },
      "source": [
        "# Model updated with parameters as determined using Grid Search\n",
        "model = tf.keras.models.Sequential()\n",
        "model.add(tf.keras.layers.LSTM(4,    # Capacity best out of:2, 4, 8, 32\n",
        "                                           kernel_regularizer = regularizers.l2(0.001), # Regularization - fight overfitting\n",
        "                                           input_shape=x_train_model.shape[-2:]))    # LSTM layer with 4 outputs and input shape of x_train_model.shape[-2:]\n",
        "model.add(tf.keras.layers.Dropout(DROPOUT_RATE))   # Add dropout rate\n",
        "model.add(tf.keras.layers.Dense(1)) \n",
        "model.compile(optimizer='RMSprop', loss='mean_squared_error',  metrics=['mean_absolute_error', 'mape']) #\n"
      ],
      "execution_count": null,
      "outputs": []
    },
    {
      "cell_type": "code",
      "metadata": {
        "id": "18uA1e7KsKal",
        "colab": {
          "base_uri": "https://localhost:8080/"
        },
        "outputId": "485f9222-b505-488b-d6fc-132bbc71c678"
      },
      "source": [
        "print(f\"Evaluation Threshold: {EVALUATION_INTERVAL}\",\n",
        "      f\"Epochs: {EPOCHS}\", sep=\"\\n\")\n",
        "\n",
        "# Train with early stopping so as to avoid overfitting\n",
        "early_stopping = EarlyStopping(monitor='val_loss', patience = PATIENCE, restore_best_weights=True) \n",
        "history = model.fit(train_data_model,\n",
        "                                            epochs=EPOCHS,\n",
        "                                            steps_per_epoch=EVALUATION_INTERVAL,\n",
        "                                            validation_data=val_data_model,\n",
        "                                            callbacks=[early_stopping],\n",
        "                                            validation_steps=17)   "
      ],
      "execution_count": null,
      "outputs": [
        {
          "output_type": "stream",
          "text": [
            "Evaluation Threshold: 20\n",
            "Epochs: 500\n",
            "Epoch 1/500\n",
            "20/20 [==============================] - 3s 32ms/step - loss: 0.0513 - mean_absolute_error: 0.1977 - mape: 145.5898 - val_loss: 0.0328 - val_mean_absolute_error: 0.1487 - val_mape: 106.1244\n",
            "Epoch 2/500\n",
            "20/20 [==============================] - 0s 7ms/step - loss: 0.0134 - mean_absolute_error: 0.0416 - mape: 899713.3750 - val_loss: 0.0256 - val_mean_absolute_error: 0.1249 - val_mape: 88.8146\n",
            "Epoch 3/500\n",
            "20/20 [==============================] - 0s 8ms/step - loss: 0.0116 - mean_absolute_error: 0.0434 - mape: 43.2919 - val_loss: 0.0131 - val_mean_absolute_error: 0.0621 - val_mape: 43.1304\n",
            "Epoch 4/500\n",
            "20/20 [==============================] - 0s 8ms/step - loss: 0.0096 - mean_absolute_error: 0.0324 - mape: 23.6648 - val_loss: 0.0085 - val_mean_absolute_error: 0.0170 - val_mape: 11.8116\n",
            "Epoch 5/500\n",
            "20/20 [==============================] - 0s 10ms/step - loss: nan - mean_absolute_error: nan - mape: nan - val_loss: nan - val_mean_absolute_error: nan - val_mape: nan\n",
            "Epoch 6/500\n",
            "20/20 [==============================] - 0s 9ms/step - loss: nan - mean_absolute_error: nan - mape: nan - val_loss: nan - val_mean_absolute_error: nan - val_mape: nan\n",
            "Epoch 7/500\n",
            "20/20 [==============================] - 0s 8ms/step - loss: nan - mean_absolute_error: nan - mape: nan - val_loss: nan - val_mean_absolute_error: nan - val_mape: nan\n",
            "Epoch 8/500\n",
            "20/20 [==============================] - 0s 8ms/step - loss: nan - mean_absolute_error: nan - mape: nan - val_loss: nan - val_mean_absolute_error: nan - val_mape: nan\n",
            "Epoch 9/500\n",
            "20/20 [==============================] - 0s 8ms/step - loss: nan - mean_absolute_error: nan - mape: nan - val_loss: nan - val_mean_absolute_error: nan - val_mape: nan\n",
            "Epoch 10/500\n",
            "20/20 [==============================] - 0s 9ms/step - loss: nan - mean_absolute_error: nan - mape: nan - val_loss: nan - val_mean_absolute_error: nan - val_mape: nan\n",
            "Epoch 11/500\n",
            "20/20 [==============================] - 0s 8ms/step - loss: nan - mean_absolute_error: nan - mape: nan - val_loss: nan - val_mean_absolute_error: nan - val_mape: nan\n",
            "Epoch 12/500\n",
            "20/20 [==============================] - 0s 10ms/step - loss: nan - mean_absolute_error: nan - mape: nan - val_loss: nan - val_mean_absolute_error: nan - val_mape: nan\n",
            "Epoch 13/500\n",
            "20/20 [==============================] - 0s 11ms/step - loss: nan - mean_absolute_error: nan - mape: nan - val_loss: nan - val_mean_absolute_error: nan - val_mape: nan\n",
            "Epoch 14/500\n",
            "20/20 [==============================] - 0s 10ms/step - loss: nan - mean_absolute_error: nan - mape: nan - val_loss: nan - val_mean_absolute_error: nan - val_mape: nan\n"
          ],
          "name": "stdout"
        }
      ]
    },
    {
      "cell_type": "code",
      "metadata": {
        "id": "ceVemGRBsKdQ"
      },
      "source": [
        "# Plot training \n",
        "\n",
        "def plot_train_history(history, title):\n",
        "    loss = history.history['loss']\n",
        "    val_loss = history.history['val_loss']\n",
        "\n",
        "    epochs = range(len(loss))\n",
        "\n",
        "    plt.figure()\n",
        "\n",
        "    plt.plot(epochs, loss, 'b', label='Training loss')\n",
        "    plt.plot(epochs, val_loss, 'r', label='Validation loss')\n",
        "    plt.title(title)\n",
        "    plt.legend()\n",
        "\n",
        "    plt.show()"
      ],
      "execution_count": null,
      "outputs": []
    },
    {
      "cell_type": "code",
      "metadata": {
        "id": "cxS1XggxsgIh",
        "colab": {
          "base_uri": "https://localhost:8080/",
          "height": 281
        },
        "outputId": "048a52f6-57cf-445a-c1c4-460fb212af84"
      },
      "source": [
        "plot_train_history(history,\n",
        "                   'Single Step Training and validation loss')"
      ],
      "execution_count": null,
      "outputs": [
        {
          "output_type": "display_data",
          "data": {
            "image/png": "[encoded data removed]",
            "text/plain": [
              "<Figure size 432x288 with 1 Axes>"
            ]
          },
          "metadata": {
            "tags": [],
            "needs_background": "light"
          }
        }
      ]
    },
    {
      "cell_type": "code",
      "metadata": {
        "id": "yKMxx9dDs_Sb"
      },
      "source": [
        "# Plot 3 examples of predictions for different timeframes\n",
        "def create_time_steps(length):\n",
        "    return list(range(-length, 0))"
      ],
      "execution_count": null,
      "outputs": []
    },
    {
      "cell_type": "code",
      "metadata": {
        "id": "QRl2ONo1sgOH"
      },
      "source": [
        "def show_plot(plot_data, delta, title):\n",
        "    labels = ['History', 'True Future', 'Model Prediction']\n",
        "    marker = ['.-', 'rx', 'go']\n",
        "    time_steps = create_time_steps(plot_data[0].shape[0])\n",
        "    if delta:\n",
        "        future = delta\n",
        "    else:\n",
        "        future = 0\n",
        "\n",
        "    plt.title(title)\n",
        "    for i, x in enumerate(plot_data):\n",
        "        if i:\n",
        "            plt.plot(future, plot_data[i], marker[i], markersize=10,\n",
        "                   label=labels[i])\n",
        "        else:\n",
        "            plt.plot(time_steps, plot_data[i].flatten(), marker[i], label=labels[i])\n",
        "        plt.legend()\n",
        "        plt.xlim([time_steps[0], (future+5)*2])\n",
        "        plt.xlabel('Time-Step')\n",
        "    \n",
        "    return plt"
      ],
      "execution_count": null,
      "outputs": []
    },
    {
      "cell_type": "code",
      "metadata": {
        "id": "QCgMFgoMsgLP",
        "colab": {
          "base_uri": "https://localhost:8080/",
          "height": 851
        },
        "outputId": "92ef409d-ac84-41b1-8242-1602aabf1e9f"
      },
      "source": [
        "for x, y in val_data_model.take(3):\n",
        "    plot = show_plot([x[0][:, 1].numpy(), y[0].numpy(),\n",
        "                    model.predict(x)[0]], 2,\n",
        "                   'Single Step Prediction')\n",
        "    plot.show()"
      ],
      "execution_count": null,
      "outputs": [
        {
          "output_type": "display_data",
          "data": {
            "image/png": "[encoded data removed]",
            "text/plain": [
              "<Figure size 432x288 with 1 Axes>"
            ]
          },
          "metadata": {
            "tags": [],
            "needs_background": "light"
          }
        },
        {
          "output_type": "display_data",
          "data": {
            "image/png": "[encoded data removed]",
            "text/plain": [
              "<Figure size 432x288 with 1 Axes>"
            ]
          },
          "metadata": {
            "tags": [],
            "needs_background": "light"
          }
        },
        {
          "output_type": "display_data",
          "data": {
            "image/png": "[encoded data removed]",
            "text/plain": [
              "<Figure size 432x288 with 1 Axes>"
            ]
          },
          "metadata": {
            "tags": [],
            "needs_background": "light"
          }
        }
      ]
    },
    {
      "cell_type": "markdown",
      "metadata": {
        "id": "2z9vn6Ly3-NW"
      },
      "source": [
        "## Cross Validation"
      ]
    },
    {
      "cell_type": "code",
      "metadata": {
        "id": "aEv7h4cATdwJ"
      },
      "source": [
        "# Blocking Cross Validation\n",
        "n_splits = 10\n",
        "X = dataset[:,1:]\n",
        "y= dataset[:,0]\n",
        "\n",
        "class BlockingTimeSeriesSplit():\n",
        "    def __init__(self, n_splits):\n",
        "        self.n_splits = n_splits\n",
        "    \n",
        "    def get_n_splits(self, X, y, groups):\n",
        "        return self.n_splits\n",
        "    \n",
        "    def split(self, X, y=None, groups=None):\n",
        "        n_samples = len(X)\n",
        "        k_fold_size = n_samples // self.n_splits\n",
        "        indices = np.arange(n_samples)\n",
        "\n",
        "        margin = 0\n",
        "        for i in range(self.n_splits):\n",
        "            start = i * k_fold_size\n",
        "            stop = start + k_fold_size\n",
        "            mid = int(0.5 * (stop - start)) + start\n",
        "            yield indices[start: mid], indices[mid + margin: stop]\n",
        "\n",
        "# Keras Wrapper\n",
        "from keras.wrappers.scikit_learn import KerasClassifier\n",
        "def create_model():\n",
        "  model = tf.keras.models.Sequential()\n",
        "  model.add(tf.keras.layers.LSTM(4,    # Capacity best out of:2, 8, 32\n",
        "                                           kernel_regularizer = regularizers.l2(0.001), # Regularization - fight overfitting - is this correct?\n",
        "                                           input_shape=x_train_model.shape[-2:]))    # LSTM layer with 4 outputs and input shape of x_train_model.shape[-2:]\n",
        "  model.add(tf.keras.layers.Dropout(0.2))   # Add dropout rate\n",
        "  model.add(tf.keras.layers.Dense(1)) # \n",
        "  model.compile(optimizer=tf.keras.optimizers.RMSprop(), loss='mean_squared_error',  metrics=['mean_absolute_error', 'mape']) \n",
        "  return model\n"
      ],
      "execution_count": null,
      "outputs": []
    },
    {
      "cell_type": "code",
      "metadata": {
        "id": "6Y4cqG9FjU44",
        "colab": {
          "base_uri": "https://localhost:8080/"
        },
        "outputId": "327a4c8f-6295-4759-dc1c-c1b6368248ba"
      },
      "source": [
        "model = KerasClassifier(build_fn=create_model)\n",
        "btscv = BlockingTimeSeriesSplit(n_splits=10)    # Or should I use TimeSeriesSplit?\n",
        "mse_block= -cross_val_score(model, x_train_model, y_train_model, cv=btscv, scoring='neg_mean_squared_error')\n",
        "mae_block = -cross_val_score(model, x_train_model, y_train_model, cv=btscv, scoring='neg_mean_absolute_error')"
      ],
      "execution_count": null,
      "outputs": [
        {
          "output_type": "stream",
          "text": [
            "1/1 [==============================] - 2s 2s/step - loss: 18.8853 - mean_absolute_error: 3.5464 - mape: 61493284.0000\n"
          ],
          "name": "stdout"
        },
        {
          "output_type": "stream",
          "text": [
            "/usr/local/lib/python3.7/dist-packages/tensorflow/python/keras/engine/sequential.py:455: UserWarning: `model.predict_classes()` is deprecated and will be removed after 2021-01-01. Please use instead:* `np.argmax(model.predict(x), axis=-1)`,   if your model does multi-class classification   (e.g. if it uses a `softmax` last-layer activation).* `(model.predict(x) > 0.5).astype(\"int32\")`,   if your model does binary classification   (e.g. if it uses a `sigmoid` last-layer activation).\n",
            "  warnings.warn('`model.predict_classes()` is deprecated and '\n"
          ],
          "name": "stderr"
        },
        {
          "output_type": "stream",
          "text": [
            "1/1 [==============================] - 2s 2s/step - loss: 24.3955 - mean_absolute_error: 4.2206 - mape: 37187732.0000\n"
          ],
          "name": "stdout"
        },
        {
          "output_type": "stream",
          "text": [
            "/usr/local/lib/python3.7/dist-packages/tensorflow/python/keras/engine/sequential.py:455: UserWarning: `model.predict_classes()` is deprecated and will be removed after 2021-01-01. Please use instead:* `np.argmax(model.predict(x), axis=-1)`,   if your model does multi-class classification   (e.g. if it uses a `softmax` last-layer activation).* `(model.predict(x) > 0.5).astype(\"int32\")`,   if your model does binary classification   (e.g. if it uses a `sigmoid` last-layer activation).\n",
            "  warnings.warn('`model.predict_classes()` is deprecated and '\n"
          ],
          "name": "stderr"
        },
        {
          "output_type": "stream",
          "text": [
            "1/1 [==============================] - 2s 2s/step - loss: 22.0501 - mean_absolute_error: 3.9446 - mape: 9792342.0000\n"
          ],
          "name": "stdout"
        },
        {
          "output_type": "stream",
          "text": [
            "/usr/local/lib/python3.7/dist-packages/tensorflow/python/keras/engine/sequential.py:455: UserWarning: `model.predict_classes()` is deprecated and will be removed after 2021-01-01. Please use instead:* `np.argmax(model.predict(x), axis=-1)`,   if your model does multi-class classification   (e.g. if it uses a `softmax` last-layer activation).* `(model.predict(x) > 0.5).astype(\"int32\")`,   if your model does binary classification   (e.g. if it uses a `sigmoid` last-layer activation).\n",
            "  warnings.warn('`model.predict_classes()` is deprecated and '\n"
          ],
          "name": "stderr"
        },
        {
          "output_type": "stream",
          "text": [
            "1/1 [==============================] - 2s 2s/step - loss: 21.2859 - mean_absolute_error: 3.8393 - mape: 25033.0664\n"
          ],
          "name": "stdout"
        },
        {
          "output_type": "stream",
          "text": [
            "/usr/local/lib/python3.7/dist-packages/tensorflow/python/keras/engine/sequential.py:455: UserWarning: `model.predict_classes()` is deprecated and will be removed after 2021-01-01. Please use instead:* `np.argmax(model.predict(x), axis=-1)`,   if your model does multi-class classification   (e.g. if it uses a `softmax` last-layer activation).* `(model.predict(x) > 0.5).astype(\"int32\")`,   if your model does binary classification   (e.g. if it uses a `sigmoid` last-layer activation).\n",
            "  warnings.warn('`model.predict_classes()` is deprecated and '\n"
          ],
          "name": "stderr"
        },
        {
          "output_type": "stream",
          "text": [
            "1/1 [==============================] - 2s 2s/step - loss: 23.8460 - mean_absolute_error: 4.1471 - mape: 22201976.0000\n"
          ],
          "name": "stdout"
        },
        {
          "output_type": "stream",
          "text": [
            "/usr/local/lib/python3.7/dist-packages/tensorflow/python/keras/engine/sequential.py:455: UserWarning: `model.predict_classes()` is deprecated and will be removed after 2021-01-01. Please use instead:* `np.argmax(model.predict(x), axis=-1)`,   if your model does multi-class classification   (e.g. if it uses a `softmax` last-layer activation).* `(model.predict(x) > 0.5).astype(\"int32\")`,   if your model does binary classification   (e.g. if it uses a `sigmoid` last-layer activation).\n",
            "  warnings.warn('`model.predict_classes()` is deprecated and '\n"
          ],
          "name": "stderr"
        },
        {
          "output_type": "stream",
          "text": [
            "1/1 [==============================] - 2s 2s/step - loss: nan - mean_absolute_error: nan - mape: nan\n"
          ],
          "name": "stdout"
        },
        {
          "output_type": "stream",
          "text": [
            "/usr/local/lib/python3.7/dist-packages/tensorflow/python/keras/engine/sequential.py:455: UserWarning: `model.predict_classes()` is deprecated and will be removed after 2021-01-01. Please use instead:* `np.argmax(model.predict(x), axis=-1)`,   if your model does multi-class classification   (e.g. if it uses a `softmax` last-layer activation).* `(model.predict(x) > 0.5).astype(\"int32\")`,   if your model does binary classification   (e.g. if it uses a `sigmoid` last-layer activation).\n",
            "  warnings.warn('`model.predict_classes()` is deprecated and '\n"
          ],
          "name": "stderr"
        },
        {
          "output_type": "stream",
          "text": [
            "1/1 [==============================] - 2s 2s/step - loss: 20.3989 - mean_absolute_error: 3.7568 - mape: 26663394.0000\n"
          ],
          "name": "stdout"
        },
        {
          "output_type": "stream",
          "text": [
            "/usr/local/lib/python3.7/dist-packages/tensorflow/python/keras/engine/sequential.py:455: UserWarning: `model.predict_classes()` is deprecated and will be removed after 2021-01-01. Please use instead:* `np.argmax(model.predict(x), axis=-1)`,   if your model does multi-class classification   (e.g. if it uses a `softmax` last-layer activation).* `(model.predict(x) > 0.5).astype(\"int32\")`,   if your model does binary classification   (e.g. if it uses a `sigmoid` last-layer activation).\n",
            "  warnings.warn('`model.predict_classes()` is deprecated and '\n"
          ],
          "name": "stderr"
        },
        {
          "output_type": "stream",
          "text": [
            "1/1 [==============================] - 2s 2s/step - loss: 19.1049 - mean_absolute_error: 3.7224 - mape: 69720328.0000\n"
          ],
          "name": "stdout"
        },
        {
          "output_type": "stream",
          "text": [
            "/usr/local/lib/python3.7/dist-packages/tensorflow/python/keras/engine/sequential.py:455: UserWarning: `model.predict_classes()` is deprecated and will be removed after 2021-01-01. Please use instead:* `np.argmax(model.predict(x), axis=-1)`,   if your model does multi-class classification   (e.g. if it uses a `softmax` last-layer activation).* `(model.predict(x) > 0.5).astype(\"int32\")`,   if your model does binary classification   (e.g. if it uses a `sigmoid` last-layer activation).\n",
            "  warnings.warn('`model.predict_classes()` is deprecated and '\n"
          ],
          "name": "stderr"
        },
        {
          "output_type": "stream",
          "text": [
            "1/1 [==============================] - 2s 2s/step - loss: 20.9935 - mean_absolute_error: 3.8791 - mape: 37069796.0000\n"
          ],
          "name": "stdout"
        },
        {
          "output_type": "stream",
          "text": [
            "/usr/local/lib/python3.7/dist-packages/tensorflow/python/keras/engine/sequential.py:455: UserWarning: `model.predict_classes()` is deprecated and will be removed after 2021-01-01. Please use instead:* `np.argmax(model.predict(x), axis=-1)`,   if your model does multi-class classification   (e.g. if it uses a `softmax` last-layer activation).* `(model.predict(x) > 0.5).astype(\"int32\")`,   if your model does binary classification   (e.g. if it uses a `sigmoid` last-layer activation).\n",
            "  warnings.warn('`model.predict_classes()` is deprecated and '\n"
          ],
          "name": "stderr"
        },
        {
          "output_type": "stream",
          "text": [
            "1/1 [==============================] - 2s 2s/step - loss: 15.6941 - mean_absolute_error: 3.2701 - mape: 169817168.0000\n"
          ],
          "name": "stdout"
        },
        {
          "output_type": "stream",
          "text": [
            "/usr/local/lib/python3.7/dist-packages/tensorflow/python/keras/engine/sequential.py:455: UserWarning: `model.predict_classes()` is deprecated and will be removed after 2021-01-01. Please use instead:* `np.argmax(model.predict(x), axis=-1)`,   if your model does multi-class classification   (e.g. if it uses a `softmax` last-layer activation).* `(model.predict(x) > 0.5).astype(\"int32\")`,   if your model does binary classification   (e.g. if it uses a `sigmoid` last-layer activation).\n",
            "  warnings.warn('`model.predict_classes()` is deprecated and '\n"
          ],
          "name": "stderr"
        },
        {
          "output_type": "stream",
          "text": [
            "1/1 [==============================] - 2s 2s/step - loss: 20.7644 - mean_absolute_error: 3.7735 - mape: 18367496.0000\n"
          ],
          "name": "stdout"
        },
        {
          "output_type": "stream",
          "text": [
            "/usr/local/lib/python3.7/dist-packages/tensorflow/python/keras/engine/sequential.py:455: UserWarning: `model.predict_classes()` is deprecated and will be removed after 2021-01-01. Please use instead:* `np.argmax(model.predict(x), axis=-1)`,   if your model does multi-class classification   (e.g. if it uses a `softmax` last-layer activation).* `(model.predict(x) > 0.5).astype(\"int32\")`,   if your model does binary classification   (e.g. if it uses a `sigmoid` last-layer activation).\n",
            "  warnings.warn('`model.predict_classes()` is deprecated and '\n"
          ],
          "name": "stderr"
        },
        {
          "output_type": "stream",
          "text": [
            "1/1 [==============================] - 2s 2s/step - loss: 24.3324 - mean_absolute_error: 4.1837 - mape: 15798270.0000\n"
          ],
          "name": "stdout"
        },
        {
          "output_type": "stream",
          "text": [
            "/usr/local/lib/python3.7/dist-packages/tensorflow/python/keras/engine/sequential.py:455: UserWarning: `model.predict_classes()` is deprecated and will be removed after 2021-01-01. Please use instead:* `np.argmax(model.predict(x), axis=-1)`,   if your model does multi-class classification   (e.g. if it uses a `softmax` last-layer activation).* `(model.predict(x) > 0.5).astype(\"int32\")`,   if your model does binary classification   (e.g. if it uses a `sigmoid` last-layer activation).\n",
            "  warnings.warn('`model.predict_classes()` is deprecated and '\n"
          ],
          "name": "stderr"
        },
        {
          "output_type": "stream",
          "text": [
            "1/1 [==============================] - 2s 2s/step - loss: 22.2792 - mean_absolute_error: 3.9665 - mape: 5438026.0000\n"
          ],
          "name": "stdout"
        },
        {
          "output_type": "stream",
          "text": [
            "/usr/local/lib/python3.7/dist-packages/tensorflow/python/keras/engine/sequential.py:455: UserWarning: `model.predict_classes()` is deprecated and will be removed after 2021-01-01. Please use instead:* `np.argmax(model.predict(x), axis=-1)`,   if your model does multi-class classification   (e.g. if it uses a `softmax` last-layer activation).* `(model.predict(x) > 0.5).astype(\"int32\")`,   if your model does binary classification   (e.g. if it uses a `sigmoid` last-layer activation).\n",
            "  warnings.warn('`model.predict_classes()` is deprecated and '\n"
          ],
          "name": "stderr"
        },
        {
          "output_type": "stream",
          "text": [
            "1/1 [==============================] - 2s 2s/step - loss: 24.7050 - mean_absolute_error: 4.2289 - mape: 36551328.0000\n"
          ],
          "name": "stdout"
        },
        {
          "output_type": "stream",
          "text": [
            "/usr/local/lib/python3.7/dist-packages/tensorflow/python/keras/engine/sequential.py:455: UserWarning: `model.predict_classes()` is deprecated and will be removed after 2021-01-01. Please use instead:* `np.argmax(model.predict(x), axis=-1)`,   if your model does multi-class classification   (e.g. if it uses a `softmax` last-layer activation).* `(model.predict(x) > 0.5).astype(\"int32\")`,   if your model does binary classification   (e.g. if it uses a `sigmoid` last-layer activation).\n",
            "  warnings.warn('`model.predict_classes()` is deprecated and '\n"
          ],
          "name": "stderr"
        },
        {
          "output_type": "stream",
          "text": [
            "1/1 [==============================] - 2s 2s/step - loss: 24.8824 - mean_absolute_error: 4.2574 - mape: 20975146.0000\n"
          ],
          "name": "stdout"
        },
        {
          "output_type": "stream",
          "text": [
            "/usr/local/lib/python3.7/dist-packages/tensorflow/python/keras/engine/sequential.py:455: UserWarning: `model.predict_classes()` is deprecated and will be removed after 2021-01-01. Please use instead:* `np.argmax(model.predict(x), axis=-1)`,   if your model does multi-class classification   (e.g. if it uses a `softmax` last-layer activation).* `(model.predict(x) > 0.5).astype(\"int32\")`,   if your model does binary classification   (e.g. if it uses a `sigmoid` last-layer activation).\n",
            "  warnings.warn('`model.predict_classes()` is deprecated and '\n"
          ],
          "name": "stderr"
        },
        {
          "output_type": "stream",
          "text": [
            "1/1 [==============================] - 2s 2s/step - loss: nan - mean_absolute_error: nan - mape: nan\n"
          ],
          "name": "stdout"
        },
        {
          "output_type": "stream",
          "text": [
            "/usr/local/lib/python3.7/dist-packages/tensorflow/python/keras/engine/sequential.py:455: UserWarning: `model.predict_classes()` is deprecated and will be removed after 2021-01-01. Please use instead:* `np.argmax(model.predict(x), axis=-1)`,   if your model does multi-class classification   (e.g. if it uses a `softmax` last-layer activation).* `(model.predict(x) > 0.5).astype(\"int32\")`,   if your model does binary classification   (e.g. if it uses a `sigmoid` last-layer activation).\n",
            "  warnings.warn('`model.predict_classes()` is deprecated and '\n"
          ],
          "name": "stderr"
        },
        {
          "output_type": "stream",
          "text": [
            "1/1 [==============================] - 2s 2s/step - loss: 23.4034 - mean_absolute_error: 4.1004 - mape: 14243486.0000\n"
          ],
          "name": "stdout"
        },
        {
          "output_type": "stream",
          "text": [
            "/usr/local/lib/python3.7/dist-packages/tensorflow/python/keras/engine/sequential.py:455: UserWarning: `model.predict_classes()` is deprecated and will be removed after 2021-01-01. Please use instead:* `np.argmax(model.predict(x), axis=-1)`,   if your model does multi-class classification   (e.g. if it uses a `softmax` last-layer activation).* `(model.predict(x) > 0.5).astype(\"int32\")`,   if your model does binary classification   (e.g. if it uses a `sigmoid` last-layer activation).\n",
            "  warnings.warn('`model.predict_classes()` is deprecated and '\n"
          ],
          "name": "stderr"
        },
        {
          "output_type": "stream",
          "text": [
            "1/1 [==============================] - 2s 2s/step - loss: 22.2496 - mean_absolute_error: 3.9560 - mape: 5988615.5000\n"
          ],
          "name": "stdout"
        },
        {
          "output_type": "stream",
          "text": [
            "/usr/local/lib/python3.7/dist-packages/tensorflow/python/keras/engine/sequential.py:455: UserWarning: `model.predict_classes()` is deprecated and will be removed after 2021-01-01. Please use instead:* `np.argmax(model.predict(x), axis=-1)`,   if your model does multi-class classification   (e.g. if it uses a `softmax` last-layer activation).* `(model.predict(x) > 0.5).astype(\"int32\")`,   if your model does binary classification   (e.g. if it uses a `sigmoid` last-layer activation).\n",
            "  warnings.warn('`model.predict_classes()` is deprecated and '\n"
          ],
          "name": "stderr"
        },
        {
          "output_type": "stream",
          "text": [
            "1/1 [==============================] - 2s 2s/step - loss: 28.9265 - mean_absolute_error: 4.7476 - mape: 102422944.0000\n"
          ],
          "name": "stdout"
        },
        {
          "output_type": "stream",
          "text": [
            "/usr/local/lib/python3.7/dist-packages/tensorflow/python/keras/engine/sequential.py:455: UserWarning: `model.predict_classes()` is deprecated and will be removed after 2021-01-01. Please use instead:* `np.argmax(model.predict(x), axis=-1)`,   if your model does multi-class classification   (e.g. if it uses a `softmax` last-layer activation).* `(model.predict(x) > 0.5).astype(\"int32\")`,   if your model does binary classification   (e.g. if it uses a `sigmoid` last-layer activation).\n",
            "  warnings.warn('`model.predict_classes()` is deprecated and '\n"
          ],
          "name": "stderr"
        },
        {
          "output_type": "stream",
          "text": [
            "1/1 [==============================] - 2s 2s/step - loss: 26.4167 - mean_absolute_error: 4.5003 - mape: 62156168.0000\n"
          ],
          "name": "stdout"
        },
        {
          "output_type": "stream",
          "text": [
            "/usr/local/lib/python3.7/dist-packages/tensorflow/python/keras/engine/sequential.py:455: UserWarning: `model.predict_classes()` is deprecated and will be removed after 2021-01-01. Please use instead:* `np.argmax(model.predict(x), axis=-1)`,   if your model does multi-class classification   (e.g. if it uses a `softmax` last-layer activation).* `(model.predict(x) > 0.5).astype(\"int32\")`,   if your model does binary classification   (e.g. if it uses a `sigmoid` last-layer activation).\n",
            "  warnings.warn('`model.predict_classes()` is deprecated and '\n"
          ],
          "name": "stderr"
        }
      ]
    },
    {
      "cell_type": "code",
      "metadata": {
        "id": "MmDbmXOfvwVc",
        "colab": {
          "base_uri": "https://localhost:8080/"
        },
        "outputId": "61f59517-1202-4674-ec18-0159776e65ca"
      },
      "source": [
        "print('The mean squared errors for each of the 10 splits are:', mse_block)\n",
        "print('The mean mse for the folds is: ', (sum(mse_block)/10))\n",
        "\n",
        "print('The mean absolute errors for each of the 10 splits are:', mae_block)\n",
        "print('The mean mae for the folds is: ', (sum(mae_block)/10))"
      ],
      "execution_count": null,
      "outputs": [
        {
          "output_type": "stream",
          "text": [
            "The mean squared errors for each of the 10 splits are: [0.00140726 0.00138567 0.00571516 0.00091956 0.00160545 0.00798307\n",
            " 0.00122918 0.03676864 0.02307249 0.00287458]\n",
            "The mean mse for the folds is:  0.00829610606931026\n",
            "The mean absolute errors for each of the 10 splits are: [0.03396836 0.0325612  0.07207578 0.02990895 0.03679636 0.07272515\n",
            " 0.03130527 0.20042753 0.14586113 0.08152139]\n",
            "The mean mae for the folds is:  0.07371511208437241\n"
          ],
          "name": "stdout"
        }
      ]
    },
    {
      "cell_type": "code",
      "metadata": {
        "id": "-lq93UMec9W-",
        "colab": {
          "base_uri": "https://localhost:8080/",
          "height": 359
        },
        "outputId": "d1a76a8f-35b2-4a11-e437-6c89d7bb7343"
      },
      "source": [
        "df_results = pd.DataFrame(mse_block)\n",
        "df_results['RMSE'] = np.sqrt(df_results[0])\n",
        "df_results = df_results.rename(columns={0:'TSLA_MSE', 'RMSE':'TSLA_RMSE'})\n",
        "df_results"
      ],
      "execution_count": null,
      "outputs": [
        {
          "output_type": "execute_result",
          "data": {
            "text/html": [
              "<div>\n",
              "<style scoped>\n",
              "    .dataframe tbody tr th:only-of-type {\n",
              "        vertical-align: middle;\n",
              "    }\n",
              "\n",
              "    .dataframe tbody tr th {\n",
              "        vertical-align: top;\n",
              "    }\n",
              "\n",
              "    .dataframe thead th {\n",
              "        text-align: right;\n",
              "    }\n",
              "</style>\n",
              "<table border=\"1\" class=\"dataframe\">\n",
              "  <thead>\n",
              "    <tr style=\"text-align: right;\">\n",
              "      <th></th>\n",
              "      <th>TSLA_MSE</th>\n",
              "      <th>TSLA_RMSE</th>\n",
              "    </tr>\n",
              "  </thead>\n",
              "  <tbody>\n",
              "    <tr>\n",
              "      <th>0</th>\n",
              "      <td>0.001407</td>\n",
              "      <td>0.037513</td>\n",
              "    </tr>\n",
              "    <tr>\n",
              "      <th>1</th>\n",
              "      <td>0.001386</td>\n",
              "      <td>0.037225</td>\n",
              "    </tr>\n",
              "    <tr>\n",
              "      <th>2</th>\n",
              "      <td>0.005715</td>\n",
              "      <td>0.075599</td>\n",
              "    </tr>\n",
              "    <tr>\n",
              "      <th>3</th>\n",
              "      <td>0.000920</td>\n",
              "      <td>0.030324</td>\n",
              "    </tr>\n",
              "    <tr>\n",
              "      <th>4</th>\n",
              "      <td>0.001605</td>\n",
              "      <td>0.040068</td>\n",
              "    </tr>\n",
              "    <tr>\n",
              "      <th>5</th>\n",
              "      <td>0.007983</td>\n",
              "      <td>0.089348</td>\n",
              "    </tr>\n",
              "    <tr>\n",
              "      <th>6</th>\n",
              "      <td>0.001229</td>\n",
              "      <td>0.035060</td>\n",
              "    </tr>\n",
              "    <tr>\n",
              "      <th>7</th>\n",
              "      <td>0.036769</td>\n",
              "      <td>0.191752</td>\n",
              "    </tr>\n",
              "    <tr>\n",
              "      <th>8</th>\n",
              "      <td>0.023072</td>\n",
              "      <td>0.151896</td>\n",
              "    </tr>\n",
              "    <tr>\n",
              "      <th>9</th>\n",
              "      <td>0.002875</td>\n",
              "      <td>0.053615</td>\n",
              "    </tr>\n",
              "  </tbody>\n",
              "</table>\n",
              "</div>"
            ],
            "text/plain": [
              "   TSLA_MSE  TSLA_RMSE\n",
              "0  0.001407   0.037513\n",
              "1  0.001386   0.037225\n",
              "2  0.005715   0.075599\n",
              "3  0.000920   0.030324\n",
              "4  0.001605   0.040068\n",
              "5  0.007983   0.089348\n",
              "6  0.001229   0.035060\n",
              "7  0.036769   0.191752\n",
              "8  0.023072   0.151896\n",
              "9  0.002875   0.053615"
            ]
          },
          "metadata": {
            "tags": []
          },
          "execution_count": 36
        }
      ]
    },
    {
      "cell_type": "code",
      "metadata": {
        "id": "reC53qQxYSaQ"
      },
      "source": [
        "df_results.to_csv('TSLA_SENTIMENT_LSTM_HR.csv')\n"
      ],
      "execution_count": null,
      "outputs": []
    },
    {
      "cell_type": "code",
      "metadata": {
        "id": "C6W_pFU6biLn",
        "colab": {
          "base_uri": "https://localhost:8080/",
          "height": 297
        },
        "outputId": "bfdaf7b6-812c-4b6b-e4f3-a0fa3a1176e6"
      },
      "source": [
        "df_results.describe()"
      ],
      "execution_count": null,
      "outputs": [
        {
          "output_type": "execute_result",
          "data": {
            "text/html": [
              "<div>\n",
              "<style scoped>\n",
              "    .dataframe tbody tr th:only-of-type {\n",
              "        vertical-align: middle;\n",
              "    }\n",
              "\n",
              "    .dataframe tbody tr th {\n",
              "        vertical-align: top;\n",
              "    }\n",
              "\n",
              "    .dataframe thead th {\n",
              "        text-align: right;\n",
              "    }\n",
              "</style>\n",
              "<table border=\"1\" class=\"dataframe\">\n",
              "  <thead>\n",
              "    <tr style=\"text-align: right;\">\n",
              "      <th></th>\n",
              "      <th>TSLA_MSE</th>\n",
              "      <th>TSLA_RMSE</th>\n",
              "    </tr>\n",
              "  </thead>\n",
              "  <tbody>\n",
              "    <tr>\n",
              "      <th>count</th>\n",
              "      <td>10.000000</td>\n",
              "      <td>10.000000</td>\n",
              "    </tr>\n",
              "    <tr>\n",
              "      <th>mean</th>\n",
              "      <td>0.008296</td>\n",
              "      <td>0.074240</td>\n",
              "    </tr>\n",
              "    <tr>\n",
              "      <th>std</th>\n",
              "      <td>0.012062</td>\n",
              "      <td>0.055623</td>\n",
              "    </tr>\n",
              "    <tr>\n",
              "      <th>min</th>\n",
              "      <td>0.000920</td>\n",
              "      <td>0.030324</td>\n",
              "    </tr>\n",
              "    <tr>\n",
              "      <th>25%</th>\n",
              "      <td>0.001391</td>\n",
              "      <td>0.037297</td>\n",
              "    </tr>\n",
              "    <tr>\n",
              "      <th>50%</th>\n",
              "      <td>0.002240</td>\n",
              "      <td>0.046842</td>\n",
              "    </tr>\n",
              "    <tr>\n",
              "      <th>75%</th>\n",
              "      <td>0.007416</td>\n",
              "      <td>0.085911</td>\n",
              "    </tr>\n",
              "    <tr>\n",
              "      <th>max</th>\n",
              "      <td>0.036769</td>\n",
              "      <td>0.191752</td>\n",
              "    </tr>\n",
              "  </tbody>\n",
              "</table>\n",
              "</div>"
            ],
            "text/plain": [
              "        TSLA_MSE  TSLA_RMSE\n",
              "count  10.000000  10.000000\n",
              "mean    0.008296   0.074240\n",
              "std     0.012062   0.055623\n",
              "min     0.000920   0.030324\n",
              "25%     0.001391   0.037297\n",
              "50%     0.002240   0.046842\n",
              "75%     0.007416   0.085911\n",
              "max     0.036769   0.191752"
            ]
          },
          "metadata": {
            "tags": []
          },
          "execution_count": 38
        }
      ]
    },
    {
      "cell_type": "code",
      "metadata": {
        "id": "QwFEbArhMFIR"
      },
      "source": [
        ""
      ],
      "execution_count": null,
      "outputs": []
    }
  ]
}